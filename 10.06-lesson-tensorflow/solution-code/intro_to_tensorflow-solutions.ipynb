{
 "cells": [
  {
   "cell_type": "markdown",
   "metadata": {},
   "source": [
    "<img src=\"http://imgur.com/1ZcRyrc.png\" style=\"float: left; margin: 20px; height: 55px\">\n",
    "\n",
    "# Neural Networks with TensorFlow\n",
    "\n",
    "_Authors: Justin Pounders (ATL) and Riley Dalles (ATX)_\n",
    "\n",
    "---\n",
    "\n",
    "<a id=\"learning-objectives\"></a>\n",
    "### Learning Objectives\n",
    "- Describe the basic `tensorflow` workflow.\n",
    "- Create computational graphs representing basic feed-forward neural networks.\n",
    "- Train neural networks using `tensorflow`\n",
    "- Create and train neural networks for both regression and classification"
   ]
  },
  {
   "cell_type": "code",
   "execution_count": 4,
   "metadata": {},
   "outputs": [
    {
     "name": "stdout",
     "output_type": "stream",
     "text": [
      "WARNING:tensorflow:From /Users/ikhyvicky/anaconda3/lib/python3.7/site-packages/tensorflow_core/python/compat/v2_compat.py:65: disable_resource_variables (from tensorflow.python.ops.variable_scope) is deprecated and will be removed in a future version.\n",
      "Instructions for updating:\n",
      "non-resource variables are not supported in the long term\n"
     ]
    }
   ],
   "source": [
    "import tensorflow as tf\n",
    "\n",
    "from sklearn.model_selection import train_test_split, KFold\n",
    "from sklearn.preprocessing import StandardScaler\n",
    "from sklearn import metrics\n",
    "\n",
    "import matplotlib.pyplot as plt\n",
    "import seaborn as sns\n",
    "\n",
    "import tensorflow.compat.v1 as tf\n",
    "tf.disable_v2_behavior()\n",
    "\n",
    "%matplotlib inline"
   ]
  },
  {
   "cell_type": "markdown",
   "metadata": {},
   "source": [
    "## Computational Graphs\n",
    "\n",
    "---\n",
    "\n",
    "Tensorflow is fundamentally a library for creating **computational graphs**.\n",
    "\n",
    "![](assets/comp_graph.png)\n",
    "\n",
    "Let's define and evaluate this \"computational graph.\""
   ]
  },
  {
   "cell_type": "markdown",
   "metadata": {},
   "source": [
    "**There are two phases to building a `tensorflow` model.**\n",
    "\n",
    "1. Graph construction\n",
    "2. Training/evaluation"
   ]
  },
  {
   "cell_type": "code",
   "execution_count": 7,
   "metadata": {},
   "outputs": [],
   "source": [
    "# Build the graph\n",
    "\n",
    "a = tf.Variable(3, name='a')\n",
    "b = tf.Variable(4, name='a')\n",
    "c = a + b\n",
    "d = b + 1\n",
    "e = c * d"
   ]
  },
  {
   "cell_type": "code",
   "execution_count": 8,
   "metadata": {},
   "outputs": [
    {
     "name": "stdout",
     "output_type": "stream",
     "text": [
      "35\n"
     ]
    }
   ],
   "source": [
    "# Evaluate the graph\n",
    "\n",
    "init = tf.global_variables_initializer()\n",
    "\n",
    "with tf.Session() as sess:\n",
    "    init.run()\n",
    "    result = e.eval()\n",
    "    print(result)"
   ]
  },
  {
   "cell_type": "markdown",
   "metadata": {},
   "source": [
    "## Building a Neural Network for Regression\n",
    "\n",
    "---"
   ]
  },
  {
   "cell_type": "markdown",
   "metadata": {},
   "source": [
    "Let's start by building a neural net for _regression_.  These are the steps we will follow:\n",
    "\n",
    "1. Load the data.\n",
    "2. Data cleaning/munging, feature engineering (will not do today)\n",
    "3. Make test/train splits. (Should we use cross validation?)\n",
    "4. Standardize the data.\n",
    "5. Build the computational graph for the neural network.\n",
    "6. Train the network using gradient descent a.k.a. back propogation.\n",
    "7. Evaluate performance and iterate."
   ]
  },
  {
   "cell_type": "markdown",
   "metadata": {},
   "source": [
    "### Steps 1-4"
   ]
  },
  {
   "cell_type": "code",
   "execution_count": 9,
   "metadata": {},
   "outputs": [
    {
     "name": "stderr",
     "output_type": "stream",
     "text": [
      "Downloading Cal. housing from https://ndownloader.figshare.com/files/5976036 to /Users/ikhyvicky/scikit_learn_data\n"
     ]
    }
   ],
   "source": [
    "from sklearn.datasets import load_boston\n",
    "from sklearn.datasets import fetch_california_housing\n",
    "\n",
    "data = load_boston()\n",
    "data = fetch_california_housing()\n",
    "\n",
    "X_train, X_test, y_train, y_test = train_test_split(data.data, data.target)\n",
    "\n",
    "y_train = y_train.reshape(-1,1)\n",
    "y_test = y_test.reshape(-1,1)\n",
    "\n",
    "ss = StandardScaler()\n",
    "X_train = ss.fit_transform(X_train)\n",
    "X_test = ss.transform(X_test)"
   ]
  },
  {
   "cell_type": "markdown",
   "metadata": {},
   "source": [
    "### Step 5: Build the network"
   ]
  },
  {
   "cell_type": "code",
   "execution_count": 10,
   "metadata": {},
   "outputs": [
    {
     "name": "stdout",
     "output_type": "stream",
     "text": [
      "WARNING:tensorflow:From <ipython-input-10-b6eac8695391>:12: dense (from tensorflow.python.layers.core) is deprecated and will be removed in a future version.\n",
      "Instructions for updating:\n",
      "Use keras.layers.Dense instead.\n",
      "WARNING:tensorflow:From /Users/ikhyvicky/anaconda3/lib/python3.7/site-packages/tensorflow_core/python/layers/core.py:187: Layer.apply (from tensorflow.python.keras.engine.base_layer) is deprecated and will be removed in a future version.\n",
      "Instructions for updating:\n",
      "Please use `layer.__call__` method instead.\n"
     ]
    }
   ],
   "source": [
    "tf.reset_default_graph()\n",
    "\n",
    "X = tf.placeholder(dtype=tf.float32, \n",
    "                   shape=(None,X_train.shape[1]),\n",
    "                   name='X')\n",
    "y = tf.placeholder(dtype=tf.float32,\n",
    "                   shape=(None),\n",
    "                   name='y')\n",
    "\n",
    "hidden1 = tf.layers.dense(X, units=13, \n",
    "                          name='hidden1',\n",
    "                          activation=tf.nn.relu)\n",
    "y_hat = tf.layers.dense(hidden1, \n",
    "                        units=1,\n",
    "                        activation=None)\n",
    "#Compile/Give the NN the params\n",
    "loss = tf.losses.mean_squared_error(y, y_hat)\n",
    "\n",
    "optimizer = tf.train.AdamOptimizer(0.01)\n",
    "\n",
    "training_op = optimizer.minimize(loss)"
   ]
  },
  {
   "cell_type": "markdown",
   "metadata": {},
   "source": [
    "### Step 6: Train the network"
   ]
  },
  {
   "cell_type": "code",
   "execution_count": 11,
   "metadata": {},
   "outputs": [
    {
     "name": "stdout",
     "output_type": "stream",
     "text": [
      "epoch 1 6.1775336 6.214623\n",
      "epoch 11 3.1273718 3.1804585\n",
      "epoch 21 1.5643479 1.5914989\n",
      "epoch 31 0.8896535 0.8996698\n",
      "epoch 41 0.8391979 0.8463941\n",
      "epoch 51 0.7544851 0.7573671\n",
      "epoch 61 0.7003765 0.705764\n",
      "epoch 71 0.6645537 0.6698278\n",
      "epoch 81 0.6285049 0.63248754\n",
      "epoch 91 0.5995898 0.604303\n",
      "epoch 101 0.5726888 0.57822216\n",
      "epoch 111 0.54888606 0.5553244\n",
      "epoch 121 0.5280183 0.535616\n",
      "epoch 131 0.5102843 0.51884896\n",
      "epoch 141 0.49628478 0.5048721\n",
      "epoch 151 0.48465896 0.49300864\n",
      "epoch 161 0.4741679 0.48259115\n",
      "epoch 171 0.46536556 0.47333577\n",
      "epoch 181 0.45758405 0.46472934\n",
      "epoch 191 0.4506636 0.45700598\n",
      "epoch 201 0.44445056 0.4498962\n",
      "epoch 211 0.4387096 0.44360086\n",
      "epoch 221 0.43336928 0.43779334\n",
      "epoch 231 0.4284717 0.43245652\n",
      "epoch 241 0.4240643 0.42759755\n",
      "epoch 251 0.4201078 0.4232949\n",
      "epoch 261 0.41661304 0.41953465\n",
      "epoch 271 0.41351935 0.4162162\n",
      "epoch 281 0.4107517 0.41319054\n",
      "epoch 291 0.40813637 0.41038543\n",
      "epoch 301 0.4055018 0.40742737\n",
      "epoch 311 0.40261918 0.40426266\n",
      "epoch 321 0.39997262 0.40134922\n",
      "epoch 331 0.39776918 0.39901942\n",
      "epoch 341 0.39600712 0.39728796\n",
      "epoch 351 0.394506 0.3956915\n",
      "epoch 361 0.393079 0.39425159\n",
      "epoch 371 0.39166924 0.39295843\n",
      "epoch 381 0.39005712 0.39175653\n",
      "epoch 391 0.38831463 0.3905961\n",
      "epoch 401 0.38672733 0.389326\n",
      "epoch 411 0.38519308 0.3879566\n",
      "epoch 421 0.3837992 0.38663864\n",
      "epoch 431 0.38252467 0.38536203\n",
      "epoch 441 0.38132074 0.38397288\n",
      "epoch 451 0.38019377 0.38277158\n",
      "epoch 461 0.37915778 0.38171417\n",
      "epoch 471 0.37819856 0.38064358\n",
      "epoch 481 0.3772943 0.37965146\n",
      "epoch 491 0.37640384 0.37873375\n"
     ]
    }
   ],
   "source": [
    "init = tf.global_variables_initializer()\n",
    "\n",
    "test_err = []\n",
    "train_err = []\n",
    "\n",
    "with tf.Session() as sess:\n",
    "    init.run()\n",
    "    \n",
    "    for epoch in range(500):\n",
    "        sess.run(training_op, \n",
    "                 feed_dict={X:X_train, y:y_train})\n",
    "        train_loss = sess.run(loss, feed_dict={X:X_train, y:y_train})\n",
    "        test_loss = sess.run(loss, feed_dict={X:X_test, y:y_test})\n",
    "        test_err.append(test_loss)\n",
    "        train_err.append(train_loss)\n",
    "        if epoch % 10 == 0:\n",
    "            print('epoch', epoch+1, train_loss, test_loss)\n",
    "        \n",
    "    pred = sess.run(y_hat, feed_dict={X:X_test})"
   ]
  },
  {
   "cell_type": "code",
   "execution_count": 12,
   "metadata": {},
   "outputs": [
    {
     "data": {
      "text/plain": [
       "0.7163268239056209"
      ]
     },
     "execution_count": 12,
     "metadata": {},
     "output_type": "execute_result"
    }
   ],
   "source": [
    "metrics.r2_score(y_test, pred)"
   ]
  },
  {
   "cell_type": "code",
   "execution_count": 13,
   "metadata": {},
   "outputs": [
    {
     "data": {
      "text/plain": [
       "<matplotlib.legend.Legend at 0x1a450cd4e0>"
      ]
     },
     "execution_count": 13,
     "metadata": {},
     "output_type": "execute_result"
    },
    {
     "data": {
      "image/png": "[encoded data removed]",
      "text/plain": [
       "<Figure size 432x288 with 1 Axes>"
      ]
     },
     "metadata": {
      "needs_background": "light"
     },
     "output_type": "display_data"
    }
   ],
   "source": [
    "plt.plot(train_err, label='Train error')\n",
    "plt.plot(test_err, label='Test error')\n",
    "plt.legend()"
   ]
  },
  {
   "cell_type": "markdown",
   "metadata": {},
   "source": [
    "## Building a Neural Network for Binary Classification\n",
    "\n",
    "---"
   ]
  },
  {
   "cell_type": "markdown",
   "metadata": {},
   "source": [
    "Now we'll build a neural net for _classification_.  We will follow the same steps as for regression:\n",
    "\n",
    "1. Load the data.\n",
    "2. Data cleaning/munging, feature engineering (will not do today)\n",
    "3. Make test/train splits. (Should we use cross validation?)\n",
    "4. Standardize the data.\n",
    "5. Build the computational graph for the neural network.\n",
    "6. Train the network using gradient descent a.k.a. back propogation.\n",
    "7. Evaluate performance and iterate."
   ]
  },
  {
   "cell_type": "code",
   "execution_count": 14,
   "metadata": {},
   "outputs": [],
   "source": [
    "from sklearn.datasets import load_breast_cancer\n",
    "\n",
    "data = load_breast_cancer()\n",
    "\n",
    "# 1 = benign\n",
    "# 0 = malignant\n",
    "\n",
    "X_train, X_test, y_train, y_test = train_test_split(data.data, data.target)\n",
    "\n",
    "y_train = y_train*-1 + 1\n",
    "y_test = y_test*-1 + 1\n",
    "\n",
    "y_train = y_train.reshape(-1,1)\n",
    "y_test = y_test.reshape(-1,1)\n",
    "\n",
    "ss = StandardScaler()\n",
    "X_train = ss.fit_transform(X_train)\n",
    "X_test = ss.transform(X_test)"
   ]
  },
  {
   "cell_type": "code",
   "execution_count": 15,
   "metadata": {},
   "outputs": [],
   "source": [
    "tf.reset_default_graph()\n",
    "\n",
    "X = tf.placeholder(dtype=tf.float32, \n",
    "                   shape=(None,X_train.shape[1]),\n",
    "                   name='X')\n",
    "y = tf.placeholder(dtype=tf.float32,\n",
    "                   shape=(None),\n",
    "                   name='y')\n",
    "\n",
    "hidden1 = tf.layers.dense(X, units=y_train.shape[1],\n",
    "                          name='hidden1',\n",
    "                          activation=tf.nn.relu)\n",
    "y_hat = tf.layers.dense(hidden1, units=1,\n",
    "                        name='y_hat',\n",
    "                        activation=tf.nn.sigmoid)\n",
    "\n",
    "loss = tf.losses.log_loss(y, y_hat)\n",
    "\n",
    "optimizer = tf.train.AdamOptimizer(0.01)\n",
    "\n",
    "training_op = optimizer.minimize(loss)"
   ]
  },
  {
   "cell_type": "code",
   "execution_count": 16,
   "metadata": {},
   "outputs": [
    {
     "name": "stdout",
     "output_type": "stream",
     "text": [
      "epoch 1 0.75808066 0.77088714\n",
      "epoch 11 0.5708905 0.59203786\n",
      "epoch 21 0.471998 0.48509642\n",
      "epoch 31 0.41148642 0.42095616\n",
      "epoch 41 0.37031952 0.37916934\n",
      "epoch 51 0.33758605 0.34847015\n",
      "epoch 61 0.3096459 0.32236832\n",
      "epoch 71 0.28543225 0.29991257\n",
      "epoch 81 0.26426834 0.28122944\n",
      "epoch 91 0.24542682 0.26520512\n",
      "epoch 101 0.22861008 0.25107497\n",
      "epoch 111 0.21355765 0.23902299\n",
      "epoch 121 0.20003463 0.22842215\n",
      "epoch 131 0.18780631 0.2192037\n",
      "epoch 141 0.17671452 0.21141917\n",
      "epoch 151 0.16661827 0.204821\n",
      "epoch 161 0.15741652 0.19913073\n",
      "epoch 171 0.14901689 0.19416408\n",
      "epoch 181 0.14132443 0.19008847\n",
      "epoch 191 0.13426107 0.18676624\n",
      "epoch 201 0.12775724 0.18405557\n",
      "epoch 211 0.121752895 0.1820126\n",
      "epoch 221 0.116195194 0.18048276\n",
      "epoch 231 0.11103828 0.17943026\n",
      "epoch 241 0.1062426 0.17882787\n",
      "epoch 251 0.10177759 0.17803682\n",
      "epoch 261 0.097613126 0.1776829\n",
      "epoch 271 0.09372121 0.17720872\n",
      "epoch 281 0.09007858 0.17680483\n",
      "epoch 291 0.08666501 0.17669159\n",
      "epoch 301 0.08346234 0.17665653\n",
      "epoch 311 0.08045396 0.17707819\n",
      "epoch 321 0.077618495 0.17733096\n",
      "epoch 331 0.07494921 0.17791533\n",
      "epoch 341 0.07243858 0.1781143\n",
      "epoch 351 0.07006307 0.17879492\n",
      "epoch 361 0.06781847 0.17962277\n",
      "epoch 371 0.0656941 0.18066448\n",
      "epoch 381 0.0636902 0.1817677\n",
      "epoch 391 0.061797693 0.18284246\n",
      "epoch 401 0.0600008 0.18419494\n",
      "epoch 411 0.058296297 0.18576029\n",
      "epoch 421 0.056676686 0.18693322\n",
      "epoch 431 0.055139523 0.18809189\n",
      "epoch 441 0.0536778 0.18917625\n",
      "epoch 451 0.05228537 0.19038649\n",
      "epoch 461 0.050959107 0.19144484\n",
      "epoch 471 0.04969489 0.19260636\n",
      "epoch 481 0.048492163 0.19385102\n",
      "epoch 491 0.047343273 0.1956139\n",
      "epoch 501 0.046248887 0.19723822\n"
     ]
    }
   ],
   "source": [
    "init = tf.global_variables_initializer()\n",
    "\n",
    "test_err = []\n",
    "train_err = []\n",
    "\n",
    "with tf.Session() as sess:\n",
    "    init.run()\n",
    "    \n",
    "    for epoch in range(501):\n",
    "        sess.run(training_op,\n",
    "                     feed_dict={X:X_train, y:y_train})\n",
    "        \n",
    "        train_loss = sess.run(loss, feed_dict={X:X_train, y:y_train})\n",
    "        test_loss = sess.run(loss, feed_dict={X:X_test, y:y_test})\n",
    "        test_err.append(test_loss)\n",
    "        train_err.append(train_loss)\n",
    "        if epoch % 10 == 0:\n",
    "            print('epoch', epoch+1, train_loss, test_loss)\n",
    "        \n",
    "    pred = sess.run(y_hat, feed_dict={X:X_test})"
   ]
  },
  {
   "cell_type": "code",
   "execution_count": 17,
   "metadata": {},
   "outputs": [
    {
     "data": {
      "text/plain": [
       "<matplotlib.legend.Legend at 0x1a45348518>"
      ]
     },
     "execution_count": 17,
     "metadata": {},
     "output_type": "execute_result"
    },
    {
     "data": {
      "image/png": "[encoded data removed]",
      "text/plain": [
       "<Figure size 432x288 with 1 Axes>"
      ]
     },
     "metadata": {
      "needs_background": "light"
     },
     "output_type": "display_data"
    }
   ],
   "source": [
    "plt.plot(train_err, label='Train error')\n",
    "plt.plot(test_err, label='Test error')\n",
    "plt.legend()"
   ]
  },
  {
   "cell_type": "markdown",
   "metadata": {},
   "source": [
    "Before moving on, let's go back and add a new hidden layer to our network..."
   ]
  },
  {
   "cell_type": "markdown",
   "metadata": {},
   "source": [
    "### Batching the input\n",
    "\n",
    "What if we can't store all of the training data in memory?\n",
    "\n",
    "We can split the data up into \"batches\" and feed them to the network one at a time."
   ]
  },
  {
   "cell_type": "code",
   "execution_count": 18,
   "metadata": {},
   "outputs": [],
   "source": [
    "kf = KFold(n_splits=2, shuffle=True, random_state=42)\n",
    "\n",
    "batches = [test for test, _ in kf.split(X_train, y_train)]"
   ]
  },
  {
   "cell_type": "code",
   "execution_count": 19,
   "metadata": {},
   "outputs": [
    {
     "name": "stdout",
     "output_type": "stream",
     "text": [
      "epoch 1 0.6850874 0.6864927\n",
      "epoch 11 0.5161634 0.5397416\n",
      "epoch 21 0.39217487 0.43254957\n",
      "epoch 31 0.32173106 0.3651887\n",
      "epoch 41 0.2675959 0.30801123\n",
      "epoch 51 0.23024227 0.26593792\n",
      "epoch 61 0.19728005 0.23365709\n",
      "epoch 71 0.17275992 0.21142922\n",
      "epoch 81 0.1531157 0.19358517\n",
      "epoch 91 0.13705593 0.1794667\n",
      "epoch 101 0.122970715 0.16724941\n"
     ]
    }
   ],
   "source": [
    "init = tf.global_variables_initializer()\n",
    "\n",
    "test_err = []\n",
    "train_err = []\n",
    "\n",
    "with tf.Session() as sess:\n",
    "    init.run()\n",
    "    \n",
    "    for epoch in range(101):\n",
    "        for batch in batches:\n",
    "            X_batch = X_train[batch]\n",
    "            y_batch = y_train[batch]\n",
    "            sess.run(training_op,\n",
    "                     feed_dict={X:X_batch, y:y_batch})\n",
    "        \n",
    "        train_loss = sess.run(loss, feed_dict={X:X_train, y:y_train})\n",
    "        test_loss = sess.run(loss, feed_dict={X:X_test, y:y_test})\n",
    "        test_err.append(test_loss)\n",
    "        train_err.append(train_loss)\n",
    "        if epoch % 10 == 0:\n",
    "            print('epoch', epoch+1, train_loss, test_loss)\n",
    "        \n",
    "    pred = sess.run(y_hat, feed_dict={X:X_test})"
   ]
  },
  {
   "cell_type": "code",
   "execution_count": 20,
   "metadata": {},
   "outputs": [
    {
     "data": {
      "text/plain": [
       "<matplotlib.legend.Legend at 0x1a4538b9b0>"
      ]
     },
     "execution_count": 20,
     "metadata": {},
     "output_type": "execute_result"
    },
    {
     "data": {
      "image/png": "[encoded data removed]",
      "text/plain": [
       "<Figure size 432x288 with 1 Axes>"
      ]
     },
     "metadata": {
      "needs_background": "light"
     },
     "output_type": "display_data"
    }
   ],
   "source": [
    "plt.plot(train_err, label='Train error')\n",
    "plt.plot(test_err, label='Test error')\n",
    "plt.legend()"
   ]
  },
  {
   "cell_type": "code",
   "execution_count": 53,
   "metadata": {
    "collapsed": true
   },
   "outputs": [],
   "source": [
    "pred_bin = (pred > 0.5).astype(int)"
   ]
  },
  {
   "cell_type": "code",
   "execution_count": 54,
   "metadata": {},
   "outputs": [
    {
     "data": {
      "text/plain": [
       "0.972027972027972"
      ]
     },
     "execution_count": 54,
     "metadata": {},
     "output_type": "execute_result"
    }
   ],
   "source": [
    "metrics.accuracy_score(y_test, pred_bin)"
   ]
  },
  {
   "cell_type": "code",
   "execution_count": 55,
   "metadata": {},
   "outputs": [
    {
     "data": {
      "text/plain": [
       "array([[80,  2],\n",
       "       [ 2, 59]])"
      ]
     },
     "execution_count": 55,
     "metadata": {},
     "output_type": "execute_result"
    }
   ],
   "source": [
    "metrics.confusion_matrix(y_test, pred_bin)"
   ]
  },
  {
   "cell_type": "markdown",
   "metadata": {},
   "source": [
    "## Building a Neural Network for Multi-Class Classification\n",
    "\n",
    "---"
   ]
  },
  {
   "cell_type": "code",
   "execution_count": 21,
   "metadata": {},
   "outputs": [],
   "source": [
    "from sklearn.datasets import load_iris\n",
    "import pandas as pd"
   ]
  },
  {
   "cell_type": "code",
   "execution_count": 22,
   "metadata": {},
   "outputs": [],
   "source": [
    "data = load_iris()\n",
    "\n",
    "y = data.target\n",
    "y = pd.get_dummies(y).values\n",
    "\n",
    "X_train, X_test, y_train, y_test = train_test_split(data.data, y)\n",
    "\n",
    "\n",
    "ss = StandardScaler()\n",
    "X_train = ss.fit_transform(X_train)\n",
    "X_test = ss.transform(X_test)"
   ]
  },
  {
   "cell_type": "code",
   "execution_count": 41,
   "metadata": {
    "collapsed": true
   },
   "outputs": [],
   "source": [
    "tf.reset_default_graph()\n",
    "\n",
    "X = tf.placeholder(dtype=tf.float32, \n",
    "                   shape=(None,X_train.shape[1]),\n",
    "                   name='X')\n",
    "y = tf.placeholder(dtype=tf.float32,\n",
    "                   shape=(None),\n",
    "                   name='y')\n",
    "\n",
    "hidden1 = tf.layers.dense(X, units=X_train.shape[1], \n",
    "                          name='hidden1',\n",
    "                          activation=tf.nn.relu)\n",
    "y_hat = tf.layers.dense(hidden1, \n",
    "                        units=y_train.shape[1],\n",
    "                        activation=None)\n",
    "\n",
    "loss = tf.losses.softmax_cross_entropy(y, y_hat)\n",
    "\n",
    "optimizer = tf.train.AdamOptimizer(0.01)\n",
    "\n",
    "training_op = optimizer.minimize(loss)\n",
    "\n",
    "saver = tf.train.Saver()"
   ]
  },
  {
   "cell_type": "code",
   "execution_count": 42,
   "metadata": {},
   "outputs": [
    {
     "name": "stdout",
     "output_type": "stream",
     "text": [
      "epoch 1 1.055986 1.1455314\n",
      "epoch 11 0.8743173 0.9328565\n",
      "epoch 21 0.69764715 0.77531767\n",
      "epoch 31 0.5406632 0.6198665\n",
      "epoch 41 0.4217369 0.48402515\n",
      "epoch 51 0.33580488 0.38903293\n",
      "epoch 61 0.27514824 0.32050118\n",
      "epoch 71 0.22704796 0.26541728\n",
      "epoch 81 0.18876393 0.21954581\n",
      "epoch 91 0.15945064 0.18342614\n",
      "epoch 101 0.13651808 0.15603478\n",
      "epoch 111 0.119069174 0.13615069\n",
      "epoch 121 0.106029965 0.11916291\n",
      "epoch 131 0.09689738 0.106582865\n",
      "epoch 141 0.089686856 0.09672151\n",
      "epoch 151 0.083911315 0.088511996\n",
      "epoch 161 0.07918339 0.08206173\n",
      "epoch 171 0.075255446 0.07668066\n",
      "epoch 181 0.071939275 0.07224007\n",
      "epoch 191 0.069103755 0.06850023\n",
      "epoch 201 0.06670962 0.065235965\n",
      "epoch 211 0.06464308 0.062243864\n",
      "epoch 221 0.06284601 0.059610274\n",
      "epoch 231 0.061273064 0.05725705\n",
      "epoch 241 0.059895735 0.05509268\n",
      "epoch 251 0.058676567 0.053228553\n",
      "epoch 261 0.05758671 0.051518053\n",
      "epoch 271 0.05660487 0.05000378\n",
      "epoch 281 0.05571609 0.048619326\n",
      "epoch 291 0.05490785 0.047358435\n",
      "epoch 301 0.05416896 0.046211448\n",
      "epoch 311 0.053491734 0.04517122\n",
      "epoch 321 0.0528732 0.044240035\n",
      "epoch 331 0.052304734 0.043376494\n",
      "epoch 341 0.05177874 0.042569023\n",
      "epoch 351 0.051290333 0.041822642\n",
      "epoch 361 0.050836567 0.041130435\n",
      "epoch 371 0.05041301 0.04048112\n",
      "epoch 381 0.0500171 0.039879348\n",
      "epoch 391 0.04964605 0.039319247\n",
      "epoch 401 0.049297657 0.038797647\n",
      "epoch 411 0.0489698 0.03831547\n",
      "epoch 421 0.04866078 0.03786352\n",
      "epoch 431 0.04836926 0.037448198\n",
      "epoch 441 0.048093695 0.03705346\n",
      "epoch 451 0.047832485 0.036696687\n",
      "epoch 461 0.047584645 0.03636588\n",
      "epoch 471 0.04734918 0.036056213\n",
      "epoch 481 0.04712523 0.035766315\n",
      "epoch 491 0.046912033 0.035501685\n",
      "epoch 501 0.046708703 0.035256848\n"
     ]
    }
   ],
   "source": [
    "init = tf.global_variables_initializer()\n",
    "\n",
    "test_err = []\n",
    "train_err = []\n",
    "\n",
    "with tf.Session() as sess:\n",
    "    init.run()\n",
    "    \n",
    "    for epoch in range(501):\n",
    "        sess.run(training_op,\n",
    "                 feed_dict={X:X_train, y:y_train})\n",
    "        \n",
    "        train_loss = sess.run(loss, feed_dict={X:X_train, y:y_train})\n",
    "        test_loss = sess.run(loss, feed_dict={X:X_test, y:y_test})\n",
    "        test_err.append(test_loss)\n",
    "        train_err.append(train_loss)\n",
    "        if epoch % 10 == 0:\n",
    "            print('epoch', epoch+1, train_loss, test_loss)\n",
    "            \n",
    "    saver.save(sess, './iris.ckpt')\n",
    "        \n",
    "    pred = sess.run(y_hat, feed_dict={X:X_test})"
   ]
  },
  {
   "cell_type": "code",
   "execution_count": 34,
   "metadata": {},
   "outputs": [
    {
     "data": {
      "text/plain": [
       "<matplotlib.legend.Legend at 0x1a18509c18>"
      ]
     },
     "execution_count": 34,
     "metadata": {},
     "output_type": "execute_result"
    },
    {
     "data": {
      "image/png": "[encoded data removed]",
      "text/plain": [
       "<matplotlib.figure.Figure at 0x1a16f3b748>"
      ]
     },
     "metadata": {},
     "output_type": "display_data"
    }
   ],
   "source": [
    "plt.plot(train_err, label='Train error')\n",
    "plt.plot(test_err, label='Test error')\n",
    "plt.legend()"
   ]
  },
  {
   "cell_type": "code",
   "execution_count": 40,
   "metadata": {},
   "outputs": [
    {
     "data": {
      "text/plain": [
       "(array([-4.22811 ,  4.44836 , -1.166159], dtype=float32),\n",
       " array([0, 1, 0], dtype=uint8))"
      ]
     },
     "execution_count": 40,
     "metadata": {},
     "output_type": "execute_result"
    }
   ],
   "source": [
    "pred[0], y_test[0]"
   ]
  },
  {
   "cell_type": "markdown",
   "metadata": {},
   "source": [
    "## Saving Your Model\n",
    "\n",
    "---"
   ]
  },
  {
   "cell_type": "code",
   "execution_count": 46,
   "metadata": {},
   "outputs": [
    {
     "name": "stdout",
     "output_type": "stream",
     "text": [
      "INFO:tensorflow:Restoring parameters from ./iris.ckpt\n"
     ]
    },
    {
     "data": {
      "text/plain": [
       "array([[ -4.5962763 ,   2.3085513 ,  -5.2152634 ],\n",
       "       [ -0.64348024,   3.423298  ,  -7.242627  ],\n",
       "       [ -9.136091  ,  -5.1863213 ,   1.7965195 ],\n",
       "       [ -9.518849  ,  -0.44511986,   0.5633383 ],\n",
       "       [ -3.967315  ,   2.815835  ,  -1.4160478 ],\n",
       "       [ -5.115718  ,   2.3342774 ,  -1.4199467 ],\n",
       "       [  5.8419304 ,  -4.032305  ,  -5.958152  ],\n",
       "       [  5.4483643 ,  -4.6990013 ,  -4.721398  ],\n",
       "       [-12.362675  ,  -7.1672726 ,   3.302871  ],\n",
       "       [ -9.64221   ,  -3.761366  ,   1.8003299 ],\n",
       "       [  6.144955  ,  -2.6360006 ,  -7.734229  ],\n",
       "       [ -8.683875  ,  -1.5458021 ,   0.8955207 ],\n",
       "       [ -6.074457  ,   2.5636206 ,  -1.4820247 ],\n",
       "       [-11.394483  ,  -5.579601  ,   2.6292999 ],\n",
       "       [ -6.1747317 ,   4.3757405 ,  -1.5180924 ],\n",
       "       [-11.9856205 ,  -5.2234306 ,   2.5505288 ],\n",
       "       [  5.9409046 ,  -3.881341  ,  -6.2535925 ],\n",
       "       [ -8.41814   ,  -0.29515314,  -1.2205696 ],\n",
       "       [ -4.0736866 ,   3.271796  ,  -4.797303  ],\n",
       "       [  6.144955  ,  -2.6360006 ,  -7.734229  ],\n",
       "       [-12.065867  ,  -6.892682  ,   3.1748002 ],\n",
       "       [ -2.8959332 ,   4.2078543 ,  -6.175768  ],\n",
       "       [ -9.744705  ,  -3.478211  ,   1.7048249 ],\n",
       "       [-13.469867  ,  -6.9065714 ,   3.3055727 ],\n",
       "       [ -0.9209134 ,   3.404917  ,  -6.744666  ],\n",
       "       [  6.056018  ,  -4.607925  ,  -5.7554703 ],\n",
       "       [  6.109207  ,  -5.8303256 ,  -4.698022  ],\n",
       "       [ -6.9739065 ,   3.6520963 ,  -1.1790601 ],\n",
       "       [  5.8812666 ,  -2.159007  ,  -7.767417  ],\n",
       "       [ -8.562676  ,  -1.8879113 ,   0.11169529],\n",
       "       [ -0.9874415 ,   3.7205756 ,  -7.6453247 ],\n",
       "       [-11.043123  ,  -4.0047045 ,   2.015649  ],\n",
       "       [ -8.872798  ,  -2.6396236 ,  -1.710887  ],\n",
       "       [ -4.1131687 ,   3.6800282 ,  -3.849017  ],\n",
       "       [ -2.9483337 ,   3.4265738 ,  -3.602798  ],\n",
       "       [ -7.4014115 ,   2.6043284 ,  -1.2605772 ],\n",
       "       [  5.508913  ,  -1.4553618 ,  -7.842351  ],\n",
       "       [-10.299547  ,  -4.99745   ,   2.3161085 ]], dtype=float32)"
      ]
     },
     "execution_count": 46,
     "metadata": {},
     "output_type": "execute_result"
    }
   ],
   "source": [
    "with tf.Session() as sess:\n",
    "    saver.restore(sess, './iris.ckpt')\n",
    "    pred = sess.run(y_hat, feed_dict={X:X_test})\n",
    "    \n",
    "pred"
   ]
  },
  {
   "cell_type": "code",
   "execution_count": 56,
   "metadata": {},
   "outputs": [
    {
     "data": {
      "text/plain": [
       "array([1, 1, 2, 2, 1, 1, 0, 0, 2, 2, 0, 2, 1, 2, 1, 2, 0, 1, 1, 0, 2, 1,\n",
       "       2, 2, 1, 0, 0, 1, 0, 2, 1, 2, 2, 1, 1, 1, 0, 2], dtype=int32)"
      ]
     },
     "execution_count": 56,
     "metadata": {},
     "output_type": "execute_result"
    }
   ],
   "source": [
    "class_preds = np.empty(pred.shape[0], dtype=np.int32)\n",
    "for i,clas in enumerate(map(np.argmax, pred)):\n",
    "    class_preds[i] = clas\n",
    "    \n",
    "class_preds"
   ]
  },
  {
   "cell_type": "code",
   "execution_count": null,
   "metadata": {
    "collapsed": true
   },
   "outputs": [],
   "source": []
  }
 ],
 "metadata": {
  "kernelspec": {
   "display_name": "Python 3",
   "language": "python",
   "name": "python3"
  },
  "language_info": {
   "codemirror_mode": {
    "name": "ipython",
    "version": 3
   },
   "file_extension": ".py",
   "mimetype": "text/x-python",
   "name": "python",
   "nbconvert_exporter": "python",
   "pygments_lexer": "ipython3",
   "version": "3.7.3"
  }
 },
 "nbformat": 4,
 "nbformat_minor": 2
}
