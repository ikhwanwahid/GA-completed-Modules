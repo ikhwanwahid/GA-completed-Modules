{
 "cells": [
  {
   "cell_type": "markdown",
   "metadata": {},
   "source": [
    "<img src=\"http://imgur.com/1ZcRyrc.png\" style=\"float: left; margin: 20px; height: 55px\">\n",
    "\n",
    "## Generalized Linear Models\n",
    "\n",
    "_Authors: Tim Book, Justin Pounders (ATL), Matt Brems_\n",
    "\n",
    "### Learning Objectives\n",
    "*After this lesson, students will be able to:*\n",
    "\n",
    "1. Describe generalized linear models.\n",
    "2. Fit Poisson and Gamma regression models in `statsmodels`.\n",
    "3. Interpret coefficients from Poisson and Gamma regression models.\n",
    "4. Describe iteratively reweighted least squares."
   ]
  },
  {
   "cell_type": "code",
<<<<<<< Updated upstream
<<<<<<< Updated upstream
   "execution_count": 2,
   "metadata": {},
   "outputs": [],
=======
=======
>>>>>>> Stashed changes
   "execution_count": 1,
   "metadata": {},
   "outputs": [
    {
     "name": "stderr",
     "output_type": "stream",
     "text": [
      "/Users/ikhyvicky/anaconda3/lib/python3.7/site-packages/statsmodels/compat/pandas.py:23: FutureWarning: The Panel class is removed from pandas. Accessing it from the top-level namespace will also be removed in the next version\n",
      "  data_klasses = (pandas.Series, pandas.DataFrame, pandas.Panel)\n"
     ]
    }
   ],
<<<<<<< Updated upstream
>>>>>>> Stashed changes
=======
>>>>>>> Stashed changes
   "source": [
    "import numpy as np\n",
    "import pandas as pd\n",
    "import statsmodels.api as sm\n",
    "\n",
    "import matplotlib.pyplot as plt\n",
    "%matplotlib inline"
   ]
  },
  {
   "cell_type": "markdown",
   "metadata": {},
   "source": [
    "## Why linear models?\n",
    "\n",
    "So far, we've learned about a lot of different models:\n",
    "- linear regression\n",
    "- logistic regression\n",
    "- $k$-nearest neighbors\n",
    "- Naive Bayes models\n",
    "- decision trees\n",
    "- bagged tree models\n",
    "- boosted tree models\n",
    "- support vector machines\n",
    "\n",
    "<details><summary>Why might we choose to fit a linear or logistic regression model instead of a different type of model?</summary>\n",
    "    \n",
    "- Linear and logistic regression models are very interpretable.\n",
    "- We can easily quantify the effect of a one-unit change in the independent variables on the dependent variable.\n",
    "- Because they make so many assumptions, these tend to be simpler models (and thus have lower variance) than other models.\n",
    "</details>\n",
    "\n",
    "### Assumptions of a Linear Regression Model\n",
    "When fitting a linear regression model, there are five assumptions we make:\n",
    "- Linearity (of Y and $X_i$)\n",
    "- Independence (of errors)\n",
    "- Normality (of errors)\n",
    "- Equality of Variance (of errors)\n",
    "- Independence (of our independent variables)\n",
    "\n",
    "## Rewriting the Linear Regression Model\n",
    "\n",
    "$$\n",
    "\\begin{eqnarray*}\n",
    "Y_i &=& \\beta_0 + \\beta_1X_{1i} + \\beta_2X_{2i} + \\cdots + \\beta_pX_{pi} + \\varepsilon_i \\\\\n",
    "\\varepsilon_i &\\sim& N(0, \\sigma) \\\\\n",
    "\\end{eqnarray*}\n",
    "$$\n",
    "\n",
    "Visually, we get this:\n",
    "![](./images/normal_linear_model.jpg)\n",
    "\n",
    "Rather than write these in two lines, we can combine them into one line:\n",
    "$$\n",
    "\\begin{eqnarray*}\n",
    "\\Rightarrow Y_i &\\sim& N\\Big(\\beta_0 + \\beta_1X_{1i} + \\beta_2X_{2i} + \\cdots + \\beta_pX_{pi}, \\sigma\\Big) \\\\\n",
    "\\end{eqnarray*}\n",
    "$$\n",
    "\n",
    "We can interpret this as:\n",
    "> \"Our observations $Y_i$ follow a Normal distribution with mean $\\beta_0 + \\beta_1X_{1i} + \\beta_2X_{2i} + \\cdots + \\beta_pX_{pi}$ and standard deviation $\\sigma$.\""
   ]
  },
  {
   "cell_type": "markdown",
   "metadata": {},
   "source": [
    "## Rewriting the Logistic Regression Model\n",
    "\n",
    "---\n",
    "\n",
    "<details><summary>The above model was a pretty poor model for binary data. Why?</summary>\n",
    "\n",
    "- We would predict values outside of [0,1].\n",
    "</details>\n",
    "\n",
    "\n",
    "<details><summary>Previously, when have we used the Bernoulli distribution?</summary>\n",
    "\n",
    "- We used the Bernoulli distribution to model binary outcomes (success/failure) with a fixed probability of success.\n",
    "- We can use the Bernoulli distribution to model whether or not one coin flips heads, whether or not one person contracts a disease, or whether or not I eat a burrito today.\n",
    "</details>\n",
    "\n",
    "It might make sense that we can rewrite our logistic regression model in the context of the Bernoulli distribution (just like we did with a linear regression model and the Normal distribution)!\n",
    "\n",
    "We can rewrite that as:\n",
    "$$\n",
    "\\begin{eqnarray*}\n",
    "Y_i &\\sim& Bernoulli(\\pi_i) \\\\\n",
    "\\pi_i &=& logit^{-1}(\\beta_0 + \\beta_1X_{1i} + \\beta_2X_{2i} + \\cdots + \\beta_pX_{pi})\n",
    "\\end{eqnarray*}\n",
    "$$\n",
    "\n",
    "\n",
    "Or, in one line:\n",
    "$$\n",
    "\\begin{eqnarray*}\n",
    "Y_i &\\sim& Bernoulli\\Big(logit^{-1}(\\beta_0 + \\beta_1X_{1i} + \\beta_2X_{2i} + \\cdots + \\beta_pX_{pi})\\Big) \\\\\n",
    "\\end{eqnarray*}\n",
    "$$\n",
    "\n",
    "Note that \"$logit^{-1}$\" is the inverse logit function; you may remember that the logit function was used to bend the \"line of best fit\" to only make predictions between 0 and 1."
   ]
  },
  {
   "cell_type": "markdown",
   "metadata": {},
   "source": [
    "## Generalized Linear Models (GLMs)\n",
    "\n",
    "**Generalized linear models** describes all models that take the linear regression model and generalizes it to different situations.\n",
    "\n",
    "- It's not always appropriate for our predictions $\\hat{y}$ to range from $(-\\infty, \\infty)$.\n",
    "\n",
    "All GLMs will have three components:\n",
    "- Linear\n",
    "- Link\n",
    "- Random\n",
    "\n",
    "### The Linear Component (aka \"Systematic Component\")\n",
    "The **linear component** will always be the linear formula $\\beta_0 + \\beta_1X_1 + \\cdots + \\beta_pX_p$.\n",
    "- This ensures that every GLM will have some interpretation for a one-unit increase in each independent variable.\n",
    "<details><summary>By the way...</summary>\n",
    "    Many students have confused the term \"linear model\" with \"no exponentiated terms\" - which is wrong. If you include $x_1$ and $x_1^2$ in your model, it's still a linear model, since we can just write $x_2 = x_1^2$. The term <b>linear model</b> comes from the fact that we can always write this systematic component using vectors like $\\mathbf{x}^T\\beta$\n",
    "</details>\n",
    "\n",
    "### The Link Function\n",
    "The **link function** will transform the linear component into the range of interest.\n",
    "- In logistic regression, we use the **logit function** as the link function, which ensures our predictions are between 0 and 1. However it's not the only choice. We can use the **probit function**, which is the inverse standard normal CDF.\n",
    "- In linear regression, the **identity function** is the link function. (i.e. $f(x) = x$)\n",
    "- The link function is what determines how we interpret a one-unit change in each independent variable!\n",
    "\n",
    "The linear and link component generate $\\hat{Y}_i$ for us. \n",
    "\n",
    "![](../images/log_reg.png)\n",
    "\n",
    "### The Random Component\n",
    "The **random component** connects our predictions $\\hat{Y}_i$ to our observed values $Y_i$ by using a statistical distribution to model our errors. It's \"random\" because it controls what the noise of our model looks like.\n",
    "- In linear regression, the linear and link function predict the line of best fit. However, our observed values aren't always on the line; they're Normally distributed around the line.\n",
    "    * For ordinary least squares linear regression, we use the **normal distribution** for our random component.\n",
    "- In logistic regression, the linear and link function predict a probability for us. However, our observed values are 1s and 0s. By saying $Y_i \\sim \\text{Bernoulli}(\\pi_i)$, we note that our $Y_i$ will be 1s and 0s that are drawn from a $\\text{Bernoulli}(\\pi_i)$ distribution with some predicted value between 0 and 1.\n",
    "    * For logistic regression, we use the **Bernoulli distribution** for our random component\n",
    "\n",
    "To summarize:\n",
    "- The linear component will always be $\\beta_0 + \\beta_1X_1 + \\cdots + \\beta_pX_p$.\n",
    "- The link function will bend the linear component to match the desired range of values.\n",
    "- The random component makes the connection from our predictions to our observed values by summarizing the errors.\n",
    "\n",
    "## Linear and logistic regression models aren't the only GLMs out there!\n",
    "\n",
    "We can use all sorts of probability distributions to build out linear models. These linear models still retain the same benefits of linear and logistic regression (i.e. interpretable, can quantify the effect on Y of a one-unit increase in X) but also can model $Y$ variables that aren't just limited to $(-\\infty, +\\infty)$ or $[0, 1]$.\n",
    "\n",
    "---\n",
    "\n",
    "<details><summary>What distribution would you use to model the number of people who drive on the Pennsylvania turnpike (toll road) in the weekend before a holiday? </summary>\n",
    "\n",
    "- Since the number of people passing through a toll road is countable, we would want to use a discrete distribution.\n",
    "- Since we can't have a negative number of people passing through a toll road, we would want to use a discrete distribution that can take on only the values of 0, 1, 2, 3, $\\ldots$\n",
    "- Two good distributions for this would be the [Poisson distribution](https://en.wikipedia.org/wiki/Poisson_distribution) or the [Negative Binomial distribution](https://en.wikipedia.org/wiki/Negative_binomial_distribution)!\n",
    "- You can see more about these distributions [here](https://seeing-theory.brown.edu/probability-distributions/index.html#section2).\n",
    "- [Wikipedia article for toll roads](https://en.wikipedia.org/wiki/Toll_road).\n",
    "</details>\n",
    "\n",
    "---\n",
    "\n",
    "<details><summary>What distribution would you use to model the amount of time until your Lyft shows up?</summary>\n",
    "\n",
    "- Since the amount of time until your Lyft shows up is uncountably infinite, we would want to use a continuous distribution.\n",
    "- Since we can't wait a negative amount of time, we should use a continuous distribution that can only take on the values of $[0, \\infty)$.\n",
    "- The Gamma distribution is going to be \n",
    "</details>"
   ]
  },
  {
   "cell_type": "markdown",
   "metadata": {},
   "source": [
    "## The `statsmodels` API\n",
    "\n",
    "We will use the `statsmodels` API to explore GLMs in Python.  (`sklearn` does not have a robust implementation for GLMs.)  Documentation and examples for `statsmodels` can be found [here](http://www.statsmodels.org/stable/generated/statsmodels.genmod.generalized_linear_model.GLM.html#statsmodels.genmod.generalized_linear_model.GLM)."
   ]
  },
  {
   "cell_type": "markdown",
   "metadata": {
    "scrolled": false
   },
   "source": [
    "When we fit a model in `statsmodels`, we need to add the column of 1s so that we can have an intercept. `statsmodels` will not automatically add an intercept for us."
   ]
  },
  {
   "cell_type": "markdown",
   "metadata": {},
   "source": [
    "## Poisson Regression\n",
    "\n",
    "**When do we use it?** When we want to model something on the $\\{0,1,2,\\ldots\\}$ range... like number of cars on through a toll road, number of objects sold or number of awards earned!\n",
    "\n",
    "<img src=\"./images/poisson_model.png\" alt=\"poisson_model\" width=\"400\"/>\n",
    "\n",
    "#### Data\n",
    "We'll rely on UCLA's IDRE module.  This one can be found [here](https://stats.idre.ucla.edu/r/dae/poisson-regression/).\n",
    "\n",
    "#### Data Description\n",
    "_The number of awards earned by students at one high school. Predictors of the number of awards earned include the type of program in which the student was enrolled (e.g., vocational, general or academic) and the score on their final exam in math._"
   ]
  },
  {
   "cell_type": "code",
<<<<<<< Updated upstream
<<<<<<< Updated upstream
   "execution_count": 3,
=======
   "execution_count": 2,
>>>>>>> Stashed changes
=======
   "execution_count": 2,
>>>>>>> Stashed changes
   "metadata": {},
   "outputs": [],
   "source": [
    "# Read in data.\n",
<<<<<<< Updated upstream
    "award = pd.read_csv(\"https://stats.idre.ucla.edu/stat/data/poisson_sim.csv\")"
=======
    "award = pd.read_csv(\"https://stats.idre.ucla.edu/stat/data/poisson_sim.csv\")\n",
    "\n"
<<<<<<< Updated upstream
>>>>>>> Stashed changes
=======
>>>>>>> Stashed changes
   ]
  },
  {
   "cell_type": "code",
<<<<<<< Updated upstream
<<<<<<< Updated upstream
   "execution_count": 7,
=======
   "execution_count": 3,
>>>>>>> Stashed changes
=======
   "execution_count": 3,
>>>>>>> Stashed changes
   "metadata": {},
   "outputs": [
    {
     "data": {
      "text/html": [
       "<div>\n",
       "<style scoped>\n",
       "    .dataframe tbody tr th:only-of-type {\n",
       "        vertical-align: middle;\n",
       "    }\n",
       "\n",
       "    .dataframe tbody tr th {\n",
       "        vertical-align: top;\n",
       "    }\n",
       "\n",
       "    .dataframe thead th {\n",
       "        text-align: right;\n",
       "    }\n",
       "</style>\n",
       "<table border=\"1\" class=\"dataframe\">\n",
       "  <thead>\n",
       "    <tr style=\"text-align: right;\">\n",
       "      <th></th>\n",
       "      <th>id</th>\n",
       "      <th>num_awards</th>\n",
       "      <th>prog</th>\n",
       "      <th>math</th>\n",
       "    </tr>\n",
       "  </thead>\n",
       "  <tbody>\n",
       "    <tr>\n",
<<<<<<< Updated upstream
<<<<<<< Updated upstream
       "      <td>0</td>\n",
=======
       "      <th>0</th>\n",
>>>>>>> Stashed changes
=======
       "      <th>0</th>\n",
>>>>>>> Stashed changes
       "      <td>45</td>\n",
       "      <td>0</td>\n",
       "      <td>3</td>\n",
       "      <td>41</td>\n",
       "    </tr>\n",
       "    <tr>\n",
<<<<<<< Updated upstream
<<<<<<< Updated upstream
       "      <td>1</td>\n",
=======
       "      <th>1</th>\n",
>>>>>>> Stashed changes
=======
       "      <th>1</th>\n",
>>>>>>> Stashed changes
       "      <td>108</td>\n",
       "      <td>0</td>\n",
       "      <td>1</td>\n",
       "      <td>41</td>\n",
       "    </tr>\n",
       "    <tr>\n",
<<<<<<< Updated upstream
<<<<<<< Updated upstream
       "      <td>2</td>\n",
=======
       "      <th>2</th>\n",
>>>>>>> Stashed changes
=======
       "      <th>2</th>\n",
>>>>>>> Stashed changes
       "      <td>15</td>\n",
       "      <td>0</td>\n",
       "      <td>3</td>\n",
       "      <td>44</td>\n",
       "    </tr>\n",
       "    <tr>\n",
<<<<<<< Updated upstream
<<<<<<< Updated upstream
       "      <td>3</td>\n",
=======
       "      <th>3</th>\n",
>>>>>>> Stashed changes
=======
       "      <th>3</th>\n",
>>>>>>> Stashed changes
       "      <td>67</td>\n",
       "      <td>0</td>\n",
       "      <td>3</td>\n",
       "      <td>42</td>\n",
       "    </tr>\n",
       "    <tr>\n",
<<<<<<< Updated upstream
<<<<<<< Updated upstream
       "      <td>4</td>\n",
=======
       "      <th>4</th>\n",
>>>>>>> Stashed changes
=======
       "      <th>4</th>\n",
>>>>>>> Stashed changes
       "      <td>153</td>\n",
       "      <td>0</td>\n",
       "      <td>3</td>\n",
       "      <td>40</td>\n",
       "    </tr>\n",
       "  </tbody>\n",
       "</table>\n",
       "</div>"
      ],
      "text/plain": [
       "    id  num_awards  prog  math\n",
       "0   45           0     3    41\n",
       "1  108           0     1    41\n",
       "2   15           0     3    44\n",
       "3   67           0     3    42\n",
       "4  153           0     3    40"
      ]
     },
<<<<<<< Updated upstream
<<<<<<< Updated upstream
     "execution_count": 7,
=======
     "execution_count": 3,
>>>>>>> Stashed changes
=======
     "execution_count": 3,
>>>>>>> Stashed changes
     "metadata": {},
     "output_type": "execute_result"
    }
   ],
   "source": [
    "# Check first five rows.\n",
    "award.head()"
   ]
  },
  {
   "cell_type": "code",
<<<<<<< Updated upstream
<<<<<<< Updated upstream
   "execution_count": 6,
=======
   "execution_count": 4,
>>>>>>> Stashed changes
=======
   "execution_count": 4,
>>>>>>> Stashed changes
   "metadata": {},
   "outputs": [
    {
     "data": {
<<<<<<< Updated upstream
<<<<<<< Updated upstream
      "image/png": "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\n",
      "text/plain": [
       "<Figure size 432x288 with 1 Axes>"
      ]
     },
     "metadata": {},
=======
=======
>>>>>>> Stashed changes
      "text/plain": [
       "<matplotlib.collections.PathCollection at 0x1c26514160>"
      ]
     },
     "execution_count": 4,
     "metadata": {},
     "output_type": "execute_result"
    },
    {
     "data": {
      "image/png": "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\n",
      "text/plain": [
       "<Figure size 432x288 with 1 Axes>"
      ]
     },
     "metadata": {
      "needs_background": "light"
     },
<<<<<<< Updated upstream
>>>>>>> Stashed changes
=======
>>>>>>> Stashed changes
     "output_type": "display_data"
    }
   ],
   "source": [
<<<<<<< Updated upstream
<<<<<<< Updated upstream
    "# Plot a scatterplot of math vs. number of awards\n",
    "plt.scatter(award['math'], award['num_awards']);"
=======
    "# Plot a scatterplot of math vs. number of awards.\n",
    "plt.scatter(award['math'],award['num_awards'])"
>>>>>>> Stashed changes
=======
    "# Plot a scatterplot of math vs. number of awards.\n",
    "plt.scatter(award['math'],award['num_awards'])"
>>>>>>> Stashed changes
   ]
  },
  {
   "cell_type": "code",
<<<<<<< Updated upstream
<<<<<<< Updated upstream
   "execution_count": 8,
=======
   "execution_count": 6,
>>>>>>> Stashed changes
=======
   "execution_count": 6,
>>>>>>> Stashed changes
   "metadata": {},
   "outputs": [
    {
     "data": {
      "text/plain": [
<<<<<<< Updated upstream
<<<<<<< Updated upstream
       "<matplotlib.axes._subplots.AxesSubplot at 0x26330c71e48>"
      ]
     },
     "execution_count": 8,
=======
=======
>>>>>>> Stashed changes
       "<matplotlib.axes._subplots.AxesSubplot at 0x1c288178d0>"
      ]
     },
     "execution_count": 6,
<<<<<<< Updated upstream
>>>>>>> Stashed changes
=======
>>>>>>> Stashed changes
     "metadata": {},
     "output_type": "execute_result"
    },
    {
     "data": {
<<<<<<< Updated upstream
<<<<<<< Updated upstream
      "image/png": "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\n",
=======
      "image/png": "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\n",
>>>>>>> Stashed changes
=======
      "image/png": "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\n",
>>>>>>> Stashed changes
      "text/plain": [
       "<Figure size 432x288 with 1 Axes>"
      ]
     },
<<<<<<< Updated upstream
<<<<<<< Updated upstream
     "metadata": {},
=======
     "metadata": {
      "needs_background": "light"
     },
>>>>>>> Stashed changes
=======
     "metadata": {
      "needs_background": "light"
     },
>>>>>>> Stashed changes
     "output_type": "display_data"
    }
   ],
   "source": [
    "# Plot distribution of awards by program.\n",
<<<<<<< Updated upstream
<<<<<<< Updated upstream
    "award.boxplot('num_awards', by='prog')"
=======
    "award.boxplot('num_awards',by='prog')"
>>>>>>> Stashed changes
=======
    "award.boxplot('num_awards',by='prog')"
>>>>>>> Stashed changes
   ]
  },
  {
   "cell_type": "markdown",
   "metadata": {},
   "source": [
    "<details><summary>What might we infer from this plot?</summary>\n",
    "\n",
    "- `prog` is definitely not linearly related to the number of awards one receives.\n",
    "- `prog` looks like a categorical variable.\n",
    "- I am aware of this. I'm going to suspend that knowledge for the sake of example.\n",
    "</details>"
   ]
  },
  {
   "cell_type": "code",
<<<<<<< Updated upstream
<<<<<<< Updated upstream
   "execution_count": 13,
=======
   "execution_count": 9,
>>>>>>> Stashed changes
=======
   "execution_count": 9,
>>>>>>> Stashed changes
   "metadata": {
    "scrolled": false
   },
   "outputs": [
    {
     "name": "stderr",
     "output_type": "stream",
     "text": [
<<<<<<< Updated upstream
<<<<<<< Updated upstream
      "C:\\ProgramData\\Anaconda3\\lib\\site-packages\\numpy\\core\\fromnumeric.py:2495: FutureWarning: Method .ptp is deprecated and will be removed in a future version. Use numpy.ptp instead.\n",
=======
      "/Users/ikhyvicky/anaconda3/lib/python3.7/site-packages/numpy/core/fromnumeric.py:2495: FutureWarning: Method .ptp is deprecated and will be removed in a future version. Use numpy.ptp instead.\n",
>>>>>>> Stashed changes
=======
      "/Users/ikhyvicky/anaconda3/lib/python3.7/site-packages/numpy/core/fromnumeric.py:2495: FutureWarning: Method .ptp is deprecated and will be removed in a future version. Use numpy.ptp instead.\n",
>>>>>>> Stashed changes
      "  return ptp(axis=axis, out=out, **kwargs)\n"
     ]
    }
   ],
   "source": [
    "# Set up X.\n",
<<<<<<< Updated upstream
<<<<<<< Updated upstream
    "award_dummy = pd.get_dummies(columns=['prog'], data=award, drop_first=True)\n",
    "poi_vars = ['prog_2', 'prog_3', 'math']\n",
    "award_dummy.head()\n",
    "X = sm.add_constant(award_dummy[poi_vars])"
=======
=======
>>>>>>> Stashed changes
    "award_dummy= pd.get_dummies(columns=['prog'],data=award,drop_first=True)\n",
    "poi_vars=['prog_2','prog_3','math']\n",
    "\n",
    "award_dummy.head()\n",
    "X=sm.add_constant(award_dummy[poi_vars])"
<<<<<<< Updated upstream
>>>>>>> Stashed changes
=======
>>>>>>> Stashed changes
   ]
  },
  {
   "cell_type": "code",
<<<<<<< Updated upstream
<<<<<<< Updated upstream
   "execution_count": 14,
   "metadata": {},
   "outputs": [],
   "source": [
    "# Set up y.\n",
    "y = award['num_awards']"
   ]
  },
  {
   "cell_type": "code",
   "execution_count": 16,
=======
   "execution_count": 10,
>>>>>>> Stashed changes
=======
   "execution_count": 10,
>>>>>>> Stashed changes
   "metadata": {},
   "outputs": [],
   "source": [
    "# Set up y.\n",
    "y=award['num_awards']"
   ]
  },
  {
   "cell_type": "code",
   "execution_count": 12,
   "metadata": {},
   "outputs": [
    {
     "name": "stderr",
     "output_type": "stream",
     "text": [
      "/Users/ikhyvicky/anaconda3/lib/python3.7/site-packages/ipykernel_launcher.py:2: DeprecationWarning: Calling Family(..) with a link class as argument is deprecated.\n",
      "Use an instance of a link class instead.\n",
      "  \n"
     ]
    }
   ],
   "source": [
    "# Fit model.\n",
<<<<<<< Updated upstream
<<<<<<< Updated upstream
    "glm_poi = sm.GLM(y,X,\n",
    "                family = sm.families.Poisson(link = sm.families.links.log)).fit()\n",
    "\n",
=======
    "glm_poi=sm.GLM(y,X,family=sm.families.Poisson(link= sm.families.links.log)).fit()\n",
>>>>>>> Stashed changes
=======
    "glm_poi=sm.GLM(y,X,family=sm.families.Poisson(link= sm.families.links.log)).fit()\n",
>>>>>>> Stashed changes
    "# In statsmodels, y is the first argument.\n",
    "# In statsmodels, X is the second argument."
   ]
  },
  {
   "cell_type": "code",
<<<<<<< Updated upstream
<<<<<<< Updated upstream
   "execution_count": 17,
=======
   "execution_count": 13,
>>>>>>> Stashed changes
=======
   "execution_count": 13,
>>>>>>> Stashed changes
   "metadata": {},
   "outputs": [
    {
     "data": {
      "text/html": [
       "<table class=\"simpletable\">\n",
       "<caption>Generalized Linear Model Regression Results</caption>\n",
       "<tr>\n",
<<<<<<< Updated upstream
<<<<<<< Updated upstream
       "  <th>Dep. Variable:</th>     <td>num_awards</td>    <th>  No. Observations:  </th>  <td>   200</td>  \n",
       "</tr>\n",
       "<tr>\n",
       "  <th>Model:</th>                 <td>GLM</td>       <th>  Df Residuals:      </th>  <td>   196</td>  \n",
       "</tr>\n",
       "<tr>\n",
       "  <th>Model Family:</th>        <td>Poisson</td>     <th>  Df Model:          </th>  <td>     3</td>  \n",
       "</tr>\n",
       "<tr>\n",
       "  <th>Link Function:</th>         <td>log</td>       <th>  Scale:             </th> <td>  1.0000</td> \n",
       "</tr>\n",
       "<tr>\n",
       "  <th>Method:</th>               <td>IRLS</td>       <th>  Log-Likelihood:    </th> <td> -182.75</td> \n",
       "</tr>\n",
       "<tr>\n",
       "  <th>Date:</th>           <td>Mon, 09 Dec 2019</td> <th>  Deviance:          </th> <td>  189.45</td> \n",
       "</tr>\n",
       "<tr>\n",
       "  <th>Time:</th>               <td>11:31:53</td>     <th>  Pearson chi2:      </th>  <td>  212.</td>  \n",
       "</tr>\n",
       "<tr>\n",
       "  <th>No. Iterations:</th>         <td>5</td>        <th>  Covariance Type:   </th> <td>nonrobust</td>\n",
=======
=======
>>>>>>> Stashed changes
       "  <th>Dep. Variable:</th>      <td>num_awards</td>    <th>  No. Observations:  </th>  <td>   200</td> \n",
       "</tr>\n",
       "<tr>\n",
       "  <th>Model:</th>                  <td>GLM</td>       <th>  Df Residuals:      </th>  <td>   196</td> \n",
       "</tr>\n",
       "<tr>\n",
       "  <th>Model Family:</th>         <td>Poisson</td>     <th>  Df Model:          </th>  <td>     3</td> \n",
       "</tr>\n",
       "<tr>\n",
       "  <th>Link Function:</th>          <td>log</td>       <th>  Scale:             </th> <td>  1.0000</td>\n",
       "</tr>\n",
       "<tr>\n",
       "  <th>Method:</th>                <td>IRLS</td>       <th>  Log-Likelihood:    </th> <td> -182.75</td>\n",
       "</tr>\n",
       "<tr>\n",
       "  <th>Date:</th>            <td>Mon, 09 Dec 2019</td> <th>  Deviance:          </th> <td>  189.45</td>\n",
       "</tr>\n",
       "<tr>\n",
       "  <th>Time:</th>                <td>11:32:42</td>     <th>  Pearson chi2:      </th>  <td>  212.</td> \n",
       "</tr>\n",
       "<tr>\n",
       "  <th>No. Iterations:</th>          <td>5</td>        <th>                     </th>     <td> </td>   \n",
       "</tr>\n",
       "<tr>\n",
       "  <th>Covariance Type:</th>     <td>nonrobust</td>    <th>                     </th>     <td> </td>   \n",
<<<<<<< Updated upstream
>>>>>>> Stashed changes
=======
>>>>>>> Stashed changes
       "</tr>\n",
       "</table>\n",
       "<table class=\"simpletable\">\n",
       "<tr>\n",
       "     <td></td>       <th>coef</th>     <th>std err</th>      <th>z</th>      <th>P>|z|</th>  <th>[0.025</th>    <th>0.975]</th>  \n",
       "</tr>\n",
       "<tr>\n",
       "  <th>const</th>  <td>   -5.2471</td> <td>    0.658</td> <td>   -7.969</td> <td> 0.000</td> <td>   -6.538</td> <td>   -3.957</td>\n",
       "</tr>\n",
       "<tr>\n",
       "  <th>prog_2</th> <td>    1.0839</td> <td>    0.358</td> <td>    3.025</td> <td> 0.002</td> <td>    0.382</td> <td>    1.786</td>\n",
       "</tr>\n",
       "<tr>\n",
       "  <th>prog_3</th> <td>    0.3698</td> <td>    0.441</td> <td>    0.838</td> <td> 0.402</td> <td>   -0.495</td> <td>    1.234</td>\n",
       "</tr>\n",
       "<tr>\n",
       "  <th>math</th>   <td>    0.0702</td> <td>    0.011</td> <td>    6.619</td> <td> 0.000</td> <td>    0.049</td> <td>    0.091</td>\n",
       "</tr>\n",
       "</table>"
      ],
      "text/plain": [
       "<class 'statsmodels.iolib.summary.Summary'>\n",
       "\"\"\"\n",
       "                 Generalized Linear Model Regression Results                  \n",
       "==============================================================================\n",
       "Dep. Variable:             num_awards   No. Observations:                  200\n",
       "Model:                            GLM   Df Residuals:                      196\n",
       "Model Family:                 Poisson   Df Model:                            3\n",
       "Link Function:                    log   Scale:                          1.0000\n",
       "Method:                          IRLS   Log-Likelihood:                -182.75\n",
       "Date:                Mon, 09 Dec 2019   Deviance:                       189.45\n",
<<<<<<< Updated upstream
<<<<<<< Updated upstream
       "Time:                        11:31:53   Pearson chi2:                     212.\n",
       "No. Iterations:                     5   Covariance Type:             nonrobust\n",
=======
       "Time:                        11:32:42   Pearson chi2:                     212.\n",
       "No. Iterations:                     5                                         \n",
       "Covariance Type:            nonrobust                                         \n",
>>>>>>> Stashed changes
=======
       "Time:                        11:32:42   Pearson chi2:                     212.\n",
       "No. Iterations:                     5                                         \n",
       "Covariance Type:            nonrobust                                         \n",
>>>>>>> Stashed changes
       "==============================================================================\n",
       "                 coef    std err          z      P>|z|      [0.025      0.975]\n",
       "------------------------------------------------------------------------------\n",
       "const         -5.2471      0.658     -7.969      0.000      -6.538      -3.957\n",
       "prog_2         1.0839      0.358      3.025      0.002       0.382       1.786\n",
       "prog_3         0.3698      0.441      0.838      0.402      -0.495       1.234\n",
       "math           0.0702      0.011      6.619      0.000       0.049       0.091\n",
       "==============================================================================\n",
       "\"\"\""
      ]
     },
<<<<<<< Updated upstream
<<<<<<< Updated upstream
     "execution_count": 17,
=======
     "execution_count": 13,
>>>>>>> Stashed changes
=======
     "execution_count": 13,
>>>>>>> Stashed changes
     "metadata": {},
     "output_type": "execute_result"
    }
   ],
   "source": [
    "# Generate summary of model.\n",
    "glm_poi.summary()"
   ]
  },
  {
   "cell_type": "markdown",
   "metadata": {},
   "source": [
    "#### Interpreting Poisson Coefficients\n",
    "\n",
    "Because of the log link function, we interpret a one-unit increase in $X_i$ as follows:\n",
    "\n",
    "\"As $X_i$ increases by 1, I expect $Y$ to increase by a factor of $e^{\\beta_1}$.\""
   ]
  },
  {
   "cell_type": "code",
<<<<<<< Updated upstream
<<<<<<< Updated upstream
   "execution_count": 18,
=======
   "execution_count": 14,
>>>>>>> Stashed changes
=======
   "execution_count": 14,
>>>>>>> Stashed changes
   "metadata": {},
   "outputs": [
    {
     "data": {
      "text/plain": [
       "1.072722704342061"
      ]
     },
<<<<<<< Updated upstream
<<<<<<< Updated upstream
     "execution_count": 18,
=======
     "execution_count": 14,
>>>>>>> Stashed changes
=======
     "execution_count": 14,
>>>>>>> Stashed changes
     "metadata": {},
     "output_type": "execute_result"
    }
   ],
   "source": [
    "np.exp(0.0702)"
   ]
  },
  {
   "cell_type": "code",
<<<<<<< Updated upstream
<<<<<<< Updated upstream
   "execution_count": 20,
=======
   "execution_count": 15,
>>>>>>> Stashed changes
=======
   "execution_count": 15,
>>>>>>> Stashed changes
   "metadata": {},
   "outputs": [
    {
     "data": {
      "text/plain": [
<<<<<<< Updated upstream
<<<<<<< Updated upstream
       "2.9561862247436466"
      ]
     },
     "execution_count": 20,
=======
=======
>>>>>>> Stashed changes
       "0.005262758289699642"
      ]
     },
     "execution_count": 15,
<<<<<<< Updated upstream
>>>>>>> Stashed changes
=======
>>>>>>> Stashed changes
     "metadata": {},
     "output_type": "execute_result"
    }
   ],
   "source": [
<<<<<<< Updated upstream
<<<<<<< Updated upstream
    "np.exp(1.0839)"
=======
    "np.exp(-5.2471)"
>>>>>>> Stashed changes
=======
    "np.exp(-5.2471)"
>>>>>>> Stashed changes
   ]
  },
  {
   "cell_type": "markdown",
   "metadata": {},
   "source": [
    "**Example**: For a one-unit increase in `math`, I expect to win $e^{0.0702} \\approx 1.07$ times as many awards."
   ]
  },
  {
   "cell_type": "markdown",
   "metadata": {
    "collapsed": true
   },
   "source": [
    "<details><summary>How would you interpret `prog_2`?</summary>\n",
    "    If you are in Program 2, I expect to win $e^{1.0839} \\approx 3$ times as many awards as if you were in Program 1.\n",
    "</details>"
   ]
  },
  {
   "cell_type": "markdown",
   "metadata": {
    "collapsed": true
   },
   "source": [
    "## Gamma Regression\n",
    "\n",
    "**When do we use it?** When we want to model something on the $[0,\\infty)$ range... like time until some event occurs!\n",
    "\n",
    "### The Data\n",
    "The data used from this example come from a 1945 study about and is inspired by [Peter Craigmile's use](http://www.craigmile.com/peter/teaching/7430/notes/7_gamma_influence.pdf) of this example.\n",
    "\n",
    "**Data Description:** _“Hurn, et al. (1945) published data on the clotting time of blood, giving clotting time in seconds for normal plasma diluted to nine different percentage concentrations with prothrombin-free plasma; clotting was induced by two lots of thromboplastin.” [McCullagh and Nelder](http://www.utstat.toronto.edu/~brunner/oldclass/2201s11/readings/glmbook.pdf)_"
   ]
  },
  {
   "cell_type": "code",
   "execution_count": null,
   "metadata": {},
   "outputs": [],
   "source": [
    "# Read data in.\n",
    "clot = pd.read_csv(\"datasets/clotting.csv\", index_col=\"index\")"
   ]
  },
  {
   "cell_type": "code",
   "execution_count": null,
   "metadata": {},
   "outputs": [],
   "source": [
    "# Check the first five rows."
   ]
  },
  {
   "cell_type": "code",
   "execution_count": null,
   "metadata": {},
   "outputs": [],
   "source": [
    "# Generate a boxplot of clot_time group by lot."
   ]
  },
  {
   "cell_type": "code",
   "execution_count": null,
   "metadata": {},
   "outputs": [],
   "source": [
    "# Plot plasma_pct against clot_time."
   ]
  },
  {
   "cell_type": "code",
   "execution_count": null,
   "metadata": {},
   "outputs": [],
   "source": [
    "# Set up X.\n",
    "X = \n",
    "\n",
    "# Set up y.\n",
    "y = "
   ]
  },
  {
   "cell_type": "code",
   "execution_count": null,
   "metadata": {},
   "outputs": [],
   "source": [
    "# Fit model.\n",
    "# NOTE: For prediction purposes, the inverse link might actually be best (it's the \"canonical link\")\n",
    "# but the log link allows us to interpret our coefficients.\n",
    "\n",
    "# In statsmodels, y is the first argument.\n",
    "# In statsmodels, X is the second argument."
   ]
  },
  {
   "cell_type": "code",
   "execution_count": null,
   "metadata": {},
   "outputs": [],
   "source": [
    "# Generate summary of model."
   ]
  },
  {
   "cell_type": "markdown",
   "metadata": {},
   "source": [
    "#### Interpreting Gamma Coefficients\n",
    "\n",
    "Because of the log link function (again!), we interpret a one-unit increase in $X_i$ as follows:\n",
    "\n",
    "\"As $X_i$ increases by 1, I expect $Y$ to increase by a factor of $e^{\\beta_1}$.\""
   ]
  },
  {
   "cell_type": "code",
   "execution_count": null,
   "metadata": {},
   "outputs": [],
   "source": [
    "# Exponentiate our coefficient."
   ]
  },
  {
   "cell_type": "markdown",
   "metadata": {},
   "source": [
    "**Example**: For a one-unit increase in `plasma_pct`, I expect the blood will take $e^{-0.0156} \\approx 26\\%$ as much time to clot."
   ]
  },
  {
   "cell_type": "markdown",
   "metadata": {},
   "source": [
    "---\n",
    "## Iteratively Reweighted Least Squares\n",
    "\n",
    "When fitting an OLS regression model, we can find our best values for $\\beta$ by solving $\\hat{\\pmb\\beta} = (X^TX)^{-1}X^Ty$.\n",
    "\n",
    "GLMs are typically not \"directly solvable.\" There is [no closed-form solution](http://mathworld.wolfram.com/Closed-FormSolution.html) for generalized linear models!\n",
    "- This includes logistic regression!\n",
    "\n",
    "#### How does the algorithm work?\n",
    "An algorithm called \"iteratively reweighted least squares\" [has been shown](http://www.utstat.toronto.edu/~brunner/oldclass/2201s11/readings/glmbook.pdf) is \"easy\" to implement in a computer.\n",
    "- A solution is initially guessed, then iteratively refined until we converge on an answer.\n",
    "- IRLS is a special cause of a **gradient descent algorithm**. We'll learn about gradient descent tomorrow.\n",
    "\n",
    "$$\n",
    "\\begin{eqnarray*}\n",
    "\\hat{\\pmb\\beta}_{[1]} &=& (X^TW_1X)^{-1}X^TW_1y \\\\\n",
    "\\Rightarrow \\hat{\\pmb\\beta}_{[2]} &=& (X^TW_2X)^{-1}X^TW_2y \\\\\n",
    "\\Rightarrow \\hat{\\pmb\\beta}_{[3]} &=& (X^TW_3X)^{-1}X^TW_3y \\\\\n",
    "\\Rightarrow \\hat{\\pmb\\beta}_{[4]} &=& (X^TW_4X)^{-1}X^TW_4y \\\\\n",
    "\\Rightarrow \\hat{\\pmb\\beta}_{[5]} &=& (X^TW_5X)^{-1}X^TW_5y \\\\\n",
    "&\\vdots& \\\\\n",
    "\\Rightarrow \\hat{\\pmb\\beta}_{[99]} &=& (X^TW_{99}X)^{-1}X^TW_{99}y \\\\\n",
    "\\Rightarrow \\hat{\\pmb\\beta}_{[100]} &=& (X^TW_{100}X)^{-1}X^TW_{100}y \\\\\n",
    "\\end{eqnarray*}\n",
    "$$\n",
    "\n",
    "- At each step (\"iteration\"), these weights will change. (\"reweighted\")\n",
    "\n",
    "The default maximum number of iterations for GLMs in `statsmodels` is 100. \n",
    "- If `No. Iterations` is less than 100, that means the algorithm probably converged.\n",
    "- If `No. Iterations` is 100, that means the algorithm probably didn't converge and that the $\\mathbf{\\hat{\\beta}}$ are still changing. Therefore, **your output is unreliable - DO NOT USE IT**. It could also give some information on the \"flatness\" of your error function. Even more than 20 iterations is sketchy.\n",
    "\n",
    "There are potential pitfalls to this algorithm (some of which we'll cover later). However, what you should know:\n",
    "- If you get a `ConvergenceWarning` or any indication that your number of iterations is large, that means that your model did not fit properly and that you should not rely on the results!\n",
    "\n",
    "---"
   ]
  },
  {
   "cell_type": "code",
   "execution_count": null,
   "metadata": {},
   "outputs": [],
   "source": [
    "# Did our results converge?\n",
    "results.converged"
   ]
  },
  {
   "cell_type": "markdown",
   "metadata": {},
   "source": [
    "## Summary\n",
    "Today, we:\n",
    "* Learned how to generalize two models we already knew (linear and logistic regression) into a borader category of models (GLMs)\n",
    "* Refamiliarized ourselves with the `statsmodels` API\n",
    "* Learned the components of GLMs, and how to customize them with `statsmodels`:\n",
    "    - Systematic/linear component, ie, our choice of x-variables\n",
    "    - Link function - a function we choose to \"bend\" our response to our y-variable\n",
    "    - Random component - The distribution that represents the data-generation process for our y-variable\n",
    "* Two new linear models:\n",
    "    - **Poisson regression** - For when your y-variable is Poisson distributed. Most commonly used for _count data_.\n",
    "        - e.g. Predicting how many children a couple will have based on age and income\n",
    "    - **Gamma regression** - For when your y-variable is Gamma distributed. Most commonly used for _waiting-time data_.\n",
    "        - e.g. Predicting how long your phone's battery will last based on screentime use"
   ]
  },
  {
   "cell_type": "markdown",
   "metadata": {},
   "source": [
    "![](images/glm-sheet.png)"
   ]
  },
  {
   "cell_type": "markdown",
   "metadata": {},
   "source": [
    "---\n",
    "\n",
    "## Picking other GLMs (BONUS)\n",
    "\n",
    "Chosing the right kind of generalized linear model (GLM) from all possibilities really boils down to picking the \"error.\"\n",
    "\n",
    "The \"error\" model is really telling you how you expect observations to be distributed.  It is a probability distribution.\n",
    "\n",
    "> 1. In traditional linear regression, the error term is a normal distribution.  This means that you expect actual observations to be normally distributed around your line.\n",
    "\n",
    "> 2. In logistic regression, the error term is a Bernoulli distribution.  This means that you expect actual observations to be above (1) or below (0) the logit curve with a certain probability.\n",
    "\n",
    "Choosing the distribution function often points to a link function you should use: [here is a table](https://en.wikipedia.org/wiki/Generalized_linear_model#Link_function).\n",
    "\n",
    "Examples:\n",
    "\n",
    "1. If $Y$ is a non-negative integer:\n",
    "   - Poisson regression if mean $\\approx$ variance\n",
    "   - Negative Binomial regression if variance $\\gg$ mean (overdisperse)\n",
    "   - For example,\n",
    "     - Units sold\n",
    "     - Customers through the door\n",
    "     - Patients to the ER\n",
    "     - Number of cars racing the red light\n",
    "2. If $Y$ values represent categories\n",
    "   - Multinomial logistic regression (unordered categories)\n",
    "   - Ordinal logstic regression (ordered categories)\n",
    "   - For example,\n",
    "     - Does a population tend to buy groceries at Whole Foods, Publix or Kroger?\n",
    "     - Will millenials vote democrat, republican or independent?\n",
    "     - Predicting the Amazon star rating of books.\n",
    "3. If $Y$ values are continuous, non-negative\n",
    "   - Gamma regression\n",
    "   - For example,\n",
    "     - How long before my Uber/Lyft gets here?\n",
    "     - Home prices"
   ]
  },
  {
   "cell_type": "markdown",
   "metadata": {},
   "source": [
    "## Analysis of Deviance (BONUS)\n",
    "\n",
    "We've spoken briefly about deviance before as a generalization of the sums of squares of error for generalized linear models.\n",
    "\n",
    "Suppose we have two models:\n",
    "\n",
    "$$\n",
    "\\begin{eqnarray*}\n",
    "Y_{full} &=& \\beta_0 + \\beta_1X_1 + \\cdots + \\beta_kX_k + \\cdots + \\beta_pX_p + \\varepsilon \\\\\n",
    "Y_{reduced} &=& \\beta_0 + \\beta_1X_1 + \\cdots + \\beta_kX_k + \\varepsilon\n",
    "\\end{eqnarray*}\n",
    "$$\n",
    "\n",
    "We say that $Y_{reduced}$ is nested in $Y_{full}$, because the reduced model could \"fit inside\" the full. (You can learn more about nested linear regression models [here](http://people.reed.edu/~jones/Courses/P24.pdf), although the ideas approximately hold for generalized linear models as well.)\n",
    "\n",
    "When we have one model nested inside the other, there is a statistical test to see if adding new variables are worth it. (Think about it like looking at the difference in mean squared error or $R^2$ by adding a variable, but getting a $p$-value quantifying whether or not it's worth it!)\n",
    "\n",
    "We calculate the **deviance** of the reduced model and subtract the **deviance** of the full model from it. This difference in deviance follows a [chi-squared distribution](https://en.wikipedia.org/wiki/Chi-squared_distribution) with $p-k$ degrees of freedom. (Note that $p-k$ indicates how many variables we took out of our full model to get to the reduced model!)\n",
    "\n",
    "**This comparison only works with nested models! Do not use if your models are not nested!**"
   ]
  },
  {
   "cell_type": "code",
   "execution_count": null,
   "metadata": {},
   "outputs": [],
   "source": [
    "# Test model differences\n",
    "from scipy.stats import chi2\n",
    "\n",
    "grad = pd.read_csv(\"https://stats.idre.ucla.edu/stat/data/binary.csv\")\n",
    "\n",
    "# First, build our top model\n",
    "indep_vars = ['gre', 'gpa', 'rank']\n",
    "X = sm.add_constant(grad[indep_vars])\n",
    "y = grad.admit\n",
    "\n",
    "glm_logit = sm.GLM(y, \n",
    "                   X,\n",
    "                   sm.families.Binomial(sm.families.links.logit))\n",
    "results_logit = glm_logit.fit()\n",
    "\n",
    "\n",
    "# Next, let's see if we can safely reduce our model\n",
    "reduced_vars = ['gre', 'gpa']\n",
    "X_reduced = sm.add_constant(grad[reduced_vars])\n",
    "\n",
    "results_reduced = sm.GLM(y,\n",
    "                 X_reduced,\n",
    "                 sm.families.Binomial(sm.families.links.logit)).fit()\n",
    "results_reduced.summary()\n",
    "\n",
    "\n",
    "# Calculate the difference in deviance\n",
    "D = results_reduced.deviance - results_logit.deviance\n",
    "print('Difference in Deviance: ', D)\n",
    "\n",
    "# Check to see if this difference is significant\n",
    "pval = 1 - chi2.cdf(D, df = 1)\n",
    "print('p-value of test of difference: ', pval) # What can we conclude here?"
   ]
  },
  {
   "cell_type": "markdown",
   "metadata": {},
   "source": [
    "$H_0:$ reduced model is better\n",
    "\n",
    "$H_A:$ reduced model is not better\n",
    "\n",
    "Because $p < \\alpha$, we reject $H_0$ and conclude that the reduced model is not better."
   ]
  }
 ],
 "metadata": {
  "anaconda-cloud": {},
  "kernelspec": {
   "display_name": "Python 3",
   "language": "python",
   "name": "python3"
  },
  "language_info": {
   "codemirror_mode": {
    "name": "ipython",
    "version": 3
   },
   "file_extension": ".py",
   "mimetype": "text/x-python",
   "name": "python",
   "nbconvert_exporter": "python",
   "pygments_lexer": "ipython3",
<<<<<<< Updated upstream
<<<<<<< Updated upstream
   "version": "3.6.5"
=======
   "version": "3.7.3"
>>>>>>> Stashed changes
=======
   "version": "3.7.3"
>>>>>>> Stashed changes
  }
 },
 "nbformat": 4,
 "nbformat_minor": 1
}
