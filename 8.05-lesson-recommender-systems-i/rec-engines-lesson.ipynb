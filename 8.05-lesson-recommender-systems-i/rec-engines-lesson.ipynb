{
 "cells": [
  {
   "cell_type": "code",
<<<<<<< Updated upstream
<<<<<<< Updated upstream
   "execution_count": 11,
=======
   "execution_count": 24,
>>>>>>> Stashed changes
=======
   "execution_count": 24,
>>>>>>> Stashed changes
   "metadata": {
    "slideshow": {
     "slide_type": "skip"
    }
   },
   "outputs": [],
   "source": [
    "import pandas as pd\n",
    "import numpy as np\n",
    "import seaborn as sns\n",
<<<<<<< Updated upstream
<<<<<<< Updated upstream
    "from sklearn.metrics.pairwise import cosine_similarity \n",
    "\n",
=======
    "import matplotlib.pyplot as plt\n",
    "from sklearn.metrics.pairwise import cosine_similarity\n",
>>>>>>> Stashed changes
=======
    "import matplotlib.pyplot as plt\n",
    "from sklearn.metrics.pairwise import cosine_similarity\n",
>>>>>>> Stashed changes
    "%matplotlib inline"
   ]
  },
  {
   "cell_type": "markdown",
   "metadata": {
    "slideshow": {
     "slide_type": "slide"
    }
   },
   "source": [
    "<img src=\"http://imgur.com/1ZcRyrc.png\" style=\"float: left; margin: 20px; height: 55px\">\n",
    "\n",
    "\n",
    "# Recommendation Engines\n",
    "\n",
    "_Author: Alex Combs (NYC) _\n",
    "\n",
    "---\n",
    "\n",
    "<a id=\"learning-objectives\"></a>\n",
    "### Learning Objectives\n",
    "*After this lesson, you will be able to:*\n",
    "- Explain what a recommendation engines is\n",
    "- Explain the math behind recommendation engines\n",
    "- Explain the types of recommendation engines and their pros and cons"
   ]
  },
  {
   "cell_type": "markdown",
   "metadata": {
    "slideshow": {
     "slide_type": "slide"
    }
   },
   "source": [
    "<a id=\"what-is-a-recommendation-engine\"></a>\n",
    "## What is a recommendation engine?\n",
    "---\n",
    "\n",
    "At its most basic: A system designed to match users to things that they will like.\n",
    "\n",
    "- The \"things\" can be products, brands, media, or even other people. \n",
    "- Ideally, they should be things the user doesn't know about. \n",
    "- **The goal is to rank all the possible things that are available to the user and to only present the top items**"
   ]
  },
  {
   "cell_type": "markdown",
   "metadata": {
    "slideshow": {
     "slide_type": "slide"
    }
   },
   "source": [
    "<a id=\"why-bother\"></a>\n",
    "### Why bother?\n",
    "\n",
    "- 1/4 to a 1/3 of consumer choices at Amazon are driven by personalized recommendations\n",
    "- Netflix says there recommendation engine reduces churn saving the company in excess of $1 billion a year\n",
    "- Hulu [has shown](http://tech.hulu.com/blog/2011/09/19/recommendation-system.html) that showing recommended TV shows results in over 3x more clicks than only showing the most popular TV shows."
   ]
  },
  {
   "cell_type": "markdown",
   "metadata": {
    "slideshow": {
     "slide_type": "fragment"
    }
   },
   "source": [
    "<a id=\"who-uses-recommendation-systems\"></a>\n",
    "### Who uses recommendation systems?\n",
    "\n",
    "- Netflix\n",
    "- Pandora\n",
    "- Hulu\n",
    "- Tinder\n",
    "- Facebook\n",
    "- Barnes & Noble (receipts recommend other books)\n",
    "- Target (sent directed ads based on motherhood predictions)"
   ]
  },
  {
   "cell_type": "markdown",
   "metadata": {
    "slideshow": {
     "slide_type": "fragment"
    }
   },
   "source": [
    "<a id=\"explicit-data-vs-implicit-data\"></a>\n",
    "### Explicit data vs Implicit data\n",
    "\n",
    "#### Explicit\n",
    "- Explicity given/pro-actively acquired\n",
    "- Clear signals\n",
    "- Cost associated with acquisition (time/cognitive)\n",
    "- Limited and sparse data because of this\n",
    "\n",
    "\n",
    "#### Implicit\n",
    "- Provided/collected passively (digital exhaust)\n",
    "- Signals can be difficult to interpret\n",
    "- Enormous quantities"
   ]
  },
  {
   "cell_type": "markdown",
   "metadata": {
    "slideshow": {
     "slide_type": "slide"
    }
   },
   "source": [
    "<a id=\"two-classical-recommendation-methods\"></a>\n",
    "### Two classical recommendation methods\n",
    "\n",
    "- **Collaborative Filtering**: _(similar people)_\n",
    "    - If you like the same 5 movies as someone else, you'll likely enjoy other movies they like.\n",
    "    - There are two main types: (a) Find users who are similar and recommend what they like (**user-based**), or (b) recommend items that are similar to already-liked items (**item-based**).\n",
    "   \n",
    "\n",
    "- **Content-Based Filtering** _(similar items)_\n",
    "    - If you enjoy certain characteristics of movies (e.g. certain actors, genre, etc.), you'll enjoy other movies with those characteristics.\n",
    "    - Note this can easily be done using machine learning methods! Each movie can be decomposed into features. Then, for each user we compute a model -- the target can be a binary classifier (e.g. \"LIKE\"/\"DISLIKE\") or regression (e.g. star rating)."
   ]
  },
  {
   "cell_type": "markdown",
   "metadata": {
    "slideshow": {
     "slide_type": "slide"
    }
   },
   "source": [
    "<a id=\"user-based-collaborative-filtering\"></a>\n",
    "## User-based Collaborative Filtering\n",
    "---\n",
    "\n",
    "We'll first look at user-based filtering. The idea behind this method is finding your taste **doppelgänger**. This is the person who is most similar to you based upon the ratings both of you have given to a mix of products."
   ]
  },
  {
   "cell_type": "markdown",
   "metadata": {
    "slideshow": {
     "slide_type": "slide"
    }
   },
   "source": [
    "<a id=\"so-lets-see-how-we-construct-it\"></a>\n",
    "## So, let's see how we construct it\n",
    "\n",
    "We begin with what's called a utility matrix. This is a **user** (rows) x **product** (columns) matrix."
   ]
  },
  {
   "cell_type": "code",
<<<<<<< Updated upstream
<<<<<<< Updated upstream
   "execution_count": 10,
=======
   "execution_count": 8,
>>>>>>> Stashed changes
=======
   "execution_count": 8,
>>>>>>> Stashed changes
   "metadata": {},
   "outputs": [
    {
     "data": {
      "text/html": [
       "<div>\n",
       "<style scoped>\n",
       "    .dataframe tbody tr th:only-of-type {\n",
       "        vertical-align: middle;\n",
       "    }\n",
       "\n",
       "    .dataframe tbody tr th {\n",
       "        vertical-align: top;\n",
       "    }\n",
       "\n",
       "    .dataframe thead th {\n",
       "        text-align: right;\n",
       "    }\n",
       "</style>\n",
       "<table border=\"1\" class=\"dataframe\">\n",
       "  <thead>\n",
       "    <tr style=\"text-align: right;\">\n",
       "      <th></th>\n",
       "      <th>Friday the 13th</th>\n",
       "      <th>Nightmare on Elm St</th>\n",
       "      <th>Dawn of the Dead</th>\n",
       "      <th>Hiro Dreams of Sushi</th>\n",
       "      <th>180 South</th>\n",
       "      <th>Exit Through the Giftshop</th>\n",
       "    </tr>\n",
       "    <tr>\n",
       "      <th>user</th>\n",
       "      <th></th>\n",
       "      <th></th>\n",
       "      <th></th>\n",
       "      <th></th>\n",
       "      <th></th>\n",
       "      <th></th>\n",
       "    </tr>\n",
       "  </thead>\n",
       "  <tbody>\n",
       "    <tr>\n",
<<<<<<< Updated upstream
<<<<<<< Updated upstream
       "      <td>Chuck</td>\n",
=======
       "      <th>Chuck</th>\n",
>>>>>>> Stashed changes
=======
       "      <th>Chuck</th>\n",
>>>>>>> Stashed changes
       "      <td>5</td>\n",
       "      <td>4.0</td>\n",
       "      <td>NaN</td>\n",
       "      <td>NaN</td>\n",
       "      <td>NaN</td>\n",
       "      <td>1.0</td>\n",
       "    </tr>\n",
       "    <tr>\n",
<<<<<<< Updated upstream
<<<<<<< Updated upstream
       "      <td>Nancy</td>\n",
=======
       "      <th>Nancy</th>\n",
>>>>>>> Stashed changes
=======
       "      <th>Nancy</th>\n",
>>>>>>> Stashed changes
       "      <td>5</td>\n",
       "      <td>NaN</td>\n",
       "      <td>4.0</td>\n",
       "      <td>NaN</td>\n",
       "      <td>2.0</td>\n",
       "      <td>NaN</td>\n",
       "    </tr>\n",
       "    <tr>\n",
<<<<<<< Updated upstream
<<<<<<< Updated upstream
       "      <td>Anya</td>\n",
=======
       "      <th>Anya</th>\n",
>>>>>>> Stashed changes
=======
       "      <th>Anya</th>\n",
>>>>>>> Stashed changes
       "      <td>4</td>\n",
       "      <td>5.0</td>\n",
       "      <td>5.0</td>\n",
       "      <td>NaN</td>\n",
       "      <td>1.0</td>\n",
       "      <td>NaN</td>\n",
       "    </tr>\n",
       "    <tr>\n",
<<<<<<< Updated upstream
<<<<<<< Updated upstream
       "      <td>Divya</td>\n",
=======
       "      <th>Divya</th>\n",
>>>>>>> Stashed changes
=======
       "      <th>Divya</th>\n",
>>>>>>> Stashed changes
       "      <td>1</td>\n",
       "      <td>NaN</td>\n",
       "      <td>2.0</td>\n",
       "      <td>5.0</td>\n",
       "      <td>4.0</td>\n",
       "      <td>5.0</td>\n",
       "    </tr>\n",
       "    <tr>\n",
<<<<<<< Updated upstream
<<<<<<< Updated upstream
       "      <td>Pat</td>\n",
=======
       "      <th>Pat</th>\n",
>>>>>>> Stashed changes
=======
       "      <th>Pat</th>\n",
>>>>>>> Stashed changes
       "      <td>1</td>\n",
       "      <td>1.0</td>\n",
       "      <td>1.0</td>\n",
       "      <td>NaN</td>\n",
       "      <td>3.0</td>\n",
       "      <td>4.0</td>\n",
       "    </tr>\n",
       "  </tbody>\n",
       "</table>\n",
       "</div>"
      ],
      "text/plain": [
       "       Friday the 13th  Nightmare on Elm St  Dawn of the Dead  \\\n",
       "user                                                            \n",
       "Chuck                5                  4.0               NaN   \n",
       "Nancy                5                  NaN               4.0   \n",
       "Anya                 4                  5.0               5.0   \n",
       "Divya                1                  NaN               2.0   \n",
       "Pat                  1                  1.0               1.0   \n",
       "\n",
       "       Hiro Dreams of Sushi  180 South  Exit Through the Giftshop  \n",
       "user                                                               \n",
       "Chuck                   NaN        NaN                        1.0  \n",
       "Nancy                   NaN        2.0                        NaN  \n",
       "Anya                    NaN        1.0                        NaN  \n",
       "Divya                   5.0        4.0                        5.0  \n",
       "Pat                     NaN        3.0                        4.0  "
      ]
     },
<<<<<<< Updated upstream
<<<<<<< Updated upstream
     "execution_count": 10,
=======
     "execution_count": 8,
>>>>>>> Stashed changes
=======
     "execution_count": 8,
>>>>>>> Stashed changes
     "metadata": {},
     "output_type": "execute_result"
    }
   ],
   "source": [
    "movies = [\"user\", \"Friday the 13th\", \"Nightmare on Elm St\", \"Dawn of the Dead\", \"Hiro Dreams of Sushi\", \"180 South\", \"Exit Through the Giftshop\"]\n",
    "users = [\n",
    "    (\"Chuck\", 5, 4, None, None, None, 1),\n",
    "    (\"Nancy\", 5, None, 4, None, 2, None),\n",
    "    (\"Anya\", 4, 5, 5, None, 1, None),\n",
    "    (\"Divya\", 1, None, 2, 5, 4, 5),\n",
    "    (\"Pat\", 1, 1, 1, None, 3, 4),\n",
    "]\n",
    "\n",
    "users = pd.DataFrame(users, columns=movies)\n",
    "users = users.set_index(\"user\")\n",
    "users"
   ]
  },
  {
   "cell_type": "markdown",
   "metadata": {
    "slideshow": {
     "slide_type": "slide"
    }
   },
   "source": [
    "***Check:*** If we want to find the most similar users, what do we need?"
   ]
  },
  {
   "cell_type": "markdown",
   "metadata": {
    "slideshow": {
     "slide_type": "fragment"
    }
   },
   "source": [
    "<a id=\"formula\"></a>\n",
    "If we want to find the users most similar to user A, we need a **similarity metric**.\n",
    "\n",
    "One metric we can use is **cosine similarity**. Cosine similarity uses the cosine between two vectors to compute a scalar value that represents how closely related these vectors are. \n",
    "\n",
    "## $$\n",
    "cos(\\theta) = \\frac{\\vec{Chuck} \\cdot \\vec{Nancy}}{\\left\\| \\vec{Chuck}\\right\\| \\left\\| \\vec{Nancy}\\right\\| } \\\n",
    "= \\frac{\\sum{Chuck_i Nancy_i}}{\\sqrt{\\sum{Chuck_i^2}}\\sqrt{\\sum{Nancy_i^2}}}\n",
    "$$\n",
    "\n",
    "- Angle of $0^{\\circ}$ (same direction): $\\cos(0^{\\circ}) = 1$. Perfectly similar.\n",
    "- Angle of $90^{\\circ}$ (orthogonal): $\\cos(90^{\\circ}) = 0$. Totally dissimilar.\n",
    "- Angle of $180^{\\circ}$ (opposite direction): $\\cos(90^{\\circ}) = -1$. Opposite.\n",
    "\n",
    "\n",
    "Doesn't this sound a lot like the correlation coefficient? It turns out that cosine similarity is identical to the **uncentered correlation coefficient**! As a bonus, if the points are mean-centered, then this formula also depicts the **Pearson correlation coefficient**."
   ]
  },
  {
   "cell_type": "markdown",
   "metadata": {},
   "source": [
    "<a id=\"cosine-similarity-using-sci-kit-learn\"></a>\n",
    "## Cosine similarity using sci-kit learn\n",
    "\n",
    "With that, let's calculate the cosine similarity of A against all other users. We'll start with B. We have a sparse matrix with lot's of missing values... what should we do?"
   ]
  },
  {
   "cell_type": "code",
<<<<<<< Updated upstream
<<<<<<< Updated upstream
   "execution_count": 3,
=======
   "execution_count": 9,
>>>>>>> Stashed changes
=======
   "execution_count": 9,
>>>>>>> Stashed changes
   "metadata": {},
   "outputs": [
    {
     "data": {
      "text/html": [
       "<div>\n",
       "<style scoped>\n",
       "    .dataframe tbody tr th:only-of-type {\n",
       "        vertical-align: middle;\n",
       "    }\n",
       "\n",
       "    .dataframe tbody tr th {\n",
       "        vertical-align: top;\n",
       "    }\n",
       "\n",
       "    .dataframe thead th {\n",
       "        text-align: right;\n",
       "    }\n",
       "</style>\n",
       "<table border=\"1\" class=\"dataframe\">\n",
       "  <thead>\n",
       "    <tr style=\"text-align: right;\">\n",
       "      <th></th>\n",
       "      <th>Friday the 13th</th>\n",
       "      <th>Nightmare on Elm St</th>\n",
       "      <th>Dawn of the Dead</th>\n",
       "      <th>Hiro Dreams of Sushi</th>\n",
       "      <th>180 South</th>\n",
       "      <th>Exit Through the Giftshop</th>\n",
       "    </tr>\n",
       "    <tr>\n",
       "      <th>user</th>\n",
       "      <th></th>\n",
       "      <th></th>\n",
       "      <th></th>\n",
       "      <th></th>\n",
       "      <th></th>\n",
       "      <th></th>\n",
       "    </tr>\n",
       "  </thead>\n",
       "  <tbody>\n",
       "    <tr>\n",
<<<<<<< Updated upstream
<<<<<<< Updated upstream
       "      <td>Chuck</td>\n",
=======
       "      <th>Chuck</th>\n",
>>>>>>> Stashed changes
=======
       "      <th>Chuck</th>\n",
>>>>>>> Stashed changes
       "      <td>5</td>\n",
       "      <td>4.0</td>\n",
       "      <td>NaN</td>\n",
       "      <td>NaN</td>\n",
       "      <td>NaN</td>\n",
       "      <td>1.0</td>\n",
       "    </tr>\n",
       "    <tr>\n",
<<<<<<< Updated upstream
<<<<<<< Updated upstream
       "      <td>Nancy</td>\n",
=======
       "      <th>Nancy</th>\n",
>>>>>>> Stashed changes
=======
       "      <th>Nancy</th>\n",
>>>>>>> Stashed changes
       "      <td>5</td>\n",
       "      <td>NaN</td>\n",
       "      <td>4.0</td>\n",
       "      <td>NaN</td>\n",
       "      <td>2.0</td>\n",
       "      <td>NaN</td>\n",
       "    </tr>\n",
       "    <tr>\n",
<<<<<<< Updated upstream
<<<<<<< Updated upstream
       "      <td>Anya</td>\n",
=======
       "      <th>Anya</th>\n",
>>>>>>> Stashed changes
=======
       "      <th>Anya</th>\n",
>>>>>>> Stashed changes
       "      <td>4</td>\n",
       "      <td>5.0</td>\n",
       "      <td>5.0</td>\n",
       "      <td>NaN</td>\n",
       "      <td>1.0</td>\n",
       "      <td>NaN</td>\n",
       "    </tr>\n",
       "    <tr>\n",
<<<<<<< Updated upstream
<<<<<<< Updated upstream
       "      <td>Divya</td>\n",
=======
       "      <th>Divya</th>\n",
>>>>>>> Stashed changes
=======
       "      <th>Divya</th>\n",
>>>>>>> Stashed changes
       "      <td>1</td>\n",
       "      <td>NaN</td>\n",
       "      <td>2.0</td>\n",
       "      <td>5.0</td>\n",
       "      <td>4.0</td>\n",
       "      <td>5.0</td>\n",
       "    </tr>\n",
       "    <tr>\n",
<<<<<<< Updated upstream
<<<<<<< Updated upstream
       "      <td>Pat</td>\n",
=======
       "      <th>Pat</th>\n",
>>>>>>> Stashed changes
=======
       "      <th>Pat</th>\n",
>>>>>>> Stashed changes
       "      <td>1</td>\n",
       "      <td>1.0</td>\n",
       "      <td>1.0</td>\n",
       "      <td>NaN</td>\n",
       "      <td>3.0</td>\n",
       "      <td>4.0</td>\n",
       "    </tr>\n",
       "  </tbody>\n",
       "</table>\n",
       "</div>"
      ],
      "text/plain": [
       "       Friday the 13th  Nightmare on Elm St  Dawn of the Dead  \\\n",
       "user                                                            \n",
       "Chuck                5                  4.0               NaN   \n",
       "Nancy                5                  NaN               4.0   \n",
       "Anya                 4                  5.0               5.0   \n",
       "Divya                1                  NaN               2.0   \n",
       "Pat                  1                  1.0               1.0   \n",
       "\n",
       "       Hiro Dreams of Sushi  180 South  Exit Through the Giftshop  \n",
       "user                                                               \n",
       "Chuck                   NaN        NaN                        1.0  \n",
       "Nancy                   NaN        2.0                        NaN  \n",
       "Anya                    NaN        1.0                        NaN  \n",
       "Divya                   5.0        4.0                        5.0  \n",
       "Pat                     NaN        3.0                        4.0  "
      ]
     },
<<<<<<< Updated upstream
<<<<<<< Updated upstream
     "execution_count": 3,
=======
     "execution_count": 9,
>>>>>>> Stashed changes
=======
     "execution_count": 9,
>>>>>>> Stashed changes
     "metadata": {},
     "output_type": "execute_result"
    }
   ],
   "source": [
    "users"
   ]
  },
  {
   "cell_type": "code",
<<<<<<< Updated upstream
<<<<<<< Updated upstream
   "execution_count": 8,
=======
   "execution_count": 14,
>>>>>>> Stashed changes
=======
   "execution_count": 14,
>>>>>>> Stashed changes
   "metadata": {},
   "outputs": [
    {
     "data": {
      "text/html": [
       "<div>\n",
       "<style scoped>\n",
       "    .dataframe tbody tr th:only-of-type {\n",
       "        vertical-align: middle;\n",
       "    }\n",
       "\n",
       "    .dataframe tbody tr th {\n",
       "        vertical-align: top;\n",
       "    }\n",
       "\n",
       "    .dataframe thead th {\n",
       "        text-align: right;\n",
       "    }\n",
       "</style>\n",
       "<table border=\"1\" class=\"dataframe\">\n",
       "  <thead>\n",
       "    <tr style=\"text-align: right;\">\n",
       "      <th></th>\n",
       "      <th>Friday the 13th</th>\n",
       "      <th>Nightmare on Elm St</th>\n",
       "      <th>Dawn of the Dead</th>\n",
       "      <th>Hiro Dreams of Sushi</th>\n",
       "      <th>180 South</th>\n",
       "      <th>Exit Through the Giftshop</th>\n",
       "    </tr>\n",
       "    <tr>\n",
       "      <th>user</th>\n",
       "      <th></th>\n",
       "      <th></th>\n",
       "      <th></th>\n",
       "      <th></th>\n",
       "      <th></th>\n",
       "      <th></th>\n",
       "    </tr>\n",
       "  </thead>\n",
       "  <tbody>\n",
       "    <tr>\n",
<<<<<<< Updated upstream
<<<<<<< Updated upstream
       "      <td>Chuck</td>\n",
=======
       "      <th>Chuck</th>\n",
>>>>>>> Stashed changes
=======
       "      <th>Chuck</th>\n",
>>>>>>> Stashed changes
       "      <td>1.666667</td>\n",
       "      <td>0.666667</td>\n",
       "      <td>NaN</td>\n",
       "      <td>NaN</td>\n",
       "      <td>NaN</td>\n",
       "      <td>-2.333333</td>\n",
       "    </tr>\n",
       "    <tr>\n",
<<<<<<< Updated upstream
<<<<<<< Updated upstream
       "      <td>Nancy</td>\n",
=======
       "      <th>Nancy</th>\n",
>>>>>>> Stashed changes
=======
       "      <th>Nancy</th>\n",
>>>>>>> Stashed changes
       "      <td>1.333333</td>\n",
       "      <td>NaN</td>\n",
       "      <td>0.333333</td>\n",
       "      <td>NaN</td>\n",
       "      <td>-1.666667</td>\n",
       "      <td>NaN</td>\n",
       "    </tr>\n",
       "    <tr>\n",
<<<<<<< Updated upstream
<<<<<<< Updated upstream
       "      <td>Anya</td>\n",
=======
       "      <th>Anya</th>\n",
>>>>>>> Stashed changes
=======
       "      <th>Anya</th>\n",
>>>>>>> Stashed changes
       "      <td>0.250000</td>\n",
       "      <td>1.250000</td>\n",
       "      <td>1.250000</td>\n",
       "      <td>NaN</td>\n",
       "      <td>-2.750000</td>\n",
       "      <td>NaN</td>\n",
       "    </tr>\n",
       "    <tr>\n",
<<<<<<< Updated upstream
<<<<<<< Updated upstream
       "      <td>Divya</td>\n",
=======
       "      <th>Divya</th>\n",
>>>>>>> Stashed changes
=======
       "      <th>Divya</th>\n",
>>>>>>> Stashed changes
       "      <td>-2.400000</td>\n",
       "      <td>NaN</td>\n",
       "      <td>-1.400000</td>\n",
       "      <td>1.6</td>\n",
       "      <td>0.600000</td>\n",
       "      <td>1.600000</td>\n",
       "    </tr>\n",
       "    <tr>\n",
<<<<<<< Updated upstream
<<<<<<< Updated upstream
       "      <td>Pat</td>\n",
=======
       "      <th>Pat</th>\n",
>>>>>>> Stashed changes
=======
       "      <th>Pat</th>\n",
>>>>>>> Stashed changes
       "      <td>-1.000000</td>\n",
       "      <td>-1.000000</td>\n",
       "      <td>-1.000000</td>\n",
       "      <td>NaN</td>\n",
       "      <td>1.000000</td>\n",
       "      <td>2.000000</td>\n",
       "    </tr>\n",
       "  </tbody>\n",
       "</table>\n",
       "</div>"
      ],
      "text/plain": [
       "       Friday the 13th  Nightmare on Elm St  Dawn of the Dead  \\\n",
       "user                                                            \n",
       "Chuck         1.666667             0.666667               NaN   \n",
       "Nancy         1.333333                  NaN          0.333333   \n",
       "Anya          0.250000             1.250000          1.250000   \n",
       "Divya        -2.400000                  NaN         -1.400000   \n",
       "Pat          -1.000000            -1.000000         -1.000000   \n",
       "\n",
       "       Hiro Dreams of Sushi  180 South  Exit Through the Giftshop  \n",
       "user                                                               \n",
       "Chuck                   NaN        NaN                  -2.333333  \n",
       "Nancy                   NaN  -1.666667                        NaN  \n",
       "Anya                    NaN  -2.750000                        NaN  \n",
       "Divya                   1.6   0.600000                   1.600000  \n",
       "Pat                     NaN   1.000000                   2.000000  "
      ]
     },
<<<<<<< Updated upstream
<<<<<<< Updated upstream
     "execution_count": 8,
=======
     "execution_count": 14,
>>>>>>> Stashed changes
=======
     "execution_count": 14,
>>>>>>> Stashed changes
     "metadata": {},
     "output_type": "execute_result"
    }
   ],
   "source": [
    "# De-mean the rows to \"normalize\" each user's reviews\n",
    "# Why?  We want to make \"0\" a neutral value\n",
    "# This can be called \"mean-centering\"\n",
    "def mean_center_rows(df):\n",
<<<<<<< Updated upstream
<<<<<<< Updated upstream
    "    return (df.T - df.mean(axis=1)).T\n",
    "\n",
    "users_mc = mean_center_rows(users)\n",
=======
    "    return(df.T-df.mean(axis=1)).T\n",
    "users_mc= mean_center_rows(users)\n",
>>>>>>> Stashed changes
=======
    "    return(df.T-df.mean(axis=1)).T\n",
    "users_mc= mean_center_rows(users)\n",
>>>>>>> Stashed changes
    "users_mc"
   ]
  },
  {
   "cell_type": "markdown",
   "metadata": {},
   "source": [
    "Now let's calculate the (cosine) similarity for...\n",
    "\n",
    "1. Chuck vs. Nancy\n",
    "2. Chuck vs. Divya\n",
    "\n",
    "Do these results make sense??"
   ]
  },
  {
   "cell_type": "code",
<<<<<<< Updated upstream
<<<<<<< Updated upstream
   "execution_count": 13,
   "metadata": {},
   "outputs": [],
   "source": [
    "users_mc.fillna(0, inplace=True)"
=======
   "execution_count": 15,
   "metadata": {},
   "outputs": [],
   "source": [
    "users_mc.fillna(0,inplace=True)"
>>>>>>> Stashed changes
=======
   "execution_count": 15,
   "metadata": {},
   "outputs": [],
   "source": [
    "users_mc.fillna(0,inplace=True)"
>>>>>>> Stashed changes
   ]
  },
  {
   "cell_type": "code",
   "execution_count": 17,
   "metadata": {},
   "outputs": [
    {
     "data": {
      "text/plain": [
       "array([[ 1.66666667,  0.66666667,  0.        ,  0.        ,  0.        ,\n",
       "        -2.33333333]])"
      ]
     },
     "execution_count": 17,
     "metadata": {},
     "output_type": "execute_result"
    }
   ],
   "source": [
    "users_mc.loc['Chuck',:].values.reshape(1,-1)"
   ]
  },
  {
   "cell_type": "code",
<<<<<<< Updated upstream
<<<<<<< Updated upstream
   "execution_count": 14,
=======
   "execution_count": 16,
>>>>>>> Stashed changes
=======
   "execution_count": 16,
>>>>>>> Stashed changes
   "metadata": {},
   "outputs": [
    {
     "name": "stdout",
     "output_type": "stream",
     "text": [
      "Chuck vs. Nancy =  [[0.34942828]]\n",
      "Chuck vs. Divya =  [[-0.72302567]]\n"
     ]
    }
   ],
   "source": [
    "Chuck_mc = users_mc.loc['Chuck',:].values.reshape(1,-1)\n",
    "Nancy_mc = users_mc.loc['Nancy',:].values.reshape(1,-1)\n",
    "Divya_mc = users_mc.loc['Divya',:].values.reshape(1,-1)\n",
    "\n",
    "print('Chuck vs. Nancy = ', cosine_similarity(Chuck_mc, Nancy_mc))\n",
    "print('Chuck vs. Divya = ', cosine_similarity(Chuck_mc, Divya_mc))"
   ]
  },
  {
   "cell_type": "markdown",
   "metadata": {},
   "source": [
    "Next let's get the similarities between _all_ users."
   ]
  },
  {
   "cell_type": "code",
<<<<<<< Updated upstream
<<<<<<< Updated upstream
   "execution_count": 18,
=======
   "execution_count": 19,
>>>>>>> Stashed changes
=======
   "execution_count": 19,
>>>>>>> Stashed changes
   "metadata": {},
   "outputs": [
    {
     "data": {
      "text/html": [
       "<div>\n",
       "<style scoped>\n",
       "    .dataframe tbody tr th:only-of-type {\n",
       "        vertical-align: middle;\n",
       "    }\n",
       "\n",
       "    .dataframe tbody tr th {\n",
       "        vertical-align: top;\n",
       "    }\n",
       "\n",
       "    .dataframe thead th {\n",
       "        text-align: right;\n",
       "    }\n",
       "</style>\n",
       "<table border=\"1\" class=\"dataframe\">\n",
       "  <thead>\n",
       "    <tr style=\"text-align: right;\">\n",
       "      <th>user</th>\n",
       "      <th>Chuck</th>\n",
       "      <th>Nancy</th>\n",
       "      <th>Anya</th>\n",
       "      <th>Divya</th>\n",
       "      <th>Pat</th>\n",
       "    </tr>\n",
       "    <tr>\n",
       "      <th>user</th>\n",
       "      <th></th>\n",
       "      <th></th>\n",
       "      <th></th>\n",
       "      <th></th>\n",
       "      <th></th>\n",
       "    </tr>\n",
       "  </thead>\n",
       "  <tbody>\n",
       "    <tr>\n",
<<<<<<< Updated upstream
<<<<<<< Updated upstream
       "      <td>Chuck</td>\n",
=======
       "      <th>Chuck</th>\n",
>>>>>>> Stashed changes
=======
       "      <th>Chuck</th>\n",
>>>>>>> Stashed changes
       "      <td>1.000000</td>\n",
       "      <td>0.349428</td>\n",
       "      <td>0.129503</td>\n",
       "      <td>-0.723026</td>\n",
       "      <td>-0.840673</td>\n",
       "    </tr>\n",
       "    <tr>\n",
<<<<<<< Updated upstream
<<<<<<< Updated upstream
       "      <td>Nancy</td>\n",
=======
       "      <th>Nancy</th>\n",
>>>>>>> Stashed changes
=======
       "      <th>Nancy</th>\n",
>>>>>>> Stashed changes
       "      <td>0.349428</td>\n",
       "      <td>1.000000</td>\n",
       "      <td>0.752993</td>\n",
       "      <td>-0.594588</td>\n",
       "      <td>-0.545545</td>\n",
       "    </tr>\n",
       "    <tr>\n",
<<<<<<< Updated upstream
<<<<<<< Updated upstream
       "      <td>Anya</td>\n",
=======
       "      <th>Anya</th>\n",
>>>>>>> Stashed changes
=======
       "      <th>Anya</th>\n",
>>>>>>> Stashed changes
       "      <td>0.129503</td>\n",
       "      <td>0.752993</td>\n",
       "      <td>1.000000</td>\n",
       "      <td>-0.335791</td>\n",
       "      <td>-0.593080</td>\n",
       "    </tr>\n",
       "    <tr>\n",
<<<<<<< Updated upstream
<<<<<<< Updated upstream
       "      <td>Divya</td>\n",
=======
       "      <th>Divya</th>\n",
>>>>>>> Stashed changes
=======
       "      <th>Divya</th>\n",
>>>>>>> Stashed changes
       "      <td>-0.723026</td>\n",
       "      <td>-0.594588</td>\n",
       "      <td>-0.335791</td>\n",
       "      <td>1.000000</td>\n",
       "      <td>0.739574</td>\n",
       "    </tr>\n",
       "    <tr>\n",
<<<<<<< Updated upstream
<<<<<<< Updated upstream
       "      <td>Pat</td>\n",
=======
       "      <th>Pat</th>\n",
>>>>>>> Stashed changes
=======
       "      <th>Pat</th>\n",
>>>>>>> Stashed changes
       "      <td>-0.840673</td>\n",
       "      <td>-0.545545</td>\n",
       "      <td>-0.593080</td>\n",
       "      <td>0.739574</td>\n",
       "      <td>1.000000</td>\n",
       "    </tr>\n",
       "  </tbody>\n",
       "</table>\n",
       "</div>"
      ],
      "text/plain": [
       "user      Chuck     Nancy      Anya     Divya       Pat\n",
       "user                                                   \n",
       "Chuck  1.000000  0.349428  0.129503 -0.723026 -0.840673\n",
       "Nancy  0.349428  1.000000  0.752993 -0.594588 -0.545545\n",
       "Anya   0.129503  0.752993  1.000000 -0.335791 -0.593080\n",
       "Divya -0.723026 -0.594588 -0.335791  1.000000  0.739574\n",
       "Pat   -0.840673 -0.545545 -0.593080  0.739574  1.000000"
      ]
     },
<<<<<<< Updated upstream
<<<<<<< Updated upstream
     "execution_count": 18,
=======
     "execution_count": 19,
>>>>>>> Stashed changes
=======
     "execution_count": 19,
>>>>>>> Stashed changes
     "metadata": {},
     "output_type": "execute_result"
    }
   ],
   "source": [
    "sim_matrix = cosine_similarity(users_mc)\n",
<<<<<<< Updated upstream
<<<<<<< Updated upstream
    "users_sim = pd.DataFrame(sim_matrix, columns = users_mc.index, index = users_mc.index)\n",
=======
    "users_sim=pd.DataFrame(sim_matrix,columns=users_mc.index,index=users_mc.index)\n",
>>>>>>> Stashed changes
=======
    "users_sim=pd.DataFrame(sim_matrix,columns=users_mc.index,index=users_mc.index)\n",
>>>>>>> Stashed changes
    "users_sim"
   ]
  },
  {
   "cell_type": "code",
<<<<<<< Updated upstream
<<<<<<< Updated upstream
   "execution_count": 19,
=======
   "execution_count": 26,
>>>>>>> Stashed changes
=======
   "execution_count": 26,
>>>>>>> Stashed changes
   "metadata": {},
   "outputs": [
    {
     "data": {
      "text/plain": [
<<<<<<< Updated upstream
<<<<<<< Updated upstream
       "<matplotlib.axes._subplots.AxesSubplot at 0x240559c2a20>"
      ]
     },
     "execution_count": 19,
=======
=======
>>>>>>> Stashed changes
       "(5.0, 0.0)"
      ]
     },
     "execution_count": 26,
<<<<<<< Updated upstream
>>>>>>> Stashed changes
=======
>>>>>>> Stashed changes
     "metadata": {},
     "output_type": "execute_result"
    },
    {
     "data": {
<<<<<<< Updated upstream
<<<<<<< Updated upstream
      "image/png": "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\n",
      "text/plain": [
       "<Figure size 432x288 with 2 Axes>"
      ]
     },
     "metadata": {},
=======
=======
>>>>>>> Stashed changes
      "image/png": "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\n",
      "text/plain": [
       "<Figure size 360x360 with 2 Axes>"
      ]
     },
     "metadata": {
      "needs_background": "light"
     },
<<<<<<< Updated upstream
>>>>>>> Stashed changes
=======
>>>>>>> Stashed changes
     "output_type": "display_data"
    }
   ],
   "source": [
<<<<<<< Updated upstream
<<<<<<< Updated upstream
    "sns.heatmap(users_sim, annot=True, cmap='coolwarm')"
=======
=======
>>>>>>> Stashed changes
    "fig, ax = plt.subplots(figsize=(5,5))\n",
    "ax=sns.heatmap(users_sim,annot=True,cmap='coolwarm')\n",
    "bottom, top = ax.get_ylim()\n",
    "ax.set_ylim(bottom + 0.5, top - 0.5)   #there is a bug, so need to set ur own limits"
<<<<<<< Updated upstream
>>>>>>> Stashed changes
=======
>>>>>>> Stashed changes
   ]
  },
  {
   "cell_type": "markdown",
   "metadata": {
    "slideshow": {
     "slide_type": "slide"
    }
   },
   "source": [
    "<a id=\"but-how-do-we-predict-the-rating-of-an-item-for-a-user\"></a>\n",
    "## But how do we predict the rating of an item for a user?"
   ]
  },
  {
   "cell_type": "code",
<<<<<<< Updated upstream
<<<<<<< Updated upstream
   "execution_count": 20,
=======
   "execution_count": 27,
>>>>>>> Stashed changes
=======
   "execution_count": 27,
>>>>>>> Stashed changes
   "metadata": {},
   "outputs": [
    {
     "data": {
      "text/html": [
       "<div>\n",
       "<style scoped>\n",
       "    .dataframe tbody tr th:only-of-type {\n",
       "        vertical-align: middle;\n",
       "    }\n",
       "\n",
       "    .dataframe tbody tr th {\n",
       "        vertical-align: top;\n",
       "    }\n",
       "\n",
       "    .dataframe thead th {\n",
       "        text-align: right;\n",
       "    }\n",
       "</style>\n",
       "<table border=\"1\" class=\"dataframe\">\n",
       "  <thead>\n",
       "    <tr style=\"text-align: right;\">\n",
       "      <th></th>\n",
       "      <th>Friday the 13th</th>\n",
       "      <th>Nightmare on Elm St</th>\n",
       "      <th>Dawn of the Dead</th>\n",
       "      <th>Hiro Dreams of Sushi</th>\n",
       "      <th>180 South</th>\n",
       "      <th>Exit Through the Giftshop</th>\n",
       "    </tr>\n",
       "    <tr>\n",
       "      <th>user</th>\n",
       "      <th></th>\n",
       "      <th></th>\n",
       "      <th></th>\n",
       "      <th></th>\n",
       "      <th></th>\n",
       "      <th></th>\n",
       "    </tr>\n",
       "  </thead>\n",
       "  <tbody>\n",
       "    <tr>\n",
<<<<<<< Updated upstream
<<<<<<< Updated upstream
       "      <td>Chuck</td>\n",
=======
       "      <th>Chuck</th>\n",
>>>>>>> Stashed changes
=======
       "      <th>Chuck</th>\n",
>>>>>>> Stashed changes
       "      <td>5</td>\n",
       "      <td>4.0</td>\n",
       "      <td>NaN</td>\n",
       "      <td>NaN</td>\n",
       "      <td>NaN</td>\n",
       "      <td>1.0</td>\n",
       "    </tr>\n",
       "    <tr>\n",
<<<<<<< Updated upstream
<<<<<<< Updated upstream
       "      <td>Nancy</td>\n",
=======
       "      <th>Nancy</th>\n",
>>>>>>> Stashed changes
=======
       "      <th>Nancy</th>\n",
>>>>>>> Stashed changes
       "      <td>5</td>\n",
       "      <td>NaN</td>\n",
       "      <td>4.0</td>\n",
       "      <td>NaN</td>\n",
       "      <td>2.0</td>\n",
       "      <td>NaN</td>\n",
       "    </tr>\n",
       "    <tr>\n",
<<<<<<< Updated upstream
<<<<<<< Updated upstream
       "      <td>Anya</td>\n",
=======
       "      <th>Anya</th>\n",
>>>>>>> Stashed changes
=======
       "      <th>Anya</th>\n",
>>>>>>> Stashed changes
       "      <td>4</td>\n",
       "      <td>5.0</td>\n",
       "      <td>5.0</td>\n",
       "      <td>NaN</td>\n",
       "      <td>1.0</td>\n",
       "      <td>NaN</td>\n",
       "    </tr>\n",
       "    <tr>\n",
<<<<<<< Updated upstream
<<<<<<< Updated upstream
       "      <td>Divya</td>\n",
=======
       "      <th>Divya</th>\n",
>>>>>>> Stashed changes
=======
       "      <th>Divya</th>\n",
>>>>>>> Stashed changes
       "      <td>1</td>\n",
       "      <td>NaN</td>\n",
       "      <td>2.0</td>\n",
       "      <td>5.0</td>\n",
       "      <td>4.0</td>\n",
       "      <td>5.0</td>\n",
       "    </tr>\n",
       "    <tr>\n",
<<<<<<< Updated upstream
<<<<<<< Updated upstream
       "      <td>Pat</td>\n",
=======
       "      <th>Pat</th>\n",
>>>>>>> Stashed changes
=======
       "      <th>Pat</th>\n",
>>>>>>> Stashed changes
       "      <td>1</td>\n",
       "      <td>1.0</td>\n",
       "      <td>1.0</td>\n",
       "      <td>NaN</td>\n",
       "      <td>3.0</td>\n",
       "      <td>4.0</td>\n",
       "    </tr>\n",
       "  </tbody>\n",
       "</table>\n",
       "</div>"
      ],
      "text/plain": [
       "       Friday the 13th  Nightmare on Elm St  Dawn of the Dead  \\\n",
       "user                                                            \n",
       "Chuck                5                  4.0               NaN   \n",
       "Nancy                5                  NaN               4.0   \n",
       "Anya                 4                  5.0               5.0   \n",
       "Divya                1                  NaN               2.0   \n",
       "Pat                  1                  1.0               1.0   \n",
       "\n",
       "       Hiro Dreams of Sushi  180 South  Exit Through the Giftshop  \n",
       "user                                                               \n",
       "Chuck                   NaN        NaN                        1.0  \n",
       "Nancy                   NaN        2.0                        NaN  \n",
       "Anya                    NaN        1.0                        NaN  \n",
       "Divya                   5.0        4.0                        5.0  \n",
       "Pat                     NaN        3.0                        4.0  "
      ]
     },
<<<<<<< Updated upstream
<<<<<<< Updated upstream
     "execution_count": 20,
=======
     "execution_count": 27,
>>>>>>> Stashed changes
=======
     "execution_count": 27,
>>>>>>> Stashed changes
     "metadata": {},
     "output_type": "execute_result"
    }
   ],
   "source": [
    "users"
   ]
  },
  {
   "cell_type": "markdown",
   "metadata": {
    "slideshow": {
     "slide_type": "slide"
    }
   },
   "source": [
    "**Will Nancy like Nightmare on Elm St?**\n",
    "\n",
    "To answer this we will predict Nancy's rating using the _weighted results of the other users_.\n",
    "\n",
    "This is where a little art comes in... let's make the decision to only include users that have a positive similarity score relative to Nancy."
   ]
  },
  {
   "cell_type": "code",
   "execution_count": 28,
   "metadata": {},
   "outputs": [
    {
     "data": {
      "text/html": [
       "<div>\n",
       "<style scoped>\n",
       "    .dataframe tbody tr th:only-of-type {\n",
       "        vertical-align: middle;\n",
       "    }\n",
       "\n",
       "    .dataframe tbody tr th {\n",
       "        vertical-align: top;\n",
       "    }\n",
       "\n",
       "    .dataframe thead th {\n",
       "        text-align: right;\n",
       "    }\n",
       "</style>\n",
       "<table border=\"1\" class=\"dataframe\">\n",
       "  <thead>\n",
       "    <tr style=\"text-align: right;\">\n",
       "      <th>user</th>\n",
       "      <th>Chuck</th>\n",
       "      <th>Nancy</th>\n",
       "      <th>Anya</th>\n",
       "      <th>Divya</th>\n",
       "      <th>Pat</th>\n",
       "    </tr>\n",
       "    <tr>\n",
       "      <th>user</th>\n",
       "      <th></th>\n",
       "      <th></th>\n",
       "      <th></th>\n",
       "      <th></th>\n",
       "      <th></th>\n",
       "    </tr>\n",
       "  </thead>\n",
       "  <tbody>\n",
       "    <tr>\n",
       "      <th>Chuck</th>\n",
       "      <td>1.000000</td>\n",
       "      <td>0.349428</td>\n",
       "      <td>0.129503</td>\n",
       "      <td>-0.723026</td>\n",
       "      <td>-0.840673</td>\n",
       "    </tr>\n",
       "    <tr>\n",
       "      <th>Nancy</th>\n",
       "      <td>0.349428</td>\n",
       "      <td>1.000000</td>\n",
       "      <td>0.752993</td>\n",
       "      <td>-0.594588</td>\n",
       "      <td>-0.545545</td>\n",
       "    </tr>\n",
       "    <tr>\n",
       "      <th>Anya</th>\n",
       "      <td>0.129503</td>\n",
       "      <td>0.752993</td>\n",
       "      <td>1.000000</td>\n",
       "      <td>-0.335791</td>\n",
       "      <td>-0.593080</td>\n",
       "    </tr>\n",
       "    <tr>\n",
       "      <th>Divya</th>\n",
       "      <td>-0.723026</td>\n",
       "      <td>-0.594588</td>\n",
       "      <td>-0.335791</td>\n",
       "      <td>1.000000</td>\n",
       "      <td>0.739574</td>\n",
       "    </tr>\n",
       "    <tr>\n",
       "      <th>Pat</th>\n",
       "      <td>-0.840673</td>\n",
       "      <td>-0.545545</td>\n",
       "      <td>-0.593080</td>\n",
       "      <td>0.739574</td>\n",
       "      <td>1.000000</td>\n",
       "    </tr>\n",
       "  </tbody>\n",
       "</table>\n",
       "</div>"
      ],
      "text/plain": [
       "user      Chuck     Nancy      Anya     Divya       Pat\n",
       "user                                                   \n",
       "Chuck  1.000000  0.349428  0.129503 -0.723026 -0.840673\n",
       "Nancy  0.349428  1.000000  0.752993 -0.594588 -0.545545\n",
       "Anya   0.129503  0.752993  1.000000 -0.335791 -0.593080\n",
       "Divya -0.723026 -0.594588 -0.335791  1.000000  0.739574\n",
       "Pat   -0.840673 -0.545545 -0.593080  0.739574  1.000000"
      ]
     },
     "execution_count": 28,
     "metadata": {},
     "output_type": "execute_result"
    }
   ],
   "source": [
    "users_sim"
   ]
  },
  {
   "cell_type": "markdown",
   "metadata": {},
   "source": [
    "The gist of what we want to do is given by the following formulaL\n",
    "\n",
    "$$\\frac{(\\text{Chuck-Nancy sim})(\\text{Chuck rating}) + (\\text{Nancy-Anya sim})(\\text{Anya ratings})}{\\text{sum of similarities}}$$\n",
    "\n",
    "$$= \\frac{0.349428 \\cdot (4) + 0.129503 \\cdot (5)}{0.349428 + 0.129503} = 4.68$$\n",
    "\n",
    "Here's the procedure for recommending movie X to Nancy:\n",
    "\n",
    "1. Get Nancy's similarity scores to all other **users**.\n",
    "2. Only keep positive similarities.  (This step can be tweaked!)\n",
    "3. Convert Nancy's similarities to _weights_ by dividing each similarity by the _total_ similarity.\n",
    "4. Get all the other users' ratings for movie X.\n",
    "5. Weight each user's rating by Nancy's similarity to that user."
   ]
  },
  {
   "cell_type": "code",
<<<<<<< Updated upstream
<<<<<<< Updated upstream
   "execution_count": 21,
=======
   "execution_count": 30,
>>>>>>> Stashed changes
=======
   "execution_count": 30,
>>>>>>> Stashed changes
   "metadata": {},
   "outputs": [
    {
     "data": {
      "text/plain": [
       "user\n",
       "Chuck    0.349428\n",
       "Anya     0.752993\n",
       "Divya   -0.594588\n",
       "Pat     -0.545545\n",
       "Name: Nancy, dtype: float64"
      ]
     },
<<<<<<< Updated upstream
<<<<<<< Updated upstream
     "execution_count": 21,
=======
     "execution_count": 30,
>>>>>>> Stashed changes
=======
     "execution_count": 30,
>>>>>>> Stashed changes
     "metadata": {},
     "output_type": "execute_result"
    }
   ],
   "source": [
    "# 1-2. Get Nancy's similarity scores\n",
<<<<<<< Updated upstream
<<<<<<< Updated upstream
    "nancy_sim = users_sim['Nancy'].drop('Nancy')\n",
=======
    "nancy_sim= users_sim['Nancy'].drop('Nancy')\n",
>>>>>>> Stashed changes
=======
    "nancy_sim= users_sim['Nancy'].drop('Nancy')\n",
>>>>>>> Stashed changes
    "nancy_sim"
   ]
  },
  {
   "cell_type": "code",
<<<<<<< Updated upstream
<<<<<<< Updated upstream
   "execution_count": 22,
=======
   "execution_count": 31,
>>>>>>> Stashed changes
=======
   "execution_count": 31,
>>>>>>> Stashed changes
   "metadata": {},
   "outputs": [
    {
     "data": {
      "text/plain": [
       "user\n",
       "Chuck    0.349428\n",
       "Anya     0.752993\n",
       "Name: Nancy, dtype: float64"
      ]
     },
<<<<<<< Updated upstream
<<<<<<< Updated upstream
     "execution_count": 22,
=======
     "execution_count": 31,
>>>>>>> Stashed changes
=======
     "execution_count": 31,
>>>>>>> Stashed changes
     "metadata": {},
     "output_type": "execute_result"
    }
   ],
   "source": [
<<<<<<< Updated upstream
<<<<<<< Updated upstream
    "nancy_sim = nancy_sim[nancy_sim>0]\n",
=======
    "nancy_sim=nancy_sim[nancy_sim>0]\n",
>>>>>>> Stashed changes
=======
    "nancy_sim=nancy_sim[nancy_sim>0]\n",
>>>>>>> Stashed changes
    "nancy_sim"
   ]
  },
  {
   "cell_type": "code",
<<<<<<< Updated upstream
<<<<<<< Updated upstream
   "execution_count": 24,
=======
   "execution_count": 32,
>>>>>>> Stashed changes
=======
   "execution_count": 32,
>>>>>>> Stashed changes
   "metadata": {},
   "outputs": [
    {
     "data": {
      "text/plain": [
       "array([0.3169643, 0.6830357])"
      ]
     },
<<<<<<< Updated upstream
<<<<<<< Updated upstream
     "execution_count": 24,
=======
     "execution_count": 32,
>>>>>>> Stashed changes
=======
     "execution_count": 32,
>>>>>>> Stashed changes
     "metadata": {},
     "output_type": "execute_result"
    }
   ],
   "source": [
    "# 3. Turn Nancy's similarity scores to weights\n",
<<<<<<< Updated upstream
<<<<<<< Updated upstream
    "nancy_weights = nancy_sim.values/np.sum(nancy_sim.values)\n",
=======
    "nancy_weights=nancy_sim.values/np.sum(nancy_sim.values)\n",
>>>>>>> Stashed changes
=======
    "nancy_weights=nancy_sim.values/np.sum(nancy_sim.values)\n",
>>>>>>> Stashed changes
    "nancy_weights"
   ]
  },
  {
   "cell_type": "code",
<<<<<<< Updated upstream
<<<<<<< Updated upstream
   "execution_count": 26,
   "metadata": {},
   "outputs": [
    {
     "name": "stdout",
     "output_type": "stream",
     "text": [
      "user\n",
      "Chuck    4.0\n",
      "Anya     5.0\n",
      "Divya    NaN\n",
      "Pat      1.0\n",
      "Name: Nightmare on Elm St, dtype: float64\n"
     ]
=======
   "execution_count": 33,
   "metadata": {},
   "outputs": [
    {
=======
   "execution_count": 33,
   "metadata": {},
   "outputs": [
    {
>>>>>>> Stashed changes
     "data": {
      "text/plain": [
       "user\n",
       "Chuck    4.0\n",
       "Anya     5.0\n",
       "Divya    NaN\n",
       "Pat      1.0\n",
       "Name: Nightmare on Elm St, dtype: float64"
      ]
     },
     "execution_count": 33,
     "metadata": {},
     "output_type": "execute_result"
<<<<<<< Updated upstream
>>>>>>> Stashed changes
=======
>>>>>>> Stashed changes
    }
   ],
   "source": [
    "# 4. Get elm_st_ratings\n",
<<<<<<< Updated upstream
<<<<<<< Updated upstream
    "elm_st_ratings = users['Nightmare on Elm St'].drop('Nancy')\n",
    "print(elm_st_ratings)"
=======
    "elm_st_ratings=users['Nightmare on Elm St'].drop('Nancy')\n",
    "elm_st_ratings"
>>>>>>> Stashed changes
=======
    "elm_st_ratings=users['Nightmare on Elm St'].drop('Nancy')\n",
    "elm_st_ratings"
>>>>>>> Stashed changes
   ]
  },
  {
   "cell_type": "code",
<<<<<<< Updated upstream
<<<<<<< Updated upstream
   "execution_count": 28,
=======
   "execution_count": 34,
>>>>>>> Stashed changes
=======
   "execution_count": 34,
>>>>>>> Stashed changes
   "metadata": {},
   "outputs": [
    {
     "data": {
      "text/plain": [
       "user\n",
       "Chuck    4.0\n",
       "Anya     5.0\n",
       "Name: Nightmare on Elm St, dtype: float64"
      ]
     },
<<<<<<< Updated upstream
<<<<<<< Updated upstream
     "execution_count": 28,
=======
     "execution_count": 34,
>>>>>>> Stashed changes
=======
     "execution_count": 34,
>>>>>>> Stashed changes
     "metadata": {},
     "output_type": "execute_result"
    }
   ],
   "source": [
<<<<<<< Updated upstream
<<<<<<< Updated upstream
    "elm_st_ratings = elm_st_ratings.loc[nancy_sim.index]\n",
=======
    "elm_st_ratings=elm_st_ratings.loc[nancy_sim.index]\n",
>>>>>>> Stashed changes
=======
    "elm_st_ratings=elm_st_ratings.loc[nancy_sim.index]\n",
>>>>>>> Stashed changes
    "elm_st_ratings"
   ]
  },
  {
   "cell_type": "code",
<<<<<<< Updated upstream
<<<<<<< Updated upstream
   "execution_count": 29,
=======
   "execution_count": 35,
>>>>>>> Stashed changes
=======
   "execution_count": 35,
>>>>>>> Stashed changes
   "metadata": {},
   "outputs": [
    {
     "data": {
      "text/plain": [
       "4.683035701380843"
      ]
     },
<<<<<<< Updated upstream
<<<<<<< Updated upstream
     "execution_count": 29,
=======
     "execution_count": 35,
>>>>>>> Stashed changes
=======
     "execution_count": 35,
>>>>>>> Stashed changes
     "metadata": {},
     "output_type": "execute_result"
    }
   ],
   "source": [
    "# 5. Weight each user's rating by Nancy's similarity to that user.\n",
    "# HINT: this will be the dot product between the users's rating vector\n",
    "# and Nancy's similarity/weight vector\n",
<<<<<<< Updated upstream
<<<<<<< Updated upstream
    "np.dot(elm_st_ratings.values, nancy_weights)"
=======
    "np.dot(elm_st_ratings.values,nancy_weights)"
>>>>>>> Stashed changes
=======
    "np.dot(elm_st_ratings.values,nancy_weights)"
>>>>>>> Stashed changes
   ]
  },
  {
   "cell_type": "markdown",
   "metadata": {},
   "source": [
    "How would we get expected ratings for all of the movies that Nancy has not seen?\n",
    "\n",
    "Just use the above procedure for _all_ movies!  We can use a bit linear algebra (just matrix multiplication) to do this very compactly."
   ]
  },
  {
   "cell_type": "code",
<<<<<<< Updated upstream
<<<<<<< Updated upstream
   "execution_count": 30,
=======
   "execution_count": 36,
>>>>>>> Stashed changes
=======
   "execution_count": 36,
>>>>>>> Stashed changes
   "metadata": {},
   "outputs": [
    {
     "data": {
      "text/html": [
       "<div>\n",
       "<style scoped>\n",
       "    .dataframe tbody tr th:only-of-type {\n",
       "        vertical-align: middle;\n",
       "    }\n",
       "\n",
       "    .dataframe tbody tr th {\n",
       "        vertical-align: top;\n",
       "    }\n",
       "\n",
       "    .dataframe thead th {\n",
       "        text-align: right;\n",
       "    }\n",
       "</style>\n",
       "<table border=\"1\" class=\"dataframe\">\n",
       "  <thead>\n",
       "    <tr style=\"text-align: right;\">\n",
       "      <th>user</th>\n",
       "      <th>Chuck</th>\n",
       "      <th>Anya</th>\n",
       "      <th>Divya</th>\n",
       "      <th>Pat</th>\n",
       "    </tr>\n",
       "  </thead>\n",
       "  <tbody>\n",
       "    <tr>\n",
<<<<<<< Updated upstream
<<<<<<< Updated upstream
       "      <td>Nightmare on Elm St</td>\n",
=======
       "      <th>Nightmare on Elm St</th>\n",
>>>>>>> Stashed changes
=======
       "      <th>Nightmare on Elm St</th>\n",
>>>>>>> Stashed changes
       "      <td>4.0</td>\n",
       "      <td>5.0</td>\n",
       "      <td>NaN</td>\n",
       "      <td>1.0</td>\n",
       "    </tr>\n",
       "    <tr>\n",
<<<<<<< Updated upstream
<<<<<<< Updated upstream
       "      <td>Hiro Dreams of Sushi</td>\n",
=======
       "      <th>Hiro Dreams of Sushi</th>\n",
>>>>>>> Stashed changes
=======
       "      <th>Hiro Dreams of Sushi</th>\n",
>>>>>>> Stashed changes
       "      <td>NaN</td>\n",
       "      <td>NaN</td>\n",
       "      <td>5.0</td>\n",
       "      <td>NaN</td>\n",
       "    </tr>\n",
       "    <tr>\n",
<<<<<<< Updated upstream
<<<<<<< Updated upstream
       "      <td>Exit Through the Giftshop</td>\n",
=======
       "      <th>Exit Through the Giftshop</th>\n",
>>>>>>> Stashed changes
=======
       "      <th>Exit Through the Giftshop</th>\n",
>>>>>>> Stashed changes
       "      <td>1.0</td>\n",
       "      <td>NaN</td>\n",
       "      <td>5.0</td>\n",
       "      <td>4.0</td>\n",
       "    </tr>\n",
       "  </tbody>\n",
       "</table>\n",
       "</div>"
      ],
      "text/plain": [
       "user                       Chuck  Anya  Divya  Pat\n",
       "Nightmare on Elm St          4.0   5.0    NaN  1.0\n",
       "Hiro Dreams of Sushi         NaN   NaN    5.0  NaN\n",
       "Exit Through the Giftshop    1.0   NaN    5.0  4.0"
      ]
     },
<<<<<<< Updated upstream
<<<<<<< Updated upstream
     "execution_count": 30,
=======
     "execution_count": 36,
>>>>>>> Stashed changes
=======
     "execution_count": 36,
>>>>>>> Stashed changes
     "metadata": {},
     "output_type": "execute_result"
    }
   ],
   "source": [
<<<<<<< Updated upstream
<<<<<<< Updated upstream
    "ratings = users.T\n",
    "ratings = ratings[ratings['Nancy'].isnull()]\n",
    "ratings = ratings.drop('Nancy', axis=1)\n",
=======
    "ratings=users.T\n",
    "ratings=ratings[ratings['Nancy'].isnull()]\n",
    "ratings=ratings.drop('Nancy',axis=1)\n",
>>>>>>> Stashed changes
=======
    "ratings=users.T\n",
    "ratings=ratings[ratings['Nancy'].isnull()]\n",
    "ratings=ratings.drop('Nancy',axis=1)\n",
>>>>>>> Stashed changes
    "ratings"
   ]
  },
  {
   "cell_type": "code",
<<<<<<< Updated upstream
<<<<<<< Updated upstream
   "execution_count": 31,
=======
   "execution_count": 38,
>>>>>>> Stashed changes
=======
   "execution_count": 38,
>>>>>>> Stashed changes
   "metadata": {},
   "outputs": [
    {
     "data": {
      "text/html": [
       "<div>\n",
       "<style scoped>\n",
       "    .dataframe tbody tr th:only-of-type {\n",
       "        vertical-align: middle;\n",
       "    }\n",
       "\n",
       "    .dataframe tbody tr th {\n",
       "        vertical-align: top;\n",
       "    }\n",
       "\n",
       "    .dataframe thead th {\n",
       "        text-align: right;\n",
       "    }\n",
       "</style>\n",
       "<table border=\"1\" class=\"dataframe\">\n",
       "  <thead>\n",
       "    <tr style=\"text-align: right;\">\n",
       "      <th>user</th>\n",
       "      <th>Chuck</th>\n",
       "      <th>Anya</th>\n",
       "    </tr>\n",
       "  </thead>\n",
       "  <tbody>\n",
       "    <tr>\n",
<<<<<<< Updated upstream
<<<<<<< Updated upstream
       "      <td>Nightmare on Elm St</td>\n",
=======
       "      <th>Nightmare on Elm St</th>\n",
>>>>>>> Stashed changes
=======
       "      <th>Nightmare on Elm St</th>\n",
>>>>>>> Stashed changes
       "      <td>4.0</td>\n",
       "      <td>5.0</td>\n",
       "    </tr>\n",
       "    <tr>\n",
<<<<<<< Updated upstream
<<<<<<< Updated upstream
       "      <td>Hiro Dreams of Sushi</td>\n",
=======
       "      <th>Hiro Dreams of Sushi</th>\n",
>>>>>>> Stashed changes
=======
       "      <th>Hiro Dreams of Sushi</th>\n",
>>>>>>> Stashed changes
       "      <td>NaN</td>\n",
       "      <td>NaN</td>\n",
       "    </tr>\n",
       "    <tr>\n",
<<<<<<< Updated upstream
<<<<<<< Updated upstream
       "      <td>Exit Through the Giftshop</td>\n",
=======
       "      <th>Exit Through the Giftshop</th>\n",
>>>>>>> Stashed changes
=======
       "      <th>Exit Through the Giftshop</th>\n",
>>>>>>> Stashed changes
       "      <td>1.0</td>\n",
       "      <td>NaN</td>\n",
       "    </tr>\n",
       "  </tbody>\n",
       "</table>\n",
       "</div>"
      ],
      "text/plain": [
       "user                       Chuck  Anya\n",
       "Nightmare on Elm St          4.0   5.0\n",
       "Hiro Dreams of Sushi         NaN   NaN\n",
       "Exit Through the Giftshop    1.0   NaN"
      ]
     },
<<<<<<< Updated upstream
<<<<<<< Updated upstream
     "execution_count": 31,
=======
     "execution_count": 38,
>>>>>>> Stashed changes
=======
     "execution_count": 38,
>>>>>>> Stashed changes
     "metadata": {},
     "output_type": "execute_result"
    }
   ],
   "source": [
<<<<<<< Updated upstream
<<<<<<< Updated upstream
    "ratings = ratings[nancy_sim.index]\n",
=======
    "ratings=ratings[nancy_sim.index]\n",
>>>>>>> Stashed changes
=======
    "ratings=ratings[nancy_sim.index]\n",
>>>>>>> Stashed changes
    "ratings"
   ]
  },
  {
   "cell_type": "code",
<<<<<<< Updated upstream
<<<<<<< Updated upstream
   "execution_count": 32,
=======
   "execution_count": 39,
>>>>>>> Stashed changes
=======
   "execution_count": 39,
>>>>>>> Stashed changes
   "metadata": {},
   "outputs": [
    {
     "data": {
      "text/plain": [
       "array([4.6830357, 0.       , 0.3169643])"
      ]
     },
<<<<<<< Updated upstream
<<<<<<< Updated upstream
     "execution_count": 32,
=======
     "execution_count": 39,
>>>>>>> Stashed changes
=======
     "execution_count": 39,
>>>>>>> Stashed changes
     "metadata": {},
     "output_type": "execute_result"
    }
   ],
   "source": [
<<<<<<< Updated upstream
<<<<<<< Updated upstream
    "nancy_ratings = np.dot(ratings.fillna(0).values, nancy_weights)\n",
=======
    "nancy_ratings=np.dot(ratings.fillna(0).values,nancy_weights)\n",
>>>>>>> Stashed changes
=======
    "nancy_ratings=np.dot(ratings.fillna(0).values,nancy_weights)\n",
>>>>>>> Stashed changes
    "nancy_ratings"
   ]
  },
  {
   "cell_type": "markdown",
   "metadata": {
    "slideshow": {
     "slide_type": "slide"
    }
   },
   "source": [
    "#### Check: What might be some problems with user-based filtering?"
   ]
  },
  {
   "cell_type": "markdown",
   "metadata": {
    "slideshow": {
     "slide_type": "fragment"
    }
   },
   "source": [
    "- Frequently-liked items will necessarily have users who like all kinds of other items. So, recommendations based on frequently-liked items may be inaccurate.\n",
    "\n",
    "- User-based filtering also suffers from the **cold-start problem**. If a new user joins and has very few likes, then it is difficult to pair them with a similar user.\n",
    "\n",
    "- Lastly, suppose that a user with few likes adds a new like. This may significantly change the recommendations. Hence, as users add likes, the recommendations must be continually and quickly updated."
   ]
  },
  {
   "cell_type": "markdown",
   "metadata": {
    "slideshow": {
     "slide_type": "slide"
    }
   },
   "source": [
    "In practice, there is a type of collaborative filtering that can perform much better than user-based filtering: **item-based filtering**."
   ]
  },
  {
   "cell_type": "markdown",
   "metadata": {
    "slideshow": {
     "slide_type": "slide"
    }
   },
   "source": [
    "<a id=\"item-based-collaborative-filtering\"></a>\n",
    "## Item-based Collaborative Filtering"
   ]
  },
  {
   "cell_type": "markdown",
   "metadata": {
    "slideshow": {
     "slide_type": "slide"
    }
   },
   "source": [
    "In item-based filtering, we are trying to find similarities across items rather than users.\n",
    "\n",
    "> Rather than looking for _similar users_, we are going to look for _similar movies/items_.  Similar items are determined by user rating patterns.\n",
    "\n",
    "Basically, everything here is the same as in user-based collaborative filtering, except we will deal with the _transpose_ or our data matrix.\n",
    "\n",
    "Just as in user-based filtering, we need to center our values by row."
   ]
  },
  {
   "cell_type": "code",
<<<<<<< Updated upstream
<<<<<<< Updated upstream
   "execution_count": 35,
=======
   "execution_count": 40,
>>>>>>> Stashed changes
=======
   "execution_count": 40,
>>>>>>> Stashed changes
   "metadata": {},
   "outputs": [
    {
     "data": {
      "text/html": [
       "<div>\n",
       "<style scoped>\n",
       "    .dataframe tbody tr th:only-of-type {\n",
       "        vertical-align: middle;\n",
       "    }\n",
       "\n",
       "    .dataframe tbody tr th {\n",
       "        vertical-align: top;\n",
       "    }\n",
       "\n",
       "    .dataframe thead th {\n",
       "        text-align: right;\n",
       "    }\n",
       "</style>\n",
       "<table border=\"1\" class=\"dataframe\">\n",
       "  <thead>\n",
       "    <tr style=\"text-align: right;\">\n",
       "      <th></th>\n",
       "      <th>Friday the 13th</th>\n",
       "      <th>Nightmare on Elm St</th>\n",
       "      <th>Dawn of the Dead</th>\n",
       "      <th>Hiro Dreams of Sushi</th>\n",
       "      <th>180 South</th>\n",
       "      <th>Exit Through the Giftshop</th>\n",
       "    </tr>\n",
       "  </thead>\n",
       "  <tbody>\n",
       "    <tr>\n",
<<<<<<< Updated upstream
<<<<<<< Updated upstream
       "      <td>Friday the 13th</td>\n",
=======
       "      <th>Friday the 13th</th>\n",
>>>>>>> Stashed changes
=======
       "      <th>Friday the 13th</th>\n",
>>>>>>> Stashed changes
       "      <td>1.000000</td>\n",
       "      <td>0.635369</td>\n",
       "      <td>0.771517</td>\n",
       "      <td>0.0</td>\n",
       "      <td>-0.709208</td>\n",
       "      <td>-0.773492</td>\n",
       "    </tr>\n",
       "    <tr>\n",
<<<<<<< Updated upstream
<<<<<<< Updated upstream
       "      <td>Nightmare on Elm St</td>\n",
=======
       "      <th>Nightmare on Elm St</th>\n",
>>>>>>> Stashed changes
=======
       "      <th>Nightmare on Elm St</th>\n",
>>>>>>> Stashed changes
       "      <td>0.635369</td>\n",
       "      <td>1.000000</td>\n",
       "      <td>0.859338</td>\n",
       "      <td>0.0</td>\n",
       "      <td>-0.557007</td>\n",
       "      <td>-0.358974</td>\n",
       "    </tr>\n",
       "    <tr>\n",
<<<<<<< Updated upstream
<<<<<<< Updated upstream
       "      <td>Dawn of the Dead</td>\n",
=======
       "      <th>Dawn of the Dead</th>\n",
>>>>>>> Stashed changes
=======
       "      <th>Dawn of the Dead</th>\n",
>>>>>>> Stashed changes
       "      <td>0.771517</td>\n",
       "      <td>0.859338</td>\n",
       "      <td>1.000000</td>\n",
       "      <td>0.0</td>\n",
       "      <td>-0.848528</td>\n",
       "      <td>-0.322252</td>\n",
       "    </tr>\n",
       "    <tr>\n",
<<<<<<< Updated upstream
<<<<<<< Updated upstream
       "      <td>Hiro Dreams of Sushi</td>\n",
=======
       "      <th>Hiro Dreams of Sushi</th>\n",
>>>>>>> Stashed changes
=======
       "      <th>Hiro Dreams of Sushi</th>\n",
>>>>>>> Stashed changes
       "      <td>0.000000</td>\n",
       "      <td>0.000000</td>\n",
       "      <td>0.000000</td>\n",
       "      <td>0.0</td>\n",
       "      <td>0.000000</td>\n",
       "      <td>0.000000</td>\n",
       "    </tr>\n",
       "    <tr>\n",
<<<<<<< Updated upstream
<<<<<<< Updated upstream
       "      <td>180 South</td>\n",
=======
       "      <th>180 South</th>\n",
>>>>>>> Stashed changes
=======
       "      <th>180 South</th>\n",
>>>>>>> Stashed changes
       "      <td>-0.709208</td>\n",
       "      <td>-0.557007</td>\n",
       "      <td>-0.848528</td>\n",
       "      <td>0.0</td>\n",
       "      <td>1.000000</td>\n",
       "      <td>0.430414</td>\n",
       "    </tr>\n",
       "    <tr>\n",
<<<<<<< Updated upstream
<<<<<<< Updated upstream
       "      <td>Exit Through the Giftshop</td>\n",
=======
       "      <th>Exit Through the Giftshop</th>\n",
>>>>>>> Stashed changes
=======
       "      <th>Exit Through the Giftshop</th>\n",
>>>>>>> Stashed changes
       "      <td>-0.773492</td>\n",
       "      <td>-0.358974</td>\n",
       "      <td>-0.322252</td>\n",
       "      <td>0.0</td>\n",
       "      <td>0.430414</td>\n",
       "      <td>1.000000</td>\n",
       "    </tr>\n",
       "  </tbody>\n",
       "</table>\n",
       "</div>"
      ],
      "text/plain": [
       "                           Friday the 13th  Nightmare on Elm St  \\\n",
       "Friday the 13th                   1.000000             0.635369   \n",
       "Nightmare on Elm St               0.635369             1.000000   \n",
       "Dawn of the Dead                  0.771517             0.859338   \n",
       "Hiro Dreams of Sushi              0.000000             0.000000   \n",
       "180 South                        -0.709208            -0.557007   \n",
       "Exit Through the Giftshop        -0.773492            -0.358974   \n",
       "\n",
       "                           Dawn of the Dead  Hiro Dreams of Sushi  180 South  \\\n",
       "Friday the 13th                    0.771517                   0.0  -0.709208   \n",
       "Nightmare on Elm St                0.859338                   0.0  -0.557007   \n",
       "Dawn of the Dead                   1.000000                   0.0  -0.848528   \n",
       "Hiro Dreams of Sushi               0.000000                   0.0   0.000000   \n",
       "180 South                         -0.848528                   0.0   1.000000   \n",
       "Exit Through the Giftshop         -0.322252                   0.0   0.430414   \n",
       "\n",
       "                           Exit Through the Giftshop  \n",
       "Friday the 13th                            -0.773492  \n",
       "Nightmare on Elm St                        -0.358974  \n",
       "Dawn of the Dead                           -0.322252  \n",
       "Hiro Dreams of Sushi                        0.000000  \n",
       "180 South                                   0.430414  \n",
       "Exit Through the Giftshop                   1.000000  "
      ]
     },
<<<<<<< Updated upstream
<<<<<<< Updated upstream
     "execution_count": 35,
=======
     "execution_count": 40,
>>>>>>> Stashed changes
=======
     "execution_count": 40,
>>>>>>> Stashed changes
     "metadata": {},
     "output_type": "execute_result"
    }
   ],
   "source": [
<<<<<<< Updated upstream
<<<<<<< Updated upstream
    "sim_matrix_item = cosine_similarity(mean_center_rows(users.T).fillna(0))\n",
    "movies_sim = pd.DataFrame(sim_matrix_item, columns = users.T.index, index = users.T.index)\n",
=======
    "sim_matrix_item=cosine_similarity(mean_center_rows(users.T).fillna(0))\n",
    "movies_sim= pd.DataFrame(sim_matrix_item,columns=users.T.index,index=users.T.index)\n",
>>>>>>> Stashed changes
=======
    "sim_matrix_item=cosine_similarity(mean_center_rows(users.T).fillna(0))\n",
    "movies_sim= pd.DataFrame(sim_matrix_item,columns=users.T.index,index=users.T.index)\n",
>>>>>>> Stashed changes
    "movies_sim"
   ]
  },
  {
   "cell_type": "markdown",
   "metadata": {
    "slideshow": {
     "slide_type": "slide"
    }
   },
   "source": [
    "The nearest movies to _Nightmare on Elm St_ are _Firday the 13th_ and _Dawn of the Dead_. To calculate Nancy's rating for our _Nightmare on Elm St_, we have the following equation:\n",
    "\n",
    "** (1st closest cosine sim movie x Nancy's rating + 2nd closest cosine sim movie x Nancy's product rating) / (sum of 1st and 2nd's cosine sims) **\n",
    "\n",
    "$$\\frac{(\\text{Dawn of Dead sim})(\\text{Nancy's rating}) + (\\text{Friday 13 sim})(\\text{Nancy's rating})}{\\text{sum of similarities}} = \\frac{0.859338 \\cdot (4) + 0.635369 \\cdot (5)}{0.859338 + 0.635369} = 4.43$$\n",
    "\n",
    "Here's the procedure for recommending movie X to Nancy:\n",
    "\n",
    "1. Get movie X's similarity scores to all other **movies**.\n",
    "2. Only keep positive similarities.  (This step can be tweaked!)\n",
    "3. Convert movie X's similarities to _weights_ by dividing each similarity by the _total_ similarity.\n",
    "4. Get Nancy's ratings for all other movies.\n",
    "5. Weight Nancy's ratings for all other movies by movie X's similarity to those movies."
   ]
  },
  {
   "cell_type": "code",
   "execution_count": 42,
   "metadata": {},
   "outputs": [
    {
     "data": {
      "text/plain": [
       "Friday the 13th     0.635369\n",
       "Dawn of the Dead    0.859338\n",
       "Name: Nightmare on Elm St, dtype: float64"
      ]
     },
     "execution_count": 42,
     "metadata": {},
     "output_type": "execute_result"
    }
   ],
   "source": [
<<<<<<< Updated upstream
<<<<<<< Updated upstream
    "movies_sim['Nightmare on Elm St'].head"
=======
=======
>>>>>>> Stashed changes
    "# 1-2. Get Elm St similarity scores\n",
    "elm_st_sim=movies_sim['Nightmare on Elm St'].drop('Nightmare on Elm St')\n",
    "elm_st_sim=elm_st_sim[elm_st_sim>0]\n",
    "elm_st_sim"
<<<<<<< Updated upstream
>>>>>>> Stashed changes
=======
>>>>>>> Stashed changes
   ]
  },
  {
   "cell_type": "code",
<<<<<<< Updated upstream
<<<<<<< Updated upstream
   "execution_count": 37,
=======
   "execution_count": 43,
>>>>>>> Stashed changes
=======
   "execution_count": 43,
>>>>>>> Stashed changes
   "metadata": {},
   "outputs": [
    {
     "data": {
      "text/plain": [
<<<<<<< Updated upstream
<<<<<<< Updated upstream
       "Friday the 13th     0.635369\n",
       "Dawn of the Dead    0.859338\n",
       "Name: Nightmare on Elm St, dtype: float64"
      ]
     },
     "execution_count": 37,
=======
=======
>>>>>>> Stashed changes
       "array([0.42507927, 0.57492073])"
      ]
     },
     "execution_count": 43,
<<<<<<< Updated upstream
>>>>>>> Stashed changes
=======
>>>>>>> Stashed changes
     "metadata": {},
     "output_type": "execute_result"
    }
   ],
   "source": [
<<<<<<< Updated upstream
<<<<<<< Updated upstream
    "# 1-2. Get Elm St similarity scores\n",
    "elm_st_sim = movies_sim['Nightmare on Elm St'].drop('Nightmare on Elm St')\n",
    "elm_st_sim = elm_st_sim[elm_st_sim>0]\n",
    "elm_st_sim"
=======
    "# 3. Turn Elm St similarity scores to weights\n",
    "elm_st_weights=elm_st_sim.values/np.sum(elm_st_sim.values)\n",
    "elm_st_weights"
>>>>>>> Stashed changes
=======
    "# 3. Turn Elm St similarity scores to weights\n",
    "elm_st_weights=elm_st_sim.values/np.sum(elm_st_sim.values)\n",
    "elm_st_weights"
>>>>>>> Stashed changes
   ]
  },
  {
   "cell_type": "code",
<<<<<<< Updated upstream
<<<<<<< Updated upstream
   "execution_count": 38,
=======
   "execution_count": 44,
>>>>>>> Stashed changes
=======
   "execution_count": 44,
>>>>>>> Stashed changes
   "metadata": {},
   "outputs": [
    {
     "data": {
      "text/plain": [
<<<<<<< Updated upstream
<<<<<<< Updated upstream
       "array([0.42507927, 0.57492073])"
      ]
     },
     "execution_count": 38,
=======
=======
>>>>>>> Stashed changes
       "Friday the 13th     5.0\n",
       "Dawn of the Dead    4.0\n",
       "Name: Nancy, dtype: float64"
      ]
     },
     "execution_count": 44,
<<<<<<< Updated upstream
>>>>>>> Stashed changes
=======
>>>>>>> Stashed changes
     "metadata": {},
     "output_type": "execute_result"
    }
   ],
   "source": [
<<<<<<< Updated upstream
<<<<<<< Updated upstream
    "# 3. Turn Elm St similarity scores to weights\n",
    "elm_st_weights = elm_st_sim.values/np.sum(elm_st_sim.values)\n",
    "elm_st_weights"
=======
    "# 4. Get Nancy's_ratings\n",
    "nancy_ratings=users.T['Nancy'].loc[elm_st_sim.index]\n",
    "nancy_ratings"
>>>>>>> Stashed changes
=======
    "# 4. Get Nancy's_ratings\n",
    "nancy_ratings=users.T['Nancy'].loc[elm_st_sim.index]\n",
    "nancy_ratings"
>>>>>>> Stashed changes
   ]
  },
  {
   "cell_type": "code",
<<<<<<< Updated upstream
<<<<<<< Updated upstream
   "execution_count": 39,
=======
   "execution_count": 45,
>>>>>>> Stashed changes
=======
   "execution_count": 45,
>>>>>>> Stashed changes
   "metadata": {},
   "outputs": [
    {
     "data": {
      "text/plain": [
<<<<<<< Updated upstream
<<<<<<< Updated upstream
       "Friday the 13th     5.0\n",
       "Dawn of the Dead    4.0\n",
       "Name: Nancy, dtype: float64"
      ]
     },
     "execution_count": 39,
     "metadata": {},
     "output_type": "execute_result"
    }
   ],
   "source": [
    "# 4. Get Nancy's_ratings\n",
    "nancy_ratings = users.T['Nancy'].loc[elm_st_sim.index]\n",
    "nancy_ratings"
   ]
  },
  {
   "cell_type": "code",
   "execution_count": 40,
   "metadata": {},
   "outputs": [
    {
     "data": {
      "text/plain": [
       "4.425079267585091"
      ]
     },
     "execution_count": 40,
=======
=======
>>>>>>> Stashed changes
       "4.425079267585091"
      ]
     },
     "execution_count": 45,
<<<<<<< Updated upstream
>>>>>>> Stashed changes
=======
>>>>>>> Stashed changes
     "metadata": {},
     "output_type": "execute_result"
    }
   ],
   "source": [
    "# 5. Weight each user's rating by Nancy's similarity to that user.\n",
<<<<<<< Updated upstream
<<<<<<< Updated upstream
    "np.dot(nancy_ratings.values, elm_st_weights)"
=======
    "np.dot(nancy_ratings.values,elm_st_weights)"
>>>>>>> Stashed changes
=======
    "np.dot(nancy_ratings.values,elm_st_weights)"
>>>>>>> Stashed changes
   ]
  },
  {
   "cell_type": "markdown",
   "metadata": {
    "slideshow": {
     "slide_type": "slide"
    }
   },
   "source": [
    "<a id=\"content-based-filtering\"></a>\n",
    "## Content-based Filtering"
   ]
  },
  {
   "cell_type": "markdown",
   "metadata": {
    "slideshow": {
     "slide_type": "-"
    }
   },
   "source": [
    "Finally, there is another method called content-based filtering. In content-based filtering, the items are broken down into \"feature baskets\". These are the characteristics that represent the item. The idea is that if you like the features of song X, then finding a song that has similar characteristics will tell us that you're likely to like it as well.\n",
    "\n",
    "\n",
    "The quintessential example of this is Pandora with it's musical genome. Each song is rated on ~450 characteristics by a trained musicologist."
   ]
  },
  {
   "cell_type": "markdown",
   "metadata": {
    "slideshow": {
     "slide_type": "slide"
    }
   },
   "source": [
    "<a id=\"example\"></a>\n",
    "## Example \n",
    "Content-based filtering begins by mapping each item into\n",
    "a feature space. Both users and items are represented by\n",
    "vectors in this space.\n",
    "Item vectors measure the degree to which the item is\n",
    "described by each feature, and user vectors measure a\n",
    "user’s preferences for each feature.\n",
    "Ratings are generated by taking dot products of user &\n",
    "item vectors. "
   ]
  },
  {
   "cell_type": "markdown",
   "metadata": {
    "slideshow": {
     "slide_type": "slide"
    }
   },
   "source": [
    "<img src=\"http://i.imgur.com/NzHksKK.png\">"
   ]
  },
  {
   "cell_type": "markdown",
   "metadata": {
    "slideshow": {
     "slide_type": "slide"
    }
   },
   "source": [
    "---\n",
    "\n",
    "Let's look at a music database as an example"
   ]
  },
  {
   "cell_type": "code",
<<<<<<< Updated upstream
<<<<<<< Updated upstream
   "execution_count": 42,
=======
   "execution_count": 62,
>>>>>>> Stashed changes
=======
   "execution_count": 62,
>>>>>>> Stashed changes
   "metadata": {
    "hideCode": true,
    "hidePrompt": true,
    "slideshow": {
     "slide_type": "-"
    }
   },
   "outputs": [],
   "source": [
    "from sklearn.preprocessing import StandardScaler\n",
    "import pandas as pd, numpy as np\n",
    "import sqlite3\n",
<<<<<<< Updated upstream
<<<<<<< Updated upstream
    "\n",
    "conn = sqlite3.connect(\"db.sqlite3\")\n",
=======
=======
>>>>>>> Stashed changes
    "conn = sqlite3.connect(\"./db.sqlite3\")\n",
>>>>>>> Stashed changes
    "conn.text_factory = lambda x: str(x, 'latin1')\n",
    "\n",
    "sql = \"\"\"\n",
    "SELECT r.userID, r.artistID, r.tagID, \n",
    "a.name AS artist,\n",
    "t.tagValue as genre\n",
    "FROM rec_user_artist_tags r\n",
    "LEFT JOIN rec_artists a on r.artistID = a.id\n",
    "LEFT JOIN rec_tags t on r.tagID = t.tagID\n",
    "WHERE a.name NOT NULL\n",
    "LIMIT 15000\n",
    "\"\"\"\n",
    "\n",
    "artists = pd.read_sql(sql, con=conn)\n",
    "artist_genre = artists.groupby([\"artist\", \"genre\"]).size().sort_values(ascending=False).unstack().fillna(0)"
   ]
  },
  {
   "cell_type": "code",
<<<<<<< Updated upstream
<<<<<<< Updated upstream
   "execution_count": 44,
   "metadata": {},
   "outputs": [],
   "source": [
    "sql_2 = \"\"\"\n",
    "SELECT *\n",
    "FROM \n",
    "    rec_artists a\n",
    "\"\"\"\n",
    "\n",
    "artists_pd = pd.read_sql(sql_2, con=conn)"
=======
=======
>>>>>>> Stashed changes
   "execution_count": 63,
   "metadata": {},
   "outputs": [],
   "source": [
    "sql_2=\"\"\"\n",
    "SELECT *\n",
    "FROM\n",
    "    rec_artists a\n",
    "\"\"\"\n",
    "\n",
    "artists_pd=pd.read_sql(sql_2,con=conn)"
<<<<<<< Updated upstream
>>>>>>> Stashed changes
=======
>>>>>>> Stashed changes
   ]
  },
  {
   "cell_type": "code",
<<<<<<< Updated upstream
<<<<<<< Updated upstream
   "execution_count": 45,
=======
   "execution_count": 64,
>>>>>>> Stashed changes
=======
   "execution_count": 64,
>>>>>>> Stashed changes
   "metadata": {},
   "outputs": [
    {
     "data": {
      "text/html": [
       "<div>\n",
       "<style scoped>\n",
       "    .dataframe tbody tr th:only-of-type {\n",
       "        vertical-align: middle;\n",
       "    }\n",
       "\n",
       "    .dataframe tbody tr th {\n",
       "        vertical-align: top;\n",
       "    }\n",
       "\n",
       "    .dataframe thead th {\n",
       "        text-align: right;\n",
       "    }\n",
       "</style>\n",
       "<table border=\"1\" class=\"dataframe\">\n",
       "  <thead>\n",
       "    <tr style=\"text-align: right;\">\n",
       "      <th></th>\n",
       "      <th>index</th>\n",
       "      <th>id</th>\n",
       "      <th>name</th>\n",
       "      <th>url</th>\n",
       "      <th>pictureURL</th>\n",
       "    </tr>\n",
       "  </thead>\n",
       "  <tbody>\n",
       "    <tr>\n",
<<<<<<< Updated upstream
<<<<<<< Updated upstream
       "      <td>0</td>\n",
=======
       "      <th>0</th>\n",
>>>>>>> Stashed changes
=======
       "      <th>0</th>\n",
>>>>>>> Stashed changes
       "      <td>0</td>\n",
       "      <td>1</td>\n",
       "      <td>MALICE MIZER</td>\n",
       "      <td>http://www.last.fm/music/MALICE+MIZER</td>\n",
       "      <td>http://userserve-ak.last.fm/serve/252/10808.jpg</td>\n",
       "    </tr>\n",
       "    <tr>\n",
<<<<<<< Updated upstream
<<<<<<< Updated upstream
       "      <td>1</td>\n",
=======
       "      <th>1</th>\n",
>>>>>>> Stashed changes
=======
       "      <th>1</th>\n",
>>>>>>> Stashed changes
       "      <td>1</td>\n",
       "      <td>2</td>\n",
       "      <td>Diary of Dreams</td>\n",
       "      <td>http://www.last.fm/music/Diary+of+Dreams</td>\n",
       "      <td>http://userserve-ak.last.fm/serve/252/3052066.jpg</td>\n",
       "    </tr>\n",
       "    <tr>\n",
<<<<<<< Updated upstream
<<<<<<< Updated upstream
       "      <td>2</td>\n",
=======
       "      <th>2</th>\n",
>>>>>>> Stashed changes
=======
       "      <th>2</th>\n",
>>>>>>> Stashed changes
       "      <td>2</td>\n",
       "      <td>3</td>\n",
       "      <td>Carpathian Forest</td>\n",
       "      <td>http://www.last.fm/music/Carpathian+Forest</td>\n",
       "      <td>http://userserve-ak.last.fm/serve/252/40222717...</td>\n",
       "    </tr>\n",
       "    <tr>\n",
<<<<<<< Updated upstream
<<<<<<< Updated upstream
       "      <td>3</td>\n",
=======
       "      <th>3</th>\n",
>>>>>>> Stashed changes
=======
       "      <th>3</th>\n",
>>>>>>> Stashed changes
       "      <td>3</td>\n",
       "      <td>4</td>\n",
       "      <td>Moi dix Mois</td>\n",
       "      <td>http://www.last.fm/music/Moi+dix+Mois</td>\n",
       "      <td>http://userserve-ak.last.fm/serve/252/54697835...</td>\n",
       "    </tr>\n",
       "    <tr>\n",
<<<<<<< Updated upstream
<<<<<<< Updated upstream
       "      <td>4</td>\n",
=======
       "      <th>4</th>\n",
>>>>>>> Stashed changes
=======
       "      <th>4</th>\n",
>>>>>>> Stashed changes
       "      <td>4</td>\n",
       "      <td>5</td>\n",
       "      <td>Bella Morte</td>\n",
       "      <td>http://www.last.fm/music/Bella+Morte</td>\n",
       "      <td>http://userserve-ak.last.fm/serve/252/14789013...</td>\n",
       "    </tr>\n",
       "  </tbody>\n",
       "</table>\n",
       "</div>"
      ],
      "text/plain": [
       "   index  id               name                                         url  \\\n",
       "0      0   1       MALICE MIZER       http://www.last.fm/music/MALICE+MIZER   \n",
       "1      1   2    Diary of Dreams    http://www.last.fm/music/Diary+of+Dreams   \n",
       "2      2   3  Carpathian Forest  http://www.last.fm/music/Carpathian+Forest   \n",
       "3      3   4       Moi dix Mois       http://www.last.fm/music/Moi+dix+Mois   \n",
       "4      4   5        Bella Morte        http://www.last.fm/music/Bella+Morte   \n",
       "\n",
       "                                          pictureURL  \n",
       "0    http://userserve-ak.last.fm/serve/252/10808.jpg  \n",
       "1  http://userserve-ak.last.fm/serve/252/3052066.jpg  \n",
       "2  http://userserve-ak.last.fm/serve/252/40222717...  \n",
       "3  http://userserve-ak.last.fm/serve/252/54697835...  \n",
       "4  http://userserve-ak.last.fm/serve/252/14789013...  "
      ]
     },
<<<<<<< Updated upstream
<<<<<<< Updated upstream
     "execution_count": 45,
=======
     "execution_count": 64,
>>>>>>> Stashed changes
=======
     "execution_count": 64,
>>>>>>> Stashed changes
     "metadata": {},
     "output_type": "execute_result"
    }
   ],
   "source": [
    "artists_pd.head()"
   ]
  },
  {
   "cell_type": "code",
<<<<<<< Updated upstream
<<<<<<< Updated upstream
   "execution_count": 43,
=======
   "execution_count": 65,
>>>>>>> Stashed changes
=======
   "execution_count": 65,
>>>>>>> Stashed changes
   "metadata": {},
   "outputs": [
    {
     "data": {
      "text/html": [
       "<div>\n",
       "<style scoped>\n",
       "    .dataframe tbody tr th:only-of-type {\n",
       "        vertical-align: middle;\n",
       "    }\n",
       "\n",
       "    .dataframe tbody tr th {\n",
       "        vertical-align: top;\n",
       "    }\n",
       "\n",
       "    .dataframe thead th {\n",
       "        text-align: right;\n",
       "    }\n",
       "</style>\n",
       "<table border=\"1\" class=\"dataframe\">\n",
       "  <thead>\n",
       "    <tr style=\"text-align: right;\">\n",
       "      <th></th>\n",
       "      <th>userID</th>\n",
       "      <th>artistID</th>\n",
       "      <th>tagID</th>\n",
       "      <th>artist</th>\n",
       "      <th>genre</th>\n",
       "    </tr>\n",
       "  </thead>\n",
       "  <tbody>\n",
       "    <tr>\n",
<<<<<<< Updated upstream
<<<<<<< Updated upstream
       "      <td>0</td>\n",
       "      <td>2</td>\n",
       "      <td>52</td>\n",
       "      <td>13</td>\n",
       "      <td>Morcheeba</td>\n",
       "      <td>chillout</td>\n",
       "    </tr>\n",
       "    <tr>\n",
       "      <td>1</td>\n",
       "      <td>2</td>\n",
       "      <td>52</td>\n",
       "      <td>15</td>\n",
       "      <td>Morcheeba</td>\n",
       "      <td>downtempo</td>\n",
       "    </tr>\n",
       "    <tr>\n",
       "      <td>2</td>\n",
       "      <td>2</td>\n",
       "      <td>52</td>\n",
       "      <td>18</td>\n",
       "      <td>Morcheeba</td>\n",
       "      <td>electronic</td>\n",
       "    </tr>\n",
       "    <tr>\n",
       "      <td>3</td>\n",
       "      <td>2</td>\n",
       "      <td>52</td>\n",
       "      <td>21</td>\n",
       "      <td>Morcheeba</td>\n",
       "      <td>trip-hop</td>\n",
       "    </tr>\n",
       "    <tr>\n",
       "      <td>4</td>\n",
       "      <td>2</td>\n",
       "      <td>52</td>\n",
       "      <td>41</td>\n",
       "      <td>Morcheeba</td>\n",
       "      <td>female vovalists</td>\n",
       "    </tr>\n",
       "    <tr>\n",
       "      <td>...</td>\n",
=======
=======
>>>>>>> Stashed changes
       "      <th>0</th>\n",
       "      <td>37</td>\n",
       "      <td>1</td>\n",
       "      <td>552</td>\n",
       "      <td>MALICE MIZER</td>\n",
       "      <td>weeabo</td>\n",
       "    </tr>\n",
       "    <tr>\n",
       "      <th>1</th>\n",
       "      <td>274</td>\n",
       "      <td>1</td>\n",
       "      <td>1219</td>\n",
       "      <td>MALICE MIZER</td>\n",
       "      <td>jrock</td>\n",
       "    </tr>\n",
       "    <tr>\n",
       "      <th>2</th>\n",
       "      <td>681</td>\n",
       "      <td>1</td>\n",
       "      <td>139</td>\n",
       "      <td>MALICE MIZER</td>\n",
       "      <td>j-rock</td>\n",
       "    </tr>\n",
       "    <tr>\n",
       "      <th>3</th>\n",
       "      <td>681</td>\n",
       "      <td>1</td>\n",
       "      <td>141</td>\n",
       "      <td>MALICE MIZER</td>\n",
       "      <td>visual kei</td>\n",
       "    </tr>\n",
       "    <tr>\n",
       "      <th>4</th>\n",
       "      <td>785</td>\n",
       "      <td>1</td>\n",
       "      <td>2850</td>\n",
       "      <td>MALICE MIZER</td>\n",
       "      <td>better than lady gaga</td>\n",
       "    </tr>\n",
       "    <tr>\n",
       "      <th>...</th>\n",
<<<<<<< Updated upstream
>>>>>>> Stashed changes
=======
>>>>>>> Stashed changes
       "      <td>...</td>\n",
       "      <td>...</td>\n",
       "      <td>...</td>\n",
       "      <td>...</td>\n",
       "      <td>...</td>\n",
       "    </tr>\n",
       "    <tr>\n",
<<<<<<< Updated upstream
<<<<<<< Updated upstream
       "      <td>14995</td>\n",
       "      <td>154</td>\n",
       "      <td>707</td>\n",
       "      <td>386</td>\n",
       "      <td>Metallica</td>\n",
       "      <td>heavy metal</td>\n",
       "    </tr>\n",
       "    <tr>\n",
       "      <td>14996</td>\n",
       "      <td>154</td>\n",
       "      <td>830</td>\n",
       "      <td>376</td>\n",
       "      <td>Atreyu</td>\n",
       "      <td>metalcore</td>\n",
       "    </tr>\n",
       "    <tr>\n",
       "      <td>14997</td>\n",
       "      <td>154</td>\n",
       "      <td>930</td>\n",
       "      <td>89</td>\n",
       "      <td>Nightwish</td>\n",
       "      <td>symphonic metal</td>\n",
       "    </tr>\n",
       "    <tr>\n",
       "      <td>14998</td>\n",
       "      <td>154</td>\n",
       "      <td>953</td>\n",
       "      <td>385</td>\n",
       "      <td>Arch Enemy</td>\n",
       "      <td>melodic death metal</td>\n",
       "    </tr>\n",
       "    <tr>\n",
       "      <td>14999</td>\n",
       "      <td>154</td>\n",
       "      <td>1044</td>\n",
       "      <td>1683</td>\n",
       "      <td>Slipknot</td>\n",
       "      <td>new metal</td>\n",
=======
=======
>>>>>>> Stashed changes
       "      <th>14995</th>\n",
       "      <td>1176</td>\n",
       "      <td>209</td>\n",
       "      <td>73</td>\n",
       "      <td>My Chemical Romance</td>\n",
       "      <td>rock</td>\n",
       "    </tr>\n",
       "    <tr>\n",
       "      <th>14996</th>\n",
       "      <td>1176</td>\n",
       "      <td>209</td>\n",
       "      <td>79</td>\n",
       "      <td>My Chemical Romance</td>\n",
       "      <td>alternative</td>\n",
       "    </tr>\n",
       "    <tr>\n",
       "      <th>14997</th>\n",
       "      <td>1176</td>\n",
       "      <td>209</td>\n",
       "      <td>176</td>\n",
       "      <td>My Chemical Romance</td>\n",
       "      <td>emo</td>\n",
       "    </tr>\n",
       "    <tr>\n",
       "      <th>14998</th>\n",
       "      <td>1176</td>\n",
       "      <td>209</td>\n",
       "      <td>181</td>\n",
       "      <td>My Chemical Romance</td>\n",
       "      <td>punk</td>\n",
       "    </tr>\n",
       "    <tr>\n",
       "      <th>14999</th>\n",
       "      <td>1176</td>\n",
       "      <td>209</td>\n",
       "      <td>182</td>\n",
       "      <td>My Chemical Romance</td>\n",
       "      <td>punk rock</td>\n",
<<<<<<< Updated upstream
>>>>>>> Stashed changes
=======
>>>>>>> Stashed changes
       "    </tr>\n",
       "  </tbody>\n",
       "</table>\n",
       "<p>15000 rows × 5 columns</p>\n",
       "</div>"
      ],
      "text/plain": [
<<<<<<< Updated upstream
<<<<<<< Updated upstream
       "       userID  artistID  tagID      artist                genre\n",
       "0           2        52     13   Morcheeba             chillout\n",
       "1           2        52     15   Morcheeba            downtempo\n",
       "2           2        52     18   Morcheeba           electronic\n",
       "3           2        52     21   Morcheeba             trip-hop\n",
       "4           2        52     41   Morcheeba     female vovalists\n",
       "...       ...       ...    ...         ...                  ...\n",
       "14995     154       707    386   Metallica          heavy metal\n",
       "14996     154       830    376      Atreyu            metalcore\n",
       "14997     154       930     89   Nightwish      symphonic metal\n",
       "14998     154       953    385  Arch Enemy  melodic death metal\n",
       "14999     154      1044   1683    Slipknot            new metal\n",
=======
=======
>>>>>>> Stashed changes
       "       userID  artistID  tagID               artist                  genre\n",
       "0          37         1    552         MALICE MIZER                 weeabo\n",
       "1         274         1   1219         MALICE MIZER                  jrock\n",
       "2         681         1    139         MALICE MIZER                 j-rock\n",
       "3         681         1    141         MALICE MIZER             visual kei\n",
       "4         785         1   2850         MALICE MIZER  better than lady gaga\n",
       "...       ...       ...    ...                  ...                    ...\n",
       "14995    1176       209     73  My Chemical Romance                   rock\n",
       "14996    1176       209     79  My Chemical Romance            alternative\n",
       "14997    1176       209    176  My Chemical Romance                    emo\n",
       "14998    1176       209    181  My Chemical Romance                   punk\n",
       "14999    1176       209    182  My Chemical Romance              punk rock\n",
<<<<<<< Updated upstream
>>>>>>> Stashed changes
=======
>>>>>>> Stashed changes
       "\n",
       "[15000 rows x 5 columns]"
      ]
     },
<<<<<<< Updated upstream
<<<<<<< Updated upstream
     "execution_count": 43,
=======
     "execution_count": 65,
>>>>>>> Stashed changes
=======
     "execution_count": 65,
>>>>>>> Stashed changes
     "metadata": {},
     "output_type": "execute_result"
    }
   ],
   "source": [
    "artists"
   ]
  },
  {
   "cell_type": "code",
<<<<<<< Updated upstream
<<<<<<< Updated upstream
   "execution_count": 46,
=======
   "execution_count": 66,
>>>>>>> Stashed changes
=======
   "execution_count": 66,
>>>>>>> Stashed changes
   "metadata": {
    "hideCode": true,
    "hidePrompt": true,
    "slideshow": {
     "slide_type": "-"
    }
   },
   "outputs": [
    {
     "name": "stdout",
     "output_type": "stream",
     "text": [
      "<class 'pandas.core.frame.DataFrame'>\n",
      "RangeIndex: 15000 entries, 0 to 14999\n",
      "Data columns (total 5 columns):\n",
      "userID      15000 non-null int64\n",
      "artistID    15000 non-null int64\n",
      "tagID       15000 non-null int64\n",
      "artist      15000 non-null object\n",
      "genre       15000 non-null object\n",
      "dtypes: int64(3), object(2)\n",
      "memory usage: 586.1+ KB\n"
     ]
    }
   ],
   "source": [
    "artists.info()"
   ]
  },
  {
   "cell_type": "code",
<<<<<<< Updated upstream
<<<<<<< Updated upstream
   "execution_count": 47,
=======
   "execution_count": 67,
>>>>>>> Stashed changes
=======
   "execution_count": 67,
>>>>>>> Stashed changes
   "metadata": {},
   "outputs": [
    {
     "data": {
      "text/html": [
       "<div>\n",
       "<style scoped>\n",
       "    .dataframe tbody tr th:only-of-type {\n",
       "        vertical-align: middle;\n",
       "    }\n",
       "\n",
       "    .dataframe tbody tr th {\n",
       "        vertical-align: top;\n",
       "    }\n",
       "\n",
       "    .dataframe thead th {\n",
       "        text-align: right;\n",
       "    }\n",
       "</style>\n",
       "<table border=\"1\" class=\"dataframe\">\n",
       "  <thead>\n",
       "    <tr style=\"text-align: right;\">\n",
       "      <th>genre</th>\n",
<<<<<<< Updated upstream
<<<<<<< Updated upstream
       "      <th>00</th>\n",
       "      <th>00s</th>\n",
       "      <th>10s</th>\n",
       "      <th>1970</th>\n",
       "      <th>1970s</th>\n",
       "      <th>1973</th>\n",
       "      <th>1978</th>\n",
       "      <th>1979</th>\n",
       "      <th>1979 songs</th>\n",
       "      <th>1980</th>\n",
       "      <th>...</th>\n",
       "      <th>wooooooaaaaahh</th>\n",
       "      <th>world</th>\n",
       "      <th>world music</th>\n",
       "      <th>worst lyrics ever</th>\n",
       "      <th>x factor</th>\n",
       "      <th>xtina</th>\n",
       "      <th>xtina love</th>\n",
       "      <th>yildirim turker</th>\n",
=======
=======
>>>>>>> Stashed changes
       "      <th>'80s</th>\n",
       "      <th>00's</th>\n",
       "      <th>00s</th>\n",
       "      <th>1008</th>\n",
       "      <th>10s</th>\n",
       "      <th>1969</th>\n",
       "      <th>1970</th>\n",
       "      <th>1970's</th>\n",
       "      <th>1970s</th>\n",
       "      <th>1973</th>\n",
       "      <th>...</th>\n",
       "      <th>xenomania</th>\n",
       "      <th>xmas</th>\n",
       "      <th>xtina</th>\n",
       "      <th>xxxmas</th>\n",
       "      <th>ya</th>\n",
       "      <th>yay</th>\n",
       "      <th>yearns to be covered</th>\n",
       "      <th>yorkshire</th>\n",
<<<<<<< Updated upstream
>>>>>>> Stashed changes
=======
>>>>>>> Stashed changes
       "      <th>you</th>\n",
       "      <th>zadrotstvo</th>\n",
       "    </tr>\n",
       "    <tr>\n",
       "      <th>artist</th>\n",
       "      <th></th>\n",
       "      <th></th>\n",
       "      <th></th>\n",
       "      <th></th>\n",
       "      <th></th>\n",
       "      <th></th>\n",
       "      <th></th>\n",
       "      <th></th>\n",
       "      <th></th>\n",
       "      <th></th>\n",
       "      <th></th>\n",
       "      <th></th>\n",
       "      <th></th>\n",
       "      <th></th>\n",
       "      <th></th>\n",
       "      <th></th>\n",
       "      <th></th>\n",
       "      <th></th>\n",
       "      <th></th>\n",
       "      <th></th>\n",
       "      <th></th>\n",
       "    </tr>\n",
       "  </thead>\n",
       "  <tbody>\n",
       "    <tr>\n",
<<<<<<< Updated upstream
<<<<<<< Updated upstream
       "      <td>!!!</td>\n",
=======
       "      <th>:wumpscut:</th>\n",
>>>>>>> Stashed changes
=======
       "      <th>:wumpscut:</th>\n",
>>>>>>> Stashed changes
       "      <td>0.0</td>\n",
       "      <td>0.0</td>\n",
       "      <td>0.0</td>\n",
       "      <td>0.0</td>\n",
       "      <td>0.0</td>\n",
       "      <td>0.0</td>\n",
       "      <td>0.0</td>\n",
       "      <td>0.0</td>\n",
       "      <td>0.0</td>\n",
       "      <td>0.0</td>\n",
       "      <td>...</td>\n",
       "      <td>0.0</td>\n",
       "      <td>0.0</td>\n",
       "      <td>0.0</td>\n",
       "      <td>0.0</td>\n",
       "      <td>0.0</td>\n",
       "      <td>0.0</td>\n",
       "      <td>0.0</td>\n",
       "      <td>0.0</td>\n",
       "      <td>0.0</td>\n",
       "      <td>0.0</td>\n",
       "    </tr>\n",
       "    <tr>\n",
<<<<<<< Updated upstream
<<<<<<< Updated upstream
       "      <td>#####</td>\n",
=======
       "      <th>ABC</th>\n",
>>>>>>> Stashed changes
=======
       "      <th>ABC</th>\n",
>>>>>>> Stashed changes
       "      <td>0.0</td>\n",
       "      <td>0.0</td>\n",
       "      <td>0.0</td>\n",
       "      <td>0.0</td>\n",
       "      <td>0.0</td>\n",
       "      <td>0.0</td>\n",
       "      <td>0.0</td>\n",
       "      <td>0.0</td>\n",
       "      <td>0.0</td>\n",
       "      <td>0.0</td>\n",
       "      <td>...</td>\n",
       "      <td>0.0</td>\n",
       "      <td>0.0</td>\n",
       "      <td>0.0</td>\n",
       "      <td>0.0</td>\n",
       "      <td>0.0</td>\n",
       "      <td>0.0</td>\n",
       "      <td>0.0</td>\n",
<<<<<<< Updated upstream
<<<<<<< Updated upstream
       "      <td>0.0</td>\n",
=======
       "      <td>1.0</td>\n",
>>>>>>> Stashed changes
=======
       "      <td>1.0</td>\n",
>>>>>>> Stashed changes
       "      <td>0.0</td>\n",
       "      <td>0.0</td>\n",
       "    </tr>\n",
       "    <tr>\n",
<<<<<<< Updated upstream
<<<<<<< Updated upstream
       "      <td>(hed) Planet Earth</td>\n",
=======
       "      <th>Agonoize</th>\n",
>>>>>>> Stashed changes
=======
       "      <th>Agonoize</th>\n",
>>>>>>> Stashed changes
       "      <td>0.0</td>\n",
       "      <td>0.0</td>\n",
       "      <td>0.0</td>\n",
       "      <td>0.0</td>\n",
       "      <td>0.0</td>\n",
       "      <td>0.0</td>\n",
       "      <td>0.0</td>\n",
       "      <td>0.0</td>\n",
       "      <td>0.0</td>\n",
       "      <td>0.0</td>\n",
       "      <td>...</td>\n",
       "      <td>0.0</td>\n",
       "      <td>0.0</td>\n",
       "      <td>0.0</td>\n",
       "      <td>0.0</td>\n",
       "      <td>0.0</td>\n",
       "      <td>0.0</td>\n",
       "      <td>0.0</td>\n",
       "      <td>0.0</td>\n",
       "      <td>0.0</td>\n",
       "      <td>0.0</td>\n",
       "    </tr>\n",
       "    <tr>\n",
<<<<<<< Updated upstream
<<<<<<< Updated upstream
       "      <td>*NSYNC</td>\n",
=======
       "      <th>Aidan Baker</th>\n",
>>>>>>> Stashed changes
=======
       "      <th>Aidan Baker</th>\n",
>>>>>>> Stashed changes
       "      <td>0.0</td>\n",
       "      <td>0.0</td>\n",
       "      <td>0.0</td>\n",
       "      <td>0.0</td>\n",
       "      <td>0.0</td>\n",
       "      <td>0.0</td>\n",
       "      <td>0.0</td>\n",
       "      <td>0.0</td>\n",
       "      <td>0.0</td>\n",
       "      <td>0.0</td>\n",
       "      <td>...</td>\n",
       "      <td>0.0</td>\n",
       "      <td>0.0</td>\n",
       "      <td>0.0</td>\n",
       "      <td>0.0</td>\n",
       "      <td>0.0</td>\n",
       "      <td>0.0</td>\n",
       "      <td>0.0</td>\n",
       "      <td>0.0</td>\n",
       "      <td>0.0</td>\n",
       "      <td>0.0</td>\n",
       "    </tr>\n",
       "    <tr>\n",
<<<<<<< Updated upstream
<<<<<<< Updated upstream
       "      <td>+44</td>\n",
=======
       "      <th>Air</th>\n",
>>>>>>> Stashed changes
=======
       "      <th>Air</th>\n",
>>>>>>> Stashed changes
       "      <td>0.0</td>\n",
       "      <td>0.0</td>\n",
       "      <td>0.0</td>\n",
       "      <td>0.0</td>\n",
       "      <td>0.0</td>\n",
       "      <td>0.0</td>\n",
       "      <td>0.0</td>\n",
       "      <td>0.0</td>\n",
       "      <td>0.0</td>\n",
       "      <td>0.0</td>\n",
       "      <td>...</td>\n",
       "      <td>0.0</td>\n",
       "      <td>0.0</td>\n",
       "      <td>0.0</td>\n",
       "      <td>0.0</td>\n",
       "      <td>0.0</td>\n",
       "      <td>0.0</td>\n",
       "      <td>0.0</td>\n",
       "      <td>0.0</td>\n",
       "      <td>0.0</td>\n",
       "      <td>0.0</td>\n",
       "    </tr>\n",
       "  </tbody>\n",
       "</table>\n",
<<<<<<< Updated upstream
<<<<<<< Updated upstream
       "<p>5 rows × 1290 columns</p>\n",
       "</div>"
      ],
      "text/plain": [
       "genre                00  00s  10s  1970  1970s  1973  1978  1979  1979 songs  \\\n",
       "artist                                                                         \n",
       "!!!                 0.0  0.0  0.0   0.0    0.0   0.0   0.0   0.0         0.0   \n",
       "#####               0.0  0.0  0.0   0.0    0.0   0.0   0.0   0.0         0.0   \n",
       "(hed) Planet Earth  0.0  0.0  0.0   0.0    0.0   0.0   0.0   0.0         0.0   \n",
       "*NSYNC              0.0  0.0  0.0   0.0    0.0   0.0   0.0   0.0         0.0   \n",
       "+44                 0.0  0.0  0.0   0.0    0.0   0.0   0.0   0.0         0.0   \n",
       "\n",
       "genre               1980  ...  wooooooaaaaahh  world  world music  \\\n",
       "artist                    ...                                       \n",
       "!!!                  0.0  ...             0.0    0.0          0.0   \n",
       "#####                0.0  ...             0.0    0.0          0.0   \n",
       "(hed) Planet Earth   0.0  ...             0.0    0.0          0.0   \n",
       "*NSYNC               0.0  ...             0.0    0.0          0.0   \n",
       "+44                  0.0  ...             0.0    0.0          0.0   \n",
       "\n",
       "genre               worst lyrics ever  x factor  xtina  xtina love  \\\n",
       "artist                                                               \n",
       "!!!                               0.0       0.0    0.0         0.0   \n",
       "#####                             0.0       0.0    0.0         0.0   \n",
       "(hed) Planet Earth                0.0       0.0    0.0         0.0   \n",
       "*NSYNC                            0.0       0.0    0.0         0.0   \n",
       "+44                               0.0       0.0    0.0         0.0   \n",
       "\n",
       "genre               yildirim turker  you  zadrotstvo  \n",
       "artist                                                \n",
       "!!!                             0.0  0.0         0.0  \n",
       "#####                           0.0  0.0         0.0  \n",
       "(hed) Planet Earth              0.0  0.0         0.0  \n",
       "*NSYNC                          0.0  0.0         0.0  \n",
       "+44                             0.0  0.0         0.0  \n",
       "\n",
       "[5 rows x 1290 columns]"
      ]
     },
     "execution_count": 47,
=======
=======
>>>>>>> Stashed changes
       "<p>5 rows × 1870 columns</p>\n",
       "</div>"
      ],
      "text/plain": [
       "genre        '80s  00's  00s  1008  10s  1969  1970  1970's  1970s  1973  ...  \\\n",
       "artist                                                                    ...   \n",
       ":wumpscut:    0.0   0.0  0.0   0.0  0.0   0.0   0.0     0.0    0.0   0.0  ...   \n",
       "ABC           0.0   0.0  0.0   0.0  0.0   0.0   0.0     0.0    0.0   0.0  ...   \n",
       "Agonoize      0.0   0.0  0.0   0.0  0.0   0.0   0.0     0.0    0.0   0.0  ...   \n",
       "Aidan Baker   0.0   0.0  0.0   0.0  0.0   0.0   0.0     0.0    0.0   0.0  ...   \n",
       "Air           0.0   0.0  0.0   0.0  0.0   0.0   0.0     0.0    0.0   0.0  ...   \n",
       "\n",
       "genre        xenomania  xmas  xtina  xxxmas   ya  yay  yearns to be covered  \\\n",
       "artist                                                                        \n",
       ":wumpscut:         0.0   0.0    0.0     0.0  0.0  0.0                   0.0   \n",
       "ABC                0.0   0.0    0.0     0.0  0.0  0.0                   0.0   \n",
       "Agonoize           0.0   0.0    0.0     0.0  0.0  0.0                   0.0   \n",
       "Aidan Baker        0.0   0.0    0.0     0.0  0.0  0.0                   0.0   \n",
       "Air                0.0   0.0    0.0     0.0  0.0  0.0                   0.0   \n",
       "\n",
       "genre        yorkshire  you  zadrotstvo  \n",
       "artist                                   \n",
       ":wumpscut:         0.0  0.0         0.0  \n",
       "ABC                1.0  0.0         0.0  \n",
       "Agonoize           0.0  0.0         0.0  \n",
       "Aidan Baker        0.0  0.0         0.0  \n",
       "Air                0.0  0.0         0.0  \n",
       "\n",
       "[5 rows x 1870 columns]"
      ]
     },
     "execution_count": 67,
<<<<<<< Updated upstream
>>>>>>> Stashed changes
=======
>>>>>>> Stashed changes
     "metadata": {},
     "output_type": "execute_result"
    }
   ],
   "source": [
    "artist_genre.head()"
   ]
  },
  {
   "cell_type": "markdown",
   "metadata": {},
   "source": [
    "**What's happening here?** . Each artist was \"tagged\" by users as belonging to a certain genre.  \n",
    "\n",
    "For each artist, the \"tags\" were counted and sorted above.  For example, Britney Spears was tagged as \"pop\" 12 times, \"dance\" as 7 times, etc.\n",
    "\n",
    "Is this best way to construct feature baskets?  Maybe not, but we are going to go with it today!"
   ]
  },
  {
   "cell_type": "markdown",
   "metadata": {},
   "source": [
    "### Use Case 1: Basic Similarity Metric: \"Give me something like Linkin Park!\""
   ]
  },
  {
   "cell_type": "code",
<<<<<<< Updated upstream
<<<<<<< Updated upstream
   "execution_count": 49,
=======
   "execution_count": 54,
>>>>>>> Stashed changes
=======
   "execution_count": 54,
>>>>>>> Stashed changes
   "metadata": {},
   "outputs": [
    {
     "data": {
      "text/html": [
       "<div>\n",
       "<style scoped>\n",
       "    .dataframe tbody tr th:only-of-type {\n",
       "        vertical-align: middle;\n",
       "    }\n",
       "\n",
       "    .dataframe tbody tr th {\n",
       "        vertical-align: top;\n",
       "    }\n",
       "\n",
       "    .dataframe thead th {\n",
       "        text-align: right;\n",
       "    }\n",
       "</style>\n",
       "<table border=\"1\" class=\"dataframe\">\n",
       "  <thead>\n",
       "    <tr style=\"text-align: right;\">\n",
       "      <th>artist</th>\n",
<<<<<<< Updated upstream
<<<<<<< Updated upstream
       "      <th>!!!</th>\n",
       "      <th>#####</th>\n",
       "      <th>(hed) Planet Earth</th>\n",
       "      <th>*NSYNC</th>\n",
       "      <th>+44</th>\n",
       "      <th>12 Stones</th>\n",
       "      <th>1200 Micrograms</th>\n",
       "      <th>12012</th>\n",
       "      <th>13th Floor Elevators</th>\n",
       "      <th>2 Unlimited</th>\n",
       "      <th>...</th>\n",
       "      <th>å±±ä¸æºä¹</th>\n",
       "      <th>æ°å®¿ã²ãã«ã</th>\n",
       "      <th>æµå´ããã¿</th>\n",
       "      <th>æ¸",
       "æ¥</th>\n",
       "      <th>è",
       "éããå­</th>\n",
       "      <th>é",
       "-MIYAVI-</th>\n",
       "      <th>é«æ©å¹¸å®</th>\n",
       "      <th>é¬¼æã¡ã²ã</th>\n",
       "      <th>é·ºå·£è©©é</th>\n",
       "      <th>íì</th>\n",
=======
=======
>>>>>>> Stashed changes
       "      <th>:wumpscut:</th>\n",
       "      <th>ABC</th>\n",
       "      <th>Agonoize</th>\n",
       "      <th>Aidan Baker</th>\n",
       "      <th>Air</th>\n",
       "      <th>Amduscia</th>\n",
       "      <th>And One</th>\n",
       "      <th>Andrew Bird</th>\n",
       "      <th>Anorexia Nervosa</th>\n",
       "      <th>Arcade Fire</th>\n",
       "      <th>...</th>\n",
       "      <th>Worm Is Green</th>\n",
       "      <th>Ylid</th>\n",
       "      <th>a-ha</th>\n",
       "      <th>offthesky</th>\n",
       "      <th>strom noir</th>\n",
       "      <th>xotox</th>\n",
       "      <th>ÐÐµÐ½Ð¸Ð½Ð³ÑÐ°Ð´</th>\n",
       "      <th>×××× ××¤×</th>\n",
       "      <th>××× × ××××</th>\n",
       "      <th>×¢××¨× ××××¨</th>\n",
<<<<<<< Updated upstream
>>>>>>> Stashed changes
=======
>>>>>>> Stashed changes
       "    </tr>\n",
       "    <tr>\n",
       "      <th>artist</th>\n",
       "      <th></th>\n",
       "      <th></th>\n",
       "      <th></th>\n",
       "      <th></th>\n",
       "      <th></th>\n",
       "      <th></th>\n",
       "      <th></th>\n",
       "      <th></th>\n",
       "      <th></th>\n",
       "      <th></th>\n",
       "      <th></th>\n",
       "      <th></th>\n",
       "      <th></th>\n",
       "      <th></th>\n",
       "      <th></th>\n",
       "      <th></th>\n",
       "      <th></th>\n",
       "      <th></th>\n",
       "      <th></th>\n",
       "      <th></th>\n",
       "      <th></th>\n",
       "    </tr>\n",
       "  </thead>\n",
       "  <tbody>\n",
       "    <tr>\n",
<<<<<<< Updated upstream
<<<<<<< Updated upstream
       "      <td>!!!</td>\n",
       "      <td>1.0</td>\n",
       "      <td>0.0</td>\n",
       "      <td>0.0</td>\n",
       "      <td>0.0</td>\n",
       "      <td>0.0</td>\n",
       "      <td>0.000000</td>\n",
       "      <td>0.0</td>\n",
       "      <td>0.0</td>\n",
       "      <td>0.0</td>\n",
       "      <td>0.000000</td>\n",
       "      <td>...</td>\n",
       "      <td>0.0</td>\n",
       "      <td>0.0</td>\n",
       "      <td>0.0</td>\n",
       "      <td>0.0</td>\n",
       "      <td>0.0</td>\n",
       "      <td>0.0</td>\n",
       "      <td>0.0</td>\n",
       "      <td>0.0</td>\n",
       "      <td>0.0</td>\n",
       "      <td>0.0</td>\n",
       "    </tr>\n",
       "    <tr>\n",
       "      <td>#####</td>\n",
       "      <td>0.0</td>\n",
       "      <td>1.0</td>\n",
       "      <td>0.0</td>\n",
       "      <td>0.0</td>\n",
       "      <td>0.0</td>\n",
       "      <td>0.316228</td>\n",
       "      <td>0.0</td>\n",
       "      <td>0.0</td>\n",
       "      <td>0.0</td>\n",
       "      <td>0.000000</td>\n",
       "      <td>...</td>\n",
       "      <td>0.0</td>\n",
       "      <td>0.0</td>\n",
       "      <td>0.0</td>\n",
       "      <td>0.0</td>\n",
       "      <td>0.0</td>\n",
       "      <td>0.0</td>\n",
       "      <td>0.0</td>\n",
       "      <td>0.0</td>\n",
       "      <td>0.0</td>\n",
       "      <td>0.0</td>\n",
       "    </tr>\n",
       "    <tr>\n",
       "      <td>(hed) Planet Earth</td>\n",
       "      <td>0.0</td>\n",
       "      <td>0.0</td>\n",
       "      <td>1.0</td>\n",
       "      <td>0.0</td>\n",
       "      <td>0.0</td>\n",
       "      <td>0.000000</td>\n",
       "      <td>0.0</td>\n",
       "      <td>0.0</td>\n",
       "      <td>0.0</td>\n",
       "      <td>0.000000</td>\n",
       "      <td>...</td>\n",
       "      <td>0.0</td>\n",
       "      <td>0.0</td>\n",
       "      <td>0.0</td>\n",
       "      <td>0.0</td>\n",
       "      <td>0.0</td>\n",
       "      <td>0.0</td>\n",
       "      <td>0.0</td>\n",
       "      <td>0.0</td>\n",
       "      <td>0.0</td>\n",
       "      <td>0.0</td>\n",
       "    </tr>\n",
       "    <tr>\n",
       "      <td>*NSYNC</td>\n",
       "      <td>0.0</td>\n",
       "      <td>0.0</td>\n",
       "      <td>0.0</td>\n",
       "      <td>1.0</td>\n",
       "      <td>0.0</td>\n",
       "      <td>0.000000</td>\n",
       "      <td>0.0</td>\n",
       "      <td>0.0</td>\n",
       "      <td>0.0</td>\n",
       "      <td>0.707107</td>\n",
       "      <td>...</td>\n",
       "      <td>0.0</td>\n",
       "      <td>0.0</td>\n",
       "      <td>0.0</td>\n",
       "      <td>0.0</td>\n",
       "      <td>0.0</td>\n",
       "      <td>0.0</td>\n",
       "      <td>0.0</td>\n",
       "      <td>0.0</td>\n",
       "      <td>0.0</td>\n",
       "      <td>0.0</td>\n",
       "    </tr>\n",
       "    <tr>\n",
       "      <td>+44</td>\n",
       "      <td>0.0</td>\n",
       "      <td>0.0</td>\n",
       "      <td>0.0</td>\n",
       "      <td>0.0</td>\n",
       "      <td>1.0</td>\n",
       "      <td>0.000000</td>\n",
       "      <td>0.0</td>\n",
       "      <td>0.0</td>\n",
       "      <td>0.0</td>\n",
       "      <td>0.000000</td>\n",
       "      <td>...</td>\n",
       "      <td>0.0</td>\n",
       "      <td>0.0</td>\n",
       "      <td>0.0</td>\n",
       "      <td>0.0</td>\n",
       "      <td>0.0</td>\n",
       "      <td>0.0</td>\n",
       "      <td>0.0</td>\n",
       "      <td>0.0</td>\n",
       "      <td>0.0</td>\n",
       "      <td>0.0</td>\n",
       "    </tr>\n",
       "  </tbody>\n",
       "</table>\n",
       "<p>5 rows × 3281 columns</p>\n",
       "</div>"
      ],
      "text/plain": [
       "artist              !!!  #####  (hed) Planet Earth  *NSYNC  +44  12 Stones  \\\n",
       "artist                                                                       \n",
       "!!!                 1.0    0.0                 0.0     0.0  0.0   0.000000   \n",
       "#####               0.0    1.0                 0.0     0.0  0.0   0.316228   \n",
       "(hed) Planet Earth  0.0    0.0                 1.0     0.0  0.0   0.000000   \n",
       "*NSYNC              0.0    0.0                 0.0     1.0  0.0   0.000000   \n",
       "+44                 0.0    0.0                 0.0     0.0  1.0   0.000000   \n",
       "\n",
       "artist              1200 Micrograms  12012  13th Floor Elevators  2 Unlimited  \\\n",
       "artist                                                                          \n",
       "!!!                             0.0    0.0                   0.0     0.000000   \n",
       "#####                           0.0    0.0                   0.0     0.000000   \n",
       "(hed) Planet Earth              0.0    0.0                   0.0     0.000000   \n",
       "*NSYNC                          0.0    0.0                   0.0     0.707107   \n",
       "+44                             0.0    0.0                   0.0     0.000000   \n",
       "\n",
       "artist              ...  å±±ä¸æºä¹\n",
       "  æ°å®¿ã²ãã«ã  æµå´ããã¿  \\\n",
       "artist              ...                                                      \n",
       "!!!                 ...           0.0                 0.0              0.0   \n",
       "#####               ...           0.0                 0.0              0.0   \n",
       "(hed) Planet Earth  ...           0.0                 0.0              0.0   \n",
       "*NSYNC              ...           0.0                 0.0              0.0   \n",
       "+44                 ...           0.0                 0.0              0.0   \n",
       "\n",
       "artist              æ¸\n",
       "æ¥  è\n",
       "éããå­  é\n",
       "-MIYAVI-  é«æ©å¹¸å®  \\\n",
       "artist                                                                   \n",
       "!!!                    0.0              0.0          0.0           0.0   \n",
       "#####                  0.0              0.0          0.0           0.0   \n",
       "(hed) Planet Earth     0.0              0.0          0.0           0.0   \n",
       "*NSYNC                 0.0              0.0          0.0           0.0   \n",
       "+44                    0.0              0.0          0.0           0.0   \n",
       "\n",
       "artist              é¬¼æã¡ã²ã  é·ºå·£è©©é  íì  \n",
       "artist                                                     \n",
       "!!!                             0.0           0.0     0.0  \n",
       "#####                           0.0           0.0     0.0  \n",
       "(hed) Planet Earth              0.0           0.0     0.0  \n",
       "*NSYNC                          0.0           0.0     0.0  \n",
       "+44                             0.0           0.0     0.0  \n",
       "\n",
       "[5 rows x 3281 columns]"
      ]
     },
     "execution_count": 49,
=======
=======
>>>>>>> Stashed changes
       "      <th>:wumpscut:</th>\n",
       "      <td>1.000000</td>\n",
       "      <td>0.000000</td>\n",
       "      <td>0.860433</td>\n",
       "      <td>0.000000</td>\n",
       "      <td>0.199317</td>\n",
       "      <td>0.697006</td>\n",
       "      <td>0.610666</td>\n",
       "      <td>0.000000</td>\n",
       "      <td>0.000000</td>\n",
       "      <td>0.000000</td>\n",
       "      <td>...</td>\n",
       "      <td>0.038298</td>\n",
       "      <td>0.000000</td>\n",
       "      <td>0.038592</td>\n",
       "      <td>0.0</td>\n",
       "      <td>0.000000</td>\n",
       "      <td>0.610640</td>\n",
       "      <td>0.053149</td>\n",
       "      <td>0.0</td>\n",
       "      <td>0.0</td>\n",
       "      <td>0.000000</td>\n",
       "    </tr>\n",
       "    <tr>\n",
       "      <th>ABC</th>\n",
       "      <td>0.000000</td>\n",
       "      <td>1.000000</td>\n",
       "      <td>0.000000</td>\n",
       "      <td>0.000000</td>\n",
       "      <td>0.024388</td>\n",
       "      <td>0.000000</td>\n",
       "      <td>0.235396</td>\n",
       "      <td>0.020146</td>\n",
       "      <td>0.000000</td>\n",
       "      <td>0.002102</td>\n",
       "      <td>...</td>\n",
       "      <td>0.000000</td>\n",
       "      <td>0.000000</td>\n",
       "      <td>0.731377</td>\n",
       "      <td>0.0</td>\n",
       "      <td>0.000000</td>\n",
       "      <td>0.000000</td>\n",
       "      <td>0.000000</td>\n",
       "      <td>0.0</td>\n",
       "      <td>0.0</td>\n",
       "      <td>0.036037</td>\n",
       "    </tr>\n",
       "    <tr>\n",
       "      <th>Agonoize</th>\n",
       "      <td>0.860433</td>\n",
       "      <td>0.000000</td>\n",
       "      <td>1.000000</td>\n",
       "      <td>0.000000</td>\n",
       "      <td>0.092406</td>\n",
       "      <td>0.914549</td>\n",
       "      <td>0.545445</td>\n",
       "      <td>0.000000</td>\n",
       "      <td>0.000000</td>\n",
       "      <td>0.000000</td>\n",
       "      <td>...</td>\n",
       "      <td>0.017756</td>\n",
       "      <td>0.000000</td>\n",
       "      <td>0.016103</td>\n",
       "      <td>0.0</td>\n",
       "      <td>0.000000</td>\n",
       "      <td>0.501859</td>\n",
       "      <td>0.000000</td>\n",
       "      <td>0.0</td>\n",
       "      <td>0.0</td>\n",
       "      <td>0.000000</td>\n",
       "    </tr>\n",
       "    <tr>\n",
       "      <th>Aidan Baker</th>\n",
       "      <td>0.000000</td>\n",
       "      <td>0.000000</td>\n",
       "      <td>0.000000</td>\n",
       "      <td>1.000000</td>\n",
       "      <td>0.190089</td>\n",
       "      <td>0.000000</td>\n",
       "      <td>0.037268</td>\n",
       "      <td>0.025516</td>\n",
       "      <td>0.000000</td>\n",
       "      <td>0.010652</td>\n",
       "      <td>...</td>\n",
       "      <td>0.084921</td>\n",
       "      <td>0.288675</td>\n",
       "      <td>0.000000</td>\n",
       "      <td>0.0</td>\n",
       "      <td>0.288675</td>\n",
       "      <td>0.000000</td>\n",
       "      <td>0.000000</td>\n",
       "      <td>0.0</td>\n",
       "      <td>0.0</td>\n",
       "      <td>0.000000</td>\n",
       "    </tr>\n",
       "    <tr>\n",
       "      <th>Air</th>\n",
       "      <td>0.199317</td>\n",
       "      <td>0.024388</td>\n",
       "      <td>0.092406</td>\n",
       "      <td>0.190089</td>\n",
       "      <td>1.000000</td>\n",
       "      <td>0.006652</td>\n",
       "      <td>0.354209</td>\n",
       "      <td>0.072753</td>\n",
       "      <td>0.115235</td>\n",
       "      <td>0.103262</td>\n",
       "      <td>...</td>\n",
       "      <td>0.206624</td>\n",
       "      <td>0.263395</td>\n",
       "      <td>0.118583</td>\n",
       "      <td>0.0</td>\n",
       "      <td>0.263395</td>\n",
       "      <td>0.000000</td>\n",
       "      <td>0.000000</td>\n",
       "      <td>0.0</td>\n",
       "      <td>0.0</td>\n",
       "      <td>0.010412</td>\n",
       "    </tr>\n",
       "  </tbody>\n",
       "</table>\n",
       "<p>5 rows × 176 columns</p>\n",
       "</div>"
      ],
      "text/plain": [
       "artist       :wumpscut:       ABC  Agonoize  Aidan Baker       Air  Amduscia  \\\n",
       "artist                                                                         \n",
       ":wumpscut:     1.000000  0.000000  0.860433     0.000000  0.199317  0.697006   \n",
       "ABC            0.000000  1.000000  0.000000     0.000000  0.024388  0.000000   \n",
       "Agonoize       0.860433  0.000000  1.000000     0.000000  0.092406  0.914549   \n",
       "Aidan Baker    0.000000  0.000000  0.000000     1.000000  0.190089  0.000000   \n",
       "Air            0.199317  0.024388  0.092406     0.190089  1.000000  0.006652   \n",
       "\n",
       "artist        And One  Andrew Bird  Anorexia Nervosa  Arcade Fire  ...  \\\n",
       "artist                                                             ...   \n",
       ":wumpscut:   0.610666     0.000000          0.000000     0.000000  ...   \n",
       "ABC          0.235396     0.020146          0.000000     0.002102  ...   \n",
       "Agonoize     0.545445     0.000000          0.000000     0.000000  ...   \n",
       "Aidan Baker  0.037268     0.025516          0.000000     0.010652  ...   \n",
       "Air          0.354209     0.072753          0.115235     0.103262  ...   \n",
       "\n",
       "artist       Worm Is Green      Ylid      a-ha  offthesky  strom noir  \\\n",
       "artist                                                                  \n",
       ":wumpscut:        0.038298  0.000000  0.038592        0.0    0.000000   \n",
       "ABC               0.000000  0.000000  0.731377        0.0    0.000000   \n",
       "Agonoize          0.017756  0.000000  0.016103        0.0    0.000000   \n",
       "Aidan Baker       0.084921  0.288675  0.000000        0.0    0.288675   \n",
       "Air               0.206624  0.263395  0.118583        0.0    0.263395   \n",
       "\n",
       "artist          xotox  ÐÐµÐ½Ð¸Ð½Ð³ÑÐ°Ð´  ×××× ××¤×  ××× × ××××  \\\n",
       "artist                                                                          \n",
       ":wumpscut:   0.610640            0.053149              0.0                0.0   \n",
       "ABC          0.000000            0.000000              0.0                0.0   \n",
       "Agonoize     0.501859            0.000000              0.0                0.0   \n",
       "Aidan Baker  0.000000            0.000000              0.0                0.0   \n",
       "Air          0.000000            0.000000              0.0                0.0   \n",
       "\n",
       "artist       ×¢××¨× ××××¨  \n",
       "artist                          \n",
       ":wumpscut:            0.000000  \n",
       "ABC                   0.036037  \n",
       "Agonoize              0.000000  \n",
       "Aidan Baker           0.000000  \n",
       "Air                   0.010412  \n",
       "\n",
       "[5 rows x 176 columns]"
      ]
     },
     "execution_count": 54,
<<<<<<< Updated upstream
>>>>>>> Stashed changes
=======
>>>>>>> Stashed changes
     "metadata": {},
     "output_type": "execute_result"
    }
   ],
   "source": [
    "artist_sim = pd.DataFrame(\n",
    "    cosine_similarity(artist_genre),\n",
    "    columns=artist_genre.index,\n",
    "    index=artist_genre.index\n",
    ")\n",
    "artist_sim.head()"
   ]
  },
  {
   "cell_type": "code",
   "execution_count": 52,
   "metadata": {},
   "outputs": [],
   "source": []
  },
  {
   "cell_type": "code",
   "execution_count": 69,
   "metadata": {},
   "outputs": [
    {
     "data": {
      "text/plain": [
       "artist\n",
       "Muse                 1.000000\n",
       "Placebo              0.901202\n",
       "Radiohead            0.885113\n",
       "Coldplay             0.884976\n",
       "Poets of the Fall    0.842215\n",
       "OneRepublic          0.807670\n",
       "Garbage              0.792392\n",
       "CAKE                 0.758489\n",
       "VAST                 0.746969\n",
       "Stereophonics        0.746539\n",
       "Name: Muse, dtype: float64"
      ]
     },
     "execution_count": 69,
     "metadata": {},
     "output_type": "execute_result"
    }
   ],
   "source": [
<<<<<<< Updated upstream
<<<<<<< Updated upstream
    "#artist_sim['Linkin Park'].sort_values(ascending=False).head(10)\n",
    "# artist_sim['Nickelback'].sort_values(ascending=False).head(10)\n",
=======
    "#artist_sim['Muse'].sort_values(ascending=False).head(10)\n",
    "#artist_sim['Nickelback'].sort_values(ascending=False).head(10)\n",
>>>>>>> Stashed changes
=======
    "#artist_sim['Muse'].sort_values(ascending=False).head(10)\n",
    "#artist_sim['Nickelback'].sort_values(ascending=False).head(10)\n",
>>>>>>> Stashed changes
    "# artist_sim['Linkin Park'].sort_values(ascending=False).head(10)\n",
    "# artist_sim['2Pac'].sort_values(ascending=False).head(10)\n",
    "# artist_sim['Justin Bieber'].sort_values(ascending=False).head(10)"
   ]
  },
  {
   "cell_type": "markdown",
   "metadata": {},
   "source": [
    "### Use Case 2: Profile-Based Recommendations: \"Recommend me something based on my \"profile\""
   ]
  },
  {
   "cell_type": "code",
<<<<<<< Updated upstream
<<<<<<< Updated upstream
   "execution_count": 54,
=======
   "execution_count": 68,
>>>>>>> Stashed changes
=======
   "execution_count": 68,
>>>>>>> Stashed changes
   "metadata": {},
   "outputs": [
    {
     "data": {
      "text/plain": [
<<<<<<< Updated upstream
<<<<<<< Updated upstream
       "['00',\n",
       " '00s',\n",
       " '10s',\n",
       " '1970',\n",
       " '1970s',\n",
       " '1973',\n",
       " '1978',\n",
       " '1979',\n",
       " '1979 songs',\n",
       " '1980']"
      ]
     },
     "execution_count": 54,
=======
=======
>>>>>>> Stashed changes
       "artist\n",
       "Muse                   265.0\n",
       "Radiohead              226.0\n",
       "Coldplay               180.0\n",
       "Pink Floyd             136.0\n",
       "Placebo                135.0\n",
       "Depeche Mode           115.0\n",
       "System of a Down        96.0\n",
       "Blur                    88.0\n",
       "My Chemical Romance     84.0\n",
       "Arctic Monkeys          84.0\n",
       "Gorillaz                83.0\n",
       "Garbage                 82.0\n",
       "Keane                   80.0\n",
       "Beck                    75.0\n",
       "The Cure                73.0\n",
       "Marilyn Manson          72.0\n",
       "Lady Gaga               71.0\n",
       "OneRepublic             68.0\n",
       "Tom Waits               65.0\n",
       "Madonna                 61.0\n",
       "dtype: float64"
      ]
     },
     "execution_count": 68,
<<<<<<< Updated upstream
>>>>>>> Stashed changes
=======
>>>>>>> Stashed changes
     "metadata": {},
     "output_type": "execute_result"
    }
   ],
   "source": [
    "genres = artist_genre.columns.tolist()\n",
<<<<<<< Updated upstream
    "genres[:10]"
   ]
  },
  {
   "cell_type": "code",
   "execution_count": 55,
   "metadata": {},
   "outputs": [],
   "source": [
    "my_profile = pd.Series(np.zeros(len(genres)), index=artist_genre.columns)"
   ]
  },
  {
   "cell_type": "code",
   "execution_count": 58,
   "metadata": {},
   "outputs": [],
   "source": [
    "my_profile['rock'] = 1\n",
    "my_profile['world'] = 3\n",
    "my_profile['folk'] = 3\n",
    "my_profile['electronic'] = 1"
   ]
  },
  {
   "cell_type": "code",
   "execution_count": 59,
   "metadata": {},
   "outputs": [
    {
     "data": {
      "text/plain": [
       "artist\n",
       "Depeche Mode                    13.0\n",
       "Creedence Clearwater Revival     8.0\n",
       "U2                               8.0\n",
       "Lady Gaga                        7.0\n",
       "Madonna                          7.0\n",
       "Radiohead                        7.0\n",
       "The Beatles                      7.0\n",
       "Evanescence                      6.0\n",
       "My Chemical Romance              6.0\n",
       "Haris Alexiou                    6.0\n",
       "Vanguart                         6.0\n",
       "Queen                            6.0\n",
       "Mallu MagalhÃ£es                 6.0\n",
       "Bon Jovi                         6.0\n",
       "Bob Dylan                        6.0\n",
       "Gorillaz                         6.0\n",
       "John Denver                      6.0\n",
       "Linkin Park                      6.0\n",
       "The Cure                         5.0\n",
       "t.A.T.u.                         5.0\n",
       "dtype: float64"
      ]
     },
     "execution_count": 59,
     "metadata": {},
     "output_type": "execute_result"
    }
   ],
   "source": [
    "recommendations = np.dot(artist_genre.values, my_profile.values)\n",
    "recommendations = pd.Series(recommendations, index = artist_genre.index)\n",
    "recommendations.sort_values(ascending = False).head(20)"
=======
    "my_profile = pd.Series(np.zeros(len(genres)), index=artist_genre.columns)\n",
    "\n",
    "my_profile['rock'] = 4\n",
    "my_profile['world'] = 3\n",
    "my_profile['folk'] = 3\n",
    "my_profile['electronic'] = 1\n",
    "\n",
    "recommendations = np.dot(artist_genre.values, my_profile.values)\n",
    "recommendations = pd.Series(recommendations, index=artist_genre.index)\n",
    "recommendations.sort_values(ascending=False).head(20)\n"
<<<<<<< Updated upstream
>>>>>>> Stashed changes
=======
>>>>>>> Stashed changes
   ]
  },
  {
   "cell_type": "markdown",
   "metadata": {
    "slideshow": {
     "slide_type": "slide"
    }
   },
   "source": [
    "<a id=\"conclusion\"></a>\n",
    "## Conclusion\n",
    "---\n",
    "\n",
    "We have looked at the major types of recommender systems in this lesson. Let's quickly wrap up by looking at the pros and cons of each.\n",
    "\n",
    "#### Collaborative Filtering \n",
    "\n",
    "Pros:\n",
    "- No need to hand craft features\n",
    "\n",
    "Cons:\n",
    "- Needs a large existing set of ratings (cold-start problem)\n",
    "- Sparsity occurs when the number of items far exceeds what a person could purchase\n",
    "\n",
    "#### Content-based Filtering\n",
    "\n",
    "Pros:\n",
    "- No need for a large number of users\n",
    "\n",
    "Cons:\n",
    "- Lacks serendipity\n",
    "- May be difficult to generate the right features\n",
    "- Hard to create cross-content recommendations (different feature spaces)\n",
    "\n",
    "In fact, the best solution -- and the one most likely in use in any large-scale, production system is a combination of both of these. This is known as a **hybrid system**. By combining the two systems, you can get the best of both worlds."
   ]
  },
  {
   "cell_type": "markdown",
   "metadata": {
    "slideshow": {
     "slide_type": "slide"
    }
   },
   "source": [
    "<a id=\"extra-practice\"></a>\n",
    "## Extra Practice\n",
    "---\n",
    "\n",
    "Using the [MovieLens dataset](https://grouplens.org/datasets/movielens/100k/), experiment with building a recommender system. Check the \"Additional Resources\" for more information and some considerations on how to evaluate these systems."
   ]
  },
  {
   "cell_type": "markdown",
   "metadata": {
    "slideshow": {
     "slide_type": "slide"
    }
   },
   "source": [
    "<a id=\"additional-resources\"></a>\n",
    "## Additional Resources\n",
    "---\n",
    "\n",
    "- [Wharton Study of Recommender Systems](http://knowledge.wharton.upenn.edu/article/recommended-for-you-how-well-does-personalized-marketing-work/)\n",
    "- [Netflix Recommendations](https://www.rtinsights.com/netflix-recommendations-machine-learning-algorithms/)\n",
    "- [Netflix Paper](http://dl.acm.org/citation.cfm?id=2843948)\n",
    "- [NY Times Rec System](https://open.blogs.nytimes.com/2015/08/11/building-the-next-new-york-times-recommendation-engine)\n",
    "- [Evaluating Rec Systems](https://www.quora.com/How-do-you-measure-and-evaluate-the-quality-of-recommendation-engines)\n",
    "- Tutorials:\n",
    "    - [DataCamp](https://www.datacamp.com/community/tutorials/recommender-systems-python)\n",
    "    - [Kaggle](https://www.kaggle.com/gspmoreira/recommender-systems-in-python-101)"
   ]
  }
 ],
 "metadata": {
  "anaconda-cloud": {},
  "kernelspec": {
   "display_name": "Python 3",
   "language": "python",
   "name": "python3"
  },
  "language_info": {
   "codemirror_mode": {
    "name": "ipython",
    "version": 3
   },
   "file_extension": ".py",
   "mimetype": "text/x-python",
   "name": "python",
   "nbconvert_exporter": "python",
   "pygments_lexer": "ipython3",
<<<<<<< Updated upstream
<<<<<<< Updated upstream
   "version": "3.6.5"
=======
   "version": "3.7.3"
>>>>>>> Stashed changes
=======
   "version": "3.7.3"
>>>>>>> Stashed changes
  }
 },
 "nbformat": 4,
 "nbformat_minor": 2
}
