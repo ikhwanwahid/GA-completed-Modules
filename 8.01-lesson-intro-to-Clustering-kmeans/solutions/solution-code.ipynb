{
 "cells": [
  {
   "cell_type": "markdown",
   "metadata": {
    "slideshow": {
     "slide_type": "slide"
    }
   },
   "source": [
    "<img src=\"http://imgur.com/1ZcRyrc.png\" style=\"float: left; margin: 20px; height: 55px\">\n",
    "\n",
    "# Introduction to Clustering and K-Means\n",
    "\n",
    "_Authors: Tim Book (DC), Dave Yerrington (SF), Joseph Nelson (DC)_\n",
    "\n",
    "---\n",
    "\n",
    "![](https://snag.gy/kYWumd.jpg)"
   ]
  },
  {
   "cell_type": "markdown",
   "metadata": {
    "slideshow": {
     "slide_type": "slide"
    }
   },
   "source": [
    "# Learning Objectives\n",
    "*After this lesson, you will be able to:*\n",
    "- Understand basic unsupervised clustering problems\n",
    "- Perform a K-Means Clustering Analysis\n",
    "- Evaluate clusters for fit "
   ]
  },
  {
   "cell_type": "markdown",
   "metadata": {
    "slideshow": {
     "slide_type": "slide"
    }
   },
   "source": [
    "## Lesson Guide\n",
    "- [Unsupervised learning](#unsupervised)\n",
    "- [Introduction to clustering](#intro)\n",
    "- [Uses for Clustering](#uses)\n",
    "- [What is clustering?](#what)\n",
    "- [KNN review](#knn)\n",
    "- [Clustering algorithms](#algos)\n",
    "- [K-means clustering](#k-means)\n",
    "- [K-Means step-by-step](#km-steps)\n",
    "- [K-Means: a visual example](#vis)\n",
    "- [K-Means caveats and pitfalls](#caveats)\n",
    "- [Centroid Initialization](#init-centroid)\n",
    "- [Choosing K](#choose-k)\n",
    "- [A note on K-Means convergence](#converge)\n",
    "- [K-Means in sklearn](#sklearn)\n",
    "- [Metrics: inertia and the silhouette coefficient](#sil)\n",
    "- [Practice: use K-Means on the \"Isotopic Composition Plutonium Batches\" data](#pluto)\n",
    "    - [How does scaling affect fit?](#scaling)\n",
    "- [Conclusion: K-Means tradeoffs](#conclusion)\n",
    "- [Additional resources](#resources)"
   ]
  },
  {
   "cell_type": "markdown",
   "metadata": {
    "slideshow": {
     "slide_type": "slide"
    }
   },
   "source": [
    "<a id='unsupervised'></a>\n",
    "\n",
    "## Unsupervised learning\n",
    "\n",
    "---\n",
    "\n",
    "Up until now, we've been doing **supervised learning** - that is, modeling of the form:\n",
    "\n",
    "> Given X, predict Y\n",
    "\n",
    "Supervised learning comes in two flavors: can you remind me what they are? And how are they different? (prompt)\n",
    "\n",
    "When we don't have a Y variable to predict, we are in the realm of **unsupervised learning**. Since there is no Y variable, unsupervised learning has no measurable \"goal\". Instead, unsuprvised learning seeks to **represent the data in new ways**. Today we're introducing **clustering**, however there are many other types of unsupervised learning.\n",
    "\n",
    "> Data that don't have a natural Y variable are sometimes referred to as **unlabeled** data. This is because the Y variable is often refered to as a **label**."
   ]
  },
  {
   "cell_type": "markdown",
   "metadata": {},
   "source": [
    "## New Issues\n",
    "Since there is no Y variable to \"supervise\" our learning, unsupervised learning presents us with some new issues we've never had to work through:\n",
    "\n",
    "* **What is \"correct\"?** Since there's no Y variable, we don't have an easy to way know if we're even doing a good job.\n",
    "* **Tuning parameter selection.** Many unsupervised models have tuning parameters. How do we tune them if we don't know how to evaluate our model?\n",
    "* **Unpredictability (clustering).** In clustering, it is very difficult to predict what our model will give us. It's possible that a clustering algorithm won't give us actionable results. More on this later."
   ]
  },
  {
   "cell_type": "markdown",
   "metadata": {
    "slideshow": {
     "slide_type": "slide"
    }
   },
   "source": [
    "<a name=\"intro\"></a>\n",
    "# Introduction to Clustering\n",
    "\n",
    "---\n",
    "\n",
    "**Clustering** is a task in which we seek to group our observations in **homogenous clusters**. Since it's unsupervised, it is up to us, the data scientists, to decide what we mean by \"homogenous\"."
   ]
  },
  {
   "cell_type": "markdown",
   "metadata": {},
   "source": [
    "<a name=\"uses\"></a>\n",
    "## Uses for Clustering\n",
    "### Marketing\n",
    "Marketing teams do a lot of data-driven research into who does and does not buy their product (and why). As a marketing data scientist, you might collect demographic information about people in a survey and their spending habits. After clustering, you do some EDA and you might discover:\n",
    "\n",
    "> People in Cluster A aren't buying our product, but people in Cluster B are. Why?\n",
    "\n",
    "After some digging, you might make the conclusion and recommendation:\n",
    "\n",
    "> People in Cluster A have characteristic X, but people in Cluster B do not. In order to sell to Cluster A, we should target our marketing with respect to X.\n",
    "\n",
    "Maybe X = \n",
    "* They don't have cable\n",
    "* Their political beliefs\n",
    "* They live in cities\n",
    "\n",
    "\n",
    "<img src=\"https://snag.gy/BdfATE.jpg\" style=\"width: 500px\">"
   ]
  },
  {
   "cell_type": "markdown",
   "metadata": {},
   "source": [
    "### Political Polling\n",
    "In the same vein as the above example, instead of buying a product, maybe it's **voting for a certain candidate**.\n",
    "\n",
    "The popular data-drive journalism website, FiveThirtyEight is doing a lot of research into the upcoming 2020 Democratic primary season. They have used (probably subjective) clustering techniques to divide Democratic voters into five clusters:\n",
    "\n",
    "* Party Loyalists\n",
    "* The Left\n",
    "* Millennials and Friends\n",
    "* Black voters\n",
    "* Hispanic voters (sometimes in combination with Asian voters)\n",
    "\n",
    "They then graded each candidate based on their favorability of these clusters:\n",
    "\n",
    "<img src=\"assets/imgs/five-corners.png\">\n",
    "\n",
    "Their methodology is probably more subjective than scientific, but it still provides a good example into how real political polling works. You can read more about it [here](https://fivethirtyeight.com/features/the-5-key-constituencies-of-the-2020-democratic-primary/)."
   ]
  },
  {
   "cell_type": "markdown",
   "metadata": {},
   "source": [
    "## Recommender Systems\n",
    "Online retailers cluster their items by similarity. If you buy (or search for) a few items in a given cluster, they may recommend you other similar items in that same cluster.\n",
    "\n",
    "<img src=\"assets/imgs/recs.png\">"
   ]
  },
  {
   "cell_type": "markdown",
   "metadata": {
    "slideshow": {
     "slide_type": "slide"
    }
   },
   "source": [
    "<img src=\"https://snag.gy/YUt5RO.jpg\" style=\"float: left; margin-right: 25px; width: 250px\">\n",
    "\n",
    "## What other problems do you think can make use of clustering?\n",
    "\n",
    "(thread)"
   ]
  },
  {
   "cell_type": "markdown",
   "metadata": {
    "slideshow": {
     "slide_type": "slide"
    }
   },
   "source": [
    "<a name=\"algos\"></a>\n",
    "# Clustering algorithms \n",
    "\n",
    "---\n",
    "\n",
    "The are many different algorithms that can perform clustering given a dataset:\n",
    "\n",
    "- **K-Means** (mean centroids)\n",
    "- **Hierarchical** (nested clusters by merging or splitting successively)\n",
    "- **DBSCAN** (density based)\n",
    "- **Affinity Propagation** (graph based approach to let points 'vote' on their preferred 'exemplar')\n",
    "- **Mean Shift** (can find number of clusters)\n",
    "- **Spectral Clustering**\n",
    "- **Agglomerative Clustering** (suite of algorithms all based on applying the same criteria/characteristics of one cluster to others)\n",
    "\n",
    "\n",
    "\n",
    "Today we're going to look only at one of the algorithms: **k-means**."
   ]
  },
  {
   "cell_type": "markdown",
   "metadata": {},
   "source": [
    "## Aside about the letter k:\n",
    "This is the _third_ topic we're learning that uses $k$ as its primary tuning parameter: k-Nearest Neighbors, k-Fold Cross Validation, and now k-Means Clustering. **The only thing they have in common is the letter $k$!** And since it's a tuning parameter, it's not the same $k$. Just an unfortunate coincidence that they all picked the same arbitrary letter."
   ]
  },
  {
   "cell_type": "markdown",
   "metadata": {
    "slideshow": {
     "slide_type": "slide"
    }
   },
   "source": [
    "<a id='k-means'></a>\n",
    "# K-Means clustering\n",
    "\n",
    "---\n",
    "\n",
    "#### K-Means is the most popular clustering algorithm\n",
    "\n",
    "K-means is one of the easier methods to understand and other clustering techniques use some of the same assumptions that k-means relies on.\n",
    "\n",
    "- **k** is the number of clusters.\n",
    "- **Means** refers to the mean points of the k clusters.\n",
    "\n",
    "The goal is to partition the data into set such that the total sum of squared distances from each point to the mean point of the cluster is minimized.\n",
    "\n",
    "**You must choose $k$, the number of clusters, in advance.** Note that this is a huge issue, since we rarely have an intuition for this number. And since we're in unsupervised territory, it's hard for us to know if we've picked correctly! We'll talk about how to pick $k$ later.\n",
    "\n",
    "The algorithm takes your entire dataset and iterates over its features and observations to determine clusters based around center points. These center points are known as **centroids**. \n",
    "\n",
    "**K-means iterative fitting:**\n",
    "1. Pick a value for k (the number of clusters to create)\n",
    "2. Initialize $k$ 'centroids' (starting points) in your data\n",
    "3. Create your clusters. Assign each point to the nearest centroid. \n",
    "4. Make your clusters better. Move each centroid to the center of its cluster. \n",
    "5. Repeat steps 3-4 until your centroids converge. \n",
    "\n",
    "> Check out a demo of this algorithm [here](https://www.naftaliharris.com/blog/visualizing-k-means-clustering/)!"
   ]
  },
  {
   "cell_type": "markdown",
   "metadata": {
    "slideshow": {
     "slide_type": "slide"
    }
   },
   "source": [
    "<a id='caveats'></a>\n",
    "## Sounds great - what could go wrong?\n",
    "\n",
    "---\n",
    "\n",
    "Now that we've learned the basic process for K-Means clustering, we should explore the idea that nothing's perfect!  Let's play a game called **\"How will it converge!?\"**.\n",
    "\n",
    "### Scenario 1: Wispy Flat Blobs"
   ]
  },
  {
   "cell_type": "code",
   "execution_count": 21,
   "metadata": {},
   "outputs": [],
   "source": [
    "import numpy as np\n",
    "import pandas as pd\n",
    "import matplotlib.pyplot as plt\n",
    "from sklearn.datasets import make_blobs"
   ]
  },
  {
   "cell_type": "code",
   "execution_count": 22,
   "metadata": {},
   "outputs": [
    {
     "data": {
      "image/png": "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\n",
      "text/plain": [
       "<Figure size 576x288 with 1 Axes>"
      ]
     },
     "metadata": {},
     "output_type": "display_data"
    }
   ],
   "source": [
    "X, color = make_blobs(n_samples=50, random_state=13, centers=2, cluster_std=.5, )\n",
    "X = map(lambda x: (x[0][0], x[0][1], color[x[1]]), zip(X, color))\n",
    "\n",
    "points = pd.DataFrame(list(X), columns=[\"x1\", \"x2\", \"color\"])\n",
    "ax = points.plot(kind=\"scatter\", x=\"x1\", y=\"x2\", figsize=(8, 4))\n",
    "\n",
    "initial_centroids = pd.DataFrame([[5.5, 2.4, \"b\"], [6.7, 2.4, \"r\"]], columns=[\"x1\", \"x2\", \"color\"])\n",
    "initial_centroids.plot(kind=\"scatter\", x=\"x1\", y=\"x2\", c=initial_centroids['color'], ax=ax, marker=\"*\", s=150);"
   ]
  },
  {
   "cell_type": "markdown",
   "metadata": {},
   "source": [
    "### Scenario 2:  The Lone Wolf Point"
   ]
  },
  {
   "cell_type": "code",
   "execution_count": 23,
   "metadata": {},
   "outputs": [
    {
     "data": {
      "image/png": "iVBORw0KGgoAAAANSUhEUgAAAfcAAAEJCAYAAACJ7W5OAAAABHNCSVQICAgIfAhkiAAAAAlwSFlzAAALEgAACxIB0t1+/AAAADh0RVh0U29mdHdhcmUAbWF0cGxvdGxpYiB2ZXJzaW9uMy4xLjEsIGh0dHA6Ly9tYXRwbG90bGliLm9yZy8QZhcZAAAgAElEQVR4nO3de3QU5f3H8c8mmxAgkttyMRGKEawNXihCQZSCsFhqPS31cFJB8WdpD0VQFFRAtF6qrVGJiVoQrRXU9ni8tECxWOrKEY/QVi4iGBQVAWkDxk1CSEKSze7O7w/MSm6QANnZefJ+/cXMzrLfL0Py2Xlm5hmXZVmWAACAMeLsLgAAAJxehDsAAIYh3AEAMAzhDgCAYQh3AAAMQ7gDAGAYt90FnIzi4mK7SzhlHo9Hfr/f7jJOiQk9SGb0YUIPEn3EEhN6kMzoIzMzs93v4cgdAADDEO4AABiGcAcAwDCEOwAAhiHcAQAwDOEOAIBhCHcAAAxDuAMAYBjCHQAAwxDuAAAYJirhvmTJEv3yl7/Ubbfd1uy11atXKzc3V4cPH45GKQAAGC8q4T5mzBgtXLiw2Xq/36/t27fL4/FEowwAADqFqIR7Tk6OkpOTm61//vnnde2118rlckWjDAAAOgXbngq3adMmpaenq3///ifc1ufzyefzSZLy8vKMONJ3u92O78OEHiQz+jChB4k+YokJPUjm9NFetoR7XV2dVqxYobvvvrtN23u9Xnm93siy0x/fJ5nxGEITepDM6MOEHiT6iCUm9CCZ0YdjHvn65ZdfqqSkRHfccYdmzZql0tJSzZ8/X4cOHbKjHAAAjGLLkXu/fv307LPPRpZnzZqlhx56SD169LCjHAAAjBKVcC8sLNTOnTtVWVmpGTNmKDc3V2PHjo3GRwMA0OlEJdxvvfXW476+ePHiaJQBAECnwAx1AAAYhnAHAMAwhDsAAIYh3AEAMAzhDgCAYQh3AAAMQ7gDAGAYwh0AAMMQ7gAAGIZwBwDAMIQ7AACGIdwBADAM4Q4AgGEIdwAADEO4AwBgGMIdAADDEO4AABiGcAcAwDCEOwAAhiHcAQAwjDsaH7JkyRJt3bpVKSkpys/PlyS9+OKL2rJli9xut3r37q2ZM2eqe/fu0SgHAACjReXIfcyYMVq4cGGjdRdeeKHy8/O1aNEinXnmmVqxYkU0SgEAwHhRCfecnBwlJyc3WnfRRRcpPj5eknTuueeqrKwsGqUAAGC8qAzLn8i6des0cuTIVl/3+Xzy+XySpLy8PHk8nmiV1mHcbrfj+zChB8mMPkzoQaKPWGJCD5I5fbSX7eH+17/+VfHx8Ro1alSr23i9Xnm93siy3++PRmkdyuPxOL4PE3qQzOjDhB4k+oglJvQgmdFHZmZmu99j69Xyb7/9trZs2aLZs2fL5XLZWQoAAMawLdy3bdumVatWaf78+erSpYtdZQAAYJyoDMsXFhZq586dqqys1IwZM5Sbm6sVK1YoGAzqgQcekCQNHDhQ06dPj0Y5AAAYLSrhfuuttzZbN3bs2Gh8NAAAnQ4z1AEAYBjCHQAAwxDuAAAYhnAHAMAwhDsAAIYh3AEAMAzhDgCAYQh3AAAMQ7gDAGAYwh0AAMMQ7gAAGIZwBwDAMIQ7AACGIdwBADAM4Q4AgGEIdwAADEO4G+DttxPtLgEAEEMId4fbty9es2enKRy2uxIAQKwg3B1u+fJuqq526d//5ugdAHAU4e5wW7YkqrY2Tn/+cze7SwEAxAh3ND5kyZIl2rp1q1JSUpSfny9JqqqqUkFBgb766iv17NlTc+bMUXJycjTKcazt293au/ebXXbkiEv79h1d/uijBP3tb0mNth8yJKCzzmK8HgA6m6iE+5gxYzRhwgQtXrw4sm7lypW64IILNHHiRK1cuVIrV67UddddF41yHKuqKk7335+igwfjm722a1eCbrwxXZIUH2/pnHOC+vOfS6NdIgAgBkRlWD4nJ6fZUfmmTZs0evRoSdLo0aO1adOmaJTiaCNHBrRuXYnGjq1V164tH5FnZIQ0dWq13nzzK2VmctQOAJ1RVI7cW1JRUaG0tDRJUmpqqioqKlrd1ufzyefzSZLy8vLk8XiiUmNHcrvdJ9WHxyOtWSPdd19YhYUu1da6Iq9lZob11FNhTZiQKKnj/41OtodYY0IfJvQg0UcsMaEHyZw+2su2cD+Wy+WSy+Vq9XWv1yuv1xtZ9vv90SirQ3k8nlPqIxhMVm1tj0brKiulpKRy+f3BUy2vTU61h1hhQh8m9CDRRywxoQfJjD4yMzPb/R7brpZPSUlReXm5JKm8vFw9evQ4wTtwrI0bu0iSzjwzqEsuqVNKSkiVlXF6/vnuNlcGALCbbeE+dOhQrV+/XpK0fv16DRs2zK5SHKeszKVPP3Vr0KCAli0r02uvlerBBw/rW98Katu2BLvLAwDYLCrhXlhYqLvvvlvFxcWaMWOG1q1bp4kTJ2r79u2aPXu2duzYoYkTJ0ajFCP8859JGjy4XqtW+XXBBUeH4K++ukavveaXZbm0b1/zq+kBAJ2Hy7Isy+4i2qu4uNjuEk6ZCeeBTOhBMqMPE3qQ6COWmNCDZEYfjjrnDgAAOgbhDgCAYQh3AAAMQ7gDAGAYwh0AAMMQ7gAAGIZwBwDAMDExtzxO3YHKgAo2FquyLqQzusRr7qWZ6pOcaHdZAAAbcORuiIKNxdrlr1VxZb12+WtVsMH5E/0AAE4O4W6IyrpQo+XDTZYBAJ0Hw/IO0TDsXnakXhW1IYUluST1Temi+d/P0hld4qXK+sj2Z3RhfnkA6Kw4cneIhmH3r46EFAhLwbBUH5Y+L69TwYZizb00U+d5kpR5RoK+7UnS3EvbPxcxAMAMhLtDNB12P9anpbV6bEOxfjgwRWU1QX1WWqtb/r5HO76simKFAIBYQbg7xPGG2UOWtMtfq8J/fanaoKWQJdUGLT349v+iWCEAIFYQ7g7RMOzes1u8EuMkdwt7rumze+tDjnuaLwDgNOCCOofok5yoh3/Qv9G6eWv3ape/NrLsUuOAT4h3RaU2AEBs4cjdwZpeRDdnZG8luV2Kd0lJbpfuHpNld4kAABtw5B7jjjfzXJ/kRN06MjPy+t8/qdDjPzqbmekAoJPjyD3GnWjmOWamAwA0RbjHuKa3wO0uq9WNf9uteWv36mBVQOU1wUavf1JaG3kNANA52T4s//rrr2vdunVyuVzq27evZs6cqcREhpWlo0PyZU3Cuz4sFVfWS5X1KthQ3Gya2fDXt8UVbChudgEeAKBzsPXIvaysTG+88Yby8vKUn5+vcDisjRs32llSTCnYWKzaYOu3sx2uC+mMxJZ3IXPLA0DnZfuwfDgcViAQUCgUUiAQUFpamt0lxYymQ/IJTfZWWU1QyYktT27D3PIA0Hm5LMuydaaTNWvW6KWXXlJiYqIuuugizZ49u9k2Pp9PPp9PkpSXl6dAwPnnk91ut4LB4HG3+dXLH+jDg5WR5XN7dtf+QzWqqQ83WpcYH6evqut0uDao1KQEZXRP1L0TzlVmStcOq19qWw9OYEIfJvQg0UcsMaEHyYw+TuZUta3hXlVVpfz8fM2ZM0fdunXTY489phEjRuj73//+cd9XXOz8K8I9Ho/8fv9xtzlYFYicV2+4De7+dfuPnnP/WuYZCXrqx+d0dLktaksPTmBCHyb0INFHLDGhB8mMPjIz2/8gMFsvqNuxY4d69eqlHj16SJKGDx+uTz755ITh3lm0NCtd00e7ltUEdePfdje7Bx4A0Hm16Zz7J598otdff10ffPBBs9dWrlx50h/u8Xj06aefqq6uTpZlaceOHcrKYla14zl2Vrokt0u1QYt73AEAjZzwyP2dd97RsmXL9J3vfEerV69W//79NWfOHCUlJUmSVqxYoYkTJ57Uhw8cOFAjRozQ/PnzFR8fr/79+8vr9Z7U39VZHHs0f+PfdjcaoucKeQCA1IZwX7Fihe666y4NGDBAgUBAzzzzjO6//37dfffd6t69u071lH1ubq5yc3NP6e8wXWtT0DYdoucKeQCA1IZh+bKyMg0YMEDS0Sv2brrpJuXk5Ojee+9VRUWFXC6ePNbRWpti9tgh+rNTE1UfshrNXgcA6JxOGO6pqak6cOBAo3VTp07V9773Pd1zzz2Ov8XACcqO1DdaLv162bK+ecTrgap6fV5ex/l3AMCJw33o0KF69913m63Pzc3VmDFjCPcoqAyEW1w+9oi+6Ux2nH8HgM7rhOfcp06dKknauXOncnJyGr3205/+VD179uyYyhDRo0u8ao/5EtXj63PrTWewOxbn3wGg82rz9LOPPfaY/vSnP0WO1Kurq1VQUKBXX321w4rD0Yvpmh6Fp3U9+p2saYC7JPXq7ta3PUmae2n7Jz0AAJihzZPYPPLII3rqqad055136oc//KFeffVVffe739XDDz/ckfV1ek0fHpPkdkWCe+6lmbrl73sir1uS0ru6jXoaXEt3CliWWrx7AABwVJuP3NPT03XHHXfIsiw9/fTTGjx4sKZPnx653x0do+nQe3pXdyTI+iQnKr1r4+9nJp1rP1AZ0K1r9jS7U6C1uwcAAEe1Odz37t2rO++8U7169dK8efP04Ycf6vHHH1d1dXVH1tfpNR16b1g+UBnQvLV79VV1/XG3d7KWHnl7uC7U7AuPSV9oAOB0aHO4/+Y3v9GPfvQjzZs3TxdffLEeffRRJSYm6vbbb+/I+jq9Y+9lP/ZcesPRa8MD4hLiZNy59pLKumbrzugS3+oXHgDAUW0+5/7QQw+pd+/ekeWkpCTdeOON2rx5c4cUhqNaeniM1PKV8qadez5U13z2w/qQpWkX99SftvkbPS0PAPCNNof7scF+rKFDh562YtB2TaeerQ9LBRuKjbiYruEiupYmNv68vE5/2uY3ok8A6ChtHpZHbJl7aaYSmuw9U849N5xyaM3uslqm1wWA4yDcHapPcqL6pnRptC7J7fzdeaAyoM/LWg926ZtRCgBAy5yfBp1YsyfyneIT+mJBwcbiyEWCDRJb+F/6aWktD8gBgFYQ7g5WF2oc5rUh54d7SxcKNplaX5IUstTiPe4NtwjydDwAnRnh7mAm3hLW3h5KmzwxjwluAIBwd5xjj0wDwbCy07o0uwfeyeZemqkkt6vV15u+0uyJeZ1xghvLkuuNN+yuAkAMIdwd5tgj0z2HAkqMd+mpH5+jR37Q34h73FuaUlf6ZpKetKTG/2V7nGD0woTRjBNx79wp94wZRlxzAXSE4cOHa//+/Zo0aZIk6YorrtCHH34oSQoGgxo4cKD+8pe/RLafMGGCduzY0e7Pqaur089+9jONHz9eq1at0qRJk7R//34NHz789DTSDoS7w3SGI9OWAjk16evH3DY5Uk9r8kWgtRn9TNb9hRekqiolfPCB3aUAjjBs2LDIBGw7d+5UdnZ2ZPnIkSPat29fs0ect0XDF4Y333xTP/nJT05fwSeBcHeYznBk2tLQfGUg3Gy63bNTE1UfshpdPNcwo59JoxknkrBjh1xVVer2wgt2lwLEpIyMDMXFxSk1NVXS0cnXtmzZIknavHmzpk6dqqKiIknS+++/rwsuuEDx8fEqLy/XtGnT5PV6ddVVV2nnzp2S1OJ6v9+v2bNn64MPPtD48eO1d+9epaamKi4uThkZGVHvuc0z1HWU6upqLV26VPv375fL5dKNN96oc8891+6yYtbcSzNVsKHY2KlXD1QG9PA7/1UwfHSI2R0n9e2RqOr6sGqDwch2PbsnKNEd981kN5X1xszQdzwJmzYpft++yHJcRUVkOWH7diW99lqj7QOXXKJwVlZUawRizZo1ayRJzz77rKSjR+6PPPKIpKPhPnfuXK1cuVJVVVXavHlzZObV/Px8nX/++Xruuef07rvv6pZbbtGbb77Z6vpHH31US5cu1Qtff9Fu+LyGz48m28N92bJlGjx4sG677TYFg0HV1TV/WAi+0dpc86Yo2FisPYe+uX0tGJa6uOOU6I5TSfU34X5Gl/hOcYqiKVdNjVIeekjxBw82ey3xo4+UfsstkiTL7Vb9eeepbMyYKFcIdKyG6akrjznAae8I3VlnnaVAIKCSkhJ99tlnOuecczR48GBt3bpVmzdv1rRp0yRJ7733nv7whz9Iki677DKVl5ersrKy1fWxxNZh+SNHjuijjz7S2LFjJUlut1vdu3e3syTYpOEugM9Km89Od7gu1OK59M5wiqKpwPe/r5K33lLtmDEKJyW1uE2oVy9V/epX8r/xhsIeT5QrBDrW6brddejQoXr99dfVu3dvuVwuDRkyRJs3b9a2bdt08cUXn+aqo8/WI/eSkhL16NFDS5Ys0b59+5Sdna0bbrhBSU1+afl8Pvl8PklSXl6ePAb8wnK73Y7v43T2cNdbH7Q6n3x69ySd3z9Tf+zf+BTEg2lpuuvvH2tv2RFJUlhxCiR0V2ZK13Z9tuP2hccj/eMfCt91l1xPPCFX/Tf3+of79lX4hRfUZeRIdTnOXxGrHLcvWmFCH7HaQ3Vwb6PlqqCOW2drfYwePVpLlizR9ddfL4/Ho/Hjx+t3v/udzjzzTGVnZ0e2Wbt2rRYuXKj169erV69eOvvss1td/8UXXygxMTEm/t1sDfdQKKQ9e/Zo2rRpGjhwoJYtW6aVK1fqmmuuabSd1+uV1+uNLPv9/miXetp5PB7H93E6eyirbh7sCXFS35Quunl4zxY/J1GSywop8PXMfJ/6j+jXrxe1+7SFU/fFGVVVOqO+8SQ+VlWVyuLjFXJgP5Jz90VTJvQRqz10dzdfPl6drfWRk5OjPXv26LzzzpPf71dCQoLq6+s1ePDgyPYzZ87UbbfdpsGDByspKUmLFi2S3+9vdX1FRYUCgcBp/3fLzGz/tVW2hntGRoYyMjI0cOBASdKIESO0cuVKO0uCTZo+wvbbniQ90oaQ7ozn3Rskfn21bzArS3HnnitryxbFl5er+/LlOvzAAzZXB3SM03VR8eDBg/W///2v0br//Oc/jZbT0tL03HPPNXtva+tHjhypkSNHnlQ9p5ut4Z6amqqMjAwVFxcrMzNTO3bs0FlnnWVnSbDJyf7ANv1S0BnOu0tSXHGx3Lt3K3DRRSp/4gmljRih6sWLdcbjjyvx6/t1AROZflHx6WL71fLTpk3TE088oWAwqF69emnmzJl2lwQbWJbU1vnVjr1aNskdp+zURNWGLCNvDWxN0htvqG70aB0qKJASj14pXPOzn6nussuU8X//p7iSEoV79bK5SgB2cVnNnhsa+4qLnf8wkFg9n9Uep7OHeWv3Nrqg7jxPUqvfztuzbVuwL2IHfcQOE3qQzOjjZM65M0MdbHegMqDPyxpfUHe8c+ed+Tw7ALQF4Q7bFWwsjkwr26CsJtjqM9k74/3tANAehDts1/RIXJJqg1ark1R0xofDAEB72H5BHdD0iveEODU6km867M7VsgBwfBy5w3ZNj8T7pjSeW41hdwBoH47cYbumR+IHqwJGP/kOADoa4Y6Yw7A7AJwahuUBADAM4Q4AgGEIdwAADEO4AwBgGMIdAADDEO4AABiGcAcAwDCEOwAAhiHcAQAwDOEOAIBhCHcAAAxDuAMAYBjCHQAAw8REuIfDYc2bN095eXl2lwIAgOPFRLivWbNGWVlZdpcBAIARbA/30tJSbd26VePGjbO7FAAAjOC2u4Dly5fruuuuU01NTavb+Hw++Xw+SVJeXp48Hk+0yuswbrfb8X2Y0INkRh8m9CDRRywxoQfJnD7ay9Zw37Jli1JSUpSdna2ioqJWt/N6vfJ6vZFlv98fjfI6lMfjcXwfJvQgmdGHCT1I9BFLTOhBMqOPzMzMdr/H1nDftWuXNm/erPfff1+BQEA1NTV64oknNHv2bDvLAgDA0WwN9ylTpmjKlCmSpKKiIq1evZpgBwDgFNl+QR0AADi9bL+grsGgQYM0aNAgu8sAAMDxOHIHAMAwhDsAAIYh3AEAMAzhDgCAYQh3AAAMQ7gDAGAYwh0AAMMQ7gAAGIZwBwDAMIQ7AACGIdwBADAM4Q4AgGEIdwAADEO4AwBgGMIdAADDEO4AABiGcAcAwDCEOwAAhiHcAQAwDOEOAIBh3HZ+uN/v1+LFi3Xo0CG5XC55vV5deeWVdpYEAIDj2Rru8fHxmjp1qrKzs1VTU6MFCxbowgsv1FlnnWVnWQAAOJqtw/JpaWnKzs6WJHXt2lVZWVkqKyuzsyQAABzP1iP3Y5WUlGjPnj0aMGBAs9d8Pp98Pp8kKS8vTx6PJ9rlnXZut9vxfZjQg2RGHyb0INFHLDGhB8mcPtrLZVmWZXcRtbW1uvfee3X11Vdr+PDhJ9y+uLg4ClV1LI/HI7/fb3cZp8SEHiQz+jChB4k+YokJPUhm9JGZmdnu99h+tXwwGFR+fr5GjRrVpmAHAADHZ2u4W5alpUuXKisrS1dddZWdpQAAYAxbz7nv2rVL77zzjvr166c77rhDkjR58mQNGTLEzrIAAHA0W8P9vPPO0yuvvGJnCQAAGMf2c+4AAOD0ItwBADAM4Q4AgGEIdwAADEO4AwBgGMIdAADDEO4AABiGcAcAwDCEOwAAhiHcAQAwDOEOAIBhCHcAAAxDuAMAYBjCHQAAwxDuAAAYhnAHAMAwhDsAAIYh3AEAMAzhDgCAYQh3AAAM47a7gG3btmnZsmUKh8MaN26cJk6caHdJAAA4mq1H7uFwWH/84x+1cOFCFRQUaMOGDfrvf/9rZ0kAADiereH+2WefqU+fPurdu7fcbrdGjhypTZs22VkSAACOZ+uwfFlZmTIyMiLLGRkZ+vTTT5tt5/P55PP5JEl5eXnKzMyMWo0dyYQ+TOhBMqMPE3qQ6COWmNCDZE4f7eGIC+q8Xq/y8vKUl5enBQsW2F3OaWFCHyb0IJnRhwk9SPQRS0zoQTKjj5PpwdZwT09PV2lpaWS5tLRU6enpNlYEAIDz2Rru55xzjg4cOKCSkhIFg0Ft3LhRQ4cOtbMkAAAcL/6+++67z64Pj4uLU58+ffTkk0/qH//4h0aNGqURI0ac8H3Z2dlRqK7jmdCHCT1IZvRhQg8SfcQSE3qQzOijvT24LMuyOqgWAABgA0dcUAcAANqOcAcAwDC2Tz97Ml555RW99dZb6tGjhyRp8uTJGjJkiM1VtY0p0+3OmjVLSUlJiouLU3x8vPLy8uwuqU2WLFmirVu3KiUlRfn5+ZKkqqoqFRQU6KuvvlLPnj01Z84cJScn21xp61rqwWk/E36/X4sXL9ahQ4fkcrnk9Xp15ZVXOm5ftNaH0/ZHIBDQvffeq2AwqFAopBEjRig3N1clJSUqLCxUZWWlsrOzdfPNN8vtjs3YaK2HxYsXa+fOnerWrZuko7+7+vfvb2+xbRAOh7VgwQKlp6drwYIF7d8XlgO9/PLL1qpVq+wuo91CoZB10003WQcPHrTq6+ut22+/3dq/f7/dZZ2UmTNnWhUVFXaX0W5FRUXW7t27rblz50bWvfjii9aKFSssy7KsFStWWC+++KJd5bVJSz047WeirKzM2r17t2VZlnXkyBFr9uzZ1v79+x23L1rrw2n7IxwOWzU1NZZlWVZ9fb115513Wrt27bLy8/Otd99917Isy3r66aettWvX2lnmcbXWw+9//3vrX//6l83Vtd/q1autwsJC66GHHrIsy2r3vmBYPoqYbtd+OTk5zY4EN23apNGjR0uSRo8eHfP7pKUenCYtLS1y9W/Xrl2VlZWlsrIyx+2L1vpwGpfLpaSkJElSKBRSKBSSy+VSUVFR5A6mMWPGxPT+aK0HJyotLdXWrVs1btw4SZJlWe3eF7E5vtIGa9eu1TvvvKPs7Gxdf/31jvhl19bpdp3it7/9rSRp/Pjx8nq9Nldz8ioqKpSWliZJSk1NVUVFhc0VnRwn/kxIUklJifbs2aMBAwY4el8c28fHH3/suP0RDoc1f/58HTx4UD/4wQ/Uu3dvdevWTfHx8ZKOTjoW619cmvYwcOBA/fOf/9RLL72k1157Teeff76uvfZaJSQk2F3qcS1fvlzXXXedampqJEmVlZXt3hcxG+4PPPCADh061Gz9NddcoyuuuEKTJk2SJL388st64YUXNHPmzGiX2Kk98MADSk9PV0VFhR588EFlZmYqJyfH7rJOmcvlcuS3faf+TNTW1io/P1833HBD5JxoAyfti6Z9OHF/xMXF6dFHH1V1dbUWLVqk4uJiu0tqt6Y9fPHFF5oyZYpSU1MVDAb19NNPa9WqVZF9E4u2bNmilJQUZWdnq6io6KT/npgN91//+tdt2m7cuHF6+OGHO7ia08Ok6XYb6k5JSdGwYcP02WefOTbcU1JSVF5errS0NJWXl0cugnKS1NTUyJ+d8jMRDAaVn5+vUaNGafjw4ZKcuS9a6sOJ+6NB9+7dNWjQIH3yySc6cuSIQqGQ4uPjVVZW5pjfVw09bNu2TT/+8Y8lSQkJCbr88su1evVqm6s7vl27dmnz5s16//33FQgEVFNTo+XLl7d7XzjynHt5eXnkz++995769u1rYzVtZ8p0u7W1tZHhotraWm3fvl39+vWzuaqTN3ToUK1fv16StH79eg0bNszmitrPaT8TlmVp6dKlysrK0lVXXRVZ77R90VofTtsfhw8fVnV1taSjV51v375dWVlZGjRokP79739Lkt5+++2Y/n3VWg8N+8KyLG3atCnm98WUKVO0dOlSLV68WLfeeqvOP/98zZ49u937wpEz1D355JPau3evXC6XevbsqenTp0fO08W6rVu36vnnn1c4HNbll1+uq6++2u6S2u3LL7/UokWLJB29cOWyyy5zTB+FhYXauXOnKisrlZKSotzcXA0bNkwFBQXy+/2OuP2qpR6Kiooc9TPx8ccf65577lG/fv0iQ++TJ0/WwIEDHbUvWutjw4YNjtof+/bt0+LFixUOh2VZli655BJNmjRJX375pQoLC1VVVaWzzz5bN998c8yer26th/vvv1+HDx+WJH3rW9/S9OnTIxfexbqioiKtXr1aCxYsaPe+cGS4AwCA1jlyWB4AALSOcAcAwDCEOwAAhiHcAQAwDOEOAIBhCHcAAAwTszPUAYgtGzdu1Jo1a7R37xMXPI4AAAFYSURBVF4NGDBA9913n90lAWgF4Q6gTZKTk3XllVequLhYH374od3lADgOhuUBRBw8eFA///nP9fnnn0s6+iTDX/ziFyoqKtKFF16okSNHxvRMawCOItwBRPTp00fXXnutnnzySdXV1empp57S6NGjNWjQILtLA9AOhDuARrxer/r06aOFCxeqvLxckydPtrskAO1EuANoZty4cdq/f78mTJgQsw8KAdA6wh1AI7W1tXr++ec1duxYvfrqq6qqqrK7JADtRLgDaGTZsmXKzs7WjBkzNGTIED3zzDOSpHA4rEAgoFAoJMuyFAgEFAwGba4WQEt45CuAiE2bNunZZ59Vfn6+kpOTVVtbqzvuuEO5ubkKhUJasmRJo+1Hjx6tWbNm2VQtgNYQ7gAAGIZheQAADEO4AwBgGMIdAADDEO4AABiGcAcAwDCEOwAAhiHcAQAwDOEOAIBh/h8T+EFm2mP4PwAAAABJRU5ErkJggg==\n",
      "text/plain": [
       "<Figure size 576x288 with 1 Axes>"
      ]
     },
     "metadata": {},
     "output_type": "display_data"
    }
   ],
   "source": [
    "X, color = make_blobs(n_samples=50, random_state=20, centers=2, cluster_std=.5, )\n",
    "X = list(map(lambda x: (x[0][0], x[0][1], color[x[1]]), zip(X, color)))\n",
    "\n",
    "X.append([34, 6, 0])\n",
    "\n",
    "points = pd.DataFrame(list(X), columns=[\"x1\", \"x2\", \"color\"])\n",
    "ax = points.plot(kind=\"scatter\", x=\"x1\", y=\"x2\", figsize=(8, 4))\n",
    "plt.text(35, 5.9, '\"Woof\"')\n",
    "ax.set_ylim(top=15, bottom=0)\n",
    "ax.set_xlim(left=-5, right=40)\n",
    "\n",
    "initial_centroids = pd.DataFrame([[2, 10, \"b\"], [15, 6, \"r\"]], columns=[\"x1\", \"x2\", \"color\"])\n",
    "initial_centroids.plot(kind=\"scatter\", x=\"x1\", y=\"x2\", c=initial_centroids['color'], ax=ax, marker=\"*\", s=150);"
   ]
  },
  {
   "cell_type": "markdown",
   "metadata": {},
   "source": [
    "### Discussion:  Data vs Centroid Initialization\n",
    "\n",
    "1. How much is data responsible for \"good\" clusters?\n",
    "1. Can you think of any ways to mitigate any potential problems with K-Means based on what you know so far?"
   ]
  },
  {
   "cell_type": "markdown",
   "metadata": {
    "slideshow": {
     "slide_type": "slide"
    }
   },
   "source": [
    "### How many K?\n",
    "\n",
    "Sometimes it's obvious, sometimes it's not!  What do you think?\n",
    "\n",
    "- /poll \"How many K:  Figure 1\" \"1\" \"2\" \"3\" \"4\"\n",
    "- /poll \"How many K:  Figure 2\" \"1\" \"2\" \"3\" \"4\"\n",
    "- /poll \"How many K:  Figure 3\" \"1\" \"2\" \"3\" \"4\"\n",
    "\n",
    "<table>\n",
    "    <tr>\n",
    "        <td valign=\"bottom\" style=\"vertical-align: bottom; text-align: center;\"><img src=\"http://i.stack.imgur.com/4rU39.png\"><br>1</td>\n",
    "        <td valign=\"bottom\" style=\"vertical-align: bottom; text-align: center;\"><img src=\"http://i.stack.imgur.com/gq28F.png\"><br>2</td>\n",
    "        <td valign=\"bottom\" style=\"vertical-align: bottom; text-align: center;\"><img src=\"https://snag.gy/cWPgno.jpg\"><br>3</td>\n",
    "    </tr>\n",
    "</table>"
   ]
  },
  {
   "cell_type": "markdown",
   "metadata": {
    "slideshow": {
     "slide_type": "slide"
    }
   },
   "source": [
    "<a name=\"init-centroid\"></a>\n",
    "## Initializing Centroids\n",
    "\n",
    "---\n",
    "\n",
    "There are different methods of initializing centroids. For instance:\n",
    "\n",
    "- Randomly\n",
    "- Manually\n",
    "- Special KMeans++ method in Sklearn (_This initializes the centroids to be generally distant from each other_)\n",
    "\n",
    "**Depending on your problem, you may find some of these are better than others.**\n",
    "\n",
    "> **Note:** Manual is recommended if you know your data well enough to see the clusters without much help, but rarely used in practice."
   ]
  },
  {
   "cell_type": "markdown",
   "metadata": {},
   "source": [
    "<a id='choose-k'></a>\n",
    "## Choosing $k$\n",
    "This still remains an open question. Afterall we're tuning a tuning parameter with no metric for success! Here are three ideas:\n",
    "\n",
    "* Make an educated guess\n",
    "    - Industry knowledge (there are five kinds of Democrats...)\n",
    "    - Visualization (probably impossible if you have more than 2 variables)\n",
    "* Judge based on a pseudo-evaluation metric, like the **silhouette score**.\n",
    "* If you're using the resulting cluster labels as input to a supervised learning method later, you can tune $k$ to have the best supervised learning model. This is **transfer learning**."
   ]
  },
  {
   "cell_type": "markdown",
   "metadata": {
    "slideshow": {
     "slide_type": "slide"
    }
   },
   "source": [
    "<a id='converge'></a>\n",
    "## A note on K-Means convergence\n",
    "\n",
    "---\n",
    "\n",
    "In general, k-means will converge to a solution and return a partition of k clusters, even if no natural clusters exist in the data.  It's entirely possible – in fact, *common* – that the clusters do not mean anything at all. \n",
    "\n",
    "**Knowing your domain and dataset is essential. Evaluating the clusters visually is a must (if possible).**\n",
    "\n",
    "> _\"Given enough time, k-means will always converge, however this may be to a local minimum. This is highly dependent on the initialization of the centroids. As a result, the computation is often done several times, with different initializations of the centroids. One method to help address this issue is the k-means++ initialization scheme, which has been implemented in scikit-learn (use the init='kmeans++' parameter). This initializes the centroids to be (generally) distant from each other, leading to provably better results than random initialization, as shown in the reference.\"_ [sklearn Clustering Guide](http://scikit-learn.org/stable/modules/clustering.html#k-means)\n",
    "\n",
    "![](http://www.datamilk.com/kmeans_animation.gif)"
   ]
  },
  {
   "cell_type": "markdown",
   "metadata": {
    "slideshow": {
     "slide_type": "slide"
    }
   },
   "source": [
    "<a name=\"sklearn\"></a>\n",
    "## K-Means in sklearn\n",
    "\n",
    "---\n",
    "\n",
    "Below we will implement K-Means using sklearn."
   ]
  },
  {
   "cell_type": "code",
<<<<<<< Updated upstream
<<<<<<< Updated upstream
   "execution_count": null,
=======
   "execution_count": 24,
>>>>>>> Stashed changes
=======
   "execution_count": 24,
>>>>>>> Stashed changes
   "metadata": {
    "scrolled": true,
    "slideshow": {
     "slide_type": "-"
    }
   },
<<<<<<< Updated upstream
   "outputs": [],
=======
   "outputs": [
    {
     "name": "stdout",
     "output_type": "stream",
     "text": [
      "[[  7.08164206  -5.24817135]\n",
      " [ -3.03673461  -0.12964599]\n",
      " [  5.11756546  -3.32357328]\n",
      " [ -1.80705756  -0.33598552]\n",
      " [  4.5197893   -5.46963549]\n",
      " [ -8.17523135   4.19836768]\n",
      " [ -0.86595478   3.02213948]\n",
      " [ -9.37412154   5.56042146]\n",
      " [  8.4883257   -5.72262797]\n",
      " [ -0.12153227   3.014428  ]\n",
      " [  9.34863347  -6.19684688]\n",
      " [ -0.40395974   0.45489056]\n",
      " [ -0.44805938   1.45353116]\n",
      " [ -1.0683471   -0.28623679]\n",
      " [ -1.7997529    1.72237841]\n",
      " [ -0.8984009   -0.47641843]\n",
      " [-10.37718374   6.65133446]\n",
      " [ 10.45257668  -4.73102739]\n",
      " [ -9.82051193   7.14940444]\n",
      " [ -2.64638262  -0.39029551]\n",
      " [ 10.43489163  -4.59867899]\n",
      " [  9.73197468  -4.38906011]\n",
      " [  5.63210608  -4.92096415]\n",
      " [ -0.728245     2.61354497]\n",
      " [  7.26474033  -2.82041481]\n",
      " [ -9.43717193   6.45877793]\n",
      " [ -2.18233506   0.47382039]\n",
      " [  6.57905819  -3.67486728]\n",
      " [ -0.42898853   0.4624266 ]\n",
      " [ -9.19441844   5.0976799 ]\n",
      " [ -0.65901603   0.26038746]\n",
      " [ -1.07417644   1.73959448]\n",
      " [ -8.10581551   6.91608289]\n",
      " [ -4.85341559   0.09415619]\n",
      " [ -7.98958341   6.17122657]\n",
      " [ -0.45264675   0.86969447]\n",
      " [ -5.91871793   6.28006896]\n",
      " [ -0.83559232   0.79966922]\n",
      " [ -8.39595988   5.52353244]\n",
      " [  0.08448272  -1.73810145]\n",
      " [  7.60634763  -4.39429775]\n",
      " [ -6.27655227   5.95636792]\n",
      " [ -1.92422413   2.00522186]\n",
      " [ -8.03714764   7.63447727]\n",
      " [ -8.18409036   3.6406208 ]\n",
      " [ -8.38748195   5.66794152]\n",
      " [  6.86485036  -2.28066676]\n",
      " [ -0.26884147  -0.23205269]\n",
      " [ -5.96781567   5.64565817]\n",
      " [ -1.77068541   0.51498592]\n",
      " [  0.06583029  -1.53946163]\n",
      " [ -0.83822505   0.40326971]\n",
      " [ -1.21676875   1.88091201]\n",
      " [  3.79005564  -4.17524557]\n",
      " [  7.85545438  -3.66200335]\n",
      " [  7.64004294  -5.2303436 ]\n",
      " [  8.52500006  -4.36831234]\n",
      " [  7.8369383   -3.0298506 ]\n",
      " [ -8.59161444   6.51153773]\n",
      " [  8.75261812  -6.0184903 ]\n",
      " [ -8.72349723   4.77294597]\n",
      " [ -7.82521472   4.62007096]\n",
      " [  2.6367281    1.1727281 ]\n",
      " [ -1.77227243   0.90141625]\n",
      " [  7.79002873  -5.64539333]\n",
      " [ -9.620279     5.61321445]\n",
      " [ -6.81234093   6.92766828]\n",
      " [  6.8891571   -5.75272732]\n",
      " [  1.23182618   1.54364658]\n",
      " [-10.94825268   6.05906882]\n",
      " [  8.10679241  -4.91459304]\n",
      " [ -6.589427     6.75068349]\n",
      " [  8.13700539  -6.92190687]\n",
      " [  6.66377969  -6.01953197]\n",
      " [ -5.23720444   4.40127434]\n",
      " [  5.71780339  -4.74979441]\n",
      " [ -9.31779073   3.40318692]\n",
      " [  8.42528351  -2.97886653]\n",
      " [  8.35378505  -3.60127177]\n",
      " [  6.55755552  -2.53264477]\n",
      " [-13.7929744    5.53187885]\n",
      " [ -1.49360604   0.58976006]\n",
      " [  5.4651961   -0.29895967]\n",
      " [  4.88565979  -5.06386554]\n",
      " [ -0.53947138   0.7976726 ]\n",
      " [ -9.85849848   3.48734661]\n",
      " [ -8.16936471   6.2676217 ]\n",
      " [ -8.18594784   4.29733877]\n",
      " [  6.90259927  -1.73115386]\n",
      " [  8.34151144  -3.06005877]\n",
      " [  0.53061245   1.06904215]\n",
      " [ -3.57947842  -0.25859051]\n",
      " [ -8.78876254   1.79858946]\n",
      " [ -5.69854263   4.7884024 ]\n",
      " [-10.06245693   6.01180496]\n",
      " [ 11.10191609  -6.83082761]\n",
      " [ -8.26040282   4.75110686]\n",
      " [ -5.71287762   3.89905288]\n",
      " [  3.56849024  -4.19295606]\n",
      " [  0.20970674  -0.1011219 ]]\n"
     ]
    },
    {
     "data": {
      "text/html": [
       "<div>\n",
       "<style scoped>\n",
       "    .dataframe tbody tr th:only-of-type {\n",
       "        vertical-align: middle;\n",
       "    }\n",
       "\n",
       "    .dataframe tbody tr th {\n",
       "        vertical-align: top;\n",
       "    }\n",
       "\n",
       "    .dataframe thead th {\n",
       "        text-align: right;\n",
       "    }\n",
       "</style>\n",
       "<table border=\"1\" class=\"dataframe\">\n",
       "  <thead>\n",
       "    <tr style=\"text-align: right;\">\n",
       "      <th></th>\n",
       "      <th>x1</th>\n",
       "      <th>x2</th>\n",
       "    </tr>\n",
       "  </thead>\n",
       "  <tbody>\n",
       "    <tr>\n",
       "      <th>0</th>\n",
       "      <td>7.081642</td>\n",
       "      <td>-5.248171</td>\n",
       "    </tr>\n",
       "    <tr>\n",
       "      <th>1</th>\n",
       "      <td>-3.036735</td>\n",
       "      <td>-0.129646</td>\n",
       "    </tr>\n",
       "    <tr>\n",
       "      <th>2</th>\n",
       "      <td>5.117565</td>\n",
       "      <td>-3.323573</td>\n",
       "    </tr>\n",
       "    <tr>\n",
       "      <th>3</th>\n",
       "      <td>-1.807058</td>\n",
       "      <td>-0.335986</td>\n",
       "    </tr>\n",
       "    <tr>\n",
       "      <th>4</th>\n",
       "      <td>4.519789</td>\n",
       "      <td>-5.469635</td>\n",
       "    </tr>\n",
       "  </tbody>\n",
       "</table>\n",
       "</div>"
      ],
      "text/plain": [
       "         x1        x2\n",
       "0  7.081642 -5.248171\n",
       "1 -3.036735 -0.129646\n",
       "2  5.117565 -3.323573\n",
       "3 -1.807058 -0.335986\n",
       "4  4.519789 -5.469635"
      ]
     },
     "execution_count": 24,
     "metadata": {},
     "output_type": "execute_result"
    }
   ],
>>>>>>> Stashed changes
   "source": [
    "%matplotlib inline\n",
    "\n",
    "from sklearn.cluster import KMeans\n",
    "from sklearn.metrics import silhouette_score\n",
    "from sklearn.preprocessing import StandardScaler\n",
    "\n",
    "import numpy as np\n",
    "import pandas as pd\n",
    "\n",
    "import seaborn as sns\n",
    "import matplotlib.pyplot as plt\n",
    "import matplotlib\n",
    "\n",
    "matplotlib.style.use('ggplot')\n",
    "\n",
    "# Let's make some more blobs to test K-Means on\n",
    "X, _ = make_blobs(n_samples=100, random_state=29, centers=3, cluster_std=1.5)\n",
    "print(X)\n",
    "X = map(lambda x: (x[0][0], x[0][1]), zip(X, color))\n",
    "\n",
    "df = pd.DataFrame(list(X), columns=[\"x1\", \"x2\"])\n",
    "df.head()"
   ]
  },
  {
   "cell_type": "code",
<<<<<<< Updated upstream
<<<<<<< Updated upstream
   "execution_count": null,
=======
=======
>>>>>>> Stashed changes
   "execution_count": 25,
   "metadata": {},
   "outputs": [
    {
     "data": {
      "text/html": [
       "<div>\n",
       "<style scoped>\n",
       "    .dataframe tbody tr th:only-of-type {\n",
       "        vertical-align: middle;\n",
       "    }\n",
       "\n",
       "    .dataframe tbody tr th {\n",
       "        vertical-align: top;\n",
       "    }\n",
       "\n",
       "    .dataframe thead th {\n",
       "        text-align: right;\n",
       "    }\n",
       "</style>\n",
       "<table border=\"1\" class=\"dataframe\">\n",
       "  <thead>\n",
       "    <tr style=\"text-align: right;\">\n",
       "      <th></th>\n",
       "      <th>x1</th>\n",
       "      <th>x2</th>\n",
       "    </tr>\n",
       "  </thead>\n",
       "  <tbody>\n",
       "    <tr>\n",
       "      <th>0</th>\n",
       "      <td>7.081642</td>\n",
       "      <td>-5.248171</td>\n",
       "    </tr>\n",
       "    <tr>\n",
       "      <th>1</th>\n",
       "      <td>-3.036735</td>\n",
       "      <td>-0.129646</td>\n",
       "    </tr>\n",
       "    <tr>\n",
       "      <th>2</th>\n",
       "      <td>5.117565</td>\n",
       "      <td>-3.323573</td>\n",
       "    </tr>\n",
       "    <tr>\n",
       "      <th>3</th>\n",
       "      <td>-1.807058</td>\n",
       "      <td>-0.335986</td>\n",
       "    </tr>\n",
       "    <tr>\n",
       "      <th>4</th>\n",
       "      <td>4.519789</td>\n",
       "      <td>-5.469635</td>\n",
       "    </tr>\n",
       "    <tr>\n",
       "      <th>5</th>\n",
       "      <td>-8.175231</td>\n",
       "      <td>4.198368</td>\n",
       "    </tr>\n",
       "    <tr>\n",
       "      <th>6</th>\n",
       "      <td>-0.865955</td>\n",
       "      <td>3.022139</td>\n",
       "    </tr>\n",
       "    <tr>\n",
       "      <th>7</th>\n",
       "      <td>-9.374122</td>\n",
       "      <td>5.560421</td>\n",
       "    </tr>\n",
       "    <tr>\n",
       "      <th>8</th>\n",
       "      <td>8.488326</td>\n",
       "      <td>-5.722628</td>\n",
       "    </tr>\n",
       "    <tr>\n",
       "      <th>9</th>\n",
       "      <td>-0.121532</td>\n",
       "      <td>3.014428</td>\n",
       "    </tr>\n",
       "    <tr>\n",
       "      <th>10</th>\n",
       "      <td>9.348633</td>\n",
       "      <td>-6.196847</td>\n",
       "    </tr>\n",
       "    <tr>\n",
       "      <th>11</th>\n",
       "      <td>-0.403960</td>\n",
       "      <td>0.454891</td>\n",
       "    </tr>\n",
       "    <tr>\n",
       "      <th>12</th>\n",
       "      <td>-0.448059</td>\n",
       "      <td>1.453531</td>\n",
       "    </tr>\n",
       "    <tr>\n",
       "      <th>13</th>\n",
       "      <td>-1.068347</td>\n",
       "      <td>-0.286237</td>\n",
       "    </tr>\n",
       "    <tr>\n",
       "      <th>14</th>\n",
       "      <td>-1.799753</td>\n",
       "      <td>1.722378</td>\n",
       "    </tr>\n",
       "    <tr>\n",
       "      <th>15</th>\n",
       "      <td>-0.898401</td>\n",
       "      <td>-0.476418</td>\n",
       "    </tr>\n",
       "    <tr>\n",
       "      <th>16</th>\n",
       "      <td>-10.377184</td>\n",
       "      <td>6.651334</td>\n",
       "    </tr>\n",
       "    <tr>\n",
       "      <th>17</th>\n",
       "      <td>10.452577</td>\n",
       "      <td>-4.731027</td>\n",
       "    </tr>\n",
       "    <tr>\n",
       "      <th>18</th>\n",
       "      <td>-9.820512</td>\n",
       "      <td>7.149404</td>\n",
       "    </tr>\n",
       "    <tr>\n",
       "      <th>19</th>\n",
       "      <td>-2.646383</td>\n",
       "      <td>-0.390296</td>\n",
       "    </tr>\n",
       "    <tr>\n",
       "      <th>20</th>\n",
       "      <td>10.434892</td>\n",
       "      <td>-4.598679</td>\n",
       "    </tr>\n",
       "    <tr>\n",
       "      <th>21</th>\n",
       "      <td>9.731975</td>\n",
       "      <td>-4.389060</td>\n",
       "    </tr>\n",
       "    <tr>\n",
       "      <th>22</th>\n",
       "      <td>5.632106</td>\n",
       "      <td>-4.920964</td>\n",
       "    </tr>\n",
       "    <tr>\n",
       "      <th>23</th>\n",
       "      <td>-0.728245</td>\n",
       "      <td>2.613545</td>\n",
       "    </tr>\n",
       "    <tr>\n",
       "      <th>24</th>\n",
       "      <td>7.264740</td>\n",
       "      <td>-2.820415</td>\n",
       "    </tr>\n",
       "    <tr>\n",
       "      <th>25</th>\n",
       "      <td>-9.437172</td>\n",
       "      <td>6.458778</td>\n",
       "    </tr>\n",
       "    <tr>\n",
       "      <th>26</th>\n",
       "      <td>-2.182335</td>\n",
       "      <td>0.473820</td>\n",
       "    </tr>\n",
       "    <tr>\n",
       "      <th>27</th>\n",
       "      <td>6.579058</td>\n",
       "      <td>-3.674867</td>\n",
       "    </tr>\n",
       "    <tr>\n",
       "      <th>28</th>\n",
       "      <td>-0.428989</td>\n",
       "      <td>0.462427</td>\n",
       "    </tr>\n",
       "    <tr>\n",
       "      <th>29</th>\n",
       "      <td>-9.194418</td>\n",
       "      <td>5.097680</td>\n",
       "    </tr>\n",
       "    <tr>\n",
       "      <th>30</th>\n",
       "      <td>-0.659016</td>\n",
       "      <td>0.260387</td>\n",
       "    </tr>\n",
       "    <tr>\n",
       "      <th>31</th>\n",
       "      <td>-1.074176</td>\n",
       "      <td>1.739594</td>\n",
       "    </tr>\n",
       "    <tr>\n",
       "      <th>32</th>\n",
       "      <td>-8.105816</td>\n",
       "      <td>6.916083</td>\n",
       "    </tr>\n",
       "    <tr>\n",
       "      <th>33</th>\n",
       "      <td>-4.853416</td>\n",
       "      <td>0.094156</td>\n",
       "    </tr>\n",
       "    <tr>\n",
       "      <th>34</th>\n",
       "      <td>-7.989583</td>\n",
       "      <td>6.171227</td>\n",
       "    </tr>\n",
       "    <tr>\n",
       "      <th>35</th>\n",
       "      <td>-0.452647</td>\n",
       "      <td>0.869694</td>\n",
       "    </tr>\n",
       "    <tr>\n",
       "      <th>36</th>\n",
       "      <td>-5.918718</td>\n",
       "      <td>6.280069</td>\n",
       "    </tr>\n",
       "    <tr>\n",
       "      <th>37</th>\n",
       "      <td>-0.835592</td>\n",
       "      <td>0.799669</td>\n",
       "    </tr>\n",
       "    <tr>\n",
       "      <th>38</th>\n",
       "      <td>-8.395960</td>\n",
       "      <td>5.523532</td>\n",
       "    </tr>\n",
       "    <tr>\n",
       "      <th>39</th>\n",
       "      <td>0.084483</td>\n",
       "      <td>-1.738101</td>\n",
       "    </tr>\n",
       "    <tr>\n",
       "      <th>40</th>\n",
       "      <td>7.606348</td>\n",
       "      <td>-4.394298</td>\n",
       "    </tr>\n",
       "    <tr>\n",
       "      <th>41</th>\n",
       "      <td>-6.276552</td>\n",
       "      <td>5.956368</td>\n",
       "    </tr>\n",
       "    <tr>\n",
       "      <th>42</th>\n",
       "      <td>-1.924224</td>\n",
       "      <td>2.005222</td>\n",
       "    </tr>\n",
       "    <tr>\n",
       "      <th>43</th>\n",
       "      <td>-8.037148</td>\n",
       "      <td>7.634477</td>\n",
       "    </tr>\n",
       "    <tr>\n",
       "      <th>44</th>\n",
       "      <td>-8.184090</td>\n",
       "      <td>3.640621</td>\n",
       "    </tr>\n",
       "    <tr>\n",
       "      <th>45</th>\n",
       "      <td>-8.387482</td>\n",
       "      <td>5.667942</td>\n",
       "    </tr>\n",
       "    <tr>\n",
       "      <th>46</th>\n",
       "      <td>6.864850</td>\n",
       "      <td>-2.280667</td>\n",
       "    </tr>\n",
       "    <tr>\n",
       "      <th>47</th>\n",
       "      <td>-0.268841</td>\n",
       "      <td>-0.232053</td>\n",
       "    </tr>\n",
       "    <tr>\n",
       "      <th>48</th>\n",
       "      <td>-5.967816</td>\n",
       "      <td>5.645658</td>\n",
       "    </tr>\n",
       "    <tr>\n",
       "      <th>49</th>\n",
       "      <td>-1.770685</td>\n",
       "      <td>0.514986</td>\n",
       "    </tr>\n",
       "  </tbody>\n",
       "</table>\n",
       "</div>"
      ],
      "text/plain": [
       "           x1        x2\n",
       "0    7.081642 -5.248171\n",
       "1   -3.036735 -0.129646\n",
       "2    5.117565 -3.323573\n",
       "3   -1.807058 -0.335986\n",
       "4    4.519789 -5.469635\n",
       "5   -8.175231  4.198368\n",
       "6   -0.865955  3.022139\n",
       "7   -9.374122  5.560421\n",
       "8    8.488326 -5.722628\n",
       "9   -0.121532  3.014428\n",
       "10   9.348633 -6.196847\n",
       "11  -0.403960  0.454891\n",
       "12  -0.448059  1.453531\n",
       "13  -1.068347 -0.286237\n",
       "14  -1.799753  1.722378\n",
       "15  -0.898401 -0.476418\n",
       "16 -10.377184  6.651334\n",
       "17  10.452577 -4.731027\n",
       "18  -9.820512  7.149404\n",
       "19  -2.646383 -0.390296\n",
       "20  10.434892 -4.598679\n",
       "21   9.731975 -4.389060\n",
       "22   5.632106 -4.920964\n",
       "23  -0.728245  2.613545\n",
       "24   7.264740 -2.820415\n",
       "25  -9.437172  6.458778\n",
       "26  -2.182335  0.473820\n",
       "27   6.579058 -3.674867\n",
       "28  -0.428989  0.462427\n",
       "29  -9.194418  5.097680\n",
       "30  -0.659016  0.260387\n",
       "31  -1.074176  1.739594\n",
       "32  -8.105816  6.916083\n",
       "33  -4.853416  0.094156\n",
       "34  -7.989583  6.171227\n",
       "35  -0.452647  0.869694\n",
       "36  -5.918718  6.280069\n",
       "37  -0.835592  0.799669\n",
       "38  -8.395960  5.523532\n",
       "39   0.084483 -1.738101\n",
       "40   7.606348 -4.394298\n",
       "41  -6.276552  5.956368\n",
       "42  -1.924224  2.005222\n",
       "43  -8.037148  7.634477\n",
       "44  -8.184090  3.640621\n",
       "45  -8.387482  5.667942\n",
       "46   6.864850 -2.280667\n",
       "47  -0.268841 -0.232053\n",
       "48  -5.967816  5.645658\n",
       "49  -1.770685  0.514986"
      ]
     },
     "execution_count": 25,
     "metadata": {},
     "output_type": "execute_result"
    }
   ],
   "source": [
    "df"
   ]
  },
  {
   "cell_type": "code",
   "execution_count": 26,
<<<<<<< Updated upstream
>>>>>>> Stashed changes
=======
>>>>>>> Stashed changes
   "metadata": {
    "slideshow": {
     "slide_type": "slide"
    }
   },
<<<<<<< Updated upstream
   "outputs": [],
=======
   "outputs": [
    {
     "data": {
      "image/png": "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\n",
      "text/plain": [
       "<Figure size 864x432 with 1 Axes>"
      ]
     },
     "metadata": {},
     "output_type": "display_data"
    }
   ],
>>>>>>> Stashed changes
   "source": [
    "# Plot the scatter\n",
    "ax = df.plot(kind=\"scatter\", x=\"x1\", y=\"x2\", figsize=(12,6), s=50)\n",
    "plt.xlabel(\"$X_1$\", fontsize=18)\n",
    "plt.ylabel(\"$X_2$\", fontsize=18)\n",
    "ax.tick_params(axis='both', which='major', labelsize=18)"
   ]
  },
  {
   "cell_type": "code",
<<<<<<< Updated upstream
<<<<<<< Updated upstream
   "execution_count": null,
=======
   "execution_count": 27,
>>>>>>> Stashed changes
=======
   "execution_count": 27,
>>>>>>> Stashed changes
   "metadata": {},
   "outputs": [],
   "source": [
    "# Let's prepare our X matrix\n",
    "X = df.loc[:, ['x1', 'x2']]\n",
    "sc = StandardScaler()\n",
    "X_sc = sc.fit_transform(X)"
   ]
  },
  {
   "cell_type": "code",
<<<<<<< Updated upstream
<<<<<<< Updated upstream
   "execution_count": null,
=======
   "execution_count": 28,
>>>>>>> Stashed changes
=======
   "execution_count": 28,
>>>>>>> Stashed changes
   "metadata": {
    "slideshow": {
     "slide_type": "slide"
    }
   },
<<<<<<< Updated upstream
   "outputs": [],
=======
   "outputs": [
    {
     "data": {
      "text/plain": [
       "KMeans(algorithm='auto', copy_x=True, init='k-means++', max_iter=300,\n",
       "       n_clusters=3, n_init=10, n_jobs=None, precompute_distances='auto',\n",
       "       random_state=42, tol=0.0001, verbose=0)"
      ]
     },
     "execution_count": 28,
     "metadata": {},
     "output_type": "execute_result"
    }
   ],
>>>>>>> Stashed changes
   "source": [
    "# (thread) How many K here?\n",
    "# I do: Fit a k-means clustering model\n",
    "km = KMeans(n_clusters=3, random_state=42)\n",
    "km.fit(X_sc)"
   ]
  },
  {
   "cell_type": "markdown",
   "metadata": {
    "slideshow": {
     "slide_type": "-"
    }
   },
   "source": [
    "After we fit our data, we can get our predicted labels from `model.labels_` and the center points`model.cluster_centers_`."
   ]
  },
  {
   "cell_type": "code",
<<<<<<< Updated upstream
<<<<<<< Updated upstream
   "execution_count": 3,
=======
   "execution_count": 29,
>>>>>>> Stashed changes
=======
   "execution_count": 29,
>>>>>>> Stashed changes
   "metadata": {
    "slideshow": {
     "slide_type": "-"
    }
   },
   "outputs": [
    {
<<<<<<< Updated upstream
     "ename": "NameError",
     "evalue": "name 'km' is not defined",
     "output_type": "error",
     "traceback": [
      "\u001b[1;31m---------------------------------------------------------------------------\u001b[0m",
      "\u001b[1;31mNameError\u001b[0m                                 Traceback (most recent call last)",
      "\u001b[1;32m<ipython-input-3-17cad0f6cc36>\u001b[0m in \u001b[0;36m<module>\u001b[1;34m()\u001b[0m\n\u001b[0;32m      1\u001b[0m \u001b[1;31m# Check out centroids\u001b[0m\u001b[1;33m\u001b[0m\u001b[1;33m\u001b[0m\u001b[0m\n\u001b[1;32m----> 2\u001b[1;33m \u001b[0mkm\u001b[0m\u001b[1;33m.\u001b[0m\u001b[0mcluster_centers_\u001b[0m\u001b[1;33m\u001b[0m\u001b[0m\n\u001b[0m",
      "\u001b[1;31mNameError\u001b[0m: name 'km' is not defined"
     ]
=======
     "data": {
      "text/plain": [
       "array([[-1.18022191,  1.23414322],\n",
       "       [-0.03729736, -0.05229676],\n",
       "       [ 1.42491312, -1.33550921]])"
      ]
     },
     "execution_count": 29,
     "metadata": {},
     "output_type": "execute_result"
>>>>>>> Stashed changes
    }
   ],
   "source": [
    "# Check out centroids\n",
    "km.cluster_centers_"
   ]
  },
  {
   "cell_type": "code",
<<<<<<< Updated upstream
<<<<<<< Updated upstream
   "execution_count": 4,
   "metadata": {},
   "outputs": [
    {
     "ename": "NameError",
     "evalue": "name 'km' is not defined",
     "output_type": "error",
     "traceback": [
      "\u001b[1;31m---------------------------------------------------------------------------\u001b[0m",
      "\u001b[1;31mNameError\u001b[0m                                 Traceback (most recent call last)",
      "\u001b[1;32m<ipython-input-4-f45673e994b4>\u001b[0m in \u001b[0;36m<module>\u001b[1;34m()\u001b[0m\n\u001b[0;32m      1\u001b[0m \u001b[1;31m# Option 1: Class attribute\u001b[0m\u001b[1;33m\u001b[0m\u001b[1;33m\u001b[0m\u001b[0m\n\u001b[1;32m----> 2\u001b[1;33m \u001b[0mkm\u001b[0m\u001b[1;33m.\u001b[0m\u001b[0mlabels_\u001b[0m\u001b[1;33m\u001b[0m\u001b[0m\n\u001b[0m",
      "\u001b[1;31mNameError\u001b[0m: name 'km' is not defined"
     ]
=======
=======
>>>>>>> Stashed changes
   "execution_count": 30,
   "metadata": {},
   "outputs": [
    {
     "data": {
      "text/plain": [
       "array([2, 1, 2, 1, 2, 0, 1, 0, 2, 1, 2, 1, 1, 1, 1, 1, 0, 2, 0, 1, 2, 2,\n",
       "       2, 1, 2, 0, 1, 2, 1, 0, 1, 1, 0, 1, 0, 1, 0, 1, 0, 1, 2, 0, 1, 0,\n",
       "       0, 0, 2, 1, 0, 1], dtype=int32)"
      ]
     },
     "execution_count": 30,
     "metadata": {},
     "output_type": "execute_result"
>>>>>>> Stashed changes
    }
   ],
   "source": [
    "# Option 1: Class attribute\n",
    "km.labels_"
   ]
  },
  {
   "cell_type": "code",
<<<<<<< Updated upstream
<<<<<<< Updated upstream
   "execution_count": 1,
   "metadata": {},
   "outputs": [
    {
     "ename": "NameError",
     "evalue": "name 'km' is not defined",
     "output_type": "error",
     "traceback": [
      "\u001b[1;31m---------------------------------------------------------------------------\u001b[0m",
      "\u001b[1;31mNameError\u001b[0m                                 Traceback (most recent call last)",
      "\u001b[1;32m<ipython-input-1-1a964a2205a9>\u001b[0m in \u001b[0;36m<module>\u001b[1;34m()\u001b[0m\n\u001b[0;32m      1\u001b[0m \u001b[1;31m# Option 2: Predict\u001b[0m\u001b[1;33m\u001b[0m\u001b[1;33m\u001b[0m\u001b[0m\n\u001b[1;32m----> 2\u001b[1;33m \u001b[0mkm\u001b[0m\u001b[1;33m.\u001b[0m\u001b[0mpredict\u001b[0m\u001b[1;33m(\u001b[0m\u001b[0mX_sc\u001b[0m\u001b[1;33m)\u001b[0m\u001b[1;33m\u001b[0m\u001b[0m\n\u001b[0m",
      "\u001b[1;31mNameError\u001b[0m: name 'km' is not defined"
     ]
=======
=======
>>>>>>> Stashed changes
   "execution_count": 31,
   "metadata": {},
   "outputs": [
    {
     "data": {
      "text/plain": [
       "array([2, 1, 2, 1, 2, 0, 1, 0, 2, 1, 2, 1, 1, 1, 1, 1, 0, 2, 0, 1, 2, 2,\n",
       "       2, 1, 2, 0, 1, 2, 1, 0, 1, 1, 0, 1, 0, 1, 0, 1, 0, 1, 2, 0, 1, 0,\n",
       "       0, 0, 2, 1, 0, 1], dtype=int32)"
      ]
     },
     "execution_count": 31,
     "metadata": {},
     "output_type": "execute_result"
>>>>>>> Stashed changes
    }
   ],
   "source": [
    "# Option 2: Predict\n",
    "km.predict(X_sc)"
   ]
  },
  {
   "cell_type": "code",
   "execution_count": 32,
   "metadata": {
    "slideshow": {
     "slide_type": "-"
    }
   },
   "outputs": [
    {
     "data": {
      "text/html": [
       "<div>\n",
       "<style scoped>\n",
       "    .dataframe tbody tr th:only-of-type {\n",
       "        vertical-align: middle;\n",
       "    }\n",
       "\n",
       "    .dataframe tbody tr th {\n",
       "        vertical-align: top;\n",
       "    }\n",
       "\n",
       "    .dataframe thead th {\n",
       "        text-align: right;\n",
       "    }\n",
       "</style>\n",
       "<table border=\"1\" class=\"dataframe\">\n",
       "  <thead>\n",
       "    <tr style=\"text-align: right;\">\n",
       "      <th></th>\n",
       "      <th>x1</th>\n",
       "      <th>x2</th>\n",
       "      <th>cluster</th>\n",
       "    </tr>\n",
       "  </thead>\n",
       "  <tbody>\n",
       "    <tr>\n",
       "      <th>0</th>\n",
       "      <td>7.081642</td>\n",
       "      <td>-5.248171</td>\n",
       "      <td>2</td>\n",
       "    </tr>\n",
       "    <tr>\n",
       "      <th>1</th>\n",
       "      <td>-3.036735</td>\n",
       "      <td>-0.129646</td>\n",
       "      <td>1</td>\n",
       "    </tr>\n",
       "    <tr>\n",
       "      <th>2</th>\n",
       "      <td>5.117565</td>\n",
       "      <td>-3.323573</td>\n",
       "      <td>2</td>\n",
       "    </tr>\n",
       "    <tr>\n",
       "      <th>3</th>\n",
       "      <td>-1.807058</td>\n",
       "      <td>-0.335986</td>\n",
       "      <td>1</td>\n",
       "    </tr>\n",
       "    <tr>\n",
       "      <th>4</th>\n",
       "      <td>4.519789</td>\n",
       "      <td>-5.469635</td>\n",
       "      <td>2</td>\n",
       "    </tr>\n",
       "  </tbody>\n",
       "</table>\n",
       "</div>"
      ],
      "text/plain": [
       "         x1        x2  cluster\n",
       "0  7.081642 -5.248171        2\n",
       "1 -3.036735 -0.129646        1\n",
       "2  5.117565 -3.323573        2\n",
       "3 -1.807058 -0.335986        1\n",
       "4  4.519789 -5.469635        2"
      ]
     },
     "execution_count": 32,
     "metadata": {},
     "output_type": "execute_result"
    }
   ],
   "source": [
    "# attach predicted cluster to original points\n",
    "df['cluster'] = km.labels_\n",
    "df.head()"
   ]
  },
  {
   "cell_type": "code",
   "execution_count": 33,
   "metadata": {},
   "outputs": [
    {
     "data": {
      "text/plain": [
       "array([[-1.18022191,  1.23414322],\n",
       "       [-0.03729736, -0.05229676],\n",
       "       [ 1.42491312, -1.33550921]])"
      ]
     },
     "execution_count": 33,
     "metadata": {},
     "output_type": "execute_result"
    }
   ],
   "source": [
    "km.cluster_centers_"
   ]
  },
  {
   "cell_type": "code",
   "execution_count": 34,
   "metadata": {},
   "outputs": [
    {
     "data": {
      "text/html": [
       "<div>\n",
       "<style scoped>\n",
       "    .dataframe tbody tr th:only-of-type {\n",
       "        vertical-align: middle;\n",
       "    }\n",
       "\n",
       "    .dataframe tbody tr th {\n",
       "        vertical-align: top;\n",
       "    }\n",
       "\n",
       "    .dataframe thead th {\n",
       "        text-align: right;\n",
       "    }\n",
       "</style>\n",
       "<table border=\"1\" class=\"dataframe\">\n",
       "  <thead>\n",
       "    <tr style=\"text-align: right;\">\n",
       "      <th></th>\n",
       "      <th>x1</th>\n",
       "      <th>x2</th>\n",
       "    </tr>\n",
       "    <tr>\n",
       "      <th>cluster</th>\n",
       "      <th></th>\n",
       "      <th></th>\n",
       "    </tr>\n",
       "  </thead>\n",
       "  <tbody>\n",
       "    <tr>\n",
       "      <th>0</th>\n",
       "      <td>-8.242787</td>\n",
       "      <td>5.903464</td>\n",
       "    </tr>\n",
       "    <tr>\n",
       "      <th>1</th>\n",
       "      <td>-1.281358</td>\n",
       "      <td>0.723279</td>\n",
       "    </tr>\n",
       "    <tr>\n",
       "      <th>2</th>\n",
       "      <td>7.624808</td>\n",
       "      <td>-4.443910</td>\n",
       "    </tr>\n",
       "  </tbody>\n",
       "</table>\n",
       "</div>"
      ],
      "text/plain": [
       "               x1        x2\n",
       "cluster                    \n",
       "0       -8.242787  5.903464\n",
       "1       -1.281358  0.723279\n",
       "2        7.624808 -4.443910"
      ]
     },
     "execution_count": 34,
     "metadata": {},
     "output_type": "execute_result"
    }
   ],
   "source": [
    "# You do: Show me the mean values for x1 and x2 WITHIN EACH CLUSTER for our data. (thread)\n",
    "df.groupby('cluster').mean()"
   ]
  },
  {
   "cell_type": "markdown",
   "metadata": {
    "slideshow": {
     "slide_type": "slide"
    }
   },
   "source": [
    "### Visually verifying cluster labels"
   ]
  },
  {
   "cell_type": "code",
   "execution_count": 35,
   "metadata": {},
   "outputs": [
    {
     "data": {
      "text/html": [
       "<div>\n",
       "<style scoped>\n",
       "    .dataframe tbody tr th:only-of-type {\n",
       "        vertical-align: middle;\n",
       "    }\n",
       "\n",
       "    .dataframe tbody tr th {\n",
       "        vertical-align: top;\n",
       "    }\n",
       "\n",
       "    .dataframe thead th {\n",
       "        text-align: right;\n",
       "    }\n",
       "</style>\n",
       "<table border=\"1\" class=\"dataframe\">\n",
       "  <thead>\n",
       "    <tr style=\"text-align: right;\">\n",
       "      <th></th>\n",
       "      <th>x1</th>\n",
       "      <th>x2</th>\n",
       "    </tr>\n",
       "  </thead>\n",
       "  <tbody>\n",
       "    <tr>\n",
       "      <th>0</th>\n",
       "      <td>-8.242787</td>\n",
       "      <td>5.903464</td>\n",
       "    </tr>\n",
       "    <tr>\n",
       "      <th>1</th>\n",
       "      <td>-1.281358</td>\n",
       "      <td>0.723279</td>\n",
       "    </tr>\n",
       "    <tr>\n",
       "      <th>2</th>\n",
       "      <td>7.624808</td>\n",
       "      <td>-4.443910</td>\n",
       "    </tr>\n",
       "  </tbody>\n",
       "</table>\n",
       "</div>"
      ],
      "text/plain": [
       "         x1        x2\n",
       "0 -8.242787  5.903464\n",
       "1 -1.281358  0.723279\n",
       "2  7.624808 -4.443910"
      ]
     },
     "execution_count": 35,
     "metadata": {},
     "output_type": "execute_result"
    }
   ],
   "source": [
    "## Create a dataframe for cluster_centers (centroids)\n",
    "centroids = pd.DataFrame(\n",
    "    sc.inverse_transform(km.cluster_centers_),\n",
    "    columns=[\"x1\", \"x2\"]\n",
    ")\n",
    "centroids"
   ]
  },
  {
   "cell_type": "code",
   "execution_count": 36,
   "metadata": {
    "scrolled": false,
    "slideshow": {
     "slide_type": "-"
    }
   },
   "outputs": [
    {
     "data": {
      "text/plain": [
       "<Figure size 504x504 with 0 Axes>"
      ]
     },
     "metadata": {},
     "output_type": "display_data"
    },
    {
     "data": {
      "image/png": "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\n",
      "text/plain": [
       "<Figure size 720x576 with 1 Axes>"
      ]
     },
     "metadata": {},
     "output_type": "display_data"
    }
   ],
   "source": [
    "plt.figure(figsize=(7,7))\n",
    "\n",
    "## Plot scatter by cluster / color, and centroids\n",
    "colors = [\"red\", \"green\", \"blue\"]\n",
    "df['color'] = df['cluster'].map(lambda p: colors[p])\n",
    "\n",
    "ax = df.plot(    \n",
    "    kind=\"scatter\", \n",
    "    x=\"x1\", y=\"x2\",\n",
    "    figsize=(10,8),\n",
    "    c = df['color']\n",
    ")\n",
    "\n",
    "centroids.plot(\n",
    "    kind=\"scatter\", \n",
    "    x=\"x1\", y=\"x2\", \n",
    "    marker=\"*\", c=[\"r\", \"g\", \"b\"], s=550,\n",
    "    ax=ax\n",
    ");"
   ]
  },
  {
   "cell_type": "markdown",
   "metadata": {
    "slideshow": {
     "slide_type": "slide"
    }
   },
   "source": [
    "<a id='sil'></a>\n",
    "\n",
    "## Metrics: inertia and the silhouette score\n",
    "\n",
    "---\n",
    "\n",
    "**Inertia** -- sum of squared errors for each cluster.\n",
    "- low inertia = dense cluster\n",
    "\n",
    "> As the number of clusters k increases, inertia decreases. \n",
    "\n",
    "**Silhouette Score** \n",
    "\n",
    "- measure of how far apart clusters are\n",
    "- high Silhouette = clusters are well separated\n",
    "\n",
    "The Silhouette Score is the averge of Silhouette $s$ of each point within a cluster in relation to other clusters. The logic behind the Silhouette score is that **cohesion** should be low, while **separation** should be high:\n",
    "\n",
    "**cohesion** = Average distance of points within clusters\n",
    "\n",
    "**separation** = Average distance of points in one cluster to points in other clusters\n",
    "\n",
    "And it's calculated as:\n",
    "\n",
    "$$s_i = \\frac{b_i - a_i}{max\\{a_i, b_i\\}}$$\n",
    "\n",
    "where:\n",
    "\n",
    "* $a_i$ = Average distance from point $x_i$ to all other points **in the same cluster**.\n",
    "* $b_i$ = Average distance from point $x_i$ to all points **in the next nearest cluster**.\n",
    "\n",
    "And the resulting silhouette score is the average of all the $s_i$s.\n",
    "\n",
    "* -1 = Bad\n",
    "\n",
    "* 0 = Meh\n",
    "\n",
    "* 1 = Good\n",
    "\n",
    "The silhouette score evaluates the viability of your clusters. It is a way to quantify the \"cohesion\" of local points to their clusters and the separation to other clusters."
   ]
  },
  {
   "cell_type": "markdown",
   "metadata": {},
   "source": [
    "### Easy to calculate Silhouette in Scikit-Learn"
   ]
  },
  {
   "cell_type": "code",
   "execution_count": 37,
   "metadata": {
    "slideshow": {
     "slide_type": "-"
    }
   },
   "outputs": [
    {
     "data": {
      "text/plain": [
       "0.7263591318460948"
      ]
     },
     "execution_count": 37,
     "metadata": {},
     "output_type": "execute_result"
    }
   ],
   "source": [
    "from sklearn.metrics import silhouette_score\n",
    "silhouette_score(X_sc, km.labels_)   #(X,predicted labels of each sample)"
   ]
  },
  {
   "cell_type": "markdown",
   "metadata": {},
   "source": [
    "### Programatically Inspecting $k$\n",
    "\n",
    "Since we're familliar with gridsearch now, let's try it out!  Gridsearch is typically used for supervised learning with some scoring objective for optimizing parameters in terms of `best_model`.  We don't really care about the best model as much as we want to see how either inertia or silhouette score changes based on $k$.\n",
    "\n",
    "We will write a basic process for exploring inertia and silhouette, that you can feel free to adapt to any other ML process you might write in Sklearn for doing custom scoring (using GridsearchCV is better for supervised learning because it has cross validation built-in!).\n",
    "\n",
    "> Visually inspecting your clusters is vastly superior to relying on programatic parameter searching for an ideal cluster for most data.  You can also invent your own evalutation metrics other than inertia or silhoette.  The world is also bigger than k-means when it comes to cluster applications.  It's a great first stop in your journey of clustering."
   ]
  },
  {
   "cell_type": "code",
   "execution_count": 41,
   "metadata": {},
   "outputs": [],
   "source": [
    "scores = []\n",
    "for k in range(2, 31):\n",
    "    cl = KMeans(n_clusters=k)\n",
    "    cl.fit(X_sc)\n",
    "    inertia = cl.inertia_\n",
    "    sil = silhouette_score(X_sc, cl.labels_)\n",
    "    scores.append([k, inertia, sil])\n",
    "\n",
    "score_df = pd.DataFrame(scores)\n",
    "score_df.columns = ['k', 'inertia', 'silhouette']"
   ]
  },
  {
   "cell_type": "code",
   "execution_count": 42,
   "metadata": {},
   "outputs": [
    {
     "data": {
      "text/html": [
       "<div>\n",
       "<style scoped>\n",
       "    .dataframe tbody tr th:only-of-type {\n",
       "        vertical-align: middle;\n",
       "    }\n",
       "\n",
       "    .dataframe tbody tr th {\n",
       "        vertical-align: top;\n",
       "    }\n",
       "\n",
       "    .dataframe thead th {\n",
       "        text-align: right;\n",
       "    }\n",
       "</style>\n",
       "<table border=\"1\" class=\"dataframe\">\n",
       "  <thead>\n",
       "    <tr style=\"text-align: right;\">\n",
       "      <th></th>\n",
       "      <th>k</th>\n",
       "      <th>inertia</th>\n",
       "      <th>silhouette</th>\n",
       "    </tr>\n",
       "  </thead>\n",
       "  <tbody>\n",
       "    <tr>\n",
       "      <th>0</th>\n",
       "      <td>2</td>\n",
       "      <td>32.997961</td>\n",
       "      <td>0.617337</td>\n",
       "    </tr>\n",
       "    <tr>\n",
       "      <th>1</th>\n",
       "      <td>3</td>\n",
       "      <td>6.587219</td>\n",
       "      <td>0.726359</td>\n",
       "    </tr>\n",
       "    <tr>\n",
       "      <th>2</th>\n",
       "      <td>4</td>\n",
       "      <td>5.137692</td>\n",
       "      <td>0.594678</td>\n",
       "    </tr>\n",
       "    <tr>\n",
       "      <th>3</th>\n",
       "      <td>5</td>\n",
       "      <td>3.968200</td>\n",
       "      <td>0.523346</td>\n",
       "    </tr>\n",
       "    <tr>\n",
       "      <th>4</th>\n",
       "      <td>6</td>\n",
       "      <td>3.281475</td>\n",
       "      <td>0.411581</td>\n",
       "    </tr>\n",
       "    <tr>\n",
       "      <th>5</th>\n",
       "      <td>7</td>\n",
       "      <td>2.836148</td>\n",
       "      <td>0.396608</td>\n",
       "    </tr>\n",
       "    <tr>\n",
       "      <th>6</th>\n",
       "      <td>8</td>\n",
       "      <td>2.329958</td>\n",
       "      <td>0.448307</td>\n",
       "    </tr>\n",
       "    <tr>\n",
       "      <th>7</th>\n",
       "      <td>9</td>\n",
       "      <td>1.872145</td>\n",
       "      <td>0.424278</td>\n",
       "    </tr>\n",
       "    <tr>\n",
       "      <th>8</th>\n",
       "      <td>10</td>\n",
       "      <td>1.681928</td>\n",
       "      <td>0.407402</td>\n",
       "    </tr>\n",
       "    <tr>\n",
       "      <th>9</th>\n",
       "      <td>11</td>\n",
       "      <td>1.478069</td>\n",
       "      <td>0.425530</td>\n",
       "    </tr>\n",
       "    <tr>\n",
       "      <th>10</th>\n",
       "      <td>12</td>\n",
       "      <td>1.288583</td>\n",
       "      <td>0.431045</td>\n",
       "    </tr>\n",
       "    <tr>\n",
       "      <th>11</th>\n",
       "      <td>13</td>\n",
       "      <td>1.038589</td>\n",
       "      <td>0.456658</td>\n",
       "    </tr>\n",
       "    <tr>\n",
       "      <th>12</th>\n",
       "      <td>14</td>\n",
       "      <td>0.989259</td>\n",
       "      <td>0.419141</td>\n",
       "    </tr>\n",
       "    <tr>\n",
       "      <th>13</th>\n",
       "      <td>15</td>\n",
       "      <td>0.767361</td>\n",
       "      <td>0.440004</td>\n",
       "    </tr>\n",
       "    <tr>\n",
       "      <th>14</th>\n",
       "      <td>16</td>\n",
       "      <td>0.641976</td>\n",
       "      <td>0.471677</td>\n",
       "    </tr>\n",
       "    <tr>\n",
       "      <th>15</th>\n",
       "      <td>17</td>\n",
       "      <td>0.586423</td>\n",
       "      <td>0.440703</td>\n",
       "    </tr>\n",
       "    <tr>\n",
       "      <th>16</th>\n",
       "      <td>18</td>\n",
       "      <td>0.460336</td>\n",
       "      <td>0.450418</td>\n",
       "    </tr>\n",
       "    <tr>\n",
       "      <th>17</th>\n",
       "      <td>19</td>\n",
       "      <td>0.396360</td>\n",
       "      <td>0.463450</td>\n",
       "    </tr>\n",
       "    <tr>\n",
       "      <th>18</th>\n",
       "      <td>20</td>\n",
       "      <td>0.341093</td>\n",
       "      <td>0.488023</td>\n",
       "    </tr>\n",
       "    <tr>\n",
       "      <th>19</th>\n",
       "      <td>21</td>\n",
       "      <td>0.321731</td>\n",
       "      <td>0.455124</td>\n",
       "    </tr>\n",
       "    <tr>\n",
       "      <th>20</th>\n",
       "      <td>22</td>\n",
       "      <td>0.275282</td>\n",
       "      <td>0.443603</td>\n",
       "    </tr>\n",
       "    <tr>\n",
       "      <th>21</th>\n",
       "      <td>23</td>\n",
       "      <td>0.242144</td>\n",
       "      <td>0.446117</td>\n",
       "    </tr>\n",
       "    <tr>\n",
       "      <th>22</th>\n",
       "      <td>24</td>\n",
       "      <td>0.231278</td>\n",
       "      <td>0.412517</td>\n",
       "    </tr>\n",
       "    <tr>\n",
       "      <th>23</th>\n",
       "      <td>25</td>\n",
       "      <td>0.200788</td>\n",
       "      <td>0.433007</td>\n",
       "    </tr>\n",
       "    <tr>\n",
       "      <th>24</th>\n",
       "      <td>26</td>\n",
       "      <td>0.188411</td>\n",
       "      <td>0.384035</td>\n",
       "    </tr>\n",
       "    <tr>\n",
       "      <th>25</th>\n",
       "      <td>27</td>\n",
       "      <td>0.171321</td>\n",
       "      <td>0.387100</td>\n",
       "    </tr>\n",
       "    <tr>\n",
       "      <th>26</th>\n",
       "      <td>28</td>\n",
       "      <td>0.151457</td>\n",
       "      <td>0.369148</td>\n",
       "    </tr>\n",
       "    <tr>\n",
       "      <th>27</th>\n",
       "      <td>29</td>\n",
       "      <td>0.132413</td>\n",
       "      <td>0.361919</td>\n",
       "    </tr>\n",
       "    <tr>\n",
       "      <th>28</th>\n",
       "      <td>30</td>\n",
       "      <td>0.120721</td>\n",
       "      <td>0.354881</td>\n",
       "    </tr>\n",
       "  </tbody>\n",
       "</table>\n",
       "</div>"
      ],
      "text/plain": [
       "     k    inertia  silhouette\n",
       "0    2  32.997961    0.617337\n",
       "1    3   6.587219    0.726359\n",
       "2    4   5.137692    0.594678\n",
       "3    5   3.968200    0.523346\n",
       "4    6   3.281475    0.411581\n",
       "5    7   2.836148    0.396608\n",
       "6    8   2.329958    0.448307\n",
       "7    9   1.872145    0.424278\n",
       "8   10   1.681928    0.407402\n",
       "9   11   1.478069    0.425530\n",
       "10  12   1.288583    0.431045\n",
       "11  13   1.038589    0.456658\n",
       "12  14   0.989259    0.419141\n",
       "13  15   0.767361    0.440004\n",
       "14  16   0.641976    0.471677\n",
       "15  17   0.586423    0.440703\n",
       "16  18   0.460336    0.450418\n",
       "17  19   0.396360    0.463450\n",
       "18  20   0.341093    0.488023\n",
       "19  21   0.321731    0.455124\n",
       "20  22   0.275282    0.443603\n",
       "21  23   0.242144    0.446117\n",
       "22  24   0.231278    0.412517\n",
       "23  25   0.200788    0.433007\n",
       "24  26   0.188411    0.384035\n",
       "25  27   0.171321    0.387100\n",
       "26  28   0.151457    0.369148\n",
       "27  29   0.132413    0.361919\n",
       "28  30   0.120721    0.354881"
      ]
     },
     "execution_count": 42,
     "metadata": {},
     "output_type": "execute_result"
    }
   ],
   "source": [
    "score_df"
   ]
  },
  {
   "cell_type": "code",
   "execution_count": 43,
   "metadata": {},
   "outputs": [
    {
     "data": {
      "text/plain": [
       "Text(0.5, 1.0, 'Silhouette Score over k')"
      ]
     },
     "execution_count": 43,
     "metadata": {},
     "output_type": "execute_result"
    },
    {
     "data": {
      "image/png": "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\n",
      "text/plain": [
       "<Figure size 1008x504 with 2 Axes>"
      ]
     },
     "metadata": {},
     "output_type": "display_data"
    }
   ],
   "source": [
    "fig, axes = plt.subplots(1, 2, figsize=(14, 7))\n",
    "axes[0].plot(score_df.k, score_df.inertia)\n",
    "axes[0].set_title('Inertia over k')\n",
    "axes[1].plot(score_df.k, score_df.silhouette);\n",
    "axes[1].set_title('Silhouette Score over k')"
   ]
  },
  {
   "cell_type": "markdown",
   "metadata": {
    "slideshow": {
     "slide_type": "slide"
    }
   },
   "source": [
    "<a name=\"conclusion\"></a>\n",
    "## Conclusion: K-Means tradeoffs\n",
    "\n",
    "---\n",
    "\n",
    "**K-Means:**\n",
    "- Unsupervised clustering model\n",
    "- Iteratively finds labels given k\n",
    "- Easy to implement in sklearn\n",
    "- Sensitive to shape, scale of data **(!!!)**\n",
    "- Optimal k hard to evaluate\n",
    "\n",
    "---\n",
    "\n",
    "| Strengths | Weaknesses |\n",
    "| -- | -- |\n",
    "| k-Means is popular because it's simple and computationally efficient. | However, k-Means is highly scale dependent and isn't suitable for data of varying shapes and densities. |\n",
    "| Easy to see results / intuitive. | Evaluating results is more subjective, requiring much more human evaluation than trusted metrics. |"
   ]
  },
  {
   "cell_type": "markdown",
   "metadata": {
    "slideshow": {
     "slide_type": "subslide"
    }
   },
   "source": [
    "### K-Means is sensitive to outliers\n",
    "\n",
    "![](https://snag.gy/WFNMQY.jpg)"
   ]
  },
  {
   "cell_type": "markdown",
   "metadata": {
    "slideshow": {
     "slide_type": "subslide"
    }
   },
   "source": [
    "### K-Means is sensitive to centroid initialization\n",
    "\n",
    "![](https://snag.gy/5sigCD.jpg)"
   ]
  },
  {
   "cell_type": "markdown",
   "metadata": {},
   "source": [
    "<a id='resources'></a>\n",
    "\n",
    "## Additional resources\n",
    "\n",
    "---\n",
    "\n",
    "- Andrew Moore's CS class at Carnegie Mellon contains good static visualization, step-by-step. His slide deck is online here: https://www.autonlab.org/tutorials/kmeans11.pdf. He also links to more of his tutorials on the first page. \n",
    "- [Sci-Kit Learn Clustering Overview](http://scikit-learn.org/stable/modules/clustering.html#k-means)\n",
    "- [SKLearn K-Means Documentation](http://scikit-learn.org/stable/modules/generated/sklearn.cluster.KMeans.html#sklearn.cluster.KMeans)\n",
    "- [SKLearn Clustering Code - See _k_init__ for explanation of k++ centroid selection](https://github.com/scikit-learn/scikit-learn/blob/51a765a/sklearn/cluster/k_means_.py#L769)\n",
    "- [Clustering Tutorial](http://home.deib.polimi.it/matteucc/Clustering/tutorial_html/)\n",
    "- [Wikipedia's Deep Dive on Clustering](https://en.wikipedia.org/wiki/K-means_clustering)\n",
    "- [An excellent blog from Galvanize on K-Means Clustering](http://www.galvanize.com/blog/introduction-k-means-cluster-analysis/#.V9aXqpOAOkp)\n",
    "\n",
    "**Some helpful stackexchange questions:**\n",
    "- http://stats.stackexchange.com/questions/40613/why-dont-dummy-variables-have-the-continuous-adjacent-category-problem-in-clust\n",
    "- http://stats.stackexchange.com/questions/174556/k-means-clustering-with-dummy-variables\n",
    "- http://datascience.stackexchange.com/questions/22/k-means-clustering-for-mixed-numeric-and-categorical-data\n",
    "- http://www-01.ibm.com/support/docview.wss?uid=swg21477401\n"
   ]
  }
 ],
 "metadata": {
  "anaconda-cloud": {},
  "kernelspec": {
   "display_name": "Python 3",
   "language": "python",
   "name": "python3"
  },
  "language_info": {
   "codemirror_mode": {
    "name": "ipython",
    "version": 3
   },
   "file_extension": ".py",
   "mimetype": "text/x-python",
   "name": "python",
   "nbconvert_exporter": "python",
   "pygments_lexer": "ipython3",
   "version": "3.6.5"
  }
 },
 "nbformat": 4,
 "nbformat_minor": 1
}
