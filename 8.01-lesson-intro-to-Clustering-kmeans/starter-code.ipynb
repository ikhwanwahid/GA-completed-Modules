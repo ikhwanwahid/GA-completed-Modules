{
 "cells": [
  {
   "cell_type": "markdown",
   "metadata": {
    "slideshow": {
     "slide_type": "slide"
    }
   },
   "source": [
    "<img src=\"http://imgur.com/1ZcRyrc.png\" style=\"float: left; margin: 20px; height: 55px\">\n",
    "\n",
    "# Introduction to Clustering and K-Means\n",
    "\n",
    "_Authors: Tim Book (DC), Dave Yerrington (SF), Joseph Nelson (DC)_\n",
    "\n",
    "---\n",
    "\n",
    "![](https://snag.gy/kYWumd.jpg)"
   ]
  },
  {
   "cell_type": "markdown",
   "metadata": {
    "slideshow": {
     "slide_type": "slide"
    }
   },
   "source": [
    "# Learning Objectives\n",
    "*After this lesson, you will be able to:*\n",
    "- Understand basic unsupervised clustering problems\n",
    "- Perform a K-Means Clustering Analysis\n",
    "- Evaluate clusters for fit "
   ]
  },
  {
   "cell_type": "markdown",
   "metadata": {
    "slideshow": {
     "slide_type": "slide"
    }
   },
   "source": [
    "## Lesson Guide\n",
    "- [Unsupervised learning](#unsupervised)\n",
    "- [Introduction to clustering](#intro)\n",
    "- [Uses for Clustering](#uses)\n",
    "- [What is clustering?](#what)\n",
    "- [KNN review](#knn)\n",
    "- [Clustering algorithms](#algos)\n",
    "- [K-means clustering](#k-means)\n",
    "- [K-Means step-by-step](#km-steps)\n",
    "- [K-Means: a visual example](#vis)\n",
    "- [K-Means caveats and pitfalls](#caveats)\n",
    "- [Centroid Initialization](#init-centroid)\n",
    "- [Choosing K](#choose-k)\n",
    "- [A note on K-Means convergence](#converge)\n",
    "- [K-Means in sklearn](#sklearn)\n",
    "- [Metrics: inertia and the silhouette coefficient](#sil)\n",
    "- [Practice: use K-Means on the \"Isotopic Composition Plutonium Batches\" data](#pluto)\n",
    "    - [How does scaling affect fit?](#scaling)\n",
    "- [Conclusion: K-Means tradeoffs](#conclusion)\n",
    "- [Additional resources](#resources)"
   ]
  },
  {
   "cell_type": "markdown",
   "metadata": {
    "slideshow": {
     "slide_type": "slide"
    }
   },
   "source": [
    "<a id='unsupervised'></a>\n",
    "\n",
    "## Unsupervised learning\n",
    "\n",
    "---\n",
    "\n",
    "Up until now, we've been doing **supervised learning** - that is, modeling of the form:\n",
    "\n",
    "> Given X, predict Y\n",
    "\n",
    "Supervised learning comes in two flavors: can you remind me what they are? And how are they different? (prompt)\n",
    "\n",
    "When we don't have a Y variable to predict, we are in the realm of **unsupervised learning**. Since there is no Y variable, unsupervised learning has no measurable \"goal\". Instead, unsuprvised learning seeks to **represent the data in new ways**. Today we're introducing **clustering**, however there are many other types of unsupervised learning.\n",
    "\n",
    "> Data that don't have a natural Y variable are sometimes referred to as **unlabeled** data. This is because the Y variable is often refered to as a **label**."
   ]
  },
  {
   "cell_type": "markdown",
   "metadata": {},
   "source": [
    "## New Issues\n",
    "Since there is no Y variable to \"supervise\" our learning, unsupervised learning presents us with some new issues we've never had to work through:\n",
    "\n",
    "* **What is \"correct\"?** Since there's no Y variable, we don't have an easy to way know if we're even doing a good job.\n",
    "* **Tuning parameter selection.** Many unsupervised models have tuning parameters. How do we tune them if we don't know how to evaluate our model?\n",
    "* **Unpredictability (clustering).** In clustering, it is very difficult to predict what our model will give us. It's possible that a clustering algorithm won't give us actionable results. More on this later."
   ]
  },
  {
   "cell_type": "markdown",
   "metadata": {
    "slideshow": {
     "slide_type": "slide"
    }
   },
   "source": [
    "<a name=\"intro\"></a>\n",
    "# Introduction to Clustering\n",
    "\n",
    "---\n",
    "\n",
    "**Clustering** is a task in which we seek to group our observations in **homogenous clusters**. Since it's unsupervised, it is up to us, the data scientists, to decide what we mean by \"homogenous\"."
   ]
  },
  {
   "cell_type": "markdown",
   "metadata": {},
   "source": [
    "<a name=\"uses\"></a>\n",
    "## Uses for Clustering\n",
    "### Marketing\n",
    "Marketing teams do a lot of data-driven research into who does and does not buy their product (and why). As a marketing data scientist, you might collect demographic information about people in a survey and their spending habits. After clustering, you do some EDA and you might discover:\n",
    "\n",
    "> People in Cluster A aren't buying our product, but people in Cluster B are. Why?\n",
    "\n",
    "After some digging, you might make the conclusion and recommendation:\n",
    "\n",
    "> People in Cluster A have characteristic X, but people in Cluster B do not. In order to sell to Cluster A, we should target our marketing with respect to X.\n",
    "\n",
    "Maybe X = \n",
    "* They don't have cable\n",
    "* Their political beliefs\n",
    "* They live in cities\n",
    "\n",
    "\n",
    "<img src=\"https://snag.gy/BdfATE.jpg\" style=\"width: 500px\">"
   ]
  },
  {
   "cell_type": "markdown",
   "metadata": {},
   "source": [
    "### Political Polling\n",
    "In the same vein as the above example, instead of buying a product, maybe it's **voting for a certain candidate**.\n",
    "\n",
    "The popular data-drive journalism website, FiveThirtyEight is doing a lot of research into the upcoming 2020 Democratic primary season. They have used (probably subjective) clustering techniques to divide Democratic voters into five clusters:\n",
    "\n",
    "* Party Loyalists\n",
    "* The Left\n",
    "* Millennials and Friends\n",
    "* Black voters\n",
    "* Hispanic voters (sometimes in combination with Asian voters)\n",
    "\n",
    "They then graded each candidate based on their favorability of these clusters:\n",
    "\n",
    "<img src=\"assets/imgs/five-corners.png\">\n",
    "\n",
    "Their methodology is probably more subjective than scientific, but it still provides a good example into how real political polling works. You can read more about it [here](https://fivethirtyeight.com/features/the-5-key-constituencies-of-the-2020-democratic-primary/)."
   ]
  },
  {
   "cell_type": "markdown",
   "metadata": {},
   "source": [
    "## Recommender Systems\n",
    "Online retailers cluster their items by similarity. If you buy (or search for) a few items in a given cluster, they may recommend you other similar items in that same cluster.\n",
    "\n",
    "<img src=\"assets/imgs/recs.png\">"
   ]
  },
  {
   "cell_type": "markdown",
   "metadata": {
    "slideshow": {
     "slide_type": "slide"
    }
   },
   "source": [
    "<img src=\"https://snag.gy/YUt5RO.jpg\" style=\"float: left; margin-right: 25px; width: 250px\">\n",
    "\n",
    "## What other problems do you think can make use of clustering?\n",
    "\n",
    "(thread)"
   ]
  },
  {
   "cell_type": "markdown",
   "metadata": {
    "slideshow": {
     "slide_type": "slide"
    }
   },
   "source": [
    "<a name=\"algos\"></a>\n",
    "# Clustering algorithms \n",
    "\n",
    "---\n",
    "\n",
    "The are many different algorithms that can perform clustering given a dataset:\n",
    "\n",
    "- **K-Means** (mean centroids)\n",
    "- **Hierarchical** (nested clusters by merging or splitting successively)\n",
    "- **DBSCAN** (density based)\n",
    "- **Affinity Propagation** (graph based approach to let points 'vote' on their preferred 'exemplar')\n",
    "- **Mean Shift** (can find number of clusters)\n",
    "- **Spectral Clustering**\n",
    "- **Agglomerative Clustering** (suite of algorithms all based on applying the same criteria/characteristics of one cluster to others)\n",
    "\n",
    "\n",
    "\n",
    "Today we're going to look only at one of the algorithms: **k-means**."
   ]
  },
  {
   "cell_type": "markdown",
   "metadata": {},
   "source": [
    "## Aside about the letter k:\n",
    "This is the _third_ topic we're learning that uses $k$ as its primary tuning parameter: k-Nearest Neighbors, k-Fold Cross Validation, and now k-Means Clustering. **The only thing they have in common is the letter $k$!** And since it's a tuning parameter, it's not the same $k$. Just an unfortunate coincidence that they all picked the same arbitrary letter."
   ]
  },
  {
   "cell_type": "markdown",
   "metadata": {
    "slideshow": {
     "slide_type": "slide"
    }
   },
   "source": [
    "<a id='k-means'></a>\n",
    "# K-Means clustering\n",
    "\n",
    "---\n",
    "\n",
    "#### K-Means is the most popular clustering algorithm\n",
    "\n",
    "K-means is one of the easier methods to understand and other clustering techniques use some of the same assumptions that k-means relies on.\n",
    "\n",
    "- **k** is the number of clusters.\n",
    "- **Means** refers to the mean points of the k clusters.\n",
    "\n",
    "The goal is to partition the data into set such that the total sum of squared distances from each point to the mean point of the cluster is minimized.\n",
    "\n",
    "**You must choose $k$, the number of clusters, in advance.** Note that this is a huge issue, since we rarely have an intuition for this number. And since we're in unsupervised territory, it's hard for us to know if we've picked correctly! We'll talk about how to pick $k$ later.\n",
    "\n",
    "The algorithm takes your entire dataset and iterates over its features and observations to determine clusters based around center points. These center points are known as **centroids**. \n",
    "\n",
    "**K-means iterative fitting:**\n",
    "1. Pick a value for k (the number of clusters to create)\n",
    "2. Initialize $k$ 'centroids' (starting points) in your data\n",
    "3. Create your clusters. Assign each point to the nearest centroid. \n",
    "4. Make your clusters better. Move each centroid to the center of its cluster. \n",
    "5. Repeat steps 3-4 until your centroids converge. \n",
    "\n",
    "> Check out a demo of this algorithm [here](https://www.naftaliharris.com/blog/visualizing-k-means-clustering/)!"
   ]
  },
  {
   "cell_type": "markdown",
   "metadata": {
    "slideshow": {
     "slide_type": "slide"
    }
   },
   "source": [
    "<a id='caveats'></a>\n",
    "## Sounds great - what could go wrong?\n",
    "\n",
    "---\n",
    "\n",
    "Now that we've learned the basic process for K-Means clustering, we should explore the idea that nothing's perfect!  Let's play a game called **\"How will it converge!?\"**.\n",
    "\n",
    "### Scenario 1: Wispy Flat Blobs"
   ]
  },
  {
   "cell_type": "code",
   "execution_count": 1,
   "metadata": {},
   "outputs": [],
   "source": [
    "import numpy as np\n",
    "import pandas as pd\n",
    "import matplotlib.pyplot as plt\n",
    "from sklearn.datasets import make_blobs"
   ]
  },
  {
   "cell_type": "code",
   "execution_count": 2,
   "metadata": {},
   "outputs": [
    {
     "data": {
<<<<<<< Updated upstream
<<<<<<< Updated upstream
      "image/png": "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\n",
=======
      "image/png": "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\n",
>>>>>>> Stashed changes
=======
      "image/png": "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\n",
>>>>>>> Stashed changes
      "text/plain": [
       "<Figure size 576x288 with 1 Axes>"
      ]
     },
<<<<<<< Updated upstream
<<<<<<< Updated upstream
     "metadata": {},
=======
     "metadata": {
      "needs_background": "light"
     },
>>>>>>> Stashed changes
=======
     "metadata": {
      "needs_background": "light"
     },
>>>>>>> Stashed changes
     "output_type": "display_data"
    }
   ],
   "source": [
    "X, color = make_blobs(n_samples=50, random_state=13, centers=2, cluster_std=.5, )\n",
    "X = map(lambda x: (x[0][0], x[0][1], color[x[1]]), zip(X, color))\n",
    "\n",
    "points = pd.DataFrame(list(X), columns=[\"x1\", \"x2\", \"color\"])\n",
    "ax = points.plot(kind=\"scatter\", x=\"x1\", y=\"x2\", figsize=(8, 4))\n",
    "\n",
    "initial_centroids = pd.DataFrame([[5.5, 2.4, \"b\"], [6.7, 2.4, \"r\"]], columns=[\"x1\", \"x2\", \"color\"])\n",
    "initial_centroids.plot(kind=\"scatter\", x=\"x1\", y=\"x2\", c=initial_centroids['color'], ax=ax, marker=\"*\", s=150);"
   ]
  },
  {
   "cell_type": "markdown",
   "metadata": {},
   "source": [
    "### Scenario 2:  The Lone Wolf Point"
   ]
  },
  {
   "cell_type": "code",
<<<<<<< Updated upstream
<<<<<<< Updated upstream
   "execution_count": 34,
=======
   "execution_count": 3,
>>>>>>> Stashed changes
=======
   "execution_count": 3,
>>>>>>> Stashed changes
   "metadata": {},
   "outputs": [
    {
     "data": {
<<<<<<< Updated upstream
<<<<<<< Updated upstream
      "image/png": "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\n",
=======
      "image/png": "iVBORw0KGgoAAAANSUhEUgAAAfQAAAEGCAYAAACTjGeYAAAABHNCSVQICAgIfAhkiAAAAAlwSFlzAAALEgAACxIB0t1+/AAAADh0RVh0U29mdHdhcmUAbWF0cGxvdGxpYiB2ZXJzaW9uMy4xLjEsIGh0dHA6Ly9tYXRwbG90bGliLm9yZy8QZhcZAAAdNUlEQVR4nO3dfZRddX3v8fd3zkyekQQSAUk0VhQXskKAoUJSeiFFSymKXbi0PlTbalNv1drbyoNWC7bXu4pyLa2yvEW0IEQUCMpDb6tegotCNDCBSQREBYyQCEkIARJMZjIz3/vHOZPMY5KBzNnn7Hm/1prknH32yf7+ZufMZ357//ZvR2YiSZKaW0vRBUiSpJfOQJckqQQMdEmSSsBAlySpBAx0SZJKoLXoAvbH7Nmzc/78+UWXIUlSXaxevfrpzJwzlvc0RaDPnz+fjo6OosuQJKkuIuKXY32Ph9wlSSoBA12SpBIw0CVJKgEDXZKkEjDQJUkqAQNdkqQSMNAlSSoBA12SpBIw0CVJKgEDXZKkEhi3QI+Ir0XEpoh4YITX/iYiMiJmj9f2JUmaSMazh34VcObQhRExD3gz8Pg4bluSpAll3AI9M+8EnhnhpX8CzgdyvLYtSdJEU9dz6BFxDrAhM9fsx7pLI6IjIjo2b95ch+okSWpedQv0iJgGfBL4u/1ZPzOvyMz2zGyfM2dMt4SVJGnCqWcP/TXAq4E1EbEOmAvcFxGH17EGSZJKqbVeG8rMHwMv739eC/X2zHy6XjVIklRW43nZ2nXAD4GjI2J9RHxgvLYlSdJEN2499Mx81z5enz9e25YkaaJxpjhJkkrAQJckqQQMdEmSSsBAlySpBAx0SZJKwECXJKkEDHRJkkrAQJckqQQMdEmSSsBAlySpBAx0SZJKwECXJKkEDHRJkkrAQJckqQQMdEmSSsBAlySpBAx0SZJKwECXJKkEDHRJkkrAQJckqQTGLdAj4msRsSkiHhiw7PMR8XBErI2Ib0fEzPHaviRJE8l49tCvAs4csuz7wLGZuQD4GfCJcdy+JEkTxrgFembeCTwzZNn3MrOn9vRHwNzx2r4kSRNJkefQ/xT4j9FejIilEdERER2bN2+uY1mSJDWfQgI9Iv4W6AGWjbZOZl6Rme2Z2T5nzpz6FSdJUhNqrfcGI+KPgbOB38nMrPf2JUkqo7oGekScCZwP/LfM/HU9ty1JUpmN52Vr1wE/BI6OiPUR8QHgS8BBwPcjojMi/s94bV+SpIlk3HromfmuERZ/dby2J0nSROZMcZIklYCBLklSCRjokiSVgIEuSVIJGOiSJJWAgS5JUgkY6JIklYCBLklSCRjokiSVgIEuSVIJGOiSJJWAgS5JUgkY6JIklYCBLklSCRjokiSVgIEuSVIJGOhNaMsW+Iu/gMyiK5EkNQoDvQnddBN8+cvw4INFVyJJahQGehO66ipoaYHrry+6EklSozDQm8zWrdDRAX19cM01RVcjSWoUreP1D0fE14CzgU2ZeWxt2SHAt4D5wDrgHZm5dbxqKIMvfhF+9rM9zx9/HCZNgu5u2LgRli6FyZP3vP7mN8Nb3lL/OiVJxRq3QAeuAr4EfH3AsguB2zPzHyPiwtrzC8axhqb3zDPwpS+N/NqOHfCVr+x5PmkS/O7v1qcuSVJjGbdD7pl5J/DMkMXnAFfXHl8NvG28tl8WF10EK1bArFnQ1jbyOtOmwTHHwEMPwdln17c+SVJjqPc59MMy88na46eAw0ZbMSKWRkRHRHRs3ry5PtU1qNNPrx52P+GE4aE+Ywa8+91w//3wmtcUU58kqXiFDYrLzARGvZI6M6/IzPbMbJ8zZ04dK2tMs2dXe+m7dg1e3tMDr3999XC7JGniqnegb4yIIwBqf2+q8/ab1q9/DXfcUX08fTpMmQJTp8LOndXL2CRJE1u9A/0W4P21x+8Hbq7z9pvWd79b7Y1PnVo9r755M5x7bjXYH3gAfvWroiuUJBVp3AI9Iq4DfggcHRHrI+IDwD8Cb4qInwNn1J5rP9x6Kxx+ONx1F5x3XvXc+TXXVHvn06ZVA1+SNHFFNsGE4O3t7dnR0VF0GYVavx5mzqwG+VAbN1bPoc+aVf+6JEkHXkSszsz2sbxnPK9D1wE0d+7orx026rUCkqSJwqlfJUkqAQNdkqQSMNAlSSoBA12SpBIw0CVJKgEDvclt2d7FmieeZcv2rqJLkSQVyMvWmtjNnRu4YPla2lpa2NXXx+fOXcBbFx5ZdFmSpALYQ29SW7Z3ccHytezc1ce2rh527urj/OVr7alL0gRlD73BbdnexfqtO5g+qcKvntsJJG94xcGs37qDtpYWdtK3e922lhbWb93BoTMmF1ewJKkQBnoD6z+knn1JV++eKXrbKsHFb3kDu/r6Bq2/q6+PubOm1rtMSVID8JB7gxp4SH1gmAPs6k0uvvVB/vpNr2NKWwvTJlVoqwR/fcbr7J1L0gRloDeo/kPqo9nVm1z6vZ+x8MiD+XV3L7t6k//1Hw/zdzf/uI5VSpIahYHeoObOmjrskPpQ3T19/Gjd1kHLvv7Dx3lk47bxLE2S1IAM9AZ16IzJfO7cBUxpa2FyJcb03s4nnh2nqiRJjcpBcQ3srQuPZPFRs3ePcn/4qW389fWddPfu/R72C+fNrFOFkqRGYaA3qP7L1ebOmspxtYA+6rCD6Mvk/OVrqbQEu3qTE+YdzI9+seew+/tOeSVHHXZQUWVLkgpioDegvc0A99aFR7JtZw+fufVB2iotdK5/jk/+3us5ZPokFs6baZhL0gTlOfQGM9IMcOfduIY7f7aJLdu72LK9i3/494fo7k1e6O5l564+Lv3+zwxzSZrgDPQGs37rDioxeBBcV0/yoWvvY/ElK/jGqseHvae7p4+z/uW/uKVzQ73KlCQ1mEICPSL+R0Q8GBEPRMR1ETGliDoa0QMbnuOF7t5hy39d641/ccXP2blr+OVs3b3pXO6SNIHVPdAj4kjgL4H2zDwWqAB/WO86GlH/4fS9qbQEbS0jX8bWP5e7JGniKeqQeyswNSJagWnArwqqo6Hsa3Y4gB27+ujLkS9bcy53SZq46h7ombkBuBR4HHgSeC4zvzd0vYhYGhEdEdGxefPmepdZiJFmh2sdYQ+1tASTW2P3hDNT2lqY0tbC585d4FzukjRBRY7S2xu3DUbMApYD7wSeBW4AbszMa0d7T3t7e3Z0dNSpwmLd0rmB8wdcsvbh047iX+98lO1de86rT59c4bw3H81vzJnOKw6eygvdvcydNdUwl6SSiIjVmdk+lvcUcR36GcAvMnMzQETcBCwCRg30iWTg7HD9h88v/8Ejg9Z5oauXz3/3p/RmDrpGXZI0cRVxDv1x4OSImBYRAfwO8JMC6mhYh86YzHHzZnLojMmD5nSfPrmye53+a9Ad2S5Jgn0EekS8LCJeM8LyBS92g5m5CrgRuA/4ca2GK17sv1dmW7Z3seaJZ1l81GzuvmAJn3nLG5g+qTJoHUe2S5JgL4fcI+IdwGXApohoA/44M++tvXwVcMKL3WhmXgRc9GLfPxGMNP3r6a9/OZ+6+YFB63X39vLcjm62bO/yHLokTWB766F/EjgxMxcCfwJcExF/UHttbPfz1JiMNP3r+cvXAvC5cxcwuTWY1lahEtCX8OFl97P4khXOFCdJE9jeBsVVMvNJgMy8JyJOB26LiHlAfYfGTzDrt+4g+wZ/i7Mvq8sBCJKkN6G3N9nV2wPA+cvXsvio2fbUJWkC2lsPfdvA8+e1cD8NOAd4wzjXNaFNn1Sha8g9z7t6k109vVywfC1dPX3sGGH6V8+nS9LEtbdA/+9AS0Qc078gM7cBZwIfHO/CJrIXunuZPGRGmSltLazb8uu9ziTnTHGSNHGNmg6ZuSYzfw5cHxEXRNVU4AvAX9StwgnogQ3P0dUzvAe+cN7MYTPJAUxuLd9Mcf0j/AdekjfSMklS1f5MLPNG4BJgJXAQsAxYPJ5FTWSj3aDl02cfw1GHHcSnzz6Gv/324JHumcm/f/TU0twPfdmPfslnbnuISZWgp686eU7CsFH/TqgjSXvsT6DvAnYAU4EpVGd5G95N1AHRf4OWnez5Fk+fVOHYVxwMwLxZU5na1jLoHPrk1sqIt1xtRst+9Ev+9jvVX1i6q2P9OO/GtUDS1ZO7vy8OAJSkwfZnprh7qQb6ScCpwLsi4oZxrWoCG+kGLb2ZzJ01lZs7N/BnX+8YNiCuLOfOt2zv4jO3PjhseUtAJQb/V3UAoCQNtj+B/oHM/LvM3JWZT2bmOcAt413YRDVwqteDJrfuPjcO1Ea4Dx79Prm1POfO12/dQU/v8Csie3qT3iznLzGSdKDs85B7Zg67zVlmXjM+5QiG36Dl0BmTWfPEs8MOxQP86eL5pTmX/PS2oa2rSuCdJ83j+o71g86hl+GXGEk6UIq425r2Q/+NWfrNnTWV7t7h58m/dvc6PnjqbzR9uN3cuYGP37BmxNd6+pJv3buef//ob3mrWEkaRRF3W9OLcOiMyXzk9NcOWz6p0vznkrds7+L8G9eya4TD7f26evr4jwee2n0XOknSYAZ6E3n3G19JW2XwNPo7e3qb/lzyslWPj3jd/VD/suLnPLJxWx0qkqTmY6A3mczc6/Nms2V7F5ff8fP9WndXb3LWv/zXiDehcdIZSROd59CbyPqtO5ja1sq2rp7dy6a2tbJ+646mPQy9fusOJlUqdPX07HtloLs3h12DPtKtZssyUFCS9pc99CaxZXsXz+3YRXdvuS7fGum6+33pv/McjH6rWXvqkiYaA70J3Ny5gcWXrODDy+6jt6+PtkoMuka9WXvnUB3s9+mzj9n3igN09SbTJ1WAPTPrDTQhJp158kn4yEeKrkJSAzHQG9zQHmhPX3XmtMvfczx3X7CkFIeWj33FwUyfNPJ/xbZKMGQcIFPaWnZPdTtSD7/Zj1rsl29+Ey6/HB59tOhKpIY0f/581q1bx2mnnQbA8ccfT2dnJwA9PT3MmDGDa6+9dvf6J554Ivfdd9+Yt9PV1cUZZ5zBwoUL+da3vsVpp53GunXrmD9//oFoxpgY6A1upB7opEqFg6dOauqe+UDVUB6+vLWlOuhv6NVsmclzO7rZsr1r1Jn1yvK9GdVVV0FLC9zgLMzS/li8eDErV64EYM2aNbzuda/b/fyFF17g0Ucf5bjjjhvzv3v//fcD0NnZyTvf+c4DV/CLYKA3uInQAz10xmQ+/ubXDVve01f9GqgS0Jfw4WX3s/iSFdzSuYG3LjySuy9YwrUffGNpjlrs1VNPwU9/Cn19cPXVRVcjNaQ5c+ZQqVQ45JBDAFi0aNHuAF+5ciUf+tCHdvfY77nnHk488UQqlQrPPPMMb3vb21iwYAEnn3wya9euBRhx+aZNm3jve9/Lvffey8KFC3n00Uc55JBDqFQqzJkzp+5tLmSUe0TMBK4EjqU6s+efZuYPi6il0fX3QM8fMoq7TD3Qmzs38Ln/fHjQskpAW2sLOwd03ae2ttCb0N3bx67e6qj4gSPey/Q9GeSSS+Cxx/Y8/8UvoFLZ8/iDH9zzHOCcc+Css+pbozTOtmzvGjQd9r7ce++9ANx0001AtYf+qU99CqgG+kUXXcR1113Htm3bWLlyJYsWLQLgoosu4vjjj+c73/kOK1as4H3vex+dnZ2jLr/yyiu59NJLue222wZtr3/79VTUZWv/DPxnZr49IiYB0wqqoymMNLd7WTyycRsfv6FzeE+8pWXYNfa9mUxqbWHgnWL7B8CV6XsyzPPPwxVXjPxaVxd89avVxxEwdSoUfNhPOtAOxKWpr3rVq+ju7uapp57i4Ycf5uijj+akk05i1apVrFy5ko9+9KMA3HXXXSxfvhyAJUuWsGXLFp5//vlRlzeSuh9yj4iDgd8GvgqQmd2Z+Wy962g2h86YXLppT2/u3MBZX7yLXSPcyr21Enzk9NcOOjd+0VveQE/f4JDv7i3X6YcRffaz8L3vwcyZ0NY28jrTpsEJJ8DDD8OSJfWtTxpHB/LS1EWLFnHDDTdwxBFHEBGcfPLJ3H333dxzzz2ccsop41B9fRVxDv3VwGbg3yLi/oi4MiKmD10pIpZGREdEdGzevLn+VWpc9X9Iu0eZ8rW3L3n3G1856Nz4e05+FZ87d8Gg6W97+/q4+5Gn61V2cd70pup58wULBh9eB5g+Hf78z2HVKpg3r5j6pHFyIC9NXbRoEZdddtnu8D7llFP4+te/zuGHH87BBx8MwKmnnsqyZcsA+MEPfsDs2bN52cteNuryRlJEoLcCJwBfzszjgReAC4eulJlXZGZ7ZrYXMbhA42ukD2m/tkrw+bcv2H1efOCRicVHzaZlwGVsPX1MnIlkXv5ymDIFht51LxNe+9rhQS+VwIEcGLx48WIee+yx3YF+xBFH0Nvbu/v8OcDFF1/M6tWrWbBgARdeeCFX1waejra8kUS95wKPiMOBH2Xm/NrzU4ELM/P3R3tPe3t7dnQMuy27mtiW7V0svmTFoEFvkyotfOEdCzjlNbNHPbWw5olnee+VqwZNf3vQ5Fau/eAbOW7ezHGvu1DPPguHHQbd3dVD7FAd6b5zJ5x0EtxzT7H1SePkls4NwwYGl/1qlohYnZntY3lP3QfFZeZTEfFERBydmT8Ffgd4qN51qFj9o/fPu3EtlZagty/5/NsXcPZxo39Iq9Pfdg+7L3zZLuMb1a23Vnvn06bBF74A73kPLF0K3/42dHTA00/D7NlFVykdcGUeGHwgFTXK/aPAstoI98eAPymoDhUo+//M2P1sNANHufZlddKZqW2tpbyMb1S33AKvelU12I+pTZf7jW9Uv/7sz+D22x3hrtIq9aWpB0jdD7m/GB5yL58t27tY9I+309Wz5//flLYW7r5gybAP7UiH5ye3tvCV97Xzhle8bOJ8yDdsgEMPrZ5HH2rjxmrP/aCD6l+XpAPuxRxyd6Y4FWLZqscHhTlAJYI7Ht40bIDbyNPftnDw1LaJE+YARx45cphD9dy6YS5NaAa66m7L9i4uv+ORYctf6O7l4lsf3D2la7+JMP2tJL1UBrrqbv3WHUyqjPxfb3tX77CJIybsDVgkaQyKGhSnCWykHvdQQ6d0dZSrJO2dPXTV3dAe9+TWGDT7G4x8SL2M099K0oFiD12FGNrjvvuRp0t9RzlJGm8Gugoz8LpSD6lL0ktjoKthOHGEJL14nkOXJKkEDHRJkkrAQJckqQQMdEmSSsBAlySpBAx0SZJKwECXJKkEDHRJkkrAQJckqQQMdEmSSsBAlySpBAx0SZJKoLBAj4hKRNwfEbcVVYMkSWVRZA/9Y8BPCty+JEmlUUigR8Rc4PeBK4vYviRJZVNUD/0y4Hygb7QVImJpRHRERMfmzZvrV5kkSU2o7oEeEWcDmzJz9d7Wy8wrMrM9M9vnzJlTp+okSWpORfTQFwNvjYh1wDeBJRFxbQF1SJJUGnUP9Mz8RGbOzcz5wB8CKzLzvfWuQ5KkMvE6dEmSSqC1yI1n5g+AHxRZgyRJZWAPXZKkEjDQJUkqAQNdkqQSMNAlSSoBA12SpBIw0CVJKgEDXZKkEjDQJUkqAQNdkqQSMNAlSSoBA12SpBIw0CVJKgEDXZKkEjDQJUkqAQNdkqQSMNAlSSoBA12SpBIw0CVJKgEDXZKkEjDQJUkqgboHekTMi4g7IuKhiHgwIj5W7xokSSqb1gK22QP8TWbeFxEHAasj4vuZ+VABtUiSVAp176Fn5pOZeV/t8TbgJ8CR9a5DkqQyKfQcekTMB44HVo3w2tKI6IiIjs2bN9e7NEmSmkphgR4RM4DlwF9l5vNDX8/MKzKzPTPb58yZU/8CJUlqIoUEekS0UQ3zZZl5UxE1SJJUJkWMcg/gq8BPMvML9d6+JEllVEQPfTHwR8CSiOisfZ1VQB2SJJVG3S9by8y7gKj3diVJKjNnipMkqQQMdEmSSsBAlySpBAx0SZJKwECXJKkEDHRJkkrAQJckqQQMdEmSSsBAlySpBAx0SZJKwECXJKkEDHRJkkrAQJckqQQMdEmSSsBAlySpBAx0SZJKwECXJKkEDHRJkkrAQJckqQQMdEmSSqCQQI+IMyPipxHxSERcWEQNkiSVSd0DPSIqwOXA7wHHAO+KiGPqXYckSWVSRA/9N4FHMvOxzOwGvgmcU0AdkiSVRmsB2zwSeGLA8/XAG4euFBFLgaW1p10R8UAdahtvs4Gniy7iJSpDG6Ac7ShDG8B2NJIytAHK0Y6jx/qGIgJ9v2TmFcAVABHRkZntBZf0kpWhHWVoA5SjHWVoA9iORlKGNkA52hERHWN9TxGH3DcA8wY8n1tbJkmSXqQiAv1e4LUR8eqImAT8IXBLAXVIklQadT/knpk9EfER4LtABfhaZj64j7ddMf6V1UUZ2lGGNkA52lGGNoDtaCRlaAOUox1jbkNk5ngUIkmS6siZ4iRJKgEDXZKkEmiaQI+IiyNiQ0R01r7OKrqm/VWWqW4jYl1E/Lj2/R/zJRVFiYivRcSmgXMZRMQhEfH9iPh57e9ZRda4L6O0oak+ExExLyLuiIiHIuLBiPhYbXmz7YvR2tFs+2NKRNwTEWtq7fhMbfmrI2JV7efVt2qDlxvSXtpwVUT8YsC+WFh0rfsjIioRcX9E3FZ7PqZ90TSBXvNPmbmw9vV/iy5mf5RwqtvTa9//ZrrG8yrgzCHLLgRuz8zXArfXnjeyqxjeBmiuz0QP8DeZeQxwMvDh2meh2fbFaO2A5tofXcCSzDwOWAicGREnA5dQbcdRwFbgAwXWuC+jtQHgvAH7orO4EsfkY8BPBjwf075otkBvRk51W7DMvBN4Zsjic4Cra4+vBt5W16LGaJQ2NJXMfDIz76s93kb1B9eRNN++GK0dTSWrtteettW+ElgC3Fhb3tD7Yy9taDoRMRf4feDK2vNgjPui2QL9IxGxtnb4saEPyw0w0lS3Tffhr0ngexGxujY1bzM7LDOfrD1+CjisyGJegmb8TBAR84HjgVU08b4Y0g5osv1RO8TbCWwCvg88CjybmT21VRr+59XQNmRm/774bG1f/FNETC6wxP11GXA+0Fd7fihj3BcNFegR8f8i4oERvs4Bvgy8huphlSeB/11osRPTb2XmCVRPH3w4In676IIOhKxeu9mMv9U35WciImYAy4G/ysznB77WTPtihHY03f7IzN7MXEh1xs7fBF5fcEljNrQNEXEs8AmqbTkJOAS4oMAS9ykizgY2Zebql/LvNNRc7pl5xv6sFxFfAW4b53IOlNJMdZuZG2p/b4qIb1P9AXBnsVW9aBsj4ojMfDIijqD6231TycyN/Y+b5TMREW1UQ3BZZt5UW9x0+2KkdjTj/uiXmc9GxB3AKcDMiGit9Qyb5ufVgDacmZmX1hZ3RcS/AR8vsLT9sRh4a20g5RTgZcA/M8Z90VA99L2pfdD7/QHQLHdfK8VUtxExPSIO6n8MvJnm2QcjuQV4f+3x+4GbC6zlRWm2z0TtnOBXgZ9k5hcGvNRU+2K0djTh/pgTETNrj6cCb6I6HuAO4O211Rp6f4zShof790VtX72NBt8XmfmJzJybmfOpZsSKzHwPY9wXTTNTXERcQ/VQVgLrgD8fcN6todV+67qMPVPdfrbgksYsIn4D+HbtaSvwjWZpR0RcB5xG9ZaKG4GLgO8A1wOvBH4JvCMzG3bQ2ShtOI0m+kxExG8B/wX8mD3nCT9J9fxzM+2L0drxLpprfyygOtCqQrVzd31m/n3ts/5Nqoeq7wfem5ldxVU6ur20YQUwBwigE/jQgMFzDS0iTgM+nplnj3VfNE2gS5Kk0TXNIXdJkjQ6A12SpBIw0CVJKgEDXZKkEjDQJUkqAQNd0qgi4j8j4tn+uz9JalwGuqS9+TzwR0UXIWnfDHRJRMRJtRtZTKnNCvhgRBybmbcD24quT9K+NdRc7pKKkZn3RsQtwP8EpgLXZmZDT5cpaTADXVK/v6d674GdwF8WXIukMfKQu6R+hwIzgIOo3vFJUhMx0CX1+1fg08Ay4JKCa5E0Rh5yl0REvA/YlZnfiIgKsDIilgCfAV4PzIiI9cAHMvO7RdYqaWTebU2SpBLwkLskSSVgoEuSVAIGuiRJJWCgS5JUAga6JEklYKBLklQCBrokSSXw/wGAhaKLKp3OKwAAAABJRU5ErkJggg==\n",
>>>>>>> Stashed changes
=======
      "image/png": "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\n",
>>>>>>> Stashed changes
      "text/plain": [
       "<Figure size 576x288 with 1 Axes>"
      ]
     },
<<<<<<< Updated upstream
<<<<<<< Updated upstream
     "metadata": {},
=======
     "metadata": {
      "needs_background": "light"
     },
>>>>>>> Stashed changes
=======
     "metadata": {
      "needs_background": "light"
     },
>>>>>>> Stashed changes
     "output_type": "display_data"
    }
   ],
   "source": [
    "X, color = make_blobs(n_samples=50, random_state=20, centers=2, cluster_std=.5, )\n",
    "X = list(map(lambda x: (x[0][0], x[0][1], color[x[1]]), zip(X, color)))\n",
    "\n",
    "X.append([34, 6, 0])\n",
    "\n",
    "points = pd.DataFrame(list(X), columns=[\"x1\", \"x2\", \"color\"])\n",
    "ax = points.plot(kind=\"scatter\", x=\"x1\", y=\"x2\", figsize=(8, 4))\n",
    "plt.text(35, 5.9, '\"Woof\"')\n",
    "ax.set_ylim(top=15, bottom=0)\n",
    "ax.set_xlim(left=-5, right=40)\n",
    "\n",
    "initial_centroids = pd.DataFrame([[2, 10, \"b\"], [15, 6, \"r\"]], columns=[\"x1\", \"x2\", \"color\"])\n",
    "initial_centroids.plot(kind=\"scatter\", x=\"x1\", y=\"x2\", c=initial_centroids['color'], ax=ax, marker=\"*\", s=150);"
   ]
  },
  {
   "cell_type": "markdown",
   "metadata": {},
   "source": [
    "### Discussion:  Data vs Centroid Initialization\n",
    "\n",
    "1. How much is data responsible for \"good\" clusters?\n",
    "1. Can you think of any ways to mitigate any potential problems with K-Means based on what you know so far?"
   ]
  },
  {
   "cell_type": "markdown",
   "metadata": {
    "slideshow": {
     "slide_type": "slide"
    }
   },
   "source": [
    "### How many K?\n",
    "\n",
    "Sometimes it's obvious, sometimes it's not!  What do you think?\n",
    "\n",
    "- /poll \"How many K:  Figure 1\" \"1\" \"2\" \"3\" \"4\"\n",
    "- /poll \"How many K:  Figure 2\" \"1\" \"2\" \"3\" \"4\"\n",
    "- /poll \"How many K:  Figure 3\" \"1\" \"2\" \"3\" \"4\"\n",
    "\n",
    "<table>\n",
    "    <tr>\n",
    "        <td valign=\"bottom\" style=\"vertical-align: bottom; text-align: center;\"><img src=\"http://i.stack.imgur.com/4rU39.png\"><br>1</td>\n",
    "        <td valign=\"bottom\" style=\"vertical-align: bottom; text-align: center;\"><img src=\"http://i.stack.imgur.com/gq28F.png\"><br>2</td>\n",
    "        <td valign=\"bottom\" style=\"vertical-align: bottom; text-align: center;\"><img src=\"https://snag.gy/cWPgno.jpg\"><br>3</td>\n",
    "    </tr>\n",
    "</table>"
   ]
  },
  {
   "cell_type": "markdown",
   "metadata": {
    "slideshow": {
     "slide_type": "slide"
    }
   },
   "source": [
    "<a name=\"init-centroid\"></a>\n",
    "## Initializing Centroids\n",
    "\n",
    "---\n",
    "\n",
    "There are different methods of initializing centroids. For instance:\n",
    "\n",
    "- Randomly\n",
    "- Manually\n",
    "- Special KMeans++ method in Sklearn (_This initializes the centroids to be generally distant from each other_)\n",
    "\n",
    "**Depending on your problem, you may find some of these are better than others.**\n",
    "\n",
    "> **Note:** Manual is recommended if you know your data well enough to see the clusters without much help, but rarely used in practice."
   ]
  },
  {
   "cell_type": "markdown",
   "metadata": {},
   "source": [
    "<a id='choose-k'></a>\n",
    "## Choosing $k$\n",
    "This still remains an open question. Afterall we're tuning a tuning parameter with no metric for success! Here are three ideas:\n",
    "\n",
    "* Make an educated guess\n",
    "    - Industry knowledge (there are five kinds of Democrats...)\n",
    "    - Visualization (probably impossible if you have more than 2 variables)\n",
    "* Judge based on a pseudo-evaluation metric, like the **silhouette score**.\n",
    "* If you're using the resulting cluster labels as input to a supervised learning method later, you can tune $k$ to have the best supervised learning model. This is **transfer learning**."
   ]
  },
  {
   "cell_type": "markdown",
   "metadata": {
    "slideshow": {
     "slide_type": "slide"
    }
   },
   "source": [
    "<a id='converge'></a>\n",
    "## A note on K-Means convergence\n",
    "\n",
    "---\n",
    "\n",
    "In general, k-means will converge to a solution and return a partition of k clusters, even if no natural clusters exist in the data.  It's entirely possible – in fact, *common* – that the clusters do not mean anything at all. \n",
    "\n",
    "**Knowing your domain and dataset is essential. Evaluating the clusters visually is a must (if possible).**\n",
    "\n",
    "> _\"Given enough time, k-means will always converge, however this may be to a local minimum. This is highly dependent on the initialization of the centroids. As a result, the computation is often done several times, with different initializations of the centroids. One method to help address this issue is the k-means++ initialization scheme, which has been implemented in scikit-learn (use the init='kmeans++' parameter). This initializes the centroids to be (generally) distant from each other, leading to provably better results than random initialization, as shown in the reference.\"_ [sklearn Clustering Guide](http://scikit-learn.org/stable/modules/clustering.html#k-means)\n",
    "\n",
    "![](http://www.datamilk.com/kmeans_animation.gif)"
   ]
  },
  {
   "cell_type": "markdown",
   "metadata": {
    "slideshow": {
     "slide_type": "slide"
    }
   },
   "source": [
    "<a name=\"sklearn\"></a>\n",
    "## K-Means in sklearn\n",
    "\n",
    "---\n",
    "\n",
    "Below we will implement K-Means using sklearn."
   ]
  },
  {
   "cell_type": "code",
<<<<<<< Updated upstream
<<<<<<< Updated upstream
   "execution_count": 42,
=======
   "execution_count": 4,
>>>>>>> Stashed changes
=======
   "execution_count": 4,
>>>>>>> Stashed changes
   "metadata": {
    "slideshow": {
     "slide_type": "-"
    }
   },
   "outputs": [
    {
     "data": {
      "text/html": [
       "<div>\n",
       "<style scoped>\n",
       "    .dataframe tbody tr th:only-of-type {\n",
       "        vertical-align: middle;\n",
       "    }\n",
       "\n",
       "    .dataframe tbody tr th {\n",
       "        vertical-align: top;\n",
       "    }\n",
       "\n",
       "    .dataframe thead th {\n",
       "        text-align: right;\n",
       "    }\n",
       "</style>\n",
       "<table border=\"1\" class=\"dataframe\">\n",
       "  <thead>\n",
       "    <tr style=\"text-align: right;\">\n",
       "      <th></th>\n",
       "      <th>x1</th>\n",
       "      <th>x2</th>\n",
       "    </tr>\n",
       "  </thead>\n",
       "  <tbody>\n",
       "    <tr>\n",
       "      <th>0</th>\n",
       "      <td>7.081642</td>\n",
       "      <td>-5.248171</td>\n",
       "    </tr>\n",
       "    <tr>\n",
       "      <th>1</th>\n",
       "      <td>-3.036735</td>\n",
       "      <td>-0.129646</td>\n",
       "    </tr>\n",
       "    <tr>\n",
       "      <th>2</th>\n",
       "      <td>5.117565</td>\n",
       "      <td>-3.323573</td>\n",
       "    </tr>\n",
       "    <tr>\n",
       "      <th>3</th>\n",
       "      <td>-1.807058</td>\n",
       "      <td>-0.335986</td>\n",
       "    </tr>\n",
       "    <tr>\n",
       "      <th>4</th>\n",
       "      <td>4.519789</td>\n",
       "      <td>-5.469635</td>\n",
       "    </tr>\n",
       "  </tbody>\n",
       "</table>\n",
       "</div>"
      ],
      "text/plain": [
       "         x1        x2\n",
       "0  7.081642 -5.248171\n",
       "1 -3.036735 -0.129646\n",
       "2  5.117565 -3.323573\n",
       "3 -1.807058 -0.335986\n",
       "4  4.519789 -5.469635"
      ]
     },
     "execution_count": 4,
     "metadata": {},
     "output_type": "execute_result"
    }
   ],
   "source": [
    "%matplotlib inline\n",
    "\n",
    "from sklearn.cluster import KMeans\n",
    "from sklearn.metrics import silhouette_score\n",
    "from sklearn.preprocessing import StandardScaler\n",
    "\n",
    "import numpy as np\n",
    "import pandas as pd\n",
    "\n",
    "import seaborn as sns\n",
    "import matplotlib.pyplot as plt\n",
    "import matplotlib\n",
    "\n",
    "matplotlib.style.use('ggplot')\n",
    "\n",
    "# Let's make some more blobs to test K-Means on\n",
    "X, _ = make_blobs(n_samples=100, random_state=29, centers=3, cluster_std=1.5)"
   ]
  },
  {
   "cell_type": "code",
   "execution_count": 43,
   "metadata": {},
   "outputs": [
    {
     "data": {
      "text/plain": [
       "(100, 2)"
      ]
     },
     "execution_count": 43,
     "metadata": {},
     "output_type": "execute_result"
    }
   ],
   "source": [
    "X.shape"
   ]
  },
  {
   "cell_type": "code",
   "execution_count": 51,
   "metadata": {},
   "outputs": [
    {
     "data": {
      "text/html": [
       "<div>\n",
       "<style scoped>\n",
       "    .dataframe tbody tr th:only-of-type {\n",
       "        vertical-align: middle;\n",
       "    }\n",
       "\n",
       "    .dataframe tbody tr th {\n",
       "        vertical-align: top;\n",
       "    }\n",
       "\n",
       "    .dataframe thead th {\n",
       "        text-align: right;\n",
       "    }\n",
       "</style>\n",
       "<table border=\"1\" class=\"dataframe\">\n",
       "  <thead>\n",
       "    <tr style=\"text-align: right;\">\n",
       "      <th></th>\n",
       "      <th>x1</th>\n",
       "      <th>x2</th>\n",
       "    </tr>\n",
       "  </thead>\n",
       "  <tbody>\n",
       "    <tr>\n",
       "      <td>0</td>\n",
       "      <td>7.081642</td>\n",
       "      <td>-5.248171</td>\n",
       "    </tr>\n",
       "    <tr>\n",
       "      <td>1</td>\n",
       "      <td>-3.036735</td>\n",
       "      <td>-0.129646</td>\n",
       "    </tr>\n",
       "    <tr>\n",
       "      <td>2</td>\n",
       "      <td>5.117565</td>\n",
       "      <td>-3.323573</td>\n",
       "    </tr>\n",
       "    <tr>\n",
       "      <td>3</td>\n",
       "      <td>-1.807058</td>\n",
       "      <td>-0.335986</td>\n",
       "    </tr>\n",
       "    <tr>\n",
       "      <td>4</td>\n",
       "      <td>4.519789</td>\n",
       "      <td>-5.469635</td>\n",
       "    </tr>\n",
       "  </tbody>\n",
       "</table>\n",
       "</div>"
      ],
      "text/plain": [
       "         x1        x2\n",
       "0  7.081642 -5.248171\n",
       "1 -3.036735 -0.129646\n",
       "2  5.117565 -3.323573\n",
       "3 -1.807058 -0.335986\n",
       "4  4.519789 -5.469635"
      ]
     },
     "execution_count": 51,
     "metadata": {},
     "output_type": "execute_result"
    }
   ],
   "source": [
    "X_new = map(lambda x: (x[0][0], x[0][1]), zip(X, _))\n",
    "\n",
    "df = pd.DataFrame(list(X_new), columns=[\"x1\", \"x2\"])\n",
    "df.head()"
   ]
  },
  {
   "cell_type": "code",
<<<<<<< Updated upstream
<<<<<<< Updated upstream
   "execution_count": 52,
   "metadata": {},
   "outputs": [
    {
     "name": "stdout",
     "output_type": "stream",
     "text": [
      "(100, 2)\n",
      "(100, 2)\n"
     ]
    }
   ],
   "source": [
    "print(df.shape)\n",
    "print(X.shape)"
   ]
  },
  {
   "cell_type": "code",
   "execution_count": 53,
   "metadata": {},
   "outputs": [
    {
     "data": {
      "text/plain": [
       "(100, 2)"
      ]
     },
     "execution_count": 53,
     "metadata": {},
     "output_type": "execute_result"
    }
   ],
   "source": [
    "df.shape"
   ]
  },
  {
   "cell_type": "code",
   "execution_count": 54,
   "metadata": {},
   "outputs": [
    {
     "data": {
      "text/plain": [
       "array([[  7.08164206,  -5.24817135],\n",
       "       [ -3.03673461,  -0.12964599],\n",
       "       [  5.11756546,  -3.32357328],\n",
       "       [ -1.80705756,  -0.33598552],\n",
       "       [  4.5197893 ,  -5.46963549],\n",
       "       [ -8.17523135,   4.19836768],\n",
       "       [ -0.86595478,   3.02213948],\n",
       "       [ -9.37412154,   5.56042146],\n",
       "       [  8.4883257 ,  -5.72262797],\n",
       "       [ -0.12153227,   3.014428  ],\n",
       "       [  9.34863347,  -6.19684688],\n",
       "       [ -0.40395974,   0.45489056],\n",
       "       [ -0.44805938,   1.45353116],\n",
       "       [ -1.0683471 ,  -0.28623679],\n",
       "       [ -1.7997529 ,   1.72237841],\n",
       "       [ -0.8984009 ,  -0.47641843],\n",
       "       [-10.37718374,   6.65133446],\n",
       "       [ 10.45257668,  -4.73102739],\n",
       "       [ -9.82051193,   7.14940444],\n",
       "       [ -2.64638262,  -0.39029551],\n",
       "       [ 10.43489163,  -4.59867899],\n",
       "       [  9.73197468,  -4.38906011],\n",
       "       [  5.63210608,  -4.92096415],\n",
       "       [ -0.728245  ,   2.61354497],\n",
       "       [  7.26474033,  -2.82041481],\n",
       "       [ -9.43717193,   6.45877793],\n",
       "       [ -2.18233506,   0.47382039],\n",
       "       [  6.57905819,  -3.67486728],\n",
       "       [ -0.42898853,   0.4624266 ],\n",
       "       [ -9.19441844,   5.0976799 ],\n",
       "       [ -0.65901603,   0.26038746],\n",
       "       [ -1.07417644,   1.73959448],\n",
       "       [ -8.10581551,   6.91608289],\n",
       "       [ -4.85341559,   0.09415619],\n",
       "       [ -7.98958341,   6.17122657],\n",
       "       [ -0.45264675,   0.86969447],\n",
       "       [ -5.91871793,   6.28006896],\n",
       "       [ -0.83559232,   0.79966922],\n",
       "       [ -8.39595988,   5.52353244],\n",
       "       [  0.08448272,  -1.73810145],\n",
       "       [  7.60634763,  -4.39429775],\n",
       "       [ -6.27655227,   5.95636792],\n",
       "       [ -1.92422413,   2.00522186],\n",
       "       [ -8.03714764,   7.63447727],\n",
       "       [ -8.18409036,   3.6406208 ],\n",
       "       [ -8.38748195,   5.66794152],\n",
       "       [  6.86485036,  -2.28066676],\n",
       "       [ -0.26884147,  -0.23205269],\n",
       "       [ -5.96781567,   5.64565817],\n",
       "       [ -1.77068541,   0.51498592],\n",
       "       [  0.06583029,  -1.53946163],\n",
       "       [ -0.83822505,   0.40326971],\n",
       "       [ -1.21676875,   1.88091201],\n",
       "       [  3.79005564,  -4.17524557],\n",
       "       [  7.85545438,  -3.66200335],\n",
       "       [  7.64004294,  -5.2303436 ],\n",
       "       [  8.52500006,  -4.36831234],\n",
       "       [  7.8369383 ,  -3.0298506 ],\n",
       "       [ -8.59161444,   6.51153773],\n",
       "       [  8.75261812,  -6.0184903 ],\n",
       "       [ -8.72349723,   4.77294597],\n",
       "       [ -7.82521472,   4.62007096],\n",
       "       [  2.6367281 ,   1.1727281 ],\n",
       "       [ -1.77227243,   0.90141625],\n",
       "       [  7.79002873,  -5.64539333],\n",
       "       [ -9.620279  ,   5.61321445],\n",
       "       [ -6.81234093,   6.92766828],\n",
       "       [  6.8891571 ,  -5.75272732],\n",
       "       [  1.23182618,   1.54364658],\n",
       "       [-10.94825268,   6.05906882],\n",
       "       [  8.10679241,  -4.91459304],\n",
       "       [ -6.589427  ,   6.75068349],\n",
       "       [  8.13700539,  -6.92190687],\n",
       "       [  6.66377969,  -6.01953197],\n",
       "       [ -5.23720444,   4.40127434],\n",
       "       [  5.71780339,  -4.74979441],\n",
       "       [ -9.31779073,   3.40318692],\n",
       "       [  8.42528351,  -2.97886653],\n",
       "       [  8.35378505,  -3.60127177],\n",
       "       [  6.55755552,  -2.53264477],\n",
       "       [-13.7929744 ,   5.53187885],\n",
       "       [ -1.49360604,   0.58976006],\n",
       "       [  5.4651961 ,  -0.29895967],\n",
       "       [  4.88565979,  -5.06386554],\n",
       "       [ -0.53947138,   0.7976726 ],\n",
       "       [ -9.85849848,   3.48734661],\n",
       "       [ -8.16936471,   6.2676217 ],\n",
       "       [ -8.18594784,   4.29733877],\n",
       "       [  6.90259927,  -1.73115386],\n",
       "       [  8.34151144,  -3.06005877],\n",
       "       [  0.53061245,   1.06904215],\n",
       "       [ -3.57947842,  -0.25859051],\n",
       "       [ -8.78876254,   1.79858946],\n",
       "       [ -5.69854263,   4.7884024 ],\n",
       "       [-10.06245693,   6.01180496],\n",
       "       [ 11.10191609,  -6.83082761],\n",
       "       [ -8.26040282,   4.75110686],\n",
       "       [ -5.71287762,   3.89905288],\n",
       "       [  3.56849024,  -4.19295606],\n",
       "       [  0.20970674,  -0.1011219 ]])"
      ]
     },
     "execution_count": 54,
     "metadata": {},
     "output_type": "execute_result"
    }
   ],
   "source": [
    "X"
   ]
  },
  {
   "cell_type": "code",
   "execution_count": 55,
=======
   "execution_count": 6,
>>>>>>> Stashed changes
=======
   "execution_count": 6,
>>>>>>> Stashed changes
   "metadata": {
    "slideshow": {
     "slide_type": "slide"
    }
   },
   "outputs": [
    {
     "data": {
<<<<<<< Updated upstream
<<<<<<< Updated upstream
      "image/png": "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\n",
=======
      "image/png": "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\n",
>>>>>>> Stashed changes
=======
      "image/png": "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\n",
>>>>>>> Stashed changes
      "text/plain": [
       "<Figure size 864x432 with 1 Axes>"
      ]
     },
     "metadata": {},
     "output_type": "display_data"
    }
   ],
   "source": [
    "# Plot the scatter\n",
    "ax = df.plot(kind=\"scatter\", x=\"x1\", y=\"x2\", figsize=(12,6), s=50)\n",
    "plt.xlabel(\"$X_1$\", fontsize=18)\n",
    "plt.ylabel(\"$X_2$\", fontsize=18)\n",
    "ax.tick_params(axis='both', which='major', labelsize=18)"
   ]
  },
  {
   "cell_type": "code",
<<<<<<< Updated upstream
<<<<<<< Updated upstream
   "execution_count": 56,
=======
   "execution_count": 7,
>>>>>>> Stashed changes
=======
   "execution_count": 7,
>>>>>>> Stashed changes
   "metadata": {},
   "outputs": [],
   "source": [
    "# Let's prepare our X matrix\n",
    "# Don't forget to scale! Why do we scale?\n",
<<<<<<< Updated upstream
<<<<<<< Updated upstream
    "X = df.loc[:, ['x1', 'x2']]\n",
    "sc = StandardScaler()\n",
    "X_sc = sc.fit_transform(X)"
=======
    "X=df.loc[:,['x1','x2']]\n",
    "sc=StandardScaler()\n",
    "X_sc =sc.fit_transform(X)"
>>>>>>> Stashed changes
=======
    "X=df.loc[:,['x1','x2']]\n",
    "sc=StandardScaler()\n",
    "X_sc =sc.fit_transform(X)"
>>>>>>> Stashed changes
   ]
  },
  {
   "cell_type": "code",
<<<<<<< Updated upstream
<<<<<<< Updated upstream
   "execution_count": 57,
=======
   "execution_count": 8,
>>>>>>> Stashed changes
=======
   "execution_count": 8,
>>>>>>> Stashed changes
   "metadata": {
    "slideshow": {
     "slide_type": "slide"
    }
   },
   "outputs": [
    {
     "data": {
      "text/plain": [
       "KMeans(algorithm='auto', copy_x=True, init='k-means++', max_iter=300,\n",
<<<<<<< Updated upstream
<<<<<<< Updated upstream
       "    n_clusters=3, n_init=10, n_jobs=1, precompute_distances='auto',\n",
       "    random_state=42, tol=0.0001, verbose=0)"
      ]
     },
     "execution_count": 57,
=======
=======
>>>>>>> Stashed changes
       "       n_clusters=3, n_init=10, n_jobs=None, precompute_distances='auto',\n",
       "       random_state=42, tol=0.0001, verbose=0)"
      ]
     },
     "execution_count": 8,
<<<<<<< Updated upstream
>>>>>>> Stashed changes
=======
>>>>>>> Stashed changes
     "metadata": {},
     "output_type": "execute_result"
    }
   ],
   "source": [
    "# (thread) How many K here?\n",
    "# I do: Fit a k-means clustering model\n",
<<<<<<< Updated upstream
<<<<<<< Updated upstream
    "km = KMeans(n_clusters=3, random_state=42)\n",
=======
    "km=KMeans(n_clusters=3,random_state=42)\n",
>>>>>>> Stashed changes
=======
    "km=KMeans(n_clusters=3,random_state=42)\n",
>>>>>>> Stashed changes
    "km.fit(X_sc)"
   ]
  },
  {
   "cell_type": "markdown",
   "metadata": {
    "slideshow": {
     "slide_type": "-"
    }
   },
   "source": [
    "After we fit our data, we can get our predicted labels from `model.labels_` and the center points`model.cluster_centers_`."
   ]
  },
  {
   "cell_type": "code",
<<<<<<< Updated upstream
<<<<<<< Updated upstream
   "execution_count": 58,
=======
   "execution_count": 9,
>>>>>>> Stashed changes
=======
   "execution_count": 9,
>>>>>>> Stashed changes
   "metadata": {
    "slideshow": {
     "slide_type": "-"
    }
   },
   "outputs": [
    {
     "data": {
      "text/plain": [
<<<<<<< Updated upstream
<<<<<<< Updated upstream
       "array([[-0.0338285 ,  0.03008366],\n",
       "       [ 1.20438571, -1.19244188],\n",
       "       [-1.16953211,  1.16144659]])"
      ]
     },
     "execution_count": 58,
=======
=======
>>>>>>> Stashed changes
       "array([[-1.18022191,  1.23414322],\n",
       "       [-0.03729736, -0.05229676],\n",
       "       [ 1.42491312, -1.33550921]])"
      ]
     },
     "execution_count": 9,
<<<<<<< Updated upstream
>>>>>>> Stashed changes
=======
>>>>>>> Stashed changes
     "metadata": {},
     "output_type": "execute_result"
    }
   ],
   "source": [
    "# Check out centroids\n",
    "km.cluster_centers_"
   ]
  },
  {
   "cell_type": "code",
<<<<<<< Updated upstream
<<<<<<< Updated upstream
   "execution_count": 59,
=======
   "execution_count": 13,
>>>>>>> Stashed changes
=======
   "execution_count": 13,
>>>>>>> Stashed changes
   "metadata": {},
   "outputs": [
    {
     "name": "stdout",
     "output_type": "stream",
     "text": [
<<<<<<< Updated upstream
<<<<<<< Updated upstream
      "(100, 2)\n",
      "100\n"
=======
      "(50, 2)\n",
      "50\n"
>>>>>>> Stashed changes
=======
      "(50, 2)\n",
      "50\n"
>>>>>>> Stashed changes
     ]
    },
    {
     "data": {
      "text/plain": [
<<<<<<< Updated upstream
<<<<<<< Updated upstream
       "array([1, 0, 1, 0, 1, 2, 0, 2, 1, 0, 1, 0, 0, 0, 0, 0, 2, 1, 2, 0, 1, 1,\n",
       "       1, 0, 1, 2, 0, 1, 0, 2, 0, 0, 2, 0, 2, 0, 2, 0, 2, 0, 1, 2, 0, 2,\n",
       "       2, 2, 1, 0, 2, 0, 0, 0, 0, 1, 1, 1, 1, 1, 2, 1, 2, 2, 0, 0, 1, 2,\n",
       "       2, 1, 0, 2, 1, 2, 1, 1, 2, 1, 2, 1, 1, 1, 2, 0, 0, 1, 0, 2, 2, 2,\n",
       "       1, 1, 0, 0, 2, 2, 2, 1, 2, 2, 1, 0])"
      ]
     },
     "execution_count": 59,
=======
=======
>>>>>>> Stashed changes
       "array([2, 1, 2, 1, 2, 0, 1, 0, 2, 1, 2, 1, 1, 1, 1, 1, 0, 2, 0, 1, 2, 2,\n",
       "       2, 1, 2, 0, 1, 2, 1, 0, 1, 1, 0, 1, 0, 1, 0, 1, 0, 1, 2, 0, 1, 0,\n",
       "       0, 0, 2, 1, 0, 1], dtype=int32)"
      ]
     },
     "execution_count": 13,
<<<<<<< Updated upstream
>>>>>>> Stashed changes
=======
>>>>>>> Stashed changes
     "metadata": {},
     "output_type": "execute_result"
    }
   ],
   "source": [
    "# Option 1: Class attribute\n",
    "print(X.shape)\n",
    "print(len(km.labels_))\n",
    "km.labels_"
   ]
  },
  {
   "cell_type": "code",
<<<<<<< Updated upstream
<<<<<<< Updated upstream
   "execution_count": 60,
=======
   "execution_count": 14,
>>>>>>> Stashed changes
=======
   "execution_count": 14,
>>>>>>> Stashed changes
   "metadata": {},
   "outputs": [
    {
     "data": {
      "text/plain": [
<<<<<<< Updated upstream
<<<<<<< Updated upstream
       "(100, 2)"
      ]
     },
     "execution_count": 60,
=======
       "array([2, 0, 2, 0, 2, 0, 0, 0, 2, 0, 2, 1, 0, 1, 0, 1, 0, 2, 0, 0, 2, 2,\n",
       "       2, 0, 2, 0, 0, 2, 1, 0, 1, 0, 0, 0, 0, 0, 0, 0, 0, 2, 2, 0, 0, 0,\n",
       "       0, 0, 2, 1, 0, 0], dtype=int32)"
      ]
     },
     "execution_count": 14,
>>>>>>> Stashed changes
     "metadata": {},
     "output_type": "execute_result"
    }
   ],
   "source": [
<<<<<<< Updated upstream
    "X_sc.shape"
=======
    "# Option 2: Predict\n",
    "km.predict(X)"
>>>>>>> Stashed changes
   ]
  },
  {
   "cell_type": "code",
<<<<<<< Updated upstream
   "execution_count": 61,
   "metadata": {},
   "outputs": [
    {
     "data": {
      "text/plain": [
       "array([1, 2, 1, 2, 1, 2, 2, 2, 1, 2, 1, 0, 2, 0, 2, 0, 2, 1, 2, 2, 1, 1,\n",
       "       1, 2, 1, 2, 2, 1, 0, 2, 0, 2, 2, 2, 2, 2, 2, 2, 2, 1, 1, 2, 2, 2,\n",
       "       2, 2, 1, 0, 2, 2, 1, 2, 2, 1, 1, 1, 1, 1, 2, 1, 2, 2, 1, 2, 1, 2,\n",
       "       2, 1, 0, 2, 1, 2, 1, 1, 2, 1, 2, 1, 1, 1, 2, 2, 1, 1, 2, 2, 2, 2,\n",
       "       1, 1, 0, 2, 2, 2, 2, 1, 2, 2, 1, 0])"
      ]
     },
     "execution_count": 61,
=======
       "array([2, 0, 2, 0, 2, 0, 0, 0, 2, 0, 2, 1, 0, 1, 0, 1, 0, 2, 0, 0, 2, 2,\n",
       "       2, 0, 2, 0, 0, 2, 1, 0, 1, 0, 0, 0, 0, 0, 0, 0, 0, 2, 2, 0, 0, 0,\n",
       "       0, 0, 2, 1, 0, 0], dtype=int32)"
      ]
     },
     "execution_count": 14,
>>>>>>> Stashed changes
     "metadata": {},
     "output_type": "execute_result"
    }
   ],
   "source": [
    "# Option 2: Predict\n",
    "km.predict(X)"
   ]
  },
  {
   "cell_type": "code",
<<<<<<< Updated upstream
   "execution_count": 62,
=======
   "execution_count": 15,
>>>>>>> Stashed changes
=======
   "execution_count": 15,
>>>>>>> Stashed changes
   "metadata": {
    "slideshow": {
     "slide_type": "-"
    }
   },
   "outputs": [
    {
     "data": {
      "text/html": [
       "<div>\n",
       "<style scoped>\n",
       "    .dataframe tbody tr th:only-of-type {\n",
       "        vertical-align: middle;\n",
       "    }\n",
       "\n",
       "    .dataframe tbody tr th {\n",
       "        vertical-align: top;\n",
       "    }\n",
       "\n",
       "    .dataframe thead th {\n",
       "        text-align: right;\n",
       "    }\n",
       "</style>\n",
       "<table border=\"1\" class=\"dataframe\">\n",
       "  <thead>\n",
       "    <tr style=\"text-align: right;\">\n",
       "      <th></th>\n",
       "      <th>x1</th>\n",
       "      <th>x2</th>\n",
       "      <th>cluster</th>\n",
       "    </tr>\n",
       "  </thead>\n",
       "  <tbody>\n",
       "    <tr>\n",
<<<<<<< Updated upstream
<<<<<<< Updated upstream
       "      <td>0</td>\n",
       "      <td>7.081642</td>\n",
       "      <td>-5.248171</td>\n",
       "      <td>1</td>\n",
       "    </tr>\n",
       "    <tr>\n",
       "      <td>1</td>\n",
       "      <td>-3.036735</td>\n",
       "      <td>-0.129646</td>\n",
       "      <td>0</td>\n",
       "    </tr>\n",
       "    <tr>\n",
       "      <td>2</td>\n",
       "      <td>5.117565</td>\n",
       "      <td>-3.323573</td>\n",
       "      <td>1</td>\n",
       "    </tr>\n",
       "    <tr>\n",
       "      <td>3</td>\n",
       "      <td>-1.807058</td>\n",
       "      <td>-0.335986</td>\n",
       "      <td>0</td>\n",
       "    </tr>\n",
       "    <tr>\n",
       "      <td>4</td>\n",
       "      <td>4.519789</td>\n",
       "      <td>-5.469635</td>\n",
       "      <td>1</td>\n",
=======
=======
>>>>>>> Stashed changes
       "      <th>0</th>\n",
       "      <td>7.081642</td>\n",
       "      <td>-5.248171</td>\n",
       "      <td>2</td>\n",
       "    </tr>\n",
       "    <tr>\n",
       "      <th>1</th>\n",
       "      <td>-3.036735</td>\n",
       "      <td>-0.129646</td>\n",
       "      <td>1</td>\n",
       "    </tr>\n",
       "    <tr>\n",
       "      <th>2</th>\n",
       "      <td>5.117565</td>\n",
       "      <td>-3.323573</td>\n",
       "      <td>2</td>\n",
       "    </tr>\n",
       "    <tr>\n",
       "      <th>3</th>\n",
       "      <td>-1.807058</td>\n",
       "      <td>-0.335986</td>\n",
       "      <td>1</td>\n",
       "    </tr>\n",
       "    <tr>\n",
       "      <th>4</th>\n",
       "      <td>4.519789</td>\n",
       "      <td>-5.469635</td>\n",
       "      <td>2</td>\n",
<<<<<<< Updated upstream
>>>>>>> Stashed changes
=======
>>>>>>> Stashed changes
       "    </tr>\n",
       "  </tbody>\n",
       "</table>\n",
       "</div>"
      ],
      "text/plain": [
       "         x1        x2  cluster\n",
<<<<<<< Updated upstream
<<<<<<< Updated upstream
       "0  7.081642 -5.248171        1\n",
       "1 -3.036735 -0.129646        0\n",
       "2  5.117565 -3.323573        1\n",
       "3 -1.807058 -0.335986        0\n",
       "4  4.519789 -5.469635        1"
      ]
     },
     "execution_count": 62,
=======
=======
>>>>>>> Stashed changes
       "0  7.081642 -5.248171        2\n",
       "1 -3.036735 -0.129646        1\n",
       "2  5.117565 -3.323573        2\n",
       "3 -1.807058 -0.335986        1\n",
       "4  4.519789 -5.469635        2"
      ]
     },
     "execution_count": 15,
<<<<<<< Updated upstream
>>>>>>> Stashed changes
=======
>>>>>>> Stashed changes
     "metadata": {},
     "output_type": "execute_result"
    }
   ],
   "source": [
    "# attach predicted cluster to original points\n",
    "df['cluster'] = km.labels_\n",
    "df.head()"
   ]
  },
  {
   "cell_type": "code",
   "execution_count": 64,
   "metadata": {},
   "outputs": [
    {
     "data": {
      "text/html": [
       "<div>\n",
       "<style scoped>\n",
       "    .dataframe tbody tr th:only-of-type {\n",
       "        vertical-align: middle;\n",
       "    }\n",
       "\n",
       "    .dataframe tbody tr th {\n",
       "        vertical-align: top;\n",
       "    }\n",
       "\n",
       "    .dataframe thead th {\n",
       "        text-align: right;\n",
       "    }\n",
       "</style>\n",
       "<table border=\"1\" class=\"dataframe\">\n",
       "  <thead>\n",
       "    <tr style=\"text-align: right;\">\n",
       "      <th></th>\n",
       "      <th>x1</th>\n",
       "      <th>x2</th>\n",
       "    </tr>\n",
       "    <tr>\n",
       "      <th>cluster</th>\n",
       "      <th></th>\n",
       "      <th></th>\n",
       "    </tr>\n",
       "  </thead>\n",
       "  <tbody>\n",
       "    <tr>\n",
       "      <td>0</td>\n",
       "      <td>-0.808523</td>\n",
       "      <td>0.649190</td>\n",
       "    </tr>\n",
       "    <tr>\n",
       "      <td>1</td>\n",
       "      <td>7.423151</td>\n",
       "      <td>-4.492445</td>\n",
       "    </tr>\n",
       "    <tr>\n",
       "      <td>2</td>\n",
       "      <td>-8.358705</td>\n",
       "      <td>5.407417</td>\n",
       "    </tr>\n",
       "  </tbody>\n",
       "</table>\n",
       "</div>"
      ],
      "text/plain": [
       "               x1        x2\n",
       "cluster                    \n",
       "0       -0.808523  0.649190\n",
       "1        7.423151 -4.492445\n",
       "2       -8.358705  5.407417"
      ]
     },
     "execution_count": 64,
     "metadata": {},
     "output_type": "execute_result"
    }
   ],
   "source": [
    "# You do: Show me the mean values for x1 and x2 WITHIN EACH CLUSTER for our data. (thread)\n",
    "df.groupby('cluster').mean()"
   ]
  },
  {
   "cell_type": "markdown",
   "metadata": {
    "slideshow": {
     "slide_type": "slide"
    }
   },
   "source": [
    "### Visually verifying cluster labels"
   ]
  },
  {
   "cell_type": "code",
<<<<<<< Updated upstream
<<<<<<< Updated upstream
   "execution_count": 66,
=======
   "execution_count": 17,
>>>>>>> Stashed changes
=======
   "execution_count": 17,
>>>>>>> Stashed changes
   "metadata": {},
   "outputs": [
    {
     "data": {
      "text/html": [
       "<div>\n",
       "<style scoped>\n",
       "    .dataframe tbody tr th:only-of-type {\n",
       "        vertical-align: middle;\n",
       "    }\n",
       "\n",
       "    .dataframe tbody tr th {\n",
       "        vertical-align: top;\n",
       "    }\n",
       "\n",
       "    .dataframe thead th {\n",
       "        text-align: right;\n",
       "    }\n",
       "</style>\n",
       "<table border=\"1\" class=\"dataframe\">\n",
       "  <thead>\n",
       "    <tr style=\"text-align: right;\">\n",
       "      <th></th>\n",
       "      <th>x1</th>\n",
       "      <th>x2</th>\n",
       "    </tr>\n",
       "  </thead>\n",
       "  <tbody>\n",
       "    <tr>\n",
<<<<<<< Updated upstream
<<<<<<< Updated upstream
       "      <td>0</td>\n",
       "      <td>-0.808523</td>\n",
       "      <td>0.649190</td>\n",
       "    </tr>\n",
       "    <tr>\n",
       "      <td>1</td>\n",
       "      <td>7.423151</td>\n",
       "      <td>-4.492445</td>\n",
       "    </tr>\n",
       "    <tr>\n",
       "      <td>2</td>\n",
       "      <td>-8.358705</td>\n",
       "      <td>5.407417</td>\n",
=======
=======
>>>>>>> Stashed changes
       "      <th>0</th>\n",
       "      <td>-8.242787</td>\n",
       "      <td>5.903464</td>\n",
       "    </tr>\n",
       "    <tr>\n",
       "      <th>1</th>\n",
       "      <td>-1.281358</td>\n",
       "      <td>0.723279</td>\n",
       "    </tr>\n",
       "    <tr>\n",
       "      <th>2</th>\n",
       "      <td>7.624808</td>\n",
       "      <td>-4.443910</td>\n",
<<<<<<< Updated upstream
>>>>>>> Stashed changes
=======
>>>>>>> Stashed changes
       "    </tr>\n",
       "  </tbody>\n",
       "</table>\n",
       "</div>"
      ],
      "text/plain": [
       "         x1        x2\n",
<<<<<<< Updated upstream
<<<<<<< Updated upstream
       "0 -0.808523  0.649190\n",
       "1  7.423151 -4.492445\n",
       "2 -8.358705  5.407417"
      ]
     },
     "execution_count": 66,
=======
=======
>>>>>>> Stashed changes
       "0 -8.242787  5.903464\n",
       "1 -1.281358  0.723279\n",
       "2  7.624808 -4.443910"
      ]
     },
     "execution_count": 17,
<<<<<<< Updated upstream
>>>>>>> Stashed changes
=======
>>>>>>> Stashed changes
     "metadata": {},
     "output_type": "execute_result"
    }
   ],
   "source": [
    "## Create a dataframe for cluster_centers (centroids)\n",
    "centroids = pd.DataFrame(\n",
    "    sc.inverse_transform(km.cluster_centers_),\n",
    "    columns=[\"x1\", \"x2\"]\n",
    ")\n",
    "centroids"
   ]
  },
  {
   "cell_type": "code",
<<<<<<< Updated upstream
<<<<<<< Updated upstream
   "execution_count": 67,
=======
   "execution_count": 18,
>>>>>>> Stashed changes
=======
   "execution_count": 18,
>>>>>>> Stashed changes
   "metadata": {
    "scrolled": false,
    "slideshow": {
     "slide_type": "-"
    }
   },
   "outputs": [
    {
     "data": {
      "text/plain": [
       "<Figure size 504x504 with 0 Axes>"
      ]
     },
     "metadata": {},
     "output_type": "display_data"
    },
    {
     "data": {
<<<<<<< Updated upstream
<<<<<<< Updated upstream
      "image/png": "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\n",
=======
      "image/png": "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\n",
>>>>>>> Stashed changes
=======
      "image/png": "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\n",
>>>>>>> Stashed changes
      "text/plain": [
       "<Figure size 720x576 with 1 Axes>"
      ]
     },
     "metadata": {},
     "output_type": "display_data"
    }
   ],
   "source": [
    "plt.figure(figsize=(7,7))\n",
    "\n",
    "## Plot scatter by cluster / color, and centroids\n",
    "colors = [\"red\", \"green\", \"blue\"]\n",
    "df['color'] = df['cluster'].map(lambda p: colors[p])\n",
    "\n",
    "ax = df.plot(    \n",
    "    kind=\"scatter\", \n",
    "    x=\"x1\", y=\"x2\",\n",
    "    figsize=(10,8),\n",
    "    c = df['color']\n",
    ")\n",
    "\n",
    "centroids.plot(\n",
    "    kind=\"scatter\", \n",
    "    x=\"x1\", y=\"x2\", \n",
    "    marker=\"*\", c=[\"r\", \"g\", \"b\"], s=550,\n",
    "    ax=ax\n",
    ");"
   ]
  },
  {
   "cell_type": "markdown",
   "metadata": {
    "slideshow": {
     "slide_type": "slide"
    }
   },
   "source": [
    "<a id='sil'></a>\n",
    "\n",
    "## Metrics: inertia and the silhouette score\n",
    "\n",
    "---\n",
    "\n",
    "**Inertia** -- sum of squared errors for each cluster.\n",
    "- low inertia = dense cluster\n",
    "\n",
    "> As the number of clusters k increases, inertia decreases. \n",
    "\n",
    "**Silhouette Score** \n",
    "\n",
    "- measure of how far apart clusters are\n",
    "- high Silhouette = clusters are well separated\n",
    "\n",
    "The Silhouette Score is the averge of Silhouette $s$ of each point within a cluster in relation to other clusters. The logic behind the solhouette score is that **cohesion** should be low, while **separation** should be high:\n",
    "\n",
    "**cohesion** = Average distance of points within clusters\n",
    "\n",
    "**separation** = Average distance of points in one cluster to points in other clusters\n",
    "\n",
    "And it's calculated as:\n",
    "\n",
    "$$s_i = \\frac{b_i - a_i}{max\\{a_i, b_i\\}}$$\n",
    "\n",
    "where:\n",
    "\n",
    "* $a_i$ = Average distance from point $x_i$ to all other points **in the same cluster**.\n",
    "* $b_i$ = Average distance from point $x_i$ to all points **in the next nearest cluster**.\n",
    "\n",
    "And the resulting silhouette score is the average of all the $s_i$s.\n",
    "\n",
    "* -1 = Bad\n",
    "\n",
    "* 0 = Meh\n",
    "\n",
    "* 1 = Good\n",
    "\n",
    "The silhouette score evaluates the viability of your clusters. It is a way to quantify the \"cohesion\" of local points to their clusters and the separation to other clusters."
   ]
  },
  {
   "cell_type": "markdown",
   "metadata": {},
   "source": [
    "### Easy to calculate Silhouette in Scikit-Learn"
   ]
  },
  {
   "cell_type": "code",
<<<<<<< Updated upstream
<<<<<<< Updated upstream
   "execution_count": 68,
=======
   "execution_count": 19,
>>>>>>> Stashed changes
=======
   "execution_count": 19,
>>>>>>> Stashed changes
   "metadata": {
    "slideshow": {
     "slide_type": "-"
    }
   },
   "outputs": [],
   "source": [
    "from sklearn.metrics import silhouette_score"
   ]
  },
  {
   "cell_type": "markdown",
   "metadata": {},
   "source": [
    "### Programatically Inspecting $k$\n",
    "\n",
    "Since we're familliar with gridsearch now, let's try it out!  Gridsearch is typically used for supervised learning with some scoring objective for optimizing parameters in terms of `best_model`.  We don't really care about the best model as much as we want to see how either inertia or silhouette score changes based on $k$.\n",
    "\n",
    "We will write a basic process for exploring inertia and silhouette, that you can feel free to adapt to any other ML process you might write in Sklearn for doing custom scoring (using GridsearchCV is better for supervised learning because it has cross validation built-in!).\n",
    "\n",
    "> Visually inspecting your clusters is vastly superior to relying on programatic parameter searching for an ideal cluster for most data.  You can also invent your own evalutation metrics other than inertia or silhoette.  The world is also bigger than k-means when it comes to cluster applications.  It's a great first stop in your journey of clustering."
   ]
  },
  {
   "cell_type": "code",
<<<<<<< Updated upstream
<<<<<<< Updated upstream
   "execution_count": 72,
=======
   "execution_count": 20,
>>>>>>> Stashed changes
=======
   "execution_count": 20,
>>>>>>> Stashed changes
   "metadata": {},
   "outputs": [],
   "source": [
    "scores = []\n",
    "for k in range(2, 31):\n",
    "    cl = KMeans(n_clusters=k)\n",
    "    cl.fit(X_sc)\n",
    "    inertia = cl.inertia_\n",
    "    sil = silhouette_score(X_sc, cl.labels_)\n",
    "    scores.append([k, inertia, sil])\n",
    "    \n",
    "score_df = pd.DataFrame(scores)\n",
    "score_df.columns = ['k', 'inertia', 'silhouette']"
   ]
  },
  {
   "cell_type": "code",
<<<<<<< Updated upstream
<<<<<<< Updated upstream
   "execution_count": 73,
=======
   "execution_count": 21,
>>>>>>> Stashed changes
=======
   "execution_count": 21,
>>>>>>> Stashed changes
   "metadata": {},
   "outputs": [
    {
     "data": {
      "text/html": [
       "<div>\n",
       "<style scoped>\n",
       "    .dataframe tbody tr th:only-of-type {\n",
       "        vertical-align: middle;\n",
       "    }\n",
       "\n",
       "    .dataframe tbody tr th {\n",
       "        vertical-align: top;\n",
       "    }\n",
       "\n",
       "    .dataframe thead th {\n",
       "        text-align: right;\n",
       "    }\n",
       "</style>\n",
       "<table border=\"1\" class=\"dataframe\">\n",
       "  <thead>\n",
       "    <tr style=\"text-align: right;\">\n",
       "      <th></th>\n",
       "      <th>k</th>\n",
       "      <th>inertia</th>\n",
       "      <th>silhouette</th>\n",
       "    </tr>\n",
       "  </thead>\n",
       "  <tbody>\n",
       "    <tr>\n",
<<<<<<< Updated upstream
<<<<<<< Updated upstream
       "      <td>0</td>\n",
       "      <td>2</td>\n",
       "      <td>56.111850</td>\n",
       "      <td>0.611233</td>\n",
       "    </tr>\n",
       "    <tr>\n",
       "      <td>1</td>\n",
       "      <td>3</td>\n",
       "      <td>15.485859</td>\n",
       "      <td>0.685669</td>\n",
       "    </tr>\n",
       "    <tr>\n",
       "      <td>2</td>\n",
       "      <td>4</td>\n",
       "      <td>12.586845</td>\n",
       "      <td>0.579278</td>\n",
       "    </tr>\n",
       "    <tr>\n",
       "      <td>3</td>\n",
       "      <td>5</td>\n",
       "      <td>10.370724</td>\n",
       "      <td>0.471374</td>\n",
       "    </tr>\n",
       "    <tr>\n",
       "      <td>4</td>\n",
       "      <td>6</td>\n",
       "      <td>8.768525</td>\n",
       "      <td>0.384613</td>\n",
=======
=======
>>>>>>> Stashed changes
       "      <th>0</th>\n",
       "      <td>2</td>\n",
       "      <td>32.997961</td>\n",
       "      <td>0.617337</td>\n",
       "    </tr>\n",
       "    <tr>\n",
       "      <th>1</th>\n",
       "      <td>3</td>\n",
       "      <td>6.587219</td>\n",
       "      <td>0.726359</td>\n",
       "    </tr>\n",
       "    <tr>\n",
       "      <th>2</th>\n",
       "      <td>4</td>\n",
       "      <td>5.137692</td>\n",
       "      <td>0.594678</td>\n",
       "    </tr>\n",
       "    <tr>\n",
       "      <th>3</th>\n",
       "      <td>5</td>\n",
       "      <td>3.968200</td>\n",
       "      <td>0.523346</td>\n",
       "    </tr>\n",
       "    <tr>\n",
       "      <th>4</th>\n",
       "      <td>6</td>\n",
       "      <td>3.305632</td>\n",
       "      <td>0.398490</td>\n",
<<<<<<< Updated upstream
>>>>>>> Stashed changes
=======
>>>>>>> Stashed changes
       "    </tr>\n",
       "  </tbody>\n",
       "</table>\n",
       "</div>"
      ],
      "text/plain": [
       "   k    inertia  silhouette\n",
<<<<<<< Updated upstream
<<<<<<< Updated upstream
       "0  2  56.111850    0.611233\n",
       "1  3  15.485859    0.685669\n",
       "2  4  12.586845    0.579278\n",
       "3  5  10.370724    0.471374\n",
       "4  6   8.768525    0.384613"
      ]
     },
     "execution_count": 73,
=======
=======
>>>>>>> Stashed changes
       "0  2  32.997961    0.617337\n",
       "1  3   6.587219    0.726359\n",
       "2  4   5.137692    0.594678\n",
       "3  5   3.968200    0.523346\n",
       "4  6   3.305632    0.398490"
      ]
     },
     "execution_count": 21,
<<<<<<< Updated upstream
>>>>>>> Stashed changes
=======
>>>>>>> Stashed changes
     "metadata": {},
     "output_type": "execute_result"
    }
   ],
   "source": [
    "score_df.head()"
   ]
  },
  {
   "cell_type": "code",
<<<<<<< Updated upstream
<<<<<<< Updated upstream
   "execution_count": 74,
=======
   "execution_count": 22,
>>>>>>> Stashed changes
=======
   "execution_count": 22,
>>>>>>> Stashed changes
   "metadata": {},
   "outputs": [
    {
     "data": {
      "text/plain": [
       "Text(0.5, 1.0, 'Silhouette Score over k')"
      ]
     },
<<<<<<< Updated upstream
<<<<<<< Updated upstream
     "execution_count": 74,
=======
     "execution_count": 22,
>>>>>>> Stashed changes
=======
     "execution_count": 22,
>>>>>>> Stashed changes
     "metadata": {},
     "output_type": "execute_result"
    },
    {
     "data": {
<<<<<<< Updated upstream
<<<<<<< Updated upstream
      "image/png": "iVBORw0KGgoAAAANSUhEUgAAAy8AAAGsCAYAAADUlphvAAAABHNCSVQICAgIfAhkiAAAAAlwSFlzAAALEgAACxIB0t1+/AAAADh0RVh0U29mdHdhcmUAbWF0cGxvdGxpYiB2ZXJzaW9uMy4xLjEsIGh0dHA6Ly9tYXRwbG90bGliLm9yZy8QZhcZAAAgAElEQVR4nOzde3yU9Z3//fc1mWQmISFzgsRwEqP1VJEbo0XQcoqHaqtZtaKIxdW73VatLm1dQUGslpW7SKVW3dYuP2h1u0vtKv7sVttGBQ+IDSqoaF1A8QAhMQcSAjlf3/uPSUZiAiSSyeS6rtfz8ehjcs1ch8837SPTN9+TZYwxAgAAAIBBzpfqAgAAAACgNwgvAAAAAByB8AIAAADAEQgvAAAAAByB8AIAAADAEQgvAAAAAByB8ALPsixLjz76aKrL6HdubRcAb7vzzjt17LHHJo5XrVolv99/0GOgt/jedBbCCwbcNddco+Li4gF7XnFxsa655ppu75eXl+uyyy4bsDoAAD1rbGzUwoULddxxxykzM1PRaFSnn3667r///sQ5P/rRj7Rhw4YUVtk3P/nJT3T00Ud3e//YY4/VnXfe2S/P6M3vDXAb/okCrtXa2nrIf4XLz88fwGr6l23bMsYoLS0t1aUAwBH73ve+p+eff14///nPdeqpp6q+vl5vvPGGPvroo8Q52dnZys7OTmGVg09vfm/J0NLSooyMjKQ+o7/xveke9Lwg5Tp7Yh5++GGNGTNGQ4cO1cUXX6xPP/20y3l//etfNXnyZGVmZmrEiBH6x3/8R1VXV3e7zy9+8QsdffTRCgQC+uY3v6lnn31Wv/nNb2RZlizL0tq1ayV17yb++c9/rvHjxys7O1v5+fm64oorVF5efsjajTG69957dcwxxygjI0OFhYVavnx54vPbb79dxx9/fLfrvve972nixImJ49dee03nnnuusrOzNWzYMF1yySX68MMPE593DpdYvXq1TjjhBGVkZOjdd9/t1e/30UcfVXZ2tlavXt2r8wFgoK1Zs0a33HKLSkpKNHbsWJ166qm65pprdMcddyTO+fywsYN5+eWXNWHCBGVlZen000/Xa6+91uXzDRs26Ktf/aoyMzMVDoc1a9YsVVZWHvI5L730kizL0o4dOxLvHerv9qpVq7Rw4UJ9+OGHie+eO++8U1OnTtX27dv14x//OPF+5z23bdumSy+9VKFQSOFwWOeee67eeuutI/69SdLq1at12mmnKRgMKhqN6mtf+5pqa2slxf+hb968eRoxYoQyMjJ00kkn6Xe/+12X6y3L0v33369Zs2YpNzdXV111lSSpoqJC11xzjYYNG6acnBxNnjxZL7zwwiFr5nsTR4rwgkGhrKxMzz//vP7nf/5HzzzzjDZt2qQf/ehHic+fe+45XXzxxbriiiv05ptvas2aNdqxY4f+4R/+QcaYxHl/+9vf9Nxzz2nNmjXavHmzVqxYobPPPluXX365ysvLVV5erkmTJh20jnvvvVdvvfWWnnjiCX300Ue64oorDln3Qw89pIULF2revHnasmWLbrnlFs2bN08rVqyQJM2ZM0f/+7//q1deeSVxTUtLi37/+99rzpw5kqR33nlHU6ZM0ZlnnqmNGzfqueeeU1pams455xw1NTUlrtu1a5ceeughrVq1Su+8847GjBlz2N/r0qVLdeONN+rJJ5/UzJkzD3s+AKTCUUcdpWeeeUY1NTVHdB/btjV//nz9/Oc/1+uvv65wOKzLL79cbW1tkqTdu3fr3HPP1ciRI/W3v/1NTz31lN5++21deumlfXrO4f5uz5w5U7feeqtGjhyZ+O750Y9+pMcff1xHH320fvjDHybeHzVqlCoqKnTWWWdp+PDhevHFF7VhwwYdf/zxmjp1ard/yOvr723lypWaPXu2SkpK9Prrr+v555/X+eefr/b2dknSbbfdpl//+tdavny53n77bc2ePVuzZ8/Ws88+2+U+P/7xj3XmmWfq9ddf1+LFi9XY2Khp06Zp7969evrpp/XGG2/oggsu0DnnnHPIkMD3Jo6YAQbYnDlzzIwZM7ocx2Ix09TUlHjvnnvuMfn5+YnjKVOmmFtvvbXLfT788EMjybzxxhuJ++Tm5pq9e/d2OW/GjBlmzpw53eqQZB555JGD1vn6668bSeaTTz456DkjR440t9xyS5f3/vmf/9mMHTs2cfyVr3zFfPe7300c//d//7fJyMgw1dXVibpnzpzZ5R5NTU0mMzPTPPHEE8YYYxYtWmQsyzIffvjhQWs5sF2/+c1vzE033WTy8/MTvx8AGKxeeuklM3r0aOPz+cwpp5xivv3tb5s1a9YY27YT5yxatMgUFhYmjleuXGnS0tK6HEsyr732WuK9V155xUgyf//7340xxixYsMCMGDHCNDc3J87ZtGmTkWTWrVvX43OMMebFF180kswHH3xgjOnd3+27777bjBkzpltbCwsLzaJFi7q8t2jRIvOVr3yly3u2bZtjjjnG3HfffT3+zozp3e9t1KhR5oYbbujx+n379pmMjAzz4IMPdnm/pKTETJs2LXEsyVx77bVdzlm5cqUZMWKEaW1t7fL+tGnTzM0333zQmvnexJGi5wWDwoknnqhAIJA4HjFihCoqKhLHZWVlWr58eWLMc3Z2tk466SRJ0tatW7vc54uOiV67dq3OO+88jRo1Sjk5OTrrrLMkqUs39IHq6+v1ySef6Ktf/WqX96dMmaIdO3Zo//79kqRvfetbWr16tVpaWiRJjzzyiL7xjW8oEokk2vbEE090aVs0GlVTU1OXtuXl5Wn06NG9asuCBQv0u9/9TuvXr9f48eP79osAgAE2efJkbd++XS+++KLmzJmjiooKXXrppbrooou69K4fjmVZOvXUUxPHI0aMkKTE98mWLVs0ceLELvM1Tj31VOXm5mrLli29fk5v/2735X6vvfZal/vl5ORox44dh7zf4X5vlZWV+vjjj3Xuuef2eP22bdvU0tLS4/fY538fZ5xxRread+/erVAo1KXuF1988aA1872J/sCEfQwKn5/4Z1lWly8s27Z166236uqrr+527YET74cMGfKFnv/RRx/pggsu0NVXX6077rhDsVhMn3zyiYqLixN/PA/Gsqwux5//or3iiis0d+5cPfXUU5o2bZr+9Kc/6bHHHkt8btu2rr76as2bN6/bvaPRaOLnvrStuLhYq1ev1urVq3u8LwAMNn6/X5MmTdKkSZP0wx/+UI8++qiuvvpqvfDCC5oyZUqv7uHz+bpMyO78+2zbdrf3Pq/zfZ/P1+3veGtra5fj3v7d7i3btjVjxgw98MAD3T7Lzc095LWH+r2deOKJkg7e5k49fY99/r3PfwfZtq0TTzxRTzzxRLf7ZWVl9fl5B+J7E4dCeIEjFBUVacuWLb2arPl5GRkZibG9B1NWVqbGxkYtX75cmZmZktRtkufnDR06VCNHjtS6det04YUXJt5/4YUXNHbs2MQf70gkoq9//ev67W9/q4qKCuXm5uprX/tal7a9+eabKiwsPOwXTG9Nnz5dc+bM0YUXXqjW1lYtXLiwX+4LAAOl8/94HziZ/kidfPLJWrlyZZfVsjZv3qy6ujqdfPLJkqThw4ersrJS7e3tiSD0+uuvd7lPb/5uH+y7p6f3i4qKtGrVKo0YMSLxHfRFHfh7mzJlikaOHKk///nP+sY3vtHt3GOPPVaBQEDr1q1LtF+Kf48deNyToqIi/fa3v9XQoUM1fPjwXtXG9yb6A8PG4Ah33XWXnnzySc2dO1ebNm3S9u3b9cwzz+i6665TY2PjIa8dO3asXnvtNW3fvl1VVVXd/gVNko477jhZlqVly5bpgw8+0Jo1a3TXXXcdtq758+frF7/4hX79619r69at+tWvfqV/+7d/02233dblvDlz5ujpp5/WQw89pCuvvFLp6emJz2677Ta9++67mj17tv72t7/pgw8+0PPPP6+bb75Z77//fi9/Q91NmTJFf/7zn7V06VL+CAMY1KZMmaJf/vKX2rhxoz788EM9++yzuv766xUKhTRt2rR+e86NN96o+vp6XXPNNXr77bf10ksv6eqrr9ZZZ52ls88+W5I0bdo07d+/XwsXLtT27dv12GOP6cEHH+xyn9783R47dqx2796tV155RVVVVYkhUWPHjtXLL7+sjz76SFVVVbJtWzfeeKPa29tVUlKiF198UTt27NBLL72k22+/XevXrz+i39uiRYv0q1/9SnfffbfeffddbdmyRQ888ICqqqqUlZWlm266SQsXLtRjjz2mrVu36l//9V/15JNPdvse+7yrrrpKY8eO1YUXXqi//OUv2rFjh1599VXdc889WrNmzUGv43sTRyyF823gUT1N2D/w2BhjHnnkEfP5/3m+8MILZsaMGSY7O9tkZWWZE044wdx8882JyYI93ccYY7Zv327OPvtsM2TIECPJPP/888aY7hP2H3jgATNy5EgTDAbN5MmTzdNPP93l/J7Ytm1++tOfmqOPPtr4/X4zduzYHidXtrS0mGHDhhlJZuPGjd0+f/PNN81FF11kQqGQCQaDprCw0Hz7299OTE7saQLpwXy+XRs2bDC5ubndFjwAgMHinnvuMWeddZYZNmyYCQQCZtSoUeaqq64yW7ZsSZzTmwn7Bx4bY8zHH3/c7e/4K6+8Ys4++2wTDAZNbm6uufLKK01FRUWX61asWGHGjh1rgsGgOf/8881//ud/dpmwb8zh/263tLSYK6+80oTDYSMpMUm/rKzMTJgwwQSDwS733LFjh5k1a5aJxWImIyPDjB492lx11VXm/fffP6LfmzHGPProo2bcuHEmIyPDRCIRc8EFF5ja2tpEnbfeeqspKCgw6enp5sQTTzT/8R//0eX6z3+vdKqqqjLf/e53E9cWFBSYkpIS8/rrrx+0Zr43caQsY/owEw4AAAAAUoRhYwAAAAAcgfACAAAAwBEILwAAAAAcgfACAAAAwBHY5wUAMGht2rRJK1euTGziV1JS0uXzVatWJXYCb2lpUV1dnVatWiVJWrt2rR5//HFJ0iWXXKKpU6cOZOkAgCQY8PCya9eugX5kUsRiMVVVVaW6jKTyQhslb7TTC22UaGdvFRQU9GM1yWPbtlasWKEFCxYoGo1q/vz5Kioq0siRIxPnXHPNNYmfn376aX3wwQeSpIaGBv3hD3/QkiVLJEnz5s1TUVGRsrOzD/tcvqecwwttlGinm3ihjVJyv6cYNgYAGJS2bdum/Px85eXlye/3a9KkSSorKzvo+S+//LLOOussSfEem3Hjxik7O1vZ2dkaN26cNm3aNFClAwCShGFjAIBBqaamRtFoNHEcjUa1devWHs/99NNPVVlZqS9/+cs9XhuJRFRTU9PjtaWlpSotLZUkLVmyRLFYrL+akFJ+v981bTkYL7RRop1u4oU2SsltJ+EFADAo9bSHsmVZPZ778ssva+LEifL5Dj6g4GDXFhcXq7i4OHHsliEdXhie4oU2SrTTTbzQRolhYwAAD4pGo6qurk4cV1dXKxwO93ju+vXrNXny5MRxJBLpcm1NTc1BrwUAOAfhBQAwKBUWFqq8vFyVlZVqa2vT+vXrVVRU1O28Xbt2ad++ffrSl76UeG/8+PHavHmzGhoa1NDQoM2bN2v8+PEDWT4AIAkYNgYAGJTS0tJ07bXXavHixbJtW9OmTdOoUaO0evVqFRYWJoLMSy+9pEmTJnUZFpadna1LL71U8+fPlyRddtllvVppDAAwuBFeAACD1oQJEzRhwoQu782cObPL8eWXX97jtdOnT9f06dOTVhsAYOAxbAwAAACAIxBeAAAAADgC4QUAAACAIxBeAAAAADgC4QUAAACAIxBeAAAAADgC4QUAAACAIzgmvJhPd8t8ujvVZQAA0C/Mvr0yxqS6DABwFMeEF/vhpbJ/96tUlwEAwBEzNVWyfzhH2vJ6qksBAEdxTHhRICg1N6a6CgAAjtzHH0jtbTI7P0p1JQDgKA4LL82prgIAgCNmKnbGf9hTndpCAMBhHBNerEBQam5KdRkAABy5zvBSS3gBgL5wTHgR4QUA4BKmYlf8lZ4XAOgTwgsAAAMtMWysJrV1AIDDOCy8NLKsJADA0UzT/nho8adLe2pkbDvVJQGAYzgrvNi21NaW6koAAPjiKsrjr4UnSO1tUkN9ausBAAdxUHjJjL+yXDIAwMHM7k8kSdYJp8TfYOgYAPSag8JLIP7KcskAACer2CVZlqzjvhw/ZtI+APSag8ILPS8AABeo2ClFhknD8iWx4hgA9IVjwouV6HlhxTEAgHOZil1S/ggpNyxZPqmWYWMA0FuOCS+f9bwQXgAAzmSMkXbvlJU3QlZamjQ0xLAxAOgD54SXYDD+SngBADhVXW18+HP+iPhxKMKwMQDoA+eEl4x4eDGEFwCAU3VsTmnlFcSPQxGplvACAL3lnPASoOcFAOBspiO8KG+kJMkKR1kqGQD6wDnhJTFsjNXGAAAOtXunlJEhhaPx41BU2rdXpoVtAACgN5wTXjI6wwt/4AEAzmQqdknDC2T5Or5+Qx0hht4XAOgVx4QXy++X/H56XgAAzrV7p9Q530WSFY7Ef2DSPgD0imPCi6R470sTc14AAM5j2tqkqt2y8kZ89mZHz4th0j4A9IqzwkswKLUQXgAADlS1W7JtqYfwojqGjQFAbzgrvAQy6XkBADhTxS5JByyTLEmZWfHVNGsJLwDQG84KLxkBVmQBADhSYpnk/M96XizLive+MOcFAHrFWeElmMmEfQCAM+3eKWUPlTUkp+v7oYgM4QUAesVZ4SUjwLAxAIAjmYpdXXpdOlnhqMSEfQDoFUeFFyuYyYR9AIAzVezsOt+lU25EqquRMWbgawIAh3FUeFGApZIBAM5jGvdLdbVS3sjuH4ajUlub1FA/8IUBgMM4L7zQ8wIAcJqOyfo99bxYncslM3QMAA7LeeGluYmudQCAo5iOZZJ7mvOiUCT+yqR9ADgsZ4WXjIDU3h7vXgcAwCl275QsnzTsqO6fheM9L6w4BgCH56zwEsyMvzJ0DADgJBU7pdhwWenp3T8bGpYsi40qAaAXnBVeAsH4K5P2AQAOYip2Sj2tNCbJ8vuloSGGjQFALzgzvNDzAgBwCGOMVLFLVl4P8106haIMGwOAXnBUeLHoeQEAOM2eGqm5STpkeInEzwMAHJI/1QX0SWd4aW5MbR0AgAGxadMmrVy5UrZta8aMGSopKel2zvr16/XYY4/JsiyNGTNGN998syRp5syZGj16tCQpFovp1ltvHdDaEzqXSe5ppbEOVjgqs/3dgaoIABzLoeGlObV1AACSzrZtrVixQgsWLFA0GtX8+fNVVFSkkSM/2+ixvLxca9as0d13363s7GzV1dUlPsvIyNDSpUtTUXoXZnc8vBxszoskKRSVGvbKtLbISs8YmMIAwIF6FV5uuOEGBYNB+Xw+paWlacmSJWpoaNB9992nTz/9VMOGDdPcuXOVnZ2d3GoD8dXGTHOjrOQ+CQCQYtu2bVN+fr7y8vIkSZMmTVJZWVmX8PLss8/qvPPOS3z/5ObmpqTWQ6rYFV/qv3Mzyp50franRhqWPzB1AYAD9brnZdGiRRo6dGjieM2aNTrllFNUUlKiNWvWaM2aNZo9e3ZSikwIBOKvzcx5AQC3q6mpUTT62f/hj0aj2rp1a5dzdu2Kb/64cOFC2batb37zmxo/frwkqbW1VfPmzVNaWpouvvhinXHGGT0+p7S0VKWlpZKkJUuWKBaL9Ws7amsrZReMVnT48IOe0zzmaO2RlGvalNFPz/f7/f3elsHGC22UaKebeKGNUnLb+YWHjZWVlenOO++UJE2ZMkV33nnnAISXjn1eCC8A4HrGmG7vWVbXfnfbtlVeXq5FixappqZGd9xxh5YtW6YhQ4booYceUiQSUUVFhe666y6NHj1a+fndezWKi4tVXFycOK6qqurXdrR/vEPW6MJD3tdY8f1f9ux4X77hIw96Xl/EYrF+b8tg44U2SrTTTbzQRunI21lQcPBhtr0OL4sXL5YknXPOOSouLlZdXZ3C4bAkKRwOq76+vsfr+vNftExuriolZaX5lJ3i1OqF5OyFNkreaKcX2ijRTreJRqOqrv5s+eDq6urE906nSCSiL33pS/L7/Ro+fLgKCgpUXl6uY489VpFIRJKUl5enk046STt27OgxvCSTaWuVqiqk088+9InheK3s9QIAh9ar8HL33XcrEomorq5OP/nJTw6Zhj6v3/9FK82v/bU1akpxavVCcvZCGyVvtNMLbZRoZ2/15W94KhUWFqq8vFyVlZWKRCJav369brrppi7nnHHGGXrppZc0depU1dfXq7y8XHl5eWpoaFAgEFB6errq6+v13nvv6eKLLx74RnxaIdm2dIiVxiRJmUPi82JqWS4ZAA6lV+Gl81+vcnNzdfrpp2vbtm3Kzc1VbW2twuGwamtru8yHSapAkGFjAOABaWlpuvbaa7V48WLZtq1p06Zp1KhRWr16tQoLC1VUVKRTTz1Vmzdv1ty5c+Xz+TR79mzl5OTovffe08MPPyyfzyfbtlVSUtJlov+A6Vwm+VB7vKhjOFwoSs8LABzGYcNLU1OTjDHKzMxUU1OT3nzzTV122WUqKirSunXrVFJSonXr1un0008fiHo7wgv7vACAF0yYMEETJkzo8t7MmTMTP1uWpTlz5mjOnDldzjn++OO1bNmyAanxUExFL5ZJ7hSOyhBeAOCQDhte6urqdO+990qS2tvbddZZZ2n8+PEqLCzUfffdp+eee06xWEw/+MEPkl6spI7wwj4vAAAHqNgl5eTKyjr8VgJWKCKzjY0qAeBQDhte8vLyetzkKycnR3fccUdSijqkQFCGYWMAAAcwuz+RDjNkLCEUlepqZIzptqoaACDOl+oC+ow5LwAAp6jYJetwk/U7haNSW5vU0PPqnQAAwgsAAElh9u+T6vf0br6LJCvUsSHnHlYcA4CDcVx4sZiwDwBwgopdktT7npcQe70AwOE4LrwwYR8A4ASm4pP4D72d8xKO97yYWsILAByM88JLMJOeFwDA4FexS7J80rD83p0/NCxZFj0vAHAIzgsvGQF6XgAAg9/unVJsuCx/eq9Ot/x+KSeXOS8AcAjOCy+BoNTeJtPWmupKAAA4KFOxU8of2beLQlGGjQHAITgzvEisOAYAGLSMbceXSe7lSmMJ4SjDxgDgEAgvAAD0tz01Uktz7yfrd7BCEcILAByC88JLMDP+SngBAAxWFTslqe89L6Go1LBXprUlCUUBgPM5LrxYGR09L02EFwDA4GQ6wkuf57yE2agSAA7FceFFwY7w0kJ4AQAMUrt3xoc5d2482UtWqCO8MGkfAHrkvPASoOcFADC4mYpdUl6BLMvq24Ud4cUw7wUAeuTY8GLoeQEADFYVO2X1cbK+JCnc0VNDeAGAHjk2vKipMbV1AADQA9PaKlVV9nmlMUlS5pD4ZszMeQGAHjk3vLDaGABgMKraLRlb6utKY1J8mFkoSngBgIMgvAAA0J92dyyTnP8Fel4kKRSRYcI+APTIceHF8qdLaX7CCwBgUEosk/xFho2pY8Ux5rwAQI8cF14kSYFAfOdiAAAGm907pdywrMysL3Z9OCLtqZExpn/rAgAXcGh4yWTCPgBgUOpcJvkLC0WltlapYW//FQUALuHQ8BJg2BgAYHD6osskd7DCHRtVMnQMALpxaHjJlCG8AAAGGbOvQdpb94Xnu0hKbFRJeAGA7hwaXoL0vAAABp+KI1xpTEqEF1YcA4DuCC8AAPQTU7Er/sORzHnJDUuWRc8LAPTAkeHFIrwAAAaj3Tsln0+K5X3hW1h+v5STy0aVANADR4YXJuwDAAalip1SLD++J9mRCEUZNgYAPXBoeMkkvAAABh1TsfPIhox1CkfpeQGAHjg0vDBsDAAwuBjblip3Hdlk/Q5WboQ5LwDQA+eGl/Y2mbbWVFcCAEBcbbXU0nJkyyR3CkekhnqZVr7nAOBAzg0vktTcnNo6AADo1B/LJHdirxcA6JHDw0tjausAAKCD6Qgv/THnxUqEF+a9AMCBHB5e6HkBAAwSFbviC8rkRo78XuGOjSrpeQGALhwZXqxAZvwHel4AAIOEqaqQ8gpkWdaR36yz54XlkgGgC3+qC/hCAoH4KyuOAQAGCd/1t0mN+/rnZllDpIwM5rwAwOc4NLx09rwQXgAAg4Pl80lDcvrnXpYV731hzgsAdOHIYWMKxue8GMILAMCtQlEZho0BQBfODC8ZnRP2CS8AAHeyQlGGjQHA5zgzvAQJLwAAlwtHpD01MsakuhIAGDScGV46e16aWG0MAOBSoajU1io17E11JQAwaDgzvPj9Ulqa1MI+LwAAd7JCHfvF1DF0DAA6OTK8WJYV36iSYWMAALdK7PXCimMA0MmZSyVL8aFjhBcAcLVNmzZp5cqVsm1bM2bMUElJSbdz1q9fr8cee0yWZWnMmDG6+eabJUlr167V448/Lkm65JJLNHXq1IEs/ciF4+HF7KlWP2x7CQCu4NzwEiS8AICb2batFStWaMGCBYpGo5o/f76Kioo0cuTIxDnl5eVas2aN7r77bmVnZ6uurk6S1NDQoD/84Q9asmSJJGnevHkqKipSdnZ2StryheSG468slwwACY4cNiZJygjKMGEfAFxr27Ztys/PV15envx+vyZNmqSysrIu5zz77LM677zzEqEkNzdXUrzHZty4ccrOzlZ2drbGjRunTZs2DXgbjoTlT5dyclkuGQAO4OyeFybsA4Br1dTUKBqNJo6j0ai2bt3a5Zxdu3ZJkhYuXCjbtvXNb35T48eP73ZtJBJRTU3Pc0dKS0tVWloqSVqyZIlisVh/N+ULqx6WJ9/+vQp/gZr8fv+gaksyeKGNEu10Ey+0UUpuO50bXgKZUv2eVFcBAEiSnvY3sayusz9s21Z5ebkWLVqkmpoa3XHHHVq2bFmP9/v8tZ2Ki4tVXFycOK6qqjqCqvtXe3auVLH7C9UUi8UGVVuSwQttlGinm3ihjdKRt7OgoOCgnzl22JiVEWDOCwC4WDQaVXX1Z0OmqqurFQ6Hu5wTiUR0+umny+/3a3N2LroAACAASURBVPjw4SooKFB5ebkikUiXa2tqarpd6wRWKMqwMQA4gGPDS3zYGOEFANyqsLBQ5eXlqqysVFtbm9avX6+ioqIu55xxxhl6++23JUn19fUqLy9XXl6exo8fr82bN6uhoUENDQ3avHmzxo8fn4pmHJlwRGqol2ltTXUlADAoOHfYWEZQaiK8AIBbpaWl6dprr9XixYtl27amTZumUaNGafXq1SosLFRRUZFOPfVUbd68WXPnzpXP59Ps2bOVk5MjSbr00ks1f/58SdJll13mrJXGOnXu9bKnWhqWn9paAGAQcG54oecFAFxvwoQJmjBhQpf3Zs6cmfjZsizNmTNHc+bM6Xbt9OnTNX369KTXmExWKCojSXtqCC8AICcPGwtkSm1tMm10pQMAXOqAjSoBAI4OL4H4azPLJQMAXCoUib+yUSUASHJ0eMmMv7LiGADArbKypfQMqa7nPWoAwGt6PefFtm3NmzdPkUhE8+bNU2VlpZYvX66GhgaNHTtW3//+9+X3D+AUmkAw/kp4AQC4lGVZ8d4Xel4AQFIfel7+9Kc/acSIEYnjRx99VBdeeKHuv/9+DRkyRM8991xSCjwYqzO8MGkfAOBm4ShzXgCgQ6/CS3V1tV5//XXNmDFDUnzX4y1btmjixImSpKlTp6qsrCx5VfakM7ywXDIAwMXiG1UybAwApF4OG1u1apVmz56txsZGSdLevXuVlZWltLQ0SfEdjmtqev7DWlpaqtLSUknSkiVLFIvF+qNutQ7PV42koYF0Bfrpnn3h9/v7rS2DlRfaKHmjnV5oo0Q74VKhqFRbLWNMfBgZAHjYYcPLa6+9ptzcXB1zzDHasmVLnx9QXFys4uLixHFVVVWf79ET09HjUvfpp/L10z37IhaL9VtbBisvtFHyRju90EaJdvZWQUFBP1aDpAtHpLZWad9eKXtoqqsBgJQ6bHh57733tHHjRr3xxhtqaWlRY2OjVq1apf3796u9vV1paWmqqalRJBIZiHo/k1htrHFgnwsAwAD6bKPKasILAM87bHiZNWuWZs2aJUnasmWLnnrqKd1000362c9+pg0bNmjy5Mlau3atioqKkl5sF+zzAgDwglB8o0rV1kgjx6a2FgBIsS+8z8tVV12lP/7xj/r+97+vhoYGTZ8+vT/rOjx6XgAAXhCOhxdWHAOAPuzzIkknn3yyTj75ZElSXl6e7rnnnqQU1St+v+Tzsc8LAMDdcsPxV/Z6AYAv3vOSapZlxXtfCC8AABez/OlSTm58zgsAeJxjw4uk+F4vhBcAgNuFIjLs9QIAhBcAAAa9jr1eAMDrHB9eDOEFAOByVjjKsDEAkOPDS4CeFwCA+4WiUkO9TGtrqisBgJRyeHhhwj4AwANCHRtB19emtg4ASDFHhxeLOS8AAA+wEhtVMnQMgLc5OrzEJ+yzSSUAwOXCHT0vdaw4BsDbXBBemlNdBQAAyZUb73kx9LwA8Dhnh5cgPS8AAA/IzpH8fom9XgB4nLPDS0ZQamuTaWtLdSUAACSNZVlSboTlkgF4nrPDSzAYf21h0j4AwOXCURl6XgB4nLPDS0ZHeGkivAAA3M3KjTBsDIDnOTu8BOh5AQB4RDhKeAHgeY4OL1YwM/4De70AANwuFJGaG2Ua96e6EgBIGUeHF2UE4q+EFwCA23VuVMmkfQAe5uzwQs8LAMAjrFDHRpUMHQPgYc4OLx0T9g0T9gEAbhdio0oAcHZ4YalkAIBXdPa81NHzAsC7nB1eAiyVDADwBisQlDKHSPS8APAwd4SX5sbU1gEAwEAIRWToeQHgYc4OL/50yeeTmptTXQkAAMkXitDzAsDTHB1eLMuK977Q8wIA8AArFGXOCwBPc3R4kRQPLy30vAAAPCAUkepqZWw71ZUAQEq4ILxkSk30vAAAPCAcldrbpYa6VFcCACnhgvASkGGTSgCAB1i5Hcsl1zJ0DIA3uSC8BCXCCwDAC8LxjSq1h/ACwJsILwAAOEVHz4vZw4pjALyJ8AIAgFPkhiXLJxFeAHiU48OLFcgkvAAAPMFKS5OGhhg2BsCz/Kku4IgFAoQXAHCpTZs2aeXKlbJtWzNmzFBJSUmXz9euXatHHnlEkUh8ONX555+vGTNmSJJmzpyp0aNHS5JisZhuvfXWgS0+WUIRho0B8CwXhBd6XgDAjWzb1ooVK7RgwQJFo1HNnz9fRUVFGjlyZJfzJk2apOuuu67b9RkZGVq6dOlAlTtwQhGpujLVVQBASjh+2JgCQamtVaa9PdWVAAD60bZt25Sfn6+8vDz5/X5NmjRJZWVlqS4r5axQhDkvADzLBT0vwfhrc5OUNSS1tQAA+k1NTY2i0WjiOBqNauvWrd3Oe/XVV/Xuu+/qqKOO0pw5cxSLxSRJra2tmjdvntLS0nTxxRfrjDPO6PE5paWlKi0tlSQtWbIkcf1g1TBilPat26to7lBZ6RkHPc/v9w/6thwpL7RRop1u4oU2SsltJ+EFADAoGWO6vWdZVpfj0047TZMnT1Z6err+8pe/6MEHH9SiRYskSQ899JAikYgqKip01113afTo0crPz+92z+LiYhUXFyeOq6qq+rkl/ctOj3/vVW37X1nDurenUywWG/RtOVJeaKNEO93EC22UjrydBQUFB/3MHcPGJKm5MbV1AAD6VTQaVXX1Z8OjqqurFQ6Hu5yTk5Oj9PR0SfEQ8v777yc+65zEn5eXp5NOOkk7duxIftEDwAp19EbVseIYAO9xfHixEuGlObWFAAD6VWFhocrLy1VZWam2tjatX79eRUVFXc6pra1N/Lxx48bEZP6Ghga1trZKkurr6/Xee+91m+jvWKGOjSprCS8AvMdFw8boeQEAN0lLS9O1116rxYsXy7ZtTZs2TaNGjdLq1atVWFiooqIiPf3009q4caPS0tKUnZ2t66+/XpK0c+dOPfzww/L5fLJtWyUlJe4JL+HOnhcm7QPwHheFF5ZLBgC3mTBhgiZMmNDlvZkzZyZ+njVrlmbNmtXtuuOPP17Lli1Len0pkZUt+dMlel4AeJDjh40pkBl/JbwAADzAsqx478sewgsA73FBeAlIkgzhBQDgFbkRGfZ6AeBBLggv9LwAALzFCkfZqBKAJzk/vASZ8wIA8JhQRNpT0+NeOADgZs4PL/50yfJJTYQXAIBHhCJSS7PUuC/VlQDAgHJ8eLEsK9770kJ4AQB4ROdGlUzaB+Axjg8vkqSMIMPGAACeYXVsVMm8FwBe447wEiC8AAA8pKPnxdDzAsBj3BFegkGWSgYAeEdnz0stPS8AvMUd4SUjKDU1proKAAAGhJURkLKypTp6XgB4izvCSzAYX3UFAACvCEVkagkvALzFHeElQM8LAMBjQlF6XgB4jivCi8VqYwAAj7FCEea8APAcV4QX9nkBAHhOKCrV18rY7amuBAAGjDvCS0ZQaiK8AAA8JByRbFuqr0t1JQAwYPyHO6GlpUWLFi1SW1ub2tvbNXHiRF1++eWqrKzU8uXL1dDQoLFjx+r73/++/P7D3i45gkGprVWmvV1WWlpqagAAYABZoYiMFJ/30rl0MgC43GHTRnp6uhYtWqRgMKi2tjbdcccdGj9+vP74xz/qwgsv1OTJk/Xwww/rueee07nnnjsQNXcXyIy/NjdJWUNSUwMAAAOpY6NK1VZLY45NbS0AMEAOO2zMsiwFg0FJUnt7u9rb22VZlrZs2aKJEydKkqZOnaqysrLkVnoogUD8lUn7AACv6OhtMXuYtA/AO3o1zsu2bd16663avXu3zjvvPOXl5SkrK0tpHUO0IpGIamp6Xq6xtLRUpaWlkqQlS5YoFov1U+mfaYwNV72kcFam/Em4f0/8fn9S2jKYeKGNkjfa6YU2SrQTHjM0JFk+aQ/LJQPwjl6FF5/Pp6VLl2rfvn269957tXPnzl4/oLi4WMXFxYnjqqqqvld5GKalRZJUu7tcViCr3+/fk1gslpS2DCZeaKPkjXZ6oY0S7eytgoKCfqwGqWL50qTckETPCwAP6dNqY0OGDNFJJ52krVu3av/+/Wpvjy/PWFNTo0gkhZMFD5zzAgCAV4SiMvS8APCQw4aX+vp67du3T1J85bG33npLI0aM0Mknn6wNGzZIktauXauioqLkVnoogficHMILAMBTQhGGjQHwlMMOG6utrdWDDz4o27ZljNGZZ56p0047TSNHjtTy5cv1X//1Xxo7dqymT58+EPX2LBFeGlNXAwAAA8wKRWW2vpPqMgBgwBw2vIwZM0Y//elPu72fl5ene+65JylF9VlHeDHNzbJSXAoAAAMmFJH27ZVpaZaVEUh1NQCQdH2a8zJo0fMCAPCizr1e6mpTWwcADBCXhZfm1NYBAMAAsjr2elEtK44B8AZ3hJf0jPha9/S8AAC8pKPnxdQxaR+AN7givFiWJQUCrDYGAPCWMD0vALzFFeFFUnyvF8ILAMBLModIGRkSPS8APMJF4YWeFwCAt1iWFR86Rs8LAI9wUXgJyhBeAABeE4rI7CG8APAGF4UXho0BALzHCkWlPQwbA+ANLgovDBsDAHhQKCLtqZExJtWVAEDSuSi80PMCAPCgUFRqbZH270t1JQCQdK4JL1YgSHgBAHhP50aVzHsB4AGuCS8KBNmkEgDgOVbHRpXMewHgBS4LL82prgIAgIHV0fPCimMAvMBd4aW1RcZuT3UlAAAMnMSwMXpeALifu8KLRO8LAMBTrPQMKTuHOS8APME94SXYGV6Y9wIA8JjciAw9LwA8wD3hJaMjvDSx4hgAwGPCUamWnhcA7uea8GJ19ry0EF4AAN5i5UakOnpeALifa8ILPS8AAM8KR6W6PTLtLFoDwN38qS6g3wToeQEAt9m0aZNWrlwp27Y1Y8YMlZSUdPl87dq1euSRRxSJxFfcOv/88zVjxozEZ48//rgk6ZJLLtHUqVMHtPYBlRuRjC3V74kHGQBwKfeEl2Bm/LWZ8AIAbmDbtlasWKEFCxYoGo1q/vz5Kioq0siRI7ucN2nSJF133XVd3mtoaNAf/vAHLVmyRJI0b948FRUVKTs7e8DqH0hWOCojxZdLJrwAcDEXDRsLSJIMw8YAwBW2bdum/Px85eXlye/3a9KkSSorK+vVtZs2bdK4ceOUnZ2t7OxsjRs3Tps2bUpyxSmU2OuFSfsA3M19PS8MGwMAV6ipqVE0+lkvQjQa1datW7ud9+qrr+rdd9/VUUcdpTlz5igWi3W7NhKJqKam5wntpaWlKi0tlSQtWbJEsVisn1uSfO1plqokDWlrVlZH/X6/35Ft6QsvtFGinW7ihTZKyW2ne8ILE/YBwFWMMd3esyyry/Fpp52myZMnKz09XX/5y1/04IMPatGiRT3e7/PXdiouLlZxcXHiuKqq6giqTg1jt0s+nxo++Uj7O+qPxWKObEtfeKGNEu10Ey+0UTrydhYUFBz0MxcNG8uQLItNKgHAJaLRqKqrPxsGVV1drXA43OWcnJwcpaenS4qHkPfff19SvKflwGtramq6Xesmli8tPmmfjSoBuJxrwotlWfEVx5qbU10KAKAfFBYWqry8XJWVlWpra9P69etVVFTU5Zza2trEzxs3bkxM5h8/frw2b96shoYGNTQ0aPPmzRo/fvyA1j/gQhEZ5rwAcDn3DBuTOsILPS8A4AZpaWm69tprtXjxYtm2rWnTpmnUqFFavXq1CgsLVVRUpKefflobN25UWlqasrOzdf3110uSsrOzdemll2r+/PmSpMsuu8y1K40lhCJSxa5UVwEASeXC8ELPCwC4xYQJEzRhwoQu782cOTPx86xZszRr1qwer50+fbqmT5+e1PoGEysUlXnvrVSXAQBJ5ZphY5KkQFCGnhcAgBeFItL+fTL8Ix4AF3NdeGGTSgCAJ4U6loauY94LAPcivAAA4AJWYqNKVhwD4F6EFwAA3CAc73kxtfS8AHAvV4UXi/ACAPCqXHpeALifq8KLApmEFwCAN2VmxUcgEF4AuJjLwkuA8AIA8CTLsuK9L2xUCcDFXBZeMqXWFhm7PdWVAAAw8MJRGXpeALiYy8JLIP7KGvcAAA+y6HkB4HIuCy+Z8VeGjgEAvCgckfbUyBiT6koAIClcFl6C8VfCCwDAi0JRqa1V2rc31ZUAQFK4KrxYifDSmNpCAABIATaqBOB2rgovn/W8MOcFAOBBofhGlcx7AeBWLg0v9LwAADyoo+eFFccAuJVLwwtzXgAAHpTbOWyMnhcA7uTK8GIILwAAD7LS06Xsocx5AeBargwv9LwAADwrxEaVANzLZeGFfV4AAB4XitDzAsC13BVeMjIkyyK8AAA8ywpHmfMCwLVcFV4sy5IyglIT4QUA4FG5Eal+j0xbW6orAYB+56rwIkkKBqUWwgsAwKPCEckY2QwdA+BC7gsvGQF6XgAAnmV1bFRp13ya4koAoP+5L7wEMmXoeQEAeFXHRpXtNVUpLgQA+p/7wkswyIR9AIB3dfa8VFWkuBAA6H/uCy8ZQampMdVVAACQGjm5UkZA7ZXlqa4EAPqd/3AnVFVV6cEHH9SePXtkWZaKi4t1wQUXqKGhQffdd58+/fRTDRs2THPnzlV2dvZA1HxowaBUxyRFAIA3WZYlRYcTXgC40mHDS1pamq6++modc8wxamxs1Lx58zRu3DitXbtWp5xyikpKSrRmzRqtWbNGs2fPHoiaD8nKCMrQ8wIA8LJYntorCC8A3Oeww8bC4bCOOeYYSVJmZqZGjBihmpoalZWVacqUKZKkKVOmqKysLLmV9lYwKLU0p7oKAABSxorlqb1yl4wxqS4FAPpVn+a8VFZW6oMPPtCxxx6ruro6hcNhSfGAU19fn5QC+ywQlJrpeQEAeFgsT2b/Pml/Q6orAYB+ddhhY52ampq0bNkyXXPNNcrKyur1A0pLS1VaWipJWrJkiWKxWN+r7IOGcET7WloUDYdlpaUl7Tl+vz/pbUk1L7RR8kY7vdBGiXYCnaxYnowkVVVIQ3JSXQ4A9JtehZe2tjYtW7ZMZ599tr7yla9IknJzc1VbW6twOKza2loNHTq0x2uLi4tVXFycOK6qSu6683a7HX9O+U5Zwd6HrL6KxWJJb0uqeaGNkjfa6YU2SrSztwoKCvqxGgxKsbz4a1WFNObY1NYCAP3osMPGjDH65S9/qREjRujrX/964v2ioiKtW7dOkrRu3TqdfvrpyauyLzKC8dcm9noBAHhUR3gx7PUCwGUO2/Py3nvv6YUXXtDo0aN1yy23SJKuvPJKlZSU6L777tNzzz2nWCymH/zgB0kvtleCHeGFjSoBAB5lZQ2RlZ0T73kBABc5bHg54YQT9Pvf/77Hz+64445+L+hIWYHM+DhfwgsAwMPShheojfACwGX6tNqYIwQC8VfCCwDAw9LyjqLnBYDruDC8ZMZfCS8AAA9LG14gVVXK2HaqSwGAfuPC8ELPCwAAaXlHSW2tUn1tqksBgH7jwvAS73kxbFQJAPCwtOEdS2IzdAyAi7gwvHSuNtac2joAAEihtLyjJLFcMgB3cXF4oecFAOBdacPj4YWeFwBu4r7wkp4hWRY9LwAAT7MyAlJuhPACwFVcF14sn0/KCNLzAgBAbLhMVWWqqwCAfnPYTSodKRBgtTEAcIFNmzZp5cqVsm1bM2bMUElJSY/nbdiwQT/72c90zz33qLCwUJWVlZo7d64KCuKT1o877jh95zvfGcjSBwUrliez7d1UlwEA/cal4SVIeAEAh7NtWytWrNCCBQsUjUY1f/58FRUVaeTIkV3Oa2xs1NNPP63jjjuuy/v5+flaunTpQJY8+MTypL+9KNPWJsvvzq98AN7iumFjkqRAUIbwAgCOtm3bNuXn5ysvL09+v1+TJk1SWVlZt/NWr16tiy66SOnp6SmocpCL5UnGlmqrUl0JAPQLd/4zDD0vAOB4NTU1ikajieNoNKqtW7d2OeeDDz5QVVWVTjvtND311FNdPqusrNS//Mu/KDMzU1dccYVOPPHEHp9TWlqq0tJSSdKSJUsUi8X6uSWp4ff7FSr8kmolDW1tUsAl7TqQ3+93zX9fh0I73cMLbZSS206XhpdMqWl/qqsAABwBY0y39yzLSvxs27Z+85vf6Prrr+92Xjgc1kMPPaScnBy9//77Wrp0qZYtW6asrKxu5xYXF6u4uDhxXFXljl6KWCymuvT49gF12/9XvoKjU1tQEsRiMdf893UotNM9vNBG6cjb2TlfsScuHTbGhH0AcLpoNKrq6urEcXV1tcLhcOK4qalJH3/8sX784x/rhhtu0NatW/XTn/5U27dvV3p6unJyciRJxxxzjPLy8lReXj7gbUi5cEzy+VguGYBruLLnxQpkMucFAByusLBQ5eXlqqysVCQS0fr163XTTTclPs/KytKKFSsSx3feeaeuvvpqFRYWqr6+XtnZ2fL5fKqoqFB5ebny8vJS0YyUstLSpMgwwgsA13BleKHnBQCcLy0tTddee60WL14s27Y1bdo0jRo1SqtXr1ZhYaGKiooOeu0777yj3//+90pLS5PP59O3v/1tZWdnD2D1g0gsT4bwAsAlXBpeMtmkEgBcYMKECZowYUKX92bOnNnjuXfeeWfi54kTJ2rixInJLM0xrFiezJvdV2kDACdy6ZyXoNTSImO3p7oSAABSK5Yn1e+RaW5OdSUAcMTcG14kqYU/1AAAj4t1zPWpZugYAOdzd3jhX5kAAB5ndYYX5r0AcAGXhxfmvQAAPK4jvDBpH4AbuDK8WJ3hpYkVxwAAHjc0JGVk0PMCwBVcGV4UzIy/1lYf+jwAAFzOsiwpynLJANzBneHlmOOlcEz2E7+VaWtLdTUAAKRWLI+eFwCu4MrwYgUz5bvqu9LOD2X+/HiqywEAIKWs2HCpqjLVZQDwAFPzqdqT+PfGleFFkqxTz5B12mSZP66W2b0z1eUAAJA6sTypcZ/MvoZUVwLApYxty177J9mLbtTef/9Z0p7j2vAiSdYV35bSM2Q/+pCMMakuBwCAlGC5ZADJZCp2yV52u8x//FIa+yXl/ONNSXuWu8NLKCLrsmuk996Sebk01eUAAJAahBcASWDa22U/89+yf3yT9PEOWXO+L9/cu5SWV5C0Z/qTdudBwjrrHJlX18o8tlJmXJGsoeFUlwQAwMA6YK8XK8WlAHAH8/EHsn/zC+nDbdL4ifJd9U+yQtGkP9fVPS+SZPl88s2+QWppkvmvf091OQAADDgrK1vKGkLPC4AjZlpbZa95VPbiH0g1n8r3T/8i3/XzByS4SB7oeZEk66iRsi68XObJ38mcOU3WKUWpLgkAgIEVY68XAEfGbP97vLel/GNZZ06Tdfl1srKHDmgNru956WSdf6l01CjZj/6bTFNjqssBAGBgsdcLgC/INDfJ/q9fy/7/bpWaG+W7aZF8184d8OAieaTnRZIsf7p837pR9k/nyTz5H7Jm/r+pLgkAgAFjxfJk3npNxhhZFjNfAC8z1ZVSZbnU0izT0iy1tEgtzfH/tHa8HvCe2fauVF0pa9oFsi75lqxgVspq90x4kSTr2BNlTfmazLN/lDljiqyxx6W6JAAABkYsT2ptkepqpVAk1dUAOAzz6W4pZ2i/BgVjjMyzT8n8YZXU3nbwE9P8UkZAysiIv4aj8Z6WL53cb7V8UZ4KL5JkXfItmU2vyv7tL+S7/Wey/J77FQAAPMiK5clI8aFjhBdgUDN7amQvulEakiPft27ol/naZt9e2avulza9Kp16hnznlEiBQDycpGcc8HNAVlpaP7QiOTwz56WTlZkl36x/kj7ZIfPXJ1NdDgAAA+OA5ZIBDG5m7Z+ktlYpGJR9/12y/89ymX0NX/x+2/8u+65/lt56Tdbl18l3w+2yjv+yrKOPk1UwWtawfFlDw7KCWYM6uEgeDC+SZP0/E6UJZ8o89Z8ylbtSXQ4AAMkXHR5/JbwAg5ppaZZZ93S8d+SO+2Vd8E2ZV9fKXnSjzOa/9e1eti37z0/IXjpfsiz5bl0i3zkXO3remyfDiyT5rvyO5PfHVx8zJtXlAACQVFZGQMoNE16AQc5seF5q2Ctf8cWy0tPl+4er5bvtXik7R/YDP5G94j6ZfXsPf5+99bIf+InMH1Z2BKHlssZ+aQBakFyeDS9WKCrrkjnSu5tlXnku1eUAAJB87PUCHJKxbZnWltQ93xiZ0qek0cdIB0yOt8YcK9+Cn8n6+hUyZS/Ee2He2HDw+2x9R/bd/yy9u0nWld+R77vz4pvVuoBnw4skWV89Tzr2JJnf/x+Z+j2pLgcAgKSyouz1AhyK+eNq2Quvl2lrTU0BW16PbwBZ3H1ol+VPl+/iWfFemJyQ7If+Vfav75XZW584x9i27D89Jvve2yS/X755S+Wb/nVHDxP7PG+HF59Pvm/dIDU1yv7dLxk+BgBwt1ieVFsl096e6kqAQcls/7tUXSltLkvJ8+2//l8pNyLr9LMOeo41ulC+2++VddEsmddelr3oBpnX1svU75H98x/LPPGIrNMmy7dwuawxhQNY/cDwdHiRJOuoUbJKrpJeWy/zp8dSXQ4AAMkTGy7ZtlTzaaorAQan3R9LkuyX/jLgjzY7P5TeeSO+EaQ//ZDnWv50+b5xhXy3/0wKR2X/cons2/5J+t+3Zc2+Xta3fyQrM3UbSSYTm5xIss67JL508ppHZY4aKWvCpFSXBABAv+uy18uw/FSXAwwqpqlRqqmShuRIW96Qqf5UVnTYwD2/9P9KGRmyppzf62usUWPlm3+vzJ8fl3nnDfmu+I6sUWOTWGXqeb7nRZIsy5I15/vS2C/FV3D4aHuqSwIAoP+x1wtwcLs/kSRZF3xTkmReLh2wR5v6PTIb1sqaOF1W9tA+XWv5/fJdeLnSbrnH9cFFIrwkWOkZ8t1wuzQkR/YDi2XqalNdEgAA/SsyTPL5pKrKVFcCDDqmvCO8fHmCdOJ4mZdLZeyBmR9m1j0j02rj5AAAIABJREFUtbXKKr5oQJ7nZISXA1i5YfluvF3at1f2Q/+a0qXyAADob1ZamhSOseIY0JPyj+PhfvhR8p19Tnxu2Dubk/5Y09oi8/z/SKcUyTpqZNKf53SEl8+xRhfKd91c6f33ZH77ACuQAQDcJZYnU014AT7PlH8iDT8qPln+1K9I2UNlXvpr8p/7txekvXXy0evSK4SXHlgTJsm6+CqZDWtlnvnvVJcDAEC/sWLs9QL0aPfHUv4oSZKVni7rzGkym16V2VuXtEcaY2T++qQ0Yox04qlJe46bEF4OwrrwcllnfFXmiUdkNh18B1MAABwllifV1cq0NKe6EmDQMG2tUmV5l2Fb1lnnSO1tMq88n7wH//1NaeeHsoovctVGkslEeDmIxApkY46V/e8/k/n4g1SXBADAketYcUzVTNoHEirL43sgHTUq8ZZVMFoqPEHmpb8mbRqB/dcnpZxcWV+ZkpT7uxHh5RCsjEB8BbLMIbIf+IlMPSuQAQCczeoMLwwdQx8Y25bZ8kbSVt8y296VaW9Lyr17pXOZ5M9NmLfOOic+kX/73/v9kab8E+mtjbKmXiArPaPf7+9WhJfDsEKR+ApkDXWyH7pHprU11SUBAPD/t3fn8VFV5+PHP+dOQhZCQhZIgLCvCQIBgwREloKKaxEVl7ZWrUvrhkvrrrVfa2tVxG9/SmsrdUH9imhBqLIUZJFNgxJRAspOIoEQAiQBst7n98cNCZEEJpNJJjN53q9XXknuzD0LV3Pnueec53hO93pRHpAVC7Ff+j2ydrn3y96Wif2Xhyh6+1Wvl+12GyrTJJPwo+AldSSEhCGrFnu/zqXzICgYM+Yir5cdyDR4cYPp2gvrpnth+xZkpmYgU0op5ceioiG4lY68KLdJwSFkzkzn57Wfer/8NU6Zx+a9h+z20UbhOVkQE4cJDatx2ISGYc45D0lfhRw/5rXqpKgAWfspZthoTGRbr5XbEmjw4iaTOhJz2XXI2mXIon/7ujlKKaWUR4wxENteR16U22T2G1BWgkkbA99/i+Qf8F7ZZaXI+tUw6BysqLbYb/0/pKJpNoas0Y6c7KpMYz9mRp4PpSVI+mfeq2/lIigt1U0pPXDG4GX69OnccsstPPDAA1XHioqKePrpp7nnnnt4+umnKSoqatRGNhfmsmsxqSORf7/Fsf/O83VzlFJKKc9oumTlJvnuW2TdMsyFkzCXXw8iyOcrvFfBxnQ4fhRr7CW0ueU+2LMDWfKR98p3g9g27Muue4PI7n2gU1ev7fki5WXOppTJKZjEbl4psyU5Y/AyZswYHn300RrH5s6dy4ABA/jrX//KgAEDmDt3bqM1sDkxxmBunAJJKRROfxZ7zts6hUwppZTf0b1elDukvAz7nb9BXDzm4qsx7RKgV5IzC8VLn3/stcsgKgaSBhIyfCykDEPmvYvk5nilfLccyoPSkhqZxk5mjHFGX3Z+j2Q3PPusrF8Fh/Oxxv+0wWW1RGcMXpKTk4mIiKhxLD09ndGjnZRuo0ePJj09vXFa1wyZkBCsu58gbPxlyCfvI6+9qIv4lVJK+Ze4eDh2FDnWMmZOKM/If+dBThbWtbdhWoUAYNLGOutD9uxoePmFBfDtl5hhozCWC2MM1vW/BlcQ9tvTm+4BcU4WcGqmsZOZtDEQFISsWtKgqpxNKec5iQH6D25QWS1VkCcnHTlyhOjoaACio6MpKCio871LlixhyRLnQj/77LPExcV5UmWz47rncVzxHSl651WCio7Q9uFnsdpE+rpZXhUUFBQw1+t0WkI/W0IfQfuplLtMXDwCzuhLl4gzvV21QHIwF/nPe5CShhk0tOq4SR2JvPcPZypZ154Nq2P9Z1BRgRk+trr86FjMpF8i7/wNWfMp5txxDarDrXacyDRWx8gLgImIxAwe7ow6XflLj1Mbl2VmwJ7tmJ/fgbF06bknPApe6mP8+PGMHz++6ve8vLzGrrJJxMXFcXzMJZiwCMre+F8OPHgL1j1POkOqASIuLi5grtfptIR+toQ+gvbTXR07dvRia5RfOnmvly4N+wCqApP93msAWNfeUuO4aR0BA4ciX6xErroJ43J5XIesXQaJ3TCJ3WvWMepC5PMVyPszkAFDMJHRHtfhlpwsiGiDaRN12reZkecj6Z8hX631eFPJY/NnOXWljT3zm1WtPAr5oqKiOHTI2bDx0KFDREYG1ohDfVjDRmPd9z9QcBj7z79Ddn7v6yYppZRSp6d7vajTkK/TIWMd5tJrMbHtT3ndShsLBYchM8PzOvb9ADu/r/VDvLEsrBvugtJipDKIakynyzRWQ7+BTqY+DxfuS+5eSr74DDPqIkxIiEdlKA+Dl9TUVFascDJNrFixgqFDh57hjMBm+pyF9fBzEBKK/cKjyIZ1vm6SUkoFjIyMDKZMmcLdd9992gQx69atY/LkyWzfXr1PxJw5c7j77ruZMmUKGRmef9AKNKZ1BIS11kX76hRSUoL9f69Ch86Y8+tI4zvgbGjdBlm3zPN6Pl8OxsIMG1Xr66ZDIuaSyc5Ix9dfeFyPW/ZlnXa9S1WbLMtZuL9lI3JgX72qkH3Z2NP/DK4gzNiLPW2pwo3g5aWXXuLxxx9n7969/PrXv+bTTz9l4sSJbNy4kXvuuYeNGzcyceLEpmhrs2Y6JGI98hx06ob9tz9jL9FUykop1VC2bTNjxgweffRRpk2bxurVq8nOzj7lfcePH2fBggX07t276lh2djZr1qzhxRdf5LHHHmPGjBnYtt2UzW/e4tojebm+boVqZmTBbDiYi/WzX2OCgmt9jwkKxgwdiWSsQ4rrv3GjiCDrlkPSQEzb2DrfZyZcCR27YL/zd69uEFmjLYVHoKjwtOtdarRpxDgwVr0W7tufr8D+4/1wJJ+2j/4F0zbG0+Yq3Fjzcu+999Z6/Mknn/R6Y/ydiYzGeuAZ7NemIrNew87bj5l8M8byfD6oUkq1ZNu2bSMhIYH4eGea04gRI0hPTycxseZT0lmzZnH55Zczf/78qmPp6emMGDGC4OBg2rdvT0JCAtu2baNPnz5N2odmKy4e9v3g61aoZkT2ZSOL/o1JG4PpO+C07zVpY5HlC5Av19Z/Uf22zZC339k35nR1BAVj3XAX9l8eQubMxFx/e/3qcYcbmcZqtCkmDs4agqxZglx+3WnX/EhpCfLeP5HPFkOvZKxbf0tIn34UtoC1mY2p0RfstzQmJATrNw8h7/8LWTofOXgA65YHdG6jUkp5ID8/n9jY6iezsbGxbN26tcZ7du7cSV5eHmeffXaN4CU/P7/GSExMTAz5+fmn1BGoWTHPlJWusHM3jm3aQGxsLMaYJmyZ97SUzHtN0U8R4fDLT1PWKpTY2x7AFV33iAiAxJ7LwQ6JuL5cRfRPr6lXXQXvr+F4SChx4y/BCguvOl5rP+NGUnDxVRz/5AMiL7icVv1OH1TV17EvD1MIxCQPxOXmv3HxxVdy5C+PELlnGyFDz631PeU/7ObI849Tvns74VfeQMR1t2BcQfrfrDfKbpRSWzhjuTDX3oodF4+8PwP7+Uewfv2QsymYUkopt9W2z8PJH7Rt2+bNN9/kjjvucOvc2gRyVszT9cVuHQmlJeTt2IaJauRsTo1EMwx6j53+GfJ1Oub62zlUIeBGfXbqeVT85z0OfL/FGZFwg5SVYq9aihmcRv7RY3C0ejpYXf2UCVfC2uUc+usfsZ54CRNc+3Q2T9hbN0OrEPJxYdz8N5ZufaFNFIc/+QBX976nlvn5CmTmKxAcjDXl95ScdTYlhw4D+t+su06XFVMTTDcia/zlWHc8Crl7sZ++z8neoZRSym2xsbEcPHiw6veDBw9W7TMGUFxcTFZWFn/4wx+488472bp1K8899xzbt28/5dz8/HxiYnSu+Qnm5HTJqkWT48eQWTOgS0/M6Alun2fSxoAI8vkK9yvbmA7Hj9YrVbAJDcf6+W8gJwtZ8IH7dbnByTSWWK89V0xQkLP2ZWM6crh6NFdKS7Dfehl5bSp07oH1xP9izjrbq+1VGrw0OpMyDOvxaRDbDvvlp7H//RZSUeHrZimllF/o2bMnOTk55ObmUl5ezpo1a0hNTa16PTw8nBkzZvDKK6/wyiuv0Lt3bx588EF69uxJamoqa9asoaysjNzcXHJycujVq5cPe9PMaLpkVUnmvQsFh7B+/pt6rdM17TtAz37IumVuj3Taa5dBVAwkDaxXG82AVMw5o5BPZiN799Tr3NNyM9PYKe0ZeT7YNrL2U6Aym9iff4d8thhz0ZVYv33G7dEoVT86bawJmPYdsB5+zlm0teADZPsWrNt+57fD9Eop1VRcLhc333wzzzzzDLZtM3bsWDp37sysWbOqApS6dO7cmeHDh3P//fdjWRa/+tWvsHRH62qxOvKiQPbsQJb+BzPqQkz3+iezMGljkXf+Blk7zrjhqRQWwLdfYsZd7lEyI3PNLcimDdhvvYz14LMN3qFeio9Dfp7bmcZqtCWhE/Tpj6z6L3ZMO2TmdAgOwrrn95gBOtrSmDR4aSKmVQjmhruweyUj70zHfvperFt/h+l7lq+bppRSzdqQIUMYMmRIjWPXXFP7AuGnnnqqxu+TJk1i0qRJjdU0v2ZCQiCyrQYvLZjYNva7f3d2fL/iBo/KMENHIrP+iaxdjjlT8LL+M6iowAwf41ldkW0xk3+FvP4SsmIBZuwlHpVTZZ+Tdt2TkRcAc+75Tltemwq9kpzPdTra0uj0EVQTs0b8BOvRqRAWjj31cexPZiO674BSSilfiIvXaWMtmKxeAtu3YK660dm41AOmdRsYkIqkrzzjtHhZuwwSu2ESu3tUF4AZPhb6DUTmv9fgz0+SU7lnlAcjLwDm7HOhZz/MRVdh/fZPGrg0EQ1efMB06or12FRM6rnInJnYL/8ROVro62YppZRqYUxcvI68tFBSUozMmQm9kjDDf9Kgsqy0sXDkEGz+uu769v0AO7+v10L92hhjnPYWHoHsnQ0qi5wssCxol+BZW0JCcD38HNakG06734vyLg1efMSEhmNu/a2z4VJmhpONbOfWM5+olFJKeUtcPOQf8MtEMvbnKzj4wI1IaYmvm1JvUl7m6yYgS+ZB4RGsq25q+D4/A1IhPAJZt6zu+j5fDsbCDBvVsLoAk5zilLkpo0HlSE42tO+ACfJe6mXV+DR48SFjDNbYS7AeehZEsJ97CHvZx25n7FBKKaUaJC4ebBsONc6+E1J8vFFmFkjBYeTdVynf8T1szfR6+Y1Jvv4Ce8r1yDfrfdeGo4XIojkw6BxMz34NLs8EBztrXzascxbB/7g+EWTdckgaiGl7+s0v3aqvbQx06opsbljwwr4sSPBsypjyHQ1emgHTvQ/WE9MgKQV591XsvzyEfPetr5ullFIqwHljrxcRQQ7nI5u/xl72Cfb//YOKF5+g4sGbse++BvvhW5DcvV5qcWWds1+HkmIICkIyG/gBtonZn8yG0hLsf75QveaiicnCf0PxMayJP/damSZtLJSWIF+tPfXFbZshb3+Dp4zVqK//YNi6CSnxbORNyssgN8fjxfrKdzTbWDNhIiKx7nocWbUYmf8e9guPQnIK1sRfYLr39nXzlFJKBaKT9npxZ+KQlJTA998g2bsgJxvZl+1kbDpevUs6IWGQ0AnTdwDEd0AWf4T9r5ewHvyzR+lxT2nD5q+RdcswF08maM82yvwoeJEd38GO7zAXXoGs+RT7lWewHn0eE+7ZYnmP2nA4H/l0PuacUZjEbt4ruGc/aJfgTB0bUXMNjaxbBq1CMIPTvFadSR6MLJ4LW78FTzaCzM1xRh09XKyvfEeDl2bEWBZm1AQkbSyyfAGyYDb2nx6AlDSsiT/DdOrq6yYqpZQKJNFxYKzTjrxI/gFkYzqycT1s2Qhlpc4LbWOcncmHjYEOiZiEROeDYNuYGmso7LgEZMaLyKK5mIuubFBzpawU++2/QbsEzCVXE7JmCWXvvIoUHMJENv+902TpfAgLx1x6DWbgOdgvPoH9zxew7n7CK4GdW234+H0nXfHl13u1XGMMZtgY5ONZyKGDmGhnepiUlSLpqzBDhmNCw7xXYe9kCApGNmV4tot9TsPSJCvf0eClGTKtQjAXTERGXYAsmYcsnov9h8+dpySXX4dp39HXTVRKKRUATFAQxMTVCF7EtmHXVidg+Tq9OqNTuwRnI8OBqdCtDya8tXt1DBuNZKxDPnoHGTCkQWlyZcEHkLsX694/YFqF0GrQUHjnVWTzRsyw0R6X2xTk0EHky9WYsZdiQsOhT3/M9bchM6cjH76Fufqmxm/DgX3IZ4swI8/HtO/g9fJN2hjkP+8hX6zAXFi5v9LGdDh+1Elx7M26WoU4m0RmbvDofMnJcn5I0ODF32jw0oyZ0HDMpdciYy5GFs1BPp2PrF+FOXc85pJrNJ+4UkqphouLR/b9gHy1pnqEpfCIMyLTqx/myl9iBp3jjLJ4kJXKGIP1szuwt2Ziz5iG9ehUTHD9szvJvmxkwQfOg7z+gwEI6tEXwiMgMwOae/Cy/BOwBfOT6o0VrVETsLN2IYvnYCd2w/LyB/xT2jDvXXC5MJfWvslrQ5n4jtCjr7OfS2XwYq9d5ozS9Rvo/fqSByMfvF5jpMdtOdkQE+fd0SDVJHTBvh8wEZFYV/4S65l/ONPKVi/Ffux27FkzkIJDvm6eUkopP2bi2sPubdh/exb5ah2m30DMr+7HmjYT14PPYk24EtOhc4PS6Zo2kVg33A3Zu5D579b7fBHBfufvEByCmfyr6nJdLkgaiGRmNOtMnVJagqxc6GT3+tGeIuaaW6DvAOStl5Gd3zdeG7J3IZ+vcEZ+vJDxqy4mbSz8sBvJ2okUFsC3X2LOGd0o0+JM/8qUyR6sexLNNOa3dOTFj5i2MZjrb0cumOgMyy6d78yf7dkPM+BszIBUZ+fahuZrV0op1WKYn1wGUbGY5EHQM8mZStYY9QwaijnvAmThHGTgUEyvZLfPlXXLYctGzM9+g4mqubbFJKcgX65xEgc008XX8vkKKCrEGn/5Ka+ZoCCs2x/CfuZ+7Ol/wnrsRScVsJfZH70DoWGYCZO8XvbJzNCRyKzXnEX6cfHO+prhYxqnsk7dILItZG6Ac8e5fZrYNuzLxpzXv3HapRqVjrz4IRMXj3XjFKz/eRlz8VVOasI5M7H/Zwr2gzdjv/VyZa71Y2cuTCmlVItmuvTAuuLnmL4DGi1wqapr8s0QE4f9r5dq3Q+kNnK0EJn9L+jRFzPqwlPLTDqxYaFnax8am4g4G0J27g59av+wbNpEYt31GBw/hj39T8iJpAjeasP2LZDxOeaCKzARkV4t+8dMRCQMOBv5fCWy5lPnoWoD1jmdti5jnOA1M8MJSNyVfwBKS5ttsKtOT4MXP2YSErEm/hzXE9Ownn8Dc+M90LMvsn4V9vQ/Yd/7cypefAJ78VwkJ7tZD6krpZQKfCY0HOvmeyFvv7NXixvkwzfhaCHWL+7AWKd+bDHtEpwUvc01ZfLmr2HvHsy4y087M8Ikdnf+bXZ+7yzi99I9W0Sw58yENlGYWkZ+GoOVNhaO5MOurV7d26VWyYOhqKA6sYQ7NNOYX9NpYwHCtI3BnDsezh2PlJfD9i3IN+uRb79EZv/LeWoVF49JHoxJToF+AzGtmy6vvFJKKQVg+pyFOX8isngOkjIMM6DuNLeyNRP5bLEzYnCap/em/2Bk7TKkvAwTVP9kAI3JXjrfCRzOOe+M7zVDRmAuuxaZ/x507o45/6cNb8DmDPjuG8y1tzbd4vSBQyG8NRw/jhk2qlGrMkmDEHBSJnfp6dY5sq9yc1AdefFLGrwEIBMUBH3PwvQ9C666ETl4wAlivlmPfLHCWTRoLOjaE5OcgkmqnOfsQfYXpZRSqr7MxJ8hm77CfvP/YT3111qnMkl5Gfbb0yGmHeby605fXlIKsnwB7PgO+pzVWM2uN9m/FzamYy69FhPcyq1zzKXXOovrZ7+OdOxSlVnNo/pFsP890/k3HDXB43LqywQHYy6+Gg4dbNTkAOA8vCWxm5My2d19hHKyIKINpk1Uo7ZNNQ6dNtYCmNh2WKMn4Lrrcaxp72A99BcnTWJQELLwQ+ypj2Pfex0VL/0ee/EcJ0NIfeaOKqWUUvVgglth3XwfFBUg775a63vkvx/B3j1Y19+OCQk9fYH9BoCxmt3UMfn0P+AKwoy5yO1zjGU5/zYdO2P/4zknAPLUhrWwe5uzR1wTP6C0LpyEde2tTVKXSR4M2zKRkmK33i852ZppzI9p8NLCmKAgTK8krMuvw/XQX7Beehfrrscx510I+XnI7Nedhf+//SWHpz6JvewTJFuDGaWUUt5luvRwpkilf4b9xcoar8mBfch/3oPBac4eM2cqKzwCuvduVsGLHCtCVi/BnHPeKRnSzsSEhmHd+RhYFvYrz2AfO1r/+u0K7LnvOPvzNPa6Ex8z/VOgvBy+3+TeCfuydL2LH9NpYy2cCQt38s5X3hzk0EFkcwZs/pqyzAxk1RIEIKw19ErC9ErC9O4P3Xq5PQSulFJK1cZMuNLZGPOdvyO9+2OiY52pTu++CsaFde1t7peVnIJ8PBs5WtQs1nTKqiVQUowZ59kiedMuwUmhPO1JDj1yO/aEKzFnj3B7vxRZuxxysrB+/bCzH04g65UMwa2QzA2nXUMFIIVHoKhQ17v4MQ1eVA0mOhYzYhyMGEdsbCx532UiWzOd4ditmc66GYCgIOjWG9M72cnV3zOpWdwslFJK+Q/jcmHdfJ8z4v/mX7GmPAVfrnY2NrzmV5iYOPfLSkpB/jMLvtsIQ0Y0XqPdIHaFM2WsdzKmq3uLyGtj+g3E+s3DyNy3kX88j7RLwEyYhBk+7rTTwKSsDJn3LnTtBUOGe1y/vzCtQqB3snvpsnOynHN05MVvafCi6mSMwcTFY+LiYbgz5CyFBbB9sxPIbMtEFs9FFnwIxjgBzDmjnCdDkW193HqllFL+wMR3xFx1E/Lu35GF/3Y2X+7SAzP20voV1KMvhIQ5Wad8HLyQ8QUczMW6+uYGF2VS0ogdexF5Sz/G/uQDJ43yvPcw5/8UM/pCTGj4KefIykWQfwDrhrtazMbVJnkw8sHrSH7eaYNeydFMY/5OgxdVL6ZNJKQMw6QMA0BKSmDXVuS7b5AvVzs3n/f+Af0GOYHM4DRMeGsft1oppVRzZsZchGSsQ/79JhgL667H6j3V6USmTdns+3Uv9tJ5ENseKu+VDWVcLsyQEViDh8OWjdgLPnA+qH/yPmbsJZhxl1VlzpLi48jHs6DvAEhO8Ur9/sD0T0E+ANmc4WwdUZecLGgVAtHuj+qp5kWDF9UgJiSkOi3z5dc56R2/WImkf4a88b/I26/AWalOIDNwqPN+pZRS6iTGGKwbp2A/cz8mbQymW2/PyklOcdbQHNjnbF7pA7JnO3y/CXP1TV5fa2KMgaRBuJIGITu3Yi/8APlkNvLfuZiRF2AuuAJZtwwKj2Bd8YsWM+oCQKduENkWMjPgNMGLk2kssdYNT5V/0OBFeZVJ7IZJ7IZc8Qtnl+AvViLrVztP1EJCMYOGYc4ZBf1Tmt1GYkoppXzHRMdiPftag+4NJnmws2FhZgZmdNPta3IyWTIfQkIxI89v1HpM9964fvMIkpONLPoQWbEAWbEALJeTiKdnv0atv7kxxjjX/9svEduuOzjZl+UkHlJ+S4MX1SiMMdCjL6ZHX2TyzfD9JieQ+XIN8sUKCAlzNsns1ttZ+N+9N8S2b1lPiZRSStXQ4IdaCZ0gOs5JmdzA4EVE6n1PkoJDSPpKzHkXOOmbm4DpkIi5cQpy+fXIfz9CNq7HuuKGJqm72emfAuuWQdZOqCVRghQfh/w8Xe/i5zR4UY3OWC7oNxDTbyBy/e2QmeE8Gdm1Dfl0PpSXOxnMIiKdQKbyi+69MJH1y42vlFKq5XKevg9CNnyO2BVupxX+MXvdcmTmy5i0sZgLr8C07+jWebJ8IZSXY35Sz2QDXmBi2mGuuQWuuaXJ624uTFJK5cjbhtqzvO1zFutrpjH/psGLalImKBgGDsUMHAqAlJdB9i5k11Zn4f+ubcimDYhUbooZ084JaBK7OXNUOyRCfEfdY0YppVTtklJg9VLYvR2696n36VJ8HPngDQiPQNZ8inz2X8yQ4ZiLrsR07VX3eWVlyPJPYEAqJkE/HPuCiYqGxO5OyuSLrjrldc00Fhg0eFE+ZYKCq0ZbTpDi47Bne2VAsw3ZtRXZsBZEnBEaYyAuvjqYOfl7RKSvuqKUUqoZMEmDqte9eBK8LJ4LR/KxHvoLtEtAls5Dli9AvlwNSYOwJlwJSYNOmVIm6Z85C+XHXealnihPmP4pyJL5SEkxJiS05os5WeByQbsOvmmc8goNXlSzY0LDoM9ZmD5nVR2TkhLI3YvkZDnDvvt+QHKykC0boazUCWrAmXrWsTMmsTskdsN06QEdu+hIjVJKtRAmsi107o5kboBLJtfrXDmcjyyeA2ePwPRKcsqb9EvkoquRlQuR/87DnvYkdO2FNWESDBmOsVyICLJ0nvNEvwWlJ26OTHIKsmgOfP8tDEit8ZrkZEO7Dk5abeW39Oopv2BCQqBzd0zn7jWOi10BBw9UBTPsy0b27kFWL4WS405QY1nOqEzn7tVlJHbXjTSVUipAmeTKp+/Fx50HYm6See9CeTnWpJoL3k1YOObCSchPLkPWLUMWzcF+9Tlo38FZExMXD3t2YH5xhyae8bVeyRDcCtm0AfOj4IV9WTplLABo8KL8mrFc0C4B2iVgBpxddVxsG/L2QdYuJGsHkrUT2boJPl9RPUoTFQOdu1HYvTd2RBSmXQenrNj2mGBN46yUUv6qxtP3yjWWZyI/7EZWLcGMu7TOBfomOBhz3gXIueNgw+fYCz90drwHaN0GM2ys9zqhPGJahUDv/k7GuZNIeRnk5mCGjPBRy5SSrlJGAAAQMElEQVS3aPCiApKxLGjfEdp3xJxd/YdKigqcBAFZOyFrB5K1i2OLP4KS4uqgxhhn5912Cc4mZ3HxztO1uATne+umSX+plFLKQyeevmdmVCWIORP7gzcgLAzjxlQzY7ng7BFYQyp3vP/0Y8yAIboRczNh+qcgs19H8vMwMXHOwdwcsG3QTGN+T4MX1aKYiMiqtM0nxMbGkrdjGxzIQQ7shwM5cGA/ciAH+WY9HDkEUHPEplMXTMeuzvdOXaFD53pNTVBKKdV4nKfvyac8fa+LZG6Ab7/EXH1TvRK/nLzjvWo+nM1KX0c2Z2DOHe8czDmRJlmnjfk7DV5Ui2eMcdIrRkVjeiWf8rqUFEOeE9TI/hzYu8eZXrByAZSelCwgLh46dcV07OJ879QF4hN1CppSSvmASU5BPngDOXQQEx1b5/vErsCe/YYzZXhs0+/PohpBp64QFQ2bNkBl8CI5Wc5rmsba72nwotQZmJBQ5w9hp66cvAxT7AonqPnBCWaqgppvv4SKCieocbmcqWudup40WtMV2sV7vHmaUkqpM6vasHBzBmbEuDrfJ+uWQ/ZOzK2/1YdNAcLZrDQF+WY9YtvOVPKcbIhpd2r6ZOV3NHhRykPGclWvqxmcVnVcystg/14ke1d1QLN7G6xfVT1KE9zKmWrWqXKUpmNX6NgZIttqWmellPKGxG7QJgoyM6CO4EVKSpA5b0P3Ppih5zVt+1TjSh4Ma5dB1g7o2gvZl6XrXQKEBi9KeZkJCq6cNta1xnEpPg452cje3fDDbuSHPcjmr2HtsuqgBiAk1NmvJiISIto4869P+jJtKn+OjoO49jqCo5RStTCW5WxYmZlR/fT9R2TJR3D4INatv9UUxwHGJFduVrppA3TuAfuya+wfp/yXBi9KNRETGgbde2O6965xXI4WOlPP9mVD4REoKoSiAiczWlEBsn8vFBVA8XHn/SefHBQM8R0xCYnOE6WEREyHRIjvpEPjSimVnAJfrIQfdsOP9wkrOIQs+BAGp2H69PdRA1VjMZHRkNjdyTh3zigoLdWRlwChwYtSPmZat4E+/c9485TysqrAhsIjyMFcZ1POnGwkawd8tRbErg5uYttDQidMQiLHevVFTBC0joCINtA6ElpHOBl5lFIqQFWte8nMOHWT43n/B+WlWJN+6ZvGqUZn+jublbJ7m/O7LtYPCBq8KOUnTFAwtI1xvoAfT3CQsjLI3VsZ0GRBzg/Ivmxk62IKl86vvdBWrSoDmTZVgY1pHQlhYc6oTnArCA6u8bP58fFWIc4Utsi2Ou1CKdWsmJg4SEh0UiZfeEXVccnJQj5bjBl9ESahkw9bqBqTSR6MLJqDvWKhc0DTJAcEDV6UChAmOLiOrGg2MS5D/p5dcLQQjhYiRYVVP1NU6ExdOzF97WihM0WtvAxETqnn1COVWrWC2HiIi6/a3NPExUO7ymOh4Y3Qa6WUOj3TfzCychFSVlqVEMX+8E0ICcVcdq2PW6caVW9ns1I2f+08nGsT5esWKS/Q4EWpAGcsC1dsHEaqQxp3xkdEBCrKnSCmrPKrvLTyexmUVf5cUozkH4C8/c4mn3n7ka2boPh4zUAnItLZCycqGoKCqkdwgk6M7Jz0/aTRHhMe4YwMtTkxQtQG49IkBUop95ikFGTpfNi2GZIGIVs2wtdfYCb9Uj/MBjgT3Ar69Hf2e0nQUZdAocGLUqpWxpjqwOIMa/9PmcIm4ozknBTQkLcfydsHh/KgrMxZw1MVCFV+ryg/pexaR3rCWzvBUOs2Tga2COf70YSO2MGhmBPT69rGQmiYTmdTqiXr2x9cLmfqWN8B2LNfd/b7GKcbUrYEJnkwsmmDk8xGBQQNXpRSXmeMqU7t3K33Gd9/gti2E8Sc+CothWNFldnXKqe2FRZUTnerPHbkELJ3DxQVUFRS7JRzcqEhoRAVA9GxmKjKoCY6BqJiMK1CISioMkgLcr5cJ30PDgZX5WvBrTBB+iezqWVkZPD6669j2zbjxo1j4sSJNV5fvHgxixYtwrIsQkNDuf3220lMTCQ3N5f77ruPjh07AtC7d29uu+02X3RB+ZgJDYcefZ3gpVMX2LMd86v7NWFJC2H6D0Fm/8uZVq0Cgt6JlVLNhrEsJwFAjQ8V8c5rbpwfG9GavO1b4XA+cvggHM6v/DqIHM5Hdmxxfi8vA06zfqcuIaEQHuGM/LRuA+ERmNatK49FOEkPwiOcqW6hYRASAq1CnfMqf9YAyH22bTNjxgwef/xxYmNjeeSRR0hNTSUxsfoJ6siRI7ngggsAWL9+PW+++SaPPfYYAAkJCTz//PM+abtqXkxyCvLRu8gHb0LXXk7qXNUimE5dsKY85ax/UQFB76JKqYBhQsMw8R2dvW/qeI+IOKM5h/OdkZ2KMigvr/xypq7Jid+rXiuD0hI4ehSOFSHHipwyDuQgu486I0GlJdV1nK6RrqCaQU2rVhASBqGhTnATciLYCa06RmgohIRhQkIgJIyKvslgBXvzn65Z2rZtGwkJCcTHOwHsiBEjSE9PrxG8hIdXJ4IoLi7WKYKqVibJCV44ko916wO1blipApc5a4ivm6C8SIMXpVSLYoypWvhf53s8KFfKy5yApjLAoeQ4lJQgJcVQWgwlJXDKz5WvlxQ7e/iUHKh+f3Fx1QhRVR2V349N+gVcdLUHrfQv+fn5xMbGVv0eGxvL1q1bT3nfwoUL+fjjjykvL+fJJ5+sOp6bm8uDDz5IWFgY1157LUlJSU3SbtUMdesNbaKgR19M3wG+bo1SqgE0eFFKKS8wQcEQGe18nXy8AWVKRYUT2PzoK6x7T0rOfLrfk1pSddc2sjJhwgQmTJjAqlWr+PDDD7nrrruIjo5m+vTptGnThh07dvD8888zderUGiM1JyxZsoQlS5YA8OyzzxIXF+f9zvhAUFBQwPSlLvXpY8WLb2BFRGJCwxq5Vd7XEq4ltIx+toQ+QuP2U4MXpZRqpozL5ayvCW9d43hQXBzk5fmoVU0nNjaWgwcPVv1+8OBBoqOj63z/iBEj+Oc//wlAcHAwwcHO1LoePXoQHx9PTk4OPXv2POW88ePHM378+Krf8wLk3zYuLi5g+lKX+vXRBUVHnS8/0xKuJbSMfraEPkLD+3ki2UptGjTpMyMjgylTpnD33Xczd+7chhSllFJK1dCzZ09ycnLIzc2lvLycNWvWkJqaWuM9OTk5VT9/9dVXdOjQAYCCggJs2wZg//795OTkVK2dUUop5b88HnlxJwuMUkop5SmXy8XNN9/MM888g23bjB07ls6dOzNr1ix69uxJamoqCxcu5JtvvsHlchEREcGdd94JQGZmJu+//z4ulwvLsrj11luJiIjwcY+UUko1lMfBiztZYJRSSqmGGDJkCEOG1MwUdM0111T9fNNNN9V6XlpaGmlpaY3aNqWUUk3P4+DF3SwwuhDSf7WEPkLL6GdL6CNoP5VSSqlA53Hw4m4WGF0I6b9aQh+hZfSzJfQRtJ/uOt1CSKWUUqo583jBfn2zwCillFJKKaVUQ3gcvLiTBUYppZRSSimlvMXjaWN1ZYFRSimllFJKqcbQoE0qa8sCo5RSSimllFKNoUGbVCqllFJKKaVUU9HgRSmllFJKKeUXNHhRSimllFJK+QUNXpRSSimllFJ+QYMXpZRSSimllF/Q4EUppZRSSinlF4yIiK8boZRSSimllFJnoiMvHnr44Yd93YRG1xL6CC2jny2hj6D9VOpkLeG/k5bQR9B+BpKW0Edo3H5q8KKUUkoppZTyCxq8KKWUUkoppfyC66mnnnrK143wVz169PB1ExpdS+gjtIx+toQ+gvZTqZO1hP9OWkIfQfsZSFpCH6Hx+qkL9pVSSimllFJ+QaeNKaWUUkoppfyCBi9KKaWUUkopvxDk6wb4mzvvvJPQ0FAsy8LlcvHss8/6ukleMX36dL766iuioqKYOnUqAEVFRUybNo0DBw7Qrl077rvvPiIiInzc0oaprZ/vv/8+S5cuJTIyEoDrrruOIUOG+LKZDZKXl8crr7zC4cOHMcYwfvx4Lr744oC7nnX1M5CuZ2lpKb///e8pLy+noqKCtLQ0Jk+eTG5uLi+99BJFRUV0796du+++m6Ag/XOuHHqf8t+/a6D3qUC6nnqfaqT7lKh6ueOOO+TIkSO+bobXbdq0SbZv3y73339/1bGZM2fKnDlzRERkzpw5MnPmTF81z2tq6+esWbPko48+8mGrvCs/P1+2b98uIiLHjh2Te+65R7KysgLuetbVz0C6nrZty/Hjx0VEpKysTB555BH57rvvZOrUqbJq1SoREXn11Vdl0aJFvmymamb0PuXf9D4VONdT71ONc5/SaWMKgOTk5FOebqSnpzN69GgARo8eTXp6ui+a5lW19TPQREdHV2X4CAsLo1OnTuTn5wfc9ayrn4HEGENoaCgAFRUVVFRUYIxh06ZNpKWlATBmzBi/v5ZKuUPvU4FD71OBwxf3KZ1n4IFnnnkGgPPPP5/x48f7uDWN58iRI0RHRwPO/4AFBQU+blHjWbRoEStXrqRHjx7ccMMNAXPjyM3NZefOnfTq1Sugr+fJ/dyyZUtAXU/btnnooYfYt28fF154IfHx8YSHh+NyuQCIiYkJuJuhaji9TwWeQPq7djK9T/n/9Wzq+5QGL/X09NNPExMTw5EjR/jjH/9Ix44dSU5O9nWzVANccMEFXHXVVQDMmjWLt956izvuuMPHrWq44uJipk6dyo033kh4eLivm9NoftzPQLuelmXx/PPPc/ToUV544QV++OEHXzdJNXN6nwo8gfZ37QS9TwXG9Wzq+5ROG6unmJgYAKKiohg6dCjbtm3zcYsaT1RUFIcOHQLg0KFDVQvLAk3btm2xLAvLshg3bhzbt2/3dZMarLy8nKlTp3LeeecxbNgwIDCvZ239DMTrCdC6dWuSk5PZunUrx44do6KiAoD8/Pyqv0tKgd6nAlEg/l3T+1RgXU9ouvuUBi/1UFxczPHjx6t+3rhxI126dPFxqxpPamoqK1asAGDFihUMHTrUxy1qHCf+UAJ88cUXdO7c2YetaTgR4e9//zudOnXi0ksvrToeaNezrn4G0vUsKCjg6NGjgJPR5ZtvvqFTp07079+fdevWAbB8+XJSU1N92UzVjOh9yr//rtUlkP6ugd6nAul6+uI+ZUREvFZagNu/fz8vvPAC4CxKGjlyJJMmTfJxq7zjpZdeIjMzk8LCQqKiopg8eTJDhw5l2rRp5OXlERcXx/333+/XczKh9n5u2rSJXbt2YYyhXbt23HbbbVVzbv3Rli1bePLJJ+nSpQvGGMBJw9i7d++Aup519XP16tUBcz13797NK6+8gm3biAjDhw/nqquuYv/+/aekoAwODvZ1c1UzoPcp//67BnqfCqTrqfepxrlPafCilFJKKaWU8gs6bUwppZRSSinlFzR4UUoppZRSSvkFDV6UUkoppZRSfkGDF6WUUkoppZRf0OBFKaWUUkop5Rc0eFFKKaWUUkr5BQ1elFJKKaWUUn7h/wPfaURoI2PzYgAAAABJRU5ErkJggg==\n",
=======
      "image/png": "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\n",
>>>>>>> Stashed changes
=======
      "image/png": "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\n",
>>>>>>> Stashed changes
      "text/plain": [
       "<Figure size 1008x504 with 2 Axes>"
      ]
     },
     "metadata": {},
     "output_type": "display_data"
    }
   ],
   "source": [
    "fig, axes = plt.subplots(1, 2, figsize=(14, 7))\n",
    "axes[0].plot(score_df.k, score_df.inertia)\n",
    "axes[0].set_title('Inertia over k')\n",
    "axes[1].plot(score_df.k, score_df.silhouette);\n",
    "axes[1].set_title('Silhouette Score over k')"
   ]
  },
  {
   "cell_type": "markdown",
   "metadata": {
    "slideshow": {
     "slide_type": "slide"
    }
   },
   "source": [
    "<a name=\"conclusion\"></a>\n",
    "## Conclusion: K-Means tradeoffs\n",
    "\n",
    "---\n",
    "\n",
    "**K-Means:**\n",
    "- Unsupervised clustering model\n",
    "- Iteratively finds labels given k\n",
    "- Easy to implement in sklearn\n",
    "- Sensitive to shape, scale of data **(!!!)**\n",
    "- Optimal k hard to evaluate\n",
    "\n",
    "---\n",
    "\n",
    "| Strengths | Weaknesses |\n",
    "| -- | -- |\n",
    "| k-Means is popular because it's simple and computationally efficient. | However, k-Means is highly scale dependent and isn't suitable for data of varying shapes and densities. |\n",
    "| Easy to see results / intuitive. | Evaluating results is more subjective, requiring much more human evaluation than trusted metrics. |"
   ]
  },
  {
   "cell_type": "markdown",
   "metadata": {
    "slideshow": {
     "slide_type": "subslide"
    }
   },
   "source": [
    "### K-Means is sensitive to outliers\n",
    "\n",
    "![](https://snag.gy/WFNMQY.jpg)"
   ]
  },
  {
   "cell_type": "markdown",
   "metadata": {
    "slideshow": {
     "slide_type": "subslide"
    }
   },
   "source": [
    "### K-Means is sensitive to centroid initialization\n",
    "\n",
    "![](https://snag.gy/5sigCD.jpg)"
   ]
  },
  {
   "cell_type": "markdown",
   "metadata": {},
   "source": [
    "<a id='resources'></a>\n",
    "\n",
    "## Additional resources\n",
    "\n",
    "---\n",
    "\n",
    "- Andrew Moore's CS class at Carnegie Mellon contains good static visualization, step-by-step. His slide deck is online here: https://www.autonlab.org/tutorials/kmeans11.pdf. He also links to more of his tutorials on the first page. \n",
    "- [Sci-Kit Learn Clustering Overview](http://scikit-learn.org/stable/modules/clustering.html#k-means)\n",
    "- [SKLearn K-Means Documentation](http://scikit-learn.org/stable/modules/generated/sklearn.cluster.KMeans.html#sklearn.cluster.KMeans)\n",
    "- [SKLearn Clustering Code - See _k_init__ for explanation of k++ centroid selection](https://github.com/scikit-learn/scikit-learn/blob/51a765a/sklearn/cluster/k_means_.py#L769)\n",
    "- [Clustering Tutorial](http://home.deib.polimi.it/matteucc/Clustering/tutorial_html/)\n",
    "- [Wikipedia's Deep Dive on Clustering](https://en.wikipedia.org/wiki/K-means_clustering)\n",
    "- [An excellent blog from Galvanize on K-Means Clustering](http://www.galvanize.com/blog/introduction-k-means-cluster-analysis/#.V9aXqpOAOkp)\n",
    "\n",
    "**Some helpful stackexchange questions:**\n",
    "- http://stats.stackexchange.com/questions/40613/why-dont-dummy-variables-have-the-continuous-adjacent-category-problem-in-clust\n",
    "- http://stats.stackexchange.com/questions/174556/k-means-clustering-with-dummy-variables\n",
    "- http://datascience.stackexchange.com/questions/22/k-means-clustering-for-mixed-numeric-and-categorical-data\n",
    "- http://www-01.ibm.com/support/docview.wss?uid=swg21477401\n"
   ]
  }
 ],
 "metadata": {
  "anaconda-cloud": {},
  "kernelspec": {
   "display_name": "Python 3",
   "language": "python",
   "name": "python3"
  },
  "language_info": {
   "codemirror_mode": {
    "name": "ipython",
    "version": 3
   },
   "file_extension": ".py",
   "mimetype": "text/x-python",
   "name": "python",
   "nbconvert_exporter": "python",
   "pygments_lexer": "ipython3",
<<<<<<< Updated upstream
<<<<<<< Updated upstream
   "version": "3.6.5"
=======
   "version": "3.7.3"
>>>>>>> Stashed changes
=======
   "version": "3.7.3"
>>>>>>> Stashed changes
  }
 },
 "nbformat": 4,
 "nbformat_minor": 1
}
