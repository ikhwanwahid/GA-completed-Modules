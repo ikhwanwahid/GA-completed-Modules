{
 "cells": [
  {
   "cell_type": "code",
   "execution_count": 1,
   "metadata": {},
   "outputs": [],
   "source": [
    "import pandas as pd\n",
    "import requests\n",
    "from bs4 import BeautifulSoup"
   ]
  },
  {
   "cell_type": "code",
   "execution_count": 2,
   "metadata": {},
   "outputs": [],
   "source": [
    "url = 'https://connect.garmin.com/modern/activity/4299622826'\n",
    "res = requests.get(url)"
   ]
  },
  {
   "cell_type": "code",
   "execution_count": 3,
   "metadata": {},
   "outputs": [
    {
     "data": {
      "text/plain": [
       "200"
      ]
     },
     "execution_count": 3,
     "metadata": {},
     "output_type": "execute_result"
    }
   ],
   "source": [
    "res.status_code"
   ]
  },
  {
   "cell_type": "code",
   "execution_count": 4,
   "metadata": {},
   "outputs": [],
   "source": [
    "html=res.text"
   ]
  },
  {
   "cell_type": "code",
   "execution_count": 15,
   "metadata": {},
   "outputs": [
    {
     "data": {
      "text/plain": [
       "'<!DOCTYPE html>\\n\\n<html class=\"signed-out\">\\n\\n\\n\\n<head>\\n    <meta http-equiv=\"X-UA-Compatible\" content=\"IE=edge\" />\\n    <meta charset=\"UTF-8\" />\\n    <meta name=\"viewport\" content=\"width=device-width, initial-scale=1.0\" />\\n\\n    <title>Garmin Connect</title>\\n\\n    \\n\\n\\n\\n    <meta property=\"fb:app_id\" content=\"169380733077633\" />\\n    <meta property=\"fb:admins\" content=\"100001671230938\" />\\n\\n    <meta property=\"og:image\" />\\n    <meta property=\"og:url\" content=\"https://connect.garmin.com/modern/activity/4299622826/share/1?lang=en&amp;t=1576128473\" />\\n    <meta property=\"og:image:width\" content=\"200\" />\\n    <meta property=\"og:image:height\" content=\"200\" />\\n\\n    <meta name=\"twitter:card\" content=\"summary\" />\\n    <meta property=\"og:title\" content=\"Singapore Running\" />\\n    <meta property=\"og:type\" content=\"website\" />\\n    <meta property=\"og:description\" content=\"Distance 42.51 km | Time 2:45:53 | Pace 3:54 min/km | Elevation 67 m\" />\\n    <meta property=\"og:latitude\" content=\"1.292906804010272\" />\\n    <meta property=\"og:longitude\" content=\"103.86403002776206\" />\\n\\n\\n\\n\\n\\n\\n    \\n\\n    <link rel=\"shortcut icon\" href=\"/modern/images/favicon.ico\" />\\n\\n    <!-- Connect Styles -->\\n    \\n        <link rel=\"stylesheet\" type=\"text/css\" href=\"/modern/css/dropzone.min.css?bust=4.25.3.0\" />\\n        <link rel=\"stylesheet\" type=\"text/css\" href=\"/web-react/styles/global.css?bust=4.25.3.0\" />\\n    \\n    \\n\\n    <!-- to be modify the google fonts in cdn here -->\\n    <!--garmin.cn-->\\n\\n    \\n    \\n        <!-- FONTS -->\\n        <link rel=\"stylesheet\" type=\"text/css\" href=\"https://fonts.googleapis.com/css?family=Open+Sans:300,400,600,700&amp;subset=latin,cyrillic-ext,greek-ext,vietnamese\" />\\n    \\n\\n    \\n\\n\\n    <title>Connect</title>\\n</head>\\n\\n\\n<body>\\n<a href=\"connectagent://launch\" id=\"notify-agent\" style=\"display: hidden\" tabindex=\"-1\"><!-- dummy comment --></a>\\n\\n\\n\\n<div class=\"connect-container\">\\n\\n    <nav class=\"main-nav hide\"><!-- main navigation --></nav>\\n\\n    <div class=\"react-global-modal\"><!-- react-global-modal --></div>\\n\\n    <div class=\"main-body\">\\n        <!-- Header -->\\n        \\n\\n\\n<div class=\"main-header\"></div>\\n\\n\\n        <!-- Content Container -->\\n        \\n<div class=\"content clearfix\">\\n\\n    <script>\\n\\n        \\n\\n    \\n        window.VIEWER_USERPREFERENCES = JSON.parse(\"{\\\\\"displayName\\\\\":\\\\\"RunSohFast\\\\\",\\\\\"preferredLocale\\\\\":\\\\\"en\\\\\",\\\\\"measurementSystem\\\\\":\\\\\"metric\\\\\",\\\\\"firstDayOfWeek\\\\\":{\\\\\"dayId\\\\\":3,\\\\\"dayName\\\\\":\\\\\"monday\\\\\",\\\\\"sortOrder\\\\\":3,\\\\\"isPossibleFirstDay\\\\\":true},\\\\\"numberFormat\\\\\":\\\\\"decimal_period\\\\\",\\\\\"timeFormat\\\\\":{\\\\\"formatId\\\\\":32,\\\\\"formatKey\\\\\":\\\\\"time_twelve_hr\\\\\",\\\\\"minFraction\\\\\":0,\\\\\"maxFraction\\\\\":0,\\\\\"groupingUsed\\\\\":false,\\\\\"displayFormat\\\\\":\\\\\"h:mm a\\\\\"},\\\\\"dateFormat\\\\\":{\\\\\"formatId\\\\\":23,\\\\\"formatKey\\\\\":\\\\\"mmddyyyy\\\\\",\\\\\"minFraction\\\\\":0,\\\\\"maxFraction\\\\\":0,\\\\\"groupingUsed\\\\\":false,\\\\\"displayFormat\\\\\":\\\\\"EEE, MMM d, yyyy\\\\\"},\\\\\"powerFormat\\\\\":{\\\\\"formatId\\\\\":30,\\\\\"formatKey\\\\\":\\\\\"watt\\\\\",\\\\\"minFraction\\\\\":0,\\\\\"maxFraction\\\\\":0,\\\\\"groupingUsed\\\\\":true,\\\\\"displayFormat\\\\\":null},\\\\\"heartRateFormat\\\\\":{\\\\\"formatId\\\\\":21,\\\\\"formatKey\\\\\":\\\\\"bpm\\\\\",\\\\\"minFraction\\\\\":0,\\\\\"maxFraction\\\\\":0,\\\\\"groupingUsed\\\\\":false,\\\\\"displayFormat\\\\\":null},\\\\\"timeZone\\\\\":\\\\\"Asia/Hong_Kong\\\\\",\\\\\"hydrationMeasurementUnit\\\\\":\\\\\"milliliter\\\\\",\\\\\"hydrationContainers\\\\\":[]}\");\\n    \\n    \\n\\n\\n        \\n\\n    \\n    \\n        window.VIEWER_SOCIAL_PROFILE = null;\\n    \\n\\n\\n        \\n\\n    \\n    \\n        window.VIEWER_DASHBOARDS = null;\\n    \\n\\n\\n        \\n\\n    \\n        window.appConfig = JSON.parse(\"{\\\\\"propertyFiles\\\\\":[\\\\\"/main/js/properties/main_container/main_container\\\\\",\\\\\"/main/js/properties/widgets/widgets\\\\\"]}\");\\n    \\n    \\n\\n\\n        \\n\\n    \\n    \\n        window.queueNotificationTimeout = null;\\n    \\n\\n\\n        \\n\\n    \\n    \\n        window.queuePollRate = null;\\n    \\n\\n\\n        \\n\\n    \\n    \\n        window.USER_MIGRATED = false;\\n    \\n\\n\\n        \\n        \\n\\n    \\n    \\n        window.ERROR_VIEW = null;\\n    \\n\\n\\n        \\n        \\n\\n    \\n    \\n        window.USER_PROFILE = null;\\n    \\n\\n\\n        window.viewerIsAuthenticated = false;\\n\\n        window.SYSTEM_TIME_GMT = 1576128473673;\\n        window.ENABLE_ADRUM = false;\\n        window.SESSION_LENGTH = 2700 * 1000;\\n        window.GAUTH_HOST = \\'https://sso.garmin.com/sso\\';\\n        window.GARMIN_APP_URL = null;\\n        window.WEB_TOKEN = null !== null ? \"null\" : \"\";\\n        window.URL_BUST_VALUE = \\'4.25.3.0\\';\\n        \\n    </script>\\n\\n    <script src=\"/web-react/static/js/vendor.js?bust=4.25.3.0\"></script>\\n    <script src=\"/web-react/static/js/backbone-lib.js?bust=4.25.3.0\"></script>\\n    <script src=\"/web-react/static/js/bundle.js?bust=4.25.3.0\"></script>\\n</div>\\n\\n        <!-- END .content -->\\n\\n        <!-- Footer -->\\n        <div class=\"main-footer\"></div>\\n        <!-- END .footer -->\\n        <p style=\"display: none;\" id=\"garmin-connect-version\">4.25.3.0</p>\\n    </div>\\n\\n    <!-- END .container -->\\n</div>\\n\\n<style>\\n    .privacy-overlay {\\n        position: fixed; /* Sit on top of the page content */\\n        width: 100%; /* Full width (cover the whole page) */\\n        height: 100%; /* Full height (cover the whole page) */\\n        top: 0;\\n        left: 0;\\n        background-color: #fff;\\n        z-index: 9999; /* Specify a stack order in case you\\'re using a different order for other elements */\\n    }\\n</style>\\n\\n<div id=\"overlay\" class=\"privacy-overlay\">\\n</div>\\n\\n</body>\\n\\n\\n\\n</html>'"
      ]
     },
     "execution_count": 15,
     "metadata": {},
     "output_type": "execute_result"
    }
   ],
   "source": [
    "html"
   ]
  },
  {
   "cell_type": "code",
   "execution_count": 6,
   "metadata": {},
   "outputs": [],
   "source": [
    "soup = BeautifulSoup(html, 'lxml')"
   ]
  },
  {
   "cell_type": "code",
   "execution_count": 7,
   "metadata": {},
   "outputs": [
    {
     "data": {
      "text/plain": [
       "<title>Garmin Connect</title>"
      ]
     },
     "execution_count": 7,
     "metadata": {},
     "output_type": "execute_result"
    }
   ],
   "source": [
    "soup.html.title"
   ]
  },
  {
   "cell_type": "code",
   "execution_count": 13,
   "metadata": {},
   "outputs": [],
   "source": [
    "element = soup.find_all(\"div\", {\"id=\": \"react-activitySmallStats\"})"
   ]
  },
  {
   "cell_type": "code",
   "execution_count": 14,
   "metadata": {},
   "outputs": [
    {
     "data": {
      "text/plain": [
       "[]"
      ]
     },
     "execution_count": 14,
     "metadata": {},
     "output_type": "execute_result"
    }
   ],
   "source": [
    "element"
   ]
  },
  {
   "cell_type": "code",
   "execution_count": null,
   "metadata": {},
   "outputs": [],
   "source": []
  }
 ],
 "metadata": {
  "kernelspec": {
   "display_name": "Python 3",
   "language": "python",
   "name": "python3"
  },
  "language_info": {
   "codemirror_mode": {
    "name": "ipython",
    "version": 3
   },
   "file_extension": ".py",
   "mimetype": "text/x-python",
   "name": "python",
   "nbconvert_exporter": "python",
   "pygments_lexer": "ipython3",
   "version": "3.7.3"
  }
 },
 "nbformat": 4,
 "nbformat_minor": 2
}
